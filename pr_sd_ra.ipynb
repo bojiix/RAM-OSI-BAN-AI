{
  "nbformat": 4,
  "nbformat_minor": 0,
  "metadata": {
    "colab": {
      "name": "pr_sd_ra.ipynb",
      "provenance": [],
      "collapsed_sections": [],
      "authorship_tag": "ABX9TyNJYyMRY9cqQA2+ZCvmEDLh",
      "include_colab_link": true
    },
    "kernelspec": {
      "name": "python3",
      "display_name": "Python 3"
    }
  },
  "cells": [
    {
      "cell_type": "markdown",
      "metadata": {
        "id": "view-in-github",
        "colab_type": "text"
      },
      "source": [
        "<a href=\"https://colab.research.google.com/github/bojiix/RAM-OSI-BAN-AI/blob/rogoz/pr_sd_ra.ipynb\" target=\"_parent\"><img src=\"https://colab.research.google.com/assets/colab-badge.svg\" alt=\"Open In Colab\"/></a>"
      ]
    },
    {
      "cell_type": "code",
      "metadata": {
        "id": "4v3rcylkgaWI"
      },
      "source": [
        "import pandas as pd\r\n",
        "import numpy as np\r\n",
        "import random\r\n",
        "import string\r\n",
        "import matplotlib.pyplot as plt\r\n",
        "import seaborn as sns\r\n",
        "import tracemalloc\r\n",
        "%matplotlib inline"
      ],
      "execution_count": null,
      "outputs": []
    },
    {
      "cell_type": "code",
      "metadata": {
        "colab": {
          "base_uri": "https://localhost:8080/"
        },
        "id": "5Wtvt6-AlWq-",
        "outputId": "8dce4935-182d-4bf4-e39f-9f632b7b3264"
      },
      "source": [
        "from google.colab import drive\r\n",
        "drive.mount('/content/drive')"
      ],
      "execution_count": null,
      "outputs": [
        {
          "output_type": "stream",
          "text": [
            "Mounted at /content/drive\n"
          ],
          "name": "stdout"
        }
      ]
    },
    {
      "cell_type": "code",
      "metadata": {
        "colab": {
          "base_uri": "https://localhost:8080/",
          "height": 195
        },
        "id": "xtH6QdvtgqbQ",
        "outputId": "fe81254a-d4f5-4305-dfcf-fe04d2d33f12"
      },
      "source": [
        "df = pd.read_csv('/content/drive/MyDrive/Colab Notebooks/SD2021/cardio_train.csv',sep=\";\")\r\n",
        "df.head()"
      ],
      "execution_count": null,
      "outputs": [
        {
          "output_type": "execute_result",
          "data": {
            "text/html": [
              "<div>\n",
              "<style scoped>\n",
              "    .dataframe tbody tr th:only-of-type {\n",
              "        vertical-align: middle;\n",
              "    }\n",
              "\n",
              "    .dataframe tbody tr th {\n",
              "        vertical-align: top;\n",
              "    }\n",
              "\n",
              "    .dataframe thead th {\n",
              "        text-align: right;\n",
              "    }\n",
              "</style>\n",
              "<table border=\"1\" class=\"dataframe\">\n",
              "  <thead>\n",
              "    <tr style=\"text-align: right;\">\n",
              "      <th></th>\n",
              "      <th>id</th>\n",
              "      <th>age</th>\n",
              "      <th>gender</th>\n",
              "      <th>height</th>\n",
              "      <th>weight</th>\n",
              "      <th>ap_hi</th>\n",
              "      <th>ap_lo</th>\n",
              "      <th>cholesterol</th>\n",
              "      <th>gluc</th>\n",
              "      <th>smoke</th>\n",
              "      <th>alco</th>\n",
              "      <th>active</th>\n",
              "      <th>cardio</th>\n",
              "    </tr>\n",
              "  </thead>\n",
              "  <tbody>\n",
              "    <tr>\n",
              "      <th>0</th>\n",
              "      <td>0</td>\n",
              "      <td>18393</td>\n",
              "      <td>2</td>\n",
              "      <td>168</td>\n",
              "      <td>62.0</td>\n",
              "      <td>110</td>\n",
              "      <td>80</td>\n",
              "      <td>1</td>\n",
              "      <td>1</td>\n",
              "      <td>0</td>\n",
              "      <td>0</td>\n",
              "      <td>1</td>\n",
              "      <td>0</td>\n",
              "    </tr>\n",
              "    <tr>\n",
              "      <th>1</th>\n",
              "      <td>1</td>\n",
              "      <td>20228</td>\n",
              "      <td>1</td>\n",
              "      <td>156</td>\n",
              "      <td>85.0</td>\n",
              "      <td>140</td>\n",
              "      <td>90</td>\n",
              "      <td>3</td>\n",
              "      <td>1</td>\n",
              "      <td>0</td>\n",
              "      <td>0</td>\n",
              "      <td>1</td>\n",
              "      <td>1</td>\n",
              "    </tr>\n",
              "    <tr>\n",
              "      <th>2</th>\n",
              "      <td>2</td>\n",
              "      <td>18857</td>\n",
              "      <td>1</td>\n",
              "      <td>165</td>\n",
              "      <td>64.0</td>\n",
              "      <td>130</td>\n",
              "      <td>70</td>\n",
              "      <td>3</td>\n",
              "      <td>1</td>\n",
              "      <td>0</td>\n",
              "      <td>0</td>\n",
              "      <td>0</td>\n",
              "      <td>1</td>\n",
              "    </tr>\n",
              "    <tr>\n",
              "      <th>3</th>\n",
              "      <td>3</td>\n",
              "      <td>17623</td>\n",
              "      <td>2</td>\n",
              "      <td>169</td>\n",
              "      <td>82.0</td>\n",
              "      <td>150</td>\n",
              "      <td>100</td>\n",
              "      <td>1</td>\n",
              "      <td>1</td>\n",
              "      <td>0</td>\n",
              "      <td>0</td>\n",
              "      <td>1</td>\n",
              "      <td>1</td>\n",
              "    </tr>\n",
              "    <tr>\n",
              "      <th>4</th>\n",
              "      <td>4</td>\n",
              "      <td>17474</td>\n",
              "      <td>1</td>\n",
              "      <td>156</td>\n",
              "      <td>56.0</td>\n",
              "      <td>100</td>\n",
              "      <td>60</td>\n",
              "      <td>1</td>\n",
              "      <td>1</td>\n",
              "      <td>0</td>\n",
              "      <td>0</td>\n",
              "      <td>0</td>\n",
              "      <td>0</td>\n",
              "    </tr>\n",
              "  </tbody>\n",
              "</table>\n",
              "</div>"
            ],
            "text/plain": [
              "   id    age  gender  height  weight  ...  gluc  smoke  alco  active  cardio\n",
              "0   0  18393       2     168    62.0  ...     1      0     0       1       0\n",
              "1   1  20228       1     156    85.0  ...     1      0     0       1       1\n",
              "2   2  18857       1     165    64.0  ...     1      0     0       0       1\n",
              "3   3  17623       2     169    82.0  ...     1      0     0       1       1\n",
              "4   4  17474       1     156    56.0  ...     1      0     0       0       0\n",
              "\n",
              "[5 rows x 13 columns]"
            ]
          },
          "metadata": {
            "tags": []
          },
          "execution_count": 3
        }
      ]
    },
    {
      "cell_type": "markdown",
      "metadata": {
        "id": "tU9scnXU1jQx"
      },
      "source": [
        "Numarul total de persoane, separate dupa gen.\r\n",
        "\r\n",
        "---"
      ]
    },
    {
      "cell_type": "code",
      "metadata": {
        "colab": {
          "base_uri": "https://localhost:8080/"
        },
        "id": "zZhR-lWN04j1",
        "outputId": "98ead1ad-6a4f-4377-d7b4-e9f47d556513"
      },
      "source": [
        "df['gender'].value_counts()"
      ],
      "execution_count": null,
      "outputs": [
        {
          "output_type": "execute_result",
          "data": {
            "text/plain": [
              "1    45530\n",
              "2    24470\n",
              "Name: gender, dtype: int64"
            ]
          },
          "metadata": {
            "tags": []
          },
          "execution_count": 7
        }
      ]
    },
    {
      "cell_type": "markdown",
      "metadata": {
        "id": "l_PbC55utS3m"
      },
      "source": [
        "  Pentru a afla daca valoarea 1 din coloana 'gender' reprezinta genul feminin sau masculin vom calcula inaltimea medie a celor doua genuri. De asemenea, vom tine cont de presupunerea ca, in medie, inaltimea barbatilor este mai mare decat cea a femeilor."
      ]
    },
    {
      "cell_type": "code",
      "metadata": {
        "id": "nMBSHPOrmKi9",
        "colab": {
          "base_uri": "https://localhost:8080/"
        },
        "outputId": "1e30ecb7-0c1f-4c0e-b587-93f1c938f1e4"
      },
      "source": [
        "df.groupby('gender')['height'].mean()"
      ],
      "execution_count": 180,
      "outputs": [
        {
          "output_type": "execute_result",
          "data": {
            "text/plain": [
              "gender\n",
              "1    161.355612\n",
              "2    169.947895\n",
              "Name: height, dtype: float64"
            ]
          },
          "metadata": {
            "tags": []
          },
          "execution_count": 180
        }
      ]
    },
    {
      "cell_type": "markdown",
      "metadata": {
        "id": "h4b81fAdwKQl"
      },
      "source": [
        "Am extras submultimea formata din coloanele 'gender' si 'height', unde 'gender' are rol de index si 'height' este valoarea acesteia. Pentru a obtine valoarea medie a inaltimii, am aplicat functia mean() asupra submultimii obtinute.                                  \r\n",
        "Din rezultatul obtinut si tinand cont de presupunerea mentionata anterior, putem presupune ca valoarea 1 din coloana 'gender' reprezinta genul feminin, deoarece valoarea media a acesteia este mai mica decat cea a valorii 2."
      ]
    },
    {
      "cell_type": "markdown",
      "metadata": {
        "id": "HQtvqQbR7lid"
      },
      "source": [
        "Diferite statistici in functie de gen\r\n",
        "\r\n",
        "---"
      ]
    },
    {
      "cell_type": "code",
      "metadata": {
        "colab": {
          "base_uri": "https://localhost:8080/",
          "height": 190
        },
        "id": "Z9ON2KRjHJNV",
        "outputId": "781f66fd-d8a3-4280-f500-ba7368c329fa"
      },
      "source": [
        "gender_stats = df.groupby('gender')['alco','smoke','gluc','cholesterol']\r\n",
        "gender_stats.mean()"
      ],
      "execution_count": null,
      "outputs": [
        {
          "output_type": "stream",
          "text": [
            "/usr/local/lib/python3.7/dist-packages/ipykernel_launcher.py:1: FutureWarning: Indexing with multiple keys (implicitly converted to a tuple of keys) will be deprecated, use a list instead.\n",
            "  \"\"\"Entry point for launching an IPython kernel.\n"
          ],
          "name": "stderr"
        },
        {
          "output_type": "execute_result",
          "data": {
            "text/html": [
              "<div>\n",
              "<style scoped>\n",
              "    .dataframe tbody tr th:only-of-type {\n",
              "        vertical-align: middle;\n",
              "    }\n",
              "\n",
              "    .dataframe tbody tr th {\n",
              "        vertical-align: top;\n",
              "    }\n",
              "\n",
              "    .dataframe thead th {\n",
              "        text-align: right;\n",
              "    }\n",
              "</style>\n",
              "<table border=\"1\" class=\"dataframe\">\n",
              "  <thead>\n",
              "    <tr style=\"text-align: right;\">\n",
              "      <th></th>\n",
              "      <th>alco</th>\n",
              "      <th>smoke</th>\n",
              "      <th>gluc</th>\n",
              "      <th>cholesterol</th>\n",
              "    </tr>\n",
              "    <tr>\n",
              "      <th>gender</th>\n",
              "      <th></th>\n",
              "      <th></th>\n",
              "      <th></th>\n",
              "      <th></th>\n",
              "    </tr>\n",
              "  </thead>\n",
              "  <tbody>\n",
              "    <tr>\n",
              "      <th>1</th>\n",
              "      <td>0.025500</td>\n",
              "      <td>0.017856</td>\n",
              "      <td>1.235054</td>\n",
              "      <td>1.384735</td>\n",
              "    </tr>\n",
              "    <tr>\n",
              "      <th>2</th>\n",
              "      <td>0.106375</td>\n",
              "      <td>0.218880</td>\n",
              "      <td>1.210462</td>\n",
              "      <td>1.333633</td>\n",
              "    </tr>\n",
              "  </tbody>\n",
              "</table>\n",
              "</div>"
            ],
            "text/plain": [
              "            alco     smoke      gluc  cholesterol\n",
              "gender                                           \n",
              "1       0.025500  0.017856  1.235054     1.384735\n",
              "2       0.106375  0.218880  1.210462     1.333633"
            ]
          },
          "metadata": {
            "tags": []
          },
          "execution_count": 60
        }
      ]
    },
    {
      "cell_type": "code",
      "metadata": {
        "colab": {
          "base_uri": "https://localhost:8080/",
          "height": 296
        },
        "id": "8XwWVSuiIB0n",
        "outputId": "9529ece7-5ae6-4d0e-f5db-de5fa8ea8d09"
      },
      "source": [
        "gender_stats.mean().plot()"
      ],
      "execution_count": null,
      "outputs": [
        {
          "output_type": "execute_result",
          "data": {
            "text/plain": [
              "<matplotlib.axes._subplots.AxesSubplot at 0x7f418bac3750>"
            ]
          },
          "metadata": {
            "tags": []
          },
          "execution_count": 63
        },
        {
          "output_type": "display_data",
          "data": {
            "image/png": "[encoded data removed]",
            "text/plain": [
              "<Figure size 432x288 with 1 Axes>"
            ]
          },
          "metadata": {
            "tags": [],
            "needs_background": "light"
          }
        }
      ]
    },
    {
      "cell_type": "code",
      "metadata": {
        "colab": {
          "base_uri": "https://localhost:8080/",
          "height": 402
        },
        "id": "pR_2HZLlLAWy",
        "outputId": "54439aaf-0bcf-4593-9b37-fa027aadbd3a"
      },
      "source": [
        "gender_stats.filter(lambda x: x['alco'].mean() > x['smoke'].mean())"
      ],
      "execution_count": null,
      "outputs": [
        {
          "output_type": "execute_result",
          "data": {
            "text/html": [
              "<div>\n",
              "<style scoped>\n",
              "    .dataframe tbody tr th:only-of-type {\n",
              "        vertical-align: middle;\n",
              "    }\n",
              "\n",
              "    .dataframe tbody tr th {\n",
              "        vertical-align: top;\n",
              "    }\n",
              "\n",
              "    .dataframe thead th {\n",
              "        text-align: right;\n",
              "    }\n",
              "</style>\n",
              "<table border=\"1\" class=\"dataframe\">\n",
              "  <thead>\n",
              "    <tr style=\"text-align: right;\">\n",
              "      <th></th>\n",
              "      <th>alco</th>\n",
              "      <th>smoke</th>\n",
              "      <th>gluc</th>\n",
              "      <th>cholesterol</th>\n",
              "    </tr>\n",
              "  </thead>\n",
              "  <tbody>\n",
              "    <tr>\n",
              "      <th>1</th>\n",
              "      <td>0</td>\n",
              "      <td>0</td>\n",
              "      <td>1</td>\n",
              "      <td>3</td>\n",
              "    </tr>\n",
              "    <tr>\n",
              "      <th>2</th>\n",
              "      <td>0</td>\n",
              "      <td>0</td>\n",
              "      <td>1</td>\n",
              "      <td>3</td>\n",
              "    </tr>\n",
              "    <tr>\n",
              "      <th>4</th>\n",
              "      <td>0</td>\n",
              "      <td>0</td>\n",
              "      <td>1</td>\n",
              "      <td>1</td>\n",
              "    </tr>\n",
              "    <tr>\n",
              "      <th>5</th>\n",
              "      <td>0</td>\n",
              "      <td>0</td>\n",
              "      <td>2</td>\n",
              "      <td>2</td>\n",
              "    </tr>\n",
              "    <tr>\n",
              "      <th>6</th>\n",
              "      <td>0</td>\n",
              "      <td>0</td>\n",
              "      <td>1</td>\n",
              "      <td>3</td>\n",
              "    </tr>\n",
              "    <tr>\n",
              "      <th>...</th>\n",
              "      <td>...</td>\n",
              "      <td>...</td>\n",
              "      <td>...</td>\n",
              "      <td>...</td>\n",
              "    </tr>\n",
              "    <tr>\n",
              "      <th>69993</th>\n",
              "      <td>0</td>\n",
              "      <td>0</td>\n",
              "      <td>1</td>\n",
              "      <td>1</td>\n",
              "    </tr>\n",
              "    <tr>\n",
              "      <th>69994</th>\n",
              "      <td>0</td>\n",
              "      <td>0</td>\n",
              "      <td>1</td>\n",
              "      <td>1</td>\n",
              "    </tr>\n",
              "    <tr>\n",
              "      <th>69996</th>\n",
              "      <td>0</td>\n",
              "      <td>0</td>\n",
              "      <td>2</td>\n",
              "      <td>2</td>\n",
              "    </tr>\n",
              "    <tr>\n",
              "      <th>69998</th>\n",
              "      <td>0</td>\n",
              "      <td>0</td>\n",
              "      <td>2</td>\n",
              "      <td>1</td>\n",
              "    </tr>\n",
              "    <tr>\n",
              "      <th>69999</th>\n",
              "      <td>0</td>\n",
              "      <td>0</td>\n",
              "      <td>1</td>\n",
              "      <td>2</td>\n",
              "    </tr>\n",
              "  </tbody>\n",
              "</table>\n",
              "<p>45530 rows × 4 columns</p>\n",
              "</div>"
            ],
            "text/plain": [
              "       alco  smoke  gluc  cholesterol\n",
              "1         0      0     1            3\n",
              "2         0      0     1            3\n",
              "4         0      0     1            1\n",
              "5         0      0     2            2\n",
              "6         0      0     1            3\n",
              "...     ...    ...   ...          ...\n",
              "69993     0      0     1            1\n",
              "69994     0      0     1            1\n",
              "69996     0      0     2            2\n",
              "69998     0      0     2            1\n",
              "69999     0      0     1            2\n",
              "\n",
              "[45530 rows x 4 columns]"
            ]
          },
          "metadata": {
            "tags": []
          },
          "execution_count": 73
        }
      ]
    },
    {
      "cell_type": "code",
      "metadata": {
        "colab": {
          "base_uri": "https://localhost:8080/",
          "height": 136
        },
        "id": "iIDlo2HdKLNr",
        "outputId": "c8185432-8708-4091-90af-09d4c8a9c236"
      },
      "source": [
        "gender_stats.agg({'alco': 'std', 'smoke': 'std','gluc':'std','cholesterol':'std'})"
      ],
      "execution_count": null,
      "outputs": [
        {
          "output_type": "execute_result",
          "data": {
            "text/html": [
              "<div>\n",
              "<style scoped>\n",
              "    .dataframe tbody tr th:only-of-type {\n",
              "        vertical-align: middle;\n",
              "    }\n",
              "\n",
              "    .dataframe tbody tr th {\n",
              "        vertical-align: top;\n",
              "    }\n",
              "\n",
              "    .dataframe thead th {\n",
              "        text-align: right;\n",
              "    }\n",
              "</style>\n",
              "<table border=\"1\" class=\"dataframe\">\n",
              "  <thead>\n",
              "    <tr style=\"text-align: right;\">\n",
              "      <th></th>\n",
              "      <th>alco</th>\n",
              "      <th>smoke</th>\n",
              "      <th>gluc</th>\n",
              "      <th>cholesterol</th>\n",
              "    </tr>\n",
              "    <tr>\n",
              "      <th>gender</th>\n",
              "      <th></th>\n",
              "      <th></th>\n",
              "      <th></th>\n",
              "      <th></th>\n",
              "    </tr>\n",
              "  </thead>\n",
              "  <tbody>\n",
              "    <tr>\n",
              "      <th>1</th>\n",
              "      <td>0.157639</td>\n",
              "      <td>0.132431</td>\n",
              "      <td>0.582956</td>\n",
              "      <td>0.693417</td>\n",
              "    </tr>\n",
              "    <tr>\n",
              "      <th>2</th>\n",
              "      <td>0.308323</td>\n",
              "      <td>0.413496</td>\n",
              "      <td>0.551493</td>\n",
              "      <td>0.653764</td>\n",
              "    </tr>\n",
              "  </tbody>\n",
              "</table>\n",
              "</div>"
            ],
            "text/plain": [
              "            alco     smoke      gluc  cholesterol\n",
              "gender                                           \n",
              "1       0.157639  0.132431  0.582956     0.693417\n",
              "2       0.308323  0.413496  0.551493     0.653764"
            ]
          },
          "metadata": {
            "tags": []
          },
          "execution_count": 68
        }
      ]
    },
    {
      "cell_type": "markdown",
      "metadata": {
        "id": "Mja3qLG2RXqs"
      },
      "source": [
        "\r\n",
        "Persoane cu boli cardiace, pe grupe de varsta\r\n",
        "\r\n",
        "---\r\n",
        "\r\n"
      ]
    },
    {
      "cell_type": "code",
      "metadata": {
        "colab": {
          "base_uri": "https://localhost:8080/"
        },
        "id": "HvmVsJLjcJQC",
        "outputId": "0d505fe7-8b54-4914-e69f-76d3c45d5011"
      },
      "source": [
        "df.groupby('gender')['age'].min()/365"
      ],
      "execution_count": null,
      "outputs": [
        {
          "output_type": "execute_result",
          "data": {
            "text/plain": [
              "gender\n",
              "1    29.750685\n",
              "2    29.583562\n",
              "Name: age, dtype: float64"
            ]
          },
          "metadata": {
            "tags": []
          },
          "execution_count": 4
        }
      ]
    },
    {
      "cell_type": "code",
      "metadata": {
        "colab": {
          "base_uri": "https://localhost:8080/"
        },
        "id": "cmeLJX87cfYh",
        "outputId": "ab611b75-aad9-4191-923b-498a48295b41"
      },
      "source": [
        "df.groupby('gender')['age'].max()/365"
      ],
      "execution_count": null,
      "outputs": [
        {
          "output_type": "execute_result",
          "data": {
            "text/plain": [
              "gender\n",
              "1    64.934247\n",
              "2    64.967123\n",
              "Name: age, dtype: float64"
            ]
          },
          "metadata": {
            "tags": []
          },
          "execution_count": 5
        }
      ]
    },
    {
      "cell_type": "markdown",
      "metadata": {
        "id": "aaiW8OHp0W3_"
      },
      "source": [
        "Deoarece am grupat coloana 'age' dupa gen, am aflat valoarea minima si maxima de varsta. Folosind aceasta informatie, am stabilit ca valoare coloanei 'age' va fi cuprinsa intre 29 si 64 de ani."
      ]
    },
    {
      "cell_type": "code",
      "metadata": {
        "id": "3wewW2zwRnkF"
      },
      "source": [
        "def age_func(x):\r\n",
        "  if (x < 30.0) & (x >= 20.0):\r\n",
        "    return '20s'\r\n",
        "  elif (x < 40.0) & (x >= 30.0):\r\n",
        "    return '30s'\r\n",
        "  elif (x < 50.0) & (x >= 40.0):\r\n",
        "    return '40s'\r\n",
        "  elif (x < 60.0) & (x >= 50.0):\r\n",
        "    return '50s'\r\n",
        "  elif (x < 70.0) & (x >= 60.0):\r\n",
        "    return '60s'\r\n"
      ],
      "execution_count": null,
      "outputs": []
    },
    {
      "cell_type": "markdown",
      "metadata": {
        "id": "9oSx4YvA8w1o"
      },
      "source": [
        "Am definit functia age_func(), care va ajuta la stabilirea categoriei de varsta. Categoriile de varsta sunt: \r\n",
        "* 20s (varsta cuprinsa intre 20 -> 29 de ani)\r\n",
        "* 30s (varsta cuprinsa intre 30 -> 39 de ani)\r\n",
        "* 40s (varsta cuprinsa intre 40 -> 49 de ani)\r\n",
        "* 50s (varsta cuprinsa intre 50 -> 59 de ani)\r\n",
        "* 60s (varsta cuprinsa intre 60 -> 69 de ani)"
      ]
    },
    {
      "cell_type": "code",
      "metadata": {
        "id": "poi1ughK4SRt"
      },
      "source": [
        "ages = [] \r\n",
        "#print(len(ages))\r\n",
        "for i, j in df['age'].iteritems():\r\n",
        "    ages.append(age_func(df['age'][i]/365))\r\n",
        "#print(ages)\r\n",
        "df['age_cat']=ages"
      ],
      "execution_count": null,
      "outputs": []
    },
    {
      "cell_type": "markdown",
      "metadata": {
        "id": "l-G5IFQ2F8hh"
      },
      "source": [
        "In lista ages am salvat categoriile de varsta pentru fiecare intrare din coloana 'age', dupa care am atribuit valorile din lista noii coloane 'age_cat'."
      ]
    },
    {
      "cell_type": "code",
      "metadata": {
        "colab": {
          "base_uri": "https://localhost:8080/",
          "height": 225
        },
        "id": "ciE3J-ZzbqJP",
        "outputId": "a5abe8cf-282c-47a2-eba1-d4db1a3e26da"
      },
      "source": [
        "tb1 = df.pivot_table(values='id',index='age_cat',columns='cardio', aggfunc=len, fill_value=0)\r\n",
        "tb1"
      ],
      "execution_count": 155,
      "outputs": [
        {
          "output_type": "execute_result",
          "data": {
            "text/html": [
              "<div>\n",
              "<style scoped>\n",
              "    .dataframe tbody tr th:only-of-type {\n",
              "        vertical-align: middle;\n",
              "    }\n",
              "\n",
              "    .dataframe tbody tr th {\n",
              "        vertical-align: top;\n",
              "    }\n",
              "\n",
              "    .dataframe thead th {\n",
              "        text-align: right;\n",
              "    }\n",
              "</style>\n",
              "<table border=\"1\" class=\"dataframe\">\n",
              "  <thead>\n",
              "    <tr style=\"text-align: right;\">\n",
              "      <th>cardio</th>\n",
              "      <th>0</th>\n",
              "      <th>1</th>\n",
              "    </tr>\n",
              "    <tr>\n",
              "      <th>age_cat</th>\n",
              "      <th></th>\n",
              "      <th></th>\n",
              "    </tr>\n",
              "  </thead>\n",
              "  <tbody>\n",
              "    <tr>\n",
              "      <th>20s</th>\n",
              "      <td>3</td>\n",
              "      <td>0</td>\n",
              "    </tr>\n",
              "    <tr>\n",
              "      <th>30s</th>\n",
              "      <td>1349</td>\n",
              "      <td>432</td>\n",
              "    </tr>\n",
              "    <tr>\n",
              "      <th>40s</th>\n",
              "      <td>12177</td>\n",
              "      <td>7448</td>\n",
              "    </tr>\n",
              "    <tr>\n",
              "      <th>50s</th>\n",
              "      <td>17186</td>\n",
              "      <td>18355</td>\n",
              "    </tr>\n",
              "    <tr>\n",
              "      <th>60s</th>\n",
              "      <td>4306</td>\n",
              "      <td>8744</td>\n",
              "    </tr>\n",
              "  </tbody>\n",
              "</table>\n",
              "</div>"
            ],
            "text/plain": [
              "cardio       0      1\n",
              "age_cat              \n",
              "20s          3      0\n",
              "30s       1349    432\n",
              "40s      12177   7448\n",
              "50s      17186  18355\n",
              "60s       4306   8744"
            ]
          },
          "metadata": {
            "tags": []
          },
          "execution_count": 155
        }
      ]
    },
    {
      "cell_type": "markdown",
      "metadata": {
        "id": "odO6a35mNTgi"
      },
      "source": [
        "Prin folosirea functiei pivot_table, am creat tabelul pivot ce evidentiaza numarul de persoane cardiace pe grupe de varsta. "
      ]
    },
    {
      "cell_type": "code",
      "metadata": {
        "colab": {
          "base_uri": "https://localhost:8080/",
          "height": 296
        },
        "id": "UAnw3t0UePq8",
        "outputId": "f48c32eb-fe04-4cee-9cc9-560e3450256f"
      },
      "source": [
        "tb1.plot(xlabel=\"Age Categories\", ylabel=\"Number of Cases\")"
      ],
      "execution_count": null,
      "outputs": [
        {
          "output_type": "execute_result",
          "data": {
            "text/plain": [
              "<matplotlib.axes._subplots.AxesSubplot at 0x7f035f306150>"
            ]
          },
          "metadata": {
            "tags": []
          },
          "execution_count": 60
        },
        {
          "output_type": "display_data",
          "data": {
            "image/png": "[encoded data removed]",
            "text/plain": [
              "<Figure size 432x288 with 1 Axes>"
            ]
          },
          "metadata": {
            "tags": [],
            "needs_background": "light"
          }
        }
      ]
    },
    {
      "cell_type": "markdown",
      "metadata": {
        "id": "ddeFOrbLBgp3"
      },
      "source": [
        "Persoane cu tensiunea normala, pe categorii de varsta\r\n",
        "\r\n",
        "---"
      ]
    },
    {
      "cell_type": "code",
      "metadata": {
        "colab": {
          "base_uri": "https://localhost:8080/",
          "height": 166
        },
        "id": "bnG-klRl4Yxi",
        "outputId": "ee8aa07f-e91b-46f2-9876-7bd67aef36f3"
      },
      "source": [
        "#df[(df.v3 == some_value) & (df.v4 == some_value)].pivot_table(index='v1', columns='A', values='v3', aggfunc='count')\r\n",
        "tb2 = df[((df.ap_hi >= 120) & (df.ap_hi <= 121) & (df.ap_lo >= 79) & (df.ap_lo <= 80) & (df['age_cat'] == '20s')) |\r\n",
        "   ((df.ap_hi >= 122) & (df.ap_hi <= 123) & (df.ap_lo >= 81) & (df.ap_lo <= 82) & (df['age_cat'] == '30s')) |\r\n",
        "   ((df.ap_hi >= 124) & (df.ap_hi <= 127) & (df.ap_lo >= 83) & (df.ap_lo <= 84) & (df['age_cat'] == '40s')) |\r\n",
        "   ((df.ap_hi >= 128) & (df.ap_hi <= 131) & (df.ap_lo >= 85) & (df.ap_lo <= 86) & (df['age_cat'] == '50s')) |\r\n",
        "   ((df.ap_hi >= 132) & (df.ap_hi <= 134) & (df.ap_lo >= 87) & (df.ap_lo <= 88) & (df['age_cat'] == '60s'))\r\n",
        "   ].pivot_table(values=['ap_hi',\t'ap_lo',\t'alco','smoke','gluc','cholesterol','active','cardio'],index='age_cat', aggfunc='mean') \r\n",
        "tb2\r\n"
      ],
      "execution_count": 163,
      "outputs": [
        {
          "output_type": "execute_result",
          "data": {
            "text/html": [
              "<div>\n",
              "<style scoped>\n",
              "    .dataframe tbody tr th:only-of-type {\n",
              "        vertical-align: middle;\n",
              "    }\n",
              "\n",
              "    .dataframe tbody tr th {\n",
              "        vertical-align: top;\n",
              "    }\n",
              "\n",
              "    .dataframe thead th {\n",
              "        text-align: right;\n",
              "    }\n",
              "</style>\n",
              "<table border=\"1\" class=\"dataframe\">\n",
              "  <thead>\n",
              "    <tr style=\"text-align: right;\">\n",
              "      <th></th>\n",
              "      <th>active</th>\n",
              "      <th>alco</th>\n",
              "      <th>ap_hi</th>\n",
              "      <th>ap_lo</th>\n",
              "      <th>cardio</th>\n",
              "      <th>cholesterol</th>\n",
              "      <th>gluc</th>\n",
              "      <th>smoke</th>\n",
              "    </tr>\n",
              "    <tr>\n",
              "      <th>age_cat</th>\n",
              "      <th></th>\n",
              "      <th></th>\n",
              "      <th></th>\n",
              "      <th></th>\n",
              "      <th></th>\n",
              "      <th></th>\n",
              "      <th></th>\n",
              "      <th></th>\n",
              "    </tr>\n",
              "  </thead>\n",
              "  <tbody>\n",
              "    <tr>\n",
              "      <th>20s</th>\n",
              "      <td>1.00</td>\n",
              "      <td>0.00</td>\n",
              "      <td>120.00</td>\n",
              "      <td>80.00</td>\n",
              "      <td>0.00</td>\n",
              "      <td>1.00</td>\n",
              "      <td>1.00</td>\n",
              "      <td>0.00</td>\n",
              "    </tr>\n",
              "    <tr>\n",
              "      <th>40s</th>\n",
              "      <td>0.75</td>\n",
              "      <td>0.00</td>\n",
              "      <td>125.50</td>\n",
              "      <td>83.50</td>\n",
              "      <td>0.00</td>\n",
              "      <td>1.00</td>\n",
              "      <td>1.00</td>\n",
              "      <td>0.00</td>\n",
              "    </tr>\n",
              "    <tr>\n",
              "      <th>50s</th>\n",
              "      <td>0.86</td>\n",
              "      <td>0.12</td>\n",
              "      <td>129.94</td>\n",
              "      <td>85.06</td>\n",
              "      <td>0.62</td>\n",
              "      <td>1.58</td>\n",
              "      <td>1.36</td>\n",
              "      <td>0.08</td>\n",
              "    </tr>\n",
              "  </tbody>\n",
              "</table>\n",
              "</div>"
            ],
            "text/plain": [
              "         active  alco   ap_hi  ap_lo  cardio  cholesterol  gluc  smoke\n",
              "age_cat                                                               \n",
              "20s        1.00  0.00  120.00  80.00    0.00         1.00  1.00   0.00\n",
              "40s        0.75  0.00  125.50  83.50    0.00         1.00  1.00   0.00\n",
              "50s        0.86  0.12  129.94  85.06    0.62         1.58  1.36   0.08"
            ]
          },
          "metadata": {
            "tags": []
          },
          "execution_count": 163
        }
      ]
    },
    {
      "cell_type": "code",
      "metadata": {
        "colab": {
          "base_uri": "https://localhost:8080/"
        },
        "id": "7u6_7qRRK6Nu",
        "outputId": "274ef503-a4b5-444c-82bb-40de4e1796b6"
      },
      "source": [
        "df[((df.ap_hi >= 120) & (df.ap_hi <= 121) & (df.ap_lo >= 79) & (df.ap_lo <= 80) & (df['age_cat'] == '20s')) |\r\n",
        "   ((df.ap_hi >= 122) & (df.ap_hi <= 123) & (df.ap_lo >= 81) & (df.ap_lo <= 82) & (df['age_cat'] == '30s')) |\r\n",
        "   ((df.ap_hi >= 124) & (df.ap_hi <= 127) & (df.ap_lo >= 83) & (df.ap_lo <= 84) & (df['age_cat'] == '40s')) |\r\n",
        "   ((df.ap_hi >= 128) & (df.ap_hi <= 131) & (df.ap_lo >= 85) & (df.ap_lo <= 86) & (df['age_cat'] == '50s')) |\r\n",
        "   ((df.ap_hi >= 132) & (df.ap_hi <= 134) & (df.ap_lo >= 87) & (df.ap_lo <= 88) & (df['age_cat'] == '60s'))\r\n",
        "   ].groupby('age_cat')['ap_hi',\t'ap_lo',\t'alco','smoke','gluc','cholesterol','active','cardio']\r\n"
      ],
      "execution_count": 179,
      "outputs": [
        {
          "output_type": "stream",
          "text": [
            "/usr/local/lib/python3.7/dist-packages/ipykernel_launcher.py:6: FutureWarning: Indexing with multiple keys (implicitly converted to a tuple of keys) will be deprecated, use a list instead.\n",
            "  \n"
          ],
          "name": "stderr"
        },
        {
          "output_type": "execute_result",
          "data": {
            "text/plain": [
              "<pandas.core.groupby.generic.DataFrameGroupBy object at 0x7f035e12df50>"
            ]
          },
          "metadata": {
            "tags": []
          },
          "execution_count": 179
        }
      ]
    },
    {
      "cell_type": "markdown",
      "metadata": {
        "id": "BHwI2p9_pZWY"
      },
      "source": [
        "Persoane cu tensiunea mica, pe categorii de varsta\r\n",
        "\r\n",
        "---"
      ]
    },
    {
      "cell_type": "code",
      "metadata": {
        "colab": {
          "base_uri": "https://localhost:8080/",
          "height": 225
        },
        "id": "tlYjJ9t6p8dC",
        "outputId": "43d164ac-0c50-4165-d3b2-809fb80d7984"
      },
      "source": [
        "tb3 = df[((df.ap_hi < 120)  & (df.ap_lo < 81) & (df['age_cat'] == '20s')) | \r\n",
        "   ((df.ap_hi < 122)  & (df.ap_lo < 81) & (df['age_cat'] == '30s')) | \r\n",
        "   ((df.ap_hi < 124)  & (df.ap_lo < 83) & (df['age_cat'] == '40s')) | \r\n",
        "   ((df.ap_hi < 128)  & (df.ap_lo < 85) & (df['age_cat'] == '50s')) |\r\n",
        "   ((df.ap_hi < 132)  & (df.ap_lo < 87) & (df['age_cat'] == '60s')) \r\n",
        "].pivot_table(values=['gender',\t'height',\t'weight',\t'ap_hi',\t'ap_lo',\t'alco','smoke','gluc','cholesterol','active','cardio'],index='age_cat',aggfunc='mean')\r\n",
        "tb3"
      ],
      "execution_count": null,
      "outputs": [
        {
          "output_type": "execute_result",
          "data": {
            "text/html": [
              "<div>\n",
              "<style scoped>\n",
              "    .dataframe tbody tr th:only-of-type {\n",
              "        vertical-align: middle;\n",
              "    }\n",
              "\n",
              "    .dataframe tbody tr th {\n",
              "        vertical-align: top;\n",
              "    }\n",
              "\n",
              "    .dataframe thead th {\n",
              "        text-align: right;\n",
              "    }\n",
              "</style>\n",
              "<table border=\"1\" class=\"dataframe\">\n",
              "  <thead>\n",
              "    <tr style=\"text-align: right;\">\n",
              "      <th></th>\n",
              "      <th>active</th>\n",
              "      <th>alco</th>\n",
              "      <th>ap_hi</th>\n",
              "      <th>ap_lo</th>\n",
              "      <th>cardio</th>\n",
              "      <th>cholesterol</th>\n",
              "      <th>gender</th>\n",
              "      <th>gluc</th>\n",
              "      <th>height</th>\n",
              "      <th>smoke</th>\n",
              "      <th>weight</th>\n",
              "    </tr>\n",
              "    <tr>\n",
              "      <th>age_cat</th>\n",
              "      <th></th>\n",
              "      <th></th>\n",
              "      <th></th>\n",
              "      <th></th>\n",
              "      <th></th>\n",
              "      <th></th>\n",
              "      <th></th>\n",
              "      <th></th>\n",
              "      <th></th>\n",
              "      <th></th>\n",
              "      <th></th>\n",
              "    </tr>\n",
              "  </thead>\n",
              "  <tbody>\n",
              "    <tr>\n",
              "      <th>20s</th>\n",
              "      <td>1.000000</td>\n",
              "      <td>0.000000</td>\n",
              "      <td>100.000000</td>\n",
              "      <td>60.000000</td>\n",
              "      <td>0.000000</td>\n",
              "      <td>1.000000</td>\n",
              "      <td>2.000000</td>\n",
              "      <td>1.000000</td>\n",
              "      <td>175.000000</td>\n",
              "      <td>0.000000</td>\n",
              "      <td>92.000000</td>\n",
              "    </tr>\n",
              "    <tr>\n",
              "      <th>30s</th>\n",
              "      <td>0.810994</td>\n",
              "      <td>0.062500</td>\n",
              "      <td>112.681476</td>\n",
              "      <td>74.216114</td>\n",
              "      <td>0.113705</td>\n",
              "      <td>1.134789</td>\n",
              "      <td>1.365211</td>\n",
              "      <td>1.115964</td>\n",
              "      <td>164.675452</td>\n",
              "      <td>0.096386</td>\n",
              "      <td>69.527711</td>\n",
              "    </tr>\n",
              "    <tr>\n",
              "      <th>40s</th>\n",
              "      <td>0.814712</td>\n",
              "      <td>0.051831</td>\n",
              "      <td>114.044613</td>\n",
              "      <td>75.249942</td>\n",
              "      <td>0.207940</td>\n",
              "      <td>1.162559</td>\n",
              "      <td>1.356523</td>\n",
              "      <td>1.127774</td>\n",
              "      <td>164.934117</td>\n",
              "      <td>0.096214</td>\n",
              "      <td>70.361814</td>\n",
              "    </tr>\n",
              "    <tr>\n",
              "      <th>50s</th>\n",
              "      <td>0.799928</td>\n",
              "      <td>0.042928</td>\n",
              "      <td>116.041641</td>\n",
              "      <td>76.594863</td>\n",
              "      <td>0.340025</td>\n",
              "      <td>1.254581</td>\n",
              "      <td>1.309039</td>\n",
              "      <td>1.189211</td>\n",
              "      <td>164.282891</td>\n",
              "      <td>0.072061</td>\n",
              "      <td>71.313913</td>\n",
              "    </tr>\n",
              "    <tr>\n",
              "      <th>60s</th>\n",
              "      <td>0.793216</td>\n",
              "      <td>0.035194</td>\n",
              "      <td>119.244806</td>\n",
              "      <td>77.277880</td>\n",
              "      <td>0.548551</td>\n",
              "      <td>1.398021</td>\n",
              "      <td>1.352226</td>\n",
              "      <td>1.265583</td>\n",
              "      <td>163.706290</td>\n",
              "      <td>0.063887</td>\n",
              "      <td>72.393018</td>\n",
              "    </tr>\n",
              "  </tbody>\n",
              "</table>\n",
              "</div>"
            ],
            "text/plain": [
              "           active      alco       ap_hi  ...      height     smoke     weight\n",
              "age_cat                                  ...                                 \n",
              "20s      1.000000  0.000000  100.000000  ...  175.000000  0.000000  92.000000\n",
              "30s      0.810994  0.062500  112.681476  ...  164.675452  0.096386  69.527711\n",
              "40s      0.814712  0.051831  114.044613  ...  164.934117  0.096214  70.361814\n",
              "50s      0.799928  0.042928  116.041641  ...  164.282891  0.072061  71.313913\n",
              "60s      0.793216  0.035194  119.244806  ...  163.706290  0.063887  72.393018\n",
              "\n",
              "[5 rows x 11 columns]"
            ]
          },
          "metadata": {
            "tags": []
          },
          "execution_count": 105
        }
      ]
    },
    {
      "cell_type": "markdown",
      "metadata": {
        "id": "j2gYc7depjT8"
      },
      "source": [
        "Persoane cu tensiunea mare, pe categorii de varsta\r\n",
        "\r\n",
        "---"
      ]
    },
    {
      "cell_type": "code",
      "metadata": {
        "colab": {
          "base_uri": "https://localhost:8080/",
          "height": 195
        },
        "id": "Dsp4UhIZplRG",
        "outputId": "fdbc24bf-347f-4bb7-ec72-903758c4690c"
      },
      "source": [
        "tb4 = df[((df.ap_hi > 121)  & (df.ap_lo > 80) & (df['age_cat'] == '20s')) |\r\n",
        "   ((df.ap_hi > 123)  & (df.ap_lo > 82) & (df['age_cat'] == '30s')) |\r\n",
        "   ((df.ap_hi > 127)  & (df.ap_lo > 84) & (df['age_cat'] == '40s')) |\r\n",
        "   ((df.ap_hi > 131)  & (df.ap_lo > 86) & (df['age_cat'] == '50s')) |\r\n",
        "   ((df.ap_hi > 134)  & (df.ap_lo > 88) & (df['age_cat'] == '60s')) \r\n",
        "].pivot_table(values=['gender',\t'height',\t'weight',\t'ap_hi',\t'ap_lo',\t'alco','smoke','gluc','cholesterol','active','cardio'],index='age_cat',aggfunc='mean')\r\n",
        "tb4"
      ],
      "execution_count": null,
      "outputs": [
        {
          "output_type": "execute_result",
          "data": {
            "text/html": [
              "<div>\n",
              "<style scoped>\n",
              "    .dataframe tbody tr th:only-of-type {\n",
              "        vertical-align: middle;\n",
              "    }\n",
              "\n",
              "    .dataframe tbody tr th {\n",
              "        vertical-align: top;\n",
              "    }\n",
              "\n",
              "    .dataframe thead th {\n",
              "        text-align: right;\n",
              "    }\n",
              "</style>\n",
              "<table border=\"1\" class=\"dataframe\">\n",
              "  <thead>\n",
              "    <tr style=\"text-align: right;\">\n",
              "      <th></th>\n",
              "      <th>active</th>\n",
              "      <th>alco</th>\n",
              "      <th>ap_hi</th>\n",
              "      <th>ap_lo</th>\n",
              "      <th>cardio</th>\n",
              "      <th>cholesterol</th>\n",
              "      <th>gender</th>\n",
              "      <th>gluc</th>\n",
              "      <th>height</th>\n",
              "      <th>smoke</th>\n",
              "      <th>weight</th>\n",
              "    </tr>\n",
              "    <tr>\n",
              "      <th>age_cat</th>\n",
              "      <th></th>\n",
              "      <th></th>\n",
              "      <th></th>\n",
              "      <th></th>\n",
              "      <th></th>\n",
              "      <th></th>\n",
              "      <th></th>\n",
              "      <th></th>\n",
              "      <th></th>\n",
              "      <th></th>\n",
              "      <th></th>\n",
              "    </tr>\n",
              "  </thead>\n",
              "  <tbody>\n",
              "    <tr>\n",
              "      <th>30s</th>\n",
              "      <td>0.774809</td>\n",
              "      <td>0.087786</td>\n",
              "      <td>144.484733</td>\n",
              "      <td>134.851145</td>\n",
              "      <td>0.751908</td>\n",
              "      <td>1.366412</td>\n",
              "      <td>1.435115</td>\n",
              "      <td>1.202290</td>\n",
              "      <td>166.885496</td>\n",
              "      <td>0.148855</td>\n",
              "      <td>83.463740</td>\n",
              "    </tr>\n",
              "    <tr>\n",
              "      <th>40s</th>\n",
              "      <td>0.806475</td>\n",
              "      <td>0.080576</td>\n",
              "      <td>149.360671</td>\n",
              "      <td>145.664748</td>\n",
              "      <td>0.808153</td>\n",
              "      <td>1.448201</td>\n",
              "      <td>1.429257</td>\n",
              "      <td>1.218945</td>\n",
              "      <td>165.712950</td>\n",
              "      <td>0.126619</td>\n",
              "      <td>80.548050</td>\n",
              "    </tr>\n",
              "    <tr>\n",
              "      <th>50s</th>\n",
              "      <td>0.815247</td>\n",
              "      <td>0.064081</td>\n",
              "      <td>153.905966</td>\n",
              "      <td>155.798183</td>\n",
              "      <td>0.833047</td>\n",
              "      <td>1.596244</td>\n",
              "      <td>1.364964</td>\n",
              "      <td>1.321016</td>\n",
              "      <td>164.087405</td>\n",
              "      <td>0.094525</td>\n",
              "      <td>79.892022</td>\n",
              "    </tr>\n",
              "    <tr>\n",
              "      <th>60s</th>\n",
              "      <td>0.804839</td>\n",
              "      <td>0.057258</td>\n",
              "      <td>151.564247</td>\n",
              "      <td>142.701344</td>\n",
              "      <td>0.850000</td>\n",
              "      <td>1.655914</td>\n",
              "      <td>1.370968</td>\n",
              "      <td>1.339247</td>\n",
              "      <td>163.056183</td>\n",
              "      <td>0.081452</td>\n",
              "      <td>78.451667</td>\n",
              "    </tr>\n",
              "  </tbody>\n",
              "</table>\n",
              "</div>"
            ],
            "text/plain": [
              "           active      alco       ap_hi  ...      height     smoke     weight\n",
              "age_cat                                  ...                                 \n",
              "30s      0.774809  0.087786  144.484733  ...  166.885496  0.148855  83.463740\n",
              "40s      0.806475  0.080576  149.360671  ...  165.712950  0.126619  80.548050\n",
              "50s      0.815247  0.064081  153.905966  ...  164.087405  0.094525  79.892022\n",
              "60s      0.804839  0.057258  151.564247  ...  163.056183  0.081452  78.451667\n",
              "\n",
              "[4 rows x 11 columns]"
            ]
          },
          "metadata": {
            "tags": []
          },
          "execution_count": 107
        }
      ]
    },
    {
      "cell_type": "code",
      "metadata": {
        "colab": {
          "base_uri": "https://localhost:8080/",
          "height": 225
        },
        "id": "ZboNwef_fmVT",
        "outputId": "0ec48234-4433-4c45-d40f-00aa5e0578ec"
      },
      "source": [
        "tb5 = df[((df.ap_hi < 120)  & (df.ap_lo < 81) & (df['age_cat'] == '20s')) | ((df.ap_hi > 121)  & (df.ap_lo > 80) & (df['age_cat'] == '20s')) |\r\n",
        "   ((df.ap_hi < 122)  & (df.ap_lo < 81) & (df['age_cat'] == '30s')) | ((df.ap_hi > 123)  & (df.ap_lo > 82) & (df['age_cat'] == '30s')) |\r\n",
        "   ((df.ap_hi < 124)  & (df.ap_lo < 83) & (df['age_cat'] == '40s')) | ((df.ap_hi > 127)  & (df.ap_lo > 84) & (df['age_cat'] == '40s')) |\r\n",
        "   ((df.ap_hi < 128)  & (df.ap_lo < 85) & (df['age_cat'] == '50s')) | ((df.ap_hi > 131)  & (df.ap_lo > 86) & (df['age_cat'] == '50s')) |\r\n",
        "   ((df.ap_hi < 132)  & (df.ap_lo < 87) & (df['age_cat'] == '60s')) \r\n",
        "].pivot_table(values=['gender',\t'height',\t'weight',\t'ap_hi',\t'ap_lo',\t'alco','smoke','gluc','cholesterol','active','cardio'],index='age_cat',aggfunc='mean')\r\n",
        "tb5"
      ],
      "execution_count": null,
      "outputs": [
        {
          "output_type": "execute_result",
          "data": {
            "text/html": [
              "<div>\n",
              "<style scoped>\n",
              "    .dataframe tbody tr th:only-of-type {\n",
              "        vertical-align: middle;\n",
              "    }\n",
              "\n",
              "    .dataframe tbody tr th {\n",
              "        vertical-align: top;\n",
              "    }\n",
              "\n",
              "    .dataframe thead th {\n",
              "        text-align: right;\n",
              "    }\n",
              "</style>\n",
              "<table border=\"1\" class=\"dataframe\">\n",
              "  <thead>\n",
              "    <tr style=\"text-align: right;\">\n",
              "      <th></th>\n",
              "      <th>active</th>\n",
              "      <th>alco</th>\n",
              "      <th>ap_hi</th>\n",
              "      <th>ap_lo</th>\n",
              "      <th>cardio</th>\n",
              "      <th>cholesterol</th>\n",
              "      <th>gender</th>\n",
              "      <th>gluc</th>\n",
              "      <th>height</th>\n",
              "      <th>smoke</th>\n",
              "      <th>weight</th>\n",
              "    </tr>\n",
              "    <tr>\n",
              "      <th>age_cat</th>\n",
              "      <th></th>\n",
              "      <th></th>\n",
              "      <th></th>\n",
              "      <th></th>\n",
              "      <th></th>\n",
              "      <th></th>\n",
              "      <th></th>\n",
              "      <th></th>\n",
              "      <th></th>\n",
              "      <th></th>\n",
              "      <th></th>\n",
              "    </tr>\n",
              "  </thead>\n",
              "  <tbody>\n",
              "    <tr>\n",
              "      <th>20s</th>\n",
              "      <td>1.000000</td>\n",
              "      <td>0.000000</td>\n",
              "      <td>100.000000</td>\n",
              "      <td>60.000000</td>\n",
              "      <td>0.000000</td>\n",
              "      <td>1.000000</td>\n",
              "      <td>2.000000</td>\n",
              "      <td>1.000000</td>\n",
              "      <td>175.000000</td>\n",
              "      <td>0.000000</td>\n",
              "      <td>92.000000</td>\n",
              "    </tr>\n",
              "    <tr>\n",
              "      <th>30s</th>\n",
              "      <td>0.805031</td>\n",
              "      <td>0.066667</td>\n",
              "      <td>117.922013</td>\n",
              "      <td>84.207547</td>\n",
              "      <td>0.218868</td>\n",
              "      <td>1.172956</td>\n",
              "      <td>1.376730</td>\n",
              "      <td>1.130189</td>\n",
              "      <td>165.039623</td>\n",
              "      <td>0.105031</td>\n",
              "      <td>71.824088</td>\n",
              "    </tr>\n",
              "    <tr>\n",
              "      <th>40s</th>\n",
              "      <td>0.812714</td>\n",
              "      <td>0.058803</td>\n",
              "      <td>122.610190</td>\n",
              "      <td>92.328389</td>\n",
              "      <td>0.353516</td>\n",
              "      <td>1.231839</td>\n",
              "      <td>1.374164</td>\n",
              "      <td>1.149887</td>\n",
              "      <td>165.123015</td>\n",
              "      <td>0.103589</td>\n",
              "      <td>72.832389</td>\n",
              "    </tr>\n",
              "    <tr>\n",
              "      <th>50s</th>\n",
              "      <td>0.804453</td>\n",
              "      <td>0.049177</td>\n",
              "      <td>127.227642</td>\n",
              "      <td>99.993363</td>\n",
              "      <td>0.485675</td>\n",
              "      <td>1.355516</td>\n",
              "      <td>1.325560</td>\n",
              "      <td>1.228150</td>\n",
              "      <td>164.225140</td>\n",
              "      <td>0.078697</td>\n",
              "      <td>73.848086</td>\n",
              "    </tr>\n",
              "    <tr>\n",
              "      <th>60s</th>\n",
              "      <td>0.793216</td>\n",
              "      <td>0.035194</td>\n",
              "      <td>119.244806</td>\n",
              "      <td>77.277880</td>\n",
              "      <td>0.548551</td>\n",
              "      <td>1.398021</td>\n",
              "      <td>1.352226</td>\n",
              "      <td>1.265583</td>\n",
              "      <td>163.706290</td>\n",
              "      <td>0.063887</td>\n",
              "      <td>72.393018</td>\n",
              "    </tr>\n",
              "  </tbody>\n",
              "</table>\n",
              "</div>"
            ],
            "text/plain": [
              "           active      alco       ap_hi  ...      height     smoke     weight\n",
              "age_cat                                  ...                                 \n",
              "20s      1.000000  0.000000  100.000000  ...  175.000000  0.000000  92.000000\n",
              "30s      0.805031  0.066667  117.922013  ...  165.039623  0.105031  71.824088\n",
              "40s      0.812714  0.058803  122.610190  ...  165.123015  0.103589  72.832389\n",
              "50s      0.804453  0.049177  127.227642  ...  164.225140  0.078697  73.848086\n",
              "60s      0.793216  0.035194  119.244806  ...  163.706290  0.063887  72.393018\n",
              "\n",
              "[5 rows x 11 columns]"
            ]
          },
          "metadata": {
            "tags": []
          },
          "execution_count": 109
        }
      ]
    },
    {
      "cell_type": "code",
      "metadata": {
        "colab": {
          "base_uri": "https://localhost:8080/",
          "height": 349
        },
        "id": "3mcAX9LIN7nu",
        "outputId": "a5656f7a-b3c7-4253-ce3f-0f7b83a2c725"
      },
      "source": [
        "plt.hist(tb5['ap_hi'])\r\n",
        "plt.hist(tb5['ap_lo'])"
      ],
      "execution_count": 122,
      "outputs": [
        {
          "output_type": "execute_result",
          "data": {
            "text/plain": [
              "(array([1., 0., 0., 0., 1., 0., 1., 0., 1., 1.]),\n",
              " array([60.        , 63.99933633, 67.99867266, 71.99800899, 75.99734533,\n",
              "        79.99668166, 83.99601799, 87.99535432, 91.99469065, 95.99402698,\n",
              "        99.99336331]),\n",
              " <a list of 10 Patch objects>)"
            ]
          },
          "metadata": {
            "tags": []
          },
          "execution_count": 122
        },
        {
          "output_type": "display_data",
          "data": {
            "image/png": "[encoded data removed]",
            "text/plain": [
              "<Figure size 432x288 with 1 Axes>"
            ]
          },
          "metadata": {
            "tags": [],
            "needs_background": "light"
          }
        }
      ]
    },
    {
      "cell_type": "code",
      "metadata": {
        "id": "3Twn5mcuOHp2"
      },
      "source": [
        ""
      ],
      "execution_count": 126,
      "outputs": []
    },
    {
      "cell_type": "code",
      "metadata": {
        "id": "hRXEvym98dd_"
      },
      "source": [
        ""
      ],
      "execution_count": null,
      "outputs": []
    },
    {
      "cell_type": "markdown",
      "metadata": {
        "id": "3EGJB1g4A57T"
      },
      "source": [
        "Inceput incercari"
      ]
    },
    {
      "cell_type": "code",
      "metadata": {
        "colab": {
          "base_uri": "https://localhost:8080/",
          "height": 225
        },
        "id": "qJWxm9oQHFDF",
        "outputId": "dc7247cf-5a85-470a-c2ca-cb1d85b30aeb"
      },
      "source": [
        "df.groupby(['age_cat','cardio']).size().unstack()\r\n"
      ],
      "execution_count": null,
      "outputs": [
        {
          "output_type": "execute_result",
          "data": {
            "text/html": [
              "<div>\n",
              "<style scoped>\n",
              "    .dataframe tbody tr th:only-of-type {\n",
              "        vertical-align: middle;\n",
              "    }\n",
              "\n",
              "    .dataframe tbody tr th {\n",
              "        vertical-align: top;\n",
              "    }\n",
              "\n",
              "    .dataframe thead th {\n",
              "        text-align: right;\n",
              "    }\n",
              "</style>\n",
              "<table border=\"1\" class=\"dataframe\">\n",
              "  <thead>\n",
              "    <tr style=\"text-align: right;\">\n",
              "      <th>cardio</th>\n",
              "      <th>0</th>\n",
              "      <th>1</th>\n",
              "    </tr>\n",
              "    <tr>\n",
              "      <th>age_cat</th>\n",
              "      <th></th>\n",
              "      <th></th>\n",
              "    </tr>\n",
              "  </thead>\n",
              "  <tbody>\n",
              "    <tr>\n",
              "      <th>20s</th>\n",
              "      <td>3.0</td>\n",
              "      <td>NaN</td>\n",
              "    </tr>\n",
              "    <tr>\n",
              "      <th>30s</th>\n",
              "      <td>1349.0</td>\n",
              "      <td>432.0</td>\n",
              "    </tr>\n",
              "    <tr>\n",
              "      <th>40s</th>\n",
              "      <td>12177.0</td>\n",
              "      <td>7448.0</td>\n",
              "    </tr>\n",
              "    <tr>\n",
              "      <th>50s</th>\n",
              "      <td>17186.0</td>\n",
              "      <td>18355.0</td>\n",
              "    </tr>\n",
              "    <tr>\n",
              "      <th>60s</th>\n",
              "      <td>4306.0</td>\n",
              "      <td>8744.0</td>\n",
              "    </tr>\n",
              "  </tbody>\n",
              "</table>\n",
              "</div>"
            ],
            "text/plain": [
              "cardio         0        1\n",
              "age_cat                  \n",
              "20s          3.0      NaN\n",
              "30s       1349.0    432.0\n",
              "40s      12177.0   7448.0\n",
              "50s      17186.0  18355.0\n",
              "60s       4306.0   8744.0"
            ]
          },
          "metadata": {
            "tags": []
          },
          "execution_count": 110
        }
      ]
    },
    {
      "cell_type": "code",
      "metadata": {
        "colab": {
          "base_uri": "https://localhost:8080/",
          "height": 296
        },
        "id": "Tq1dU4ef74cU",
        "outputId": "cd416dd4-8ca1-4f7c-a378-be6ad0e546f3"
      },
      "source": [
        "ax = df.groupby(['age_cat','cardio']).size().unstack().plot()\r\n",
        "ax.set_xlabel(\"Age Categories\")\r\n",
        "ax.set_ylabel(\"Number of Cases\")"
      ],
      "execution_count": null,
      "outputs": [
        {
          "output_type": "execute_result",
          "data": {
            "text/plain": [
              "Text(0, 0.5, 'Number of Cases')"
            ]
          },
          "metadata": {
            "tags": []
          },
          "execution_count": 36
        },
        {
          "output_type": "display_data",
          "data": {
            "image/png": "[encoded data removed]",
            "text/plain": [
              "<Figure size 432x288 with 1 Axes>"
            ]
          },
          "metadata": {
            "tags": [],
            "needs_background": "light"
          }
        }
      ]
    },
    {
      "cell_type": "code",
      "metadata": {
        "id": "3cFoFGDbGHNs"
      },
      "source": [
        ""
      ],
      "execution_count": null,
      "outputs": []
    },
    {
      "cell_type": "code",
      "metadata": {
        "colab": {
          "base_uri": "https://localhost:8080/",
          "height": 343
        },
        "id": "H9KeCFvGGGw1",
        "outputId": "6e8b2b53-4f29-4d54-fc70-56629f6ab35b"
      },
      "source": [
        "df.groupby(['cardio','age_cat']).agg({'ap_hi':'count','ap_lo':'count'})"
      ],
      "execution_count": null,
      "outputs": [
        {
          "output_type": "execute_result",
          "data": {
            "text/html": [
              "<div>\n",
              "<style scoped>\n",
              "    .dataframe tbody tr th:only-of-type {\n",
              "        vertical-align: middle;\n",
              "    }\n",
              "\n",
              "    .dataframe tbody tr th {\n",
              "        vertical-align: top;\n",
              "    }\n",
              "\n",
              "    .dataframe thead th {\n",
              "        text-align: right;\n",
              "    }\n",
              "</style>\n",
              "<table border=\"1\" class=\"dataframe\">\n",
              "  <thead>\n",
              "    <tr style=\"text-align: right;\">\n",
              "      <th></th>\n",
              "      <th></th>\n",
              "      <th>ap_hi</th>\n",
              "      <th>ap_lo</th>\n",
              "    </tr>\n",
              "    <tr>\n",
              "      <th>cardio</th>\n",
              "      <th>age_cat</th>\n",
              "      <th></th>\n",
              "      <th></th>\n",
              "    </tr>\n",
              "  </thead>\n",
              "  <tbody>\n",
              "    <tr>\n",
              "      <th rowspan=\"5\" valign=\"top\">0</th>\n",
              "      <th>20s</th>\n",
              "      <td>3</td>\n",
              "      <td>3</td>\n",
              "    </tr>\n",
              "    <tr>\n",
              "      <th>30s</th>\n",
              "      <td>1349</td>\n",
              "      <td>1349</td>\n",
              "    </tr>\n",
              "    <tr>\n",
              "      <th>40s</th>\n",
              "      <td>12177</td>\n",
              "      <td>12177</td>\n",
              "    </tr>\n",
              "    <tr>\n",
              "      <th>50s</th>\n",
              "      <td>17186</td>\n",
              "      <td>17186</td>\n",
              "    </tr>\n",
              "    <tr>\n",
              "      <th>60s</th>\n",
              "      <td>4306</td>\n",
              "      <td>4306</td>\n",
              "    </tr>\n",
              "    <tr>\n",
              "      <th rowspan=\"4\" valign=\"top\">1</th>\n",
              "      <th>30s</th>\n",
              "      <td>432</td>\n",
              "      <td>432</td>\n",
              "    </tr>\n",
              "    <tr>\n",
              "      <th>40s</th>\n",
              "      <td>7448</td>\n",
              "      <td>7448</td>\n",
              "    </tr>\n",
              "    <tr>\n",
              "      <th>50s</th>\n",
              "      <td>18355</td>\n",
              "      <td>18355</td>\n",
              "    </tr>\n",
              "    <tr>\n",
              "      <th>60s</th>\n",
              "      <td>8744</td>\n",
              "      <td>8744</td>\n",
              "    </tr>\n",
              "  </tbody>\n",
              "</table>\n",
              "</div>"
            ],
            "text/plain": [
              "                ap_hi  ap_lo\n",
              "cardio age_cat              \n",
              "0      20s          3      3\n",
              "       30s       1349   1349\n",
              "       40s      12177  12177\n",
              "       50s      17186  17186\n",
              "       60s       4306   4306\n",
              "1      30s        432    432\n",
              "       40s       7448   7448\n",
              "       50s      18355  18355\n",
              "       60s       8744   8744"
            ]
          },
          "metadata": {
            "tags": []
          },
          "execution_count": 54
        }
      ]
    },
    {
      "cell_type": "code",
      "metadata": {
        "id": "4I_tkNeFGFT9"
      },
      "source": [
        ""
      ],
      "execution_count": null,
      "outputs": []
    },
    {
      "cell_type": "code",
      "metadata": {
        "colab": {
          "base_uri": "https://localhost:8080/"
        },
        "id": "sra4aurIx7-6",
        "outputId": "c59d9c53-286f-4594-9ba7-3c05902d0c17"
      },
      "source": [
        "df.groupby(['age_cat'])['id'].count()"
      ],
      "execution_count": null,
      "outputs": [
        {
          "output_type": "execute_result",
          "data": {
            "text/plain": [
              "age_cat\n",
              "20.0        3\n",
              "30.0     1781\n",
              "40.0    19625\n",
              "50.0    35541\n",
              "60.0    13050\n",
              "Name: id, dtype: int64"
            ]
          },
          "metadata": {
            "tags": []
          },
          "execution_count": 117
        }
      ]
    },
    {
      "cell_type": "code",
      "metadata": {
        "colab": {
          "base_uri": "https://localhost:8080/",
          "height": 136
        },
        "id": "85zeWof_zbKx",
        "outputId": "9c7bb510-75a4-4a67-c9f4-560098c7e4bc"
      },
      "source": [
        "df.groupby('gender').agg({'alco':'sum','smoke':'sum','active':'sum','cardio':'sum'})"
      ],
      "execution_count": null,
      "outputs": [
        {
          "output_type": "execute_result",
          "data": {
            "text/html": [
              "<div>\n",
              "<style scoped>\n",
              "    .dataframe tbody tr th:only-of-type {\n",
              "        vertical-align: middle;\n",
              "    }\n",
              "\n",
              "    .dataframe tbody tr th {\n",
              "        vertical-align: top;\n",
              "    }\n",
              "\n",
              "    .dataframe thead th {\n",
              "        text-align: right;\n",
              "    }\n",
              "</style>\n",
              "<table border=\"1\" class=\"dataframe\">\n",
              "  <thead>\n",
              "    <tr style=\"text-align: right;\">\n",
              "      <th></th>\n",
              "      <th>alco</th>\n",
              "      <th>smoke</th>\n",
              "      <th>active</th>\n",
              "      <th>cardio</th>\n",
              "    </tr>\n",
              "    <tr>\n",
              "      <th>gender</th>\n",
              "      <th></th>\n",
              "      <th></th>\n",
              "      <th></th>\n",
              "      <th></th>\n",
              "    </tr>\n",
              "  </thead>\n",
              "  <tbody>\n",
              "    <tr>\n",
              "      <th>1</th>\n",
              "      <td>1161</td>\n",
              "      <td>813</td>\n",
              "      <td>36516</td>\n",
              "      <td>22616</td>\n",
              "    </tr>\n",
              "    <tr>\n",
              "      <th>2</th>\n",
              "      <td>2603</td>\n",
              "      <td>5356</td>\n",
              "      <td>19745</td>\n",
              "      <td>12363</td>\n",
              "    </tr>\n",
              "  </tbody>\n",
              "</table>\n",
              "</div>"
            ],
            "text/plain": [
              "        alco  smoke  active  cardio\n",
              "gender                             \n",
              "1       1161    813   36516   22616\n",
              "2       2603   5356   19745   12363"
            ]
          },
          "metadata": {
            "tags": []
          },
          "execution_count": 16
        }
      ]
    },
    {
      "cell_type": "code",
      "metadata": {
        "colab": {
          "base_uri": "https://localhost:8080/",
          "height": 136
        },
        "id": "R6Oi0j9w-QMW",
        "outputId": "b4f3e1da-2186-4801-96cc-128d84cecb01"
      },
      "source": [
        "df.groupby('gender').agg({'weight':'min', 'height':'min', 'age':'min'})"
      ],
      "execution_count": null,
      "outputs": [
        {
          "output_type": "execute_result",
          "data": {
            "text/html": [
              "<div>\n",
              "<style scoped>\n",
              "    .dataframe tbody tr th:only-of-type {\n",
              "        vertical-align: middle;\n",
              "    }\n",
              "\n",
              "    .dataframe tbody tr th {\n",
              "        vertical-align: top;\n",
              "    }\n",
              "\n",
              "    .dataframe thead th {\n",
              "        text-align: right;\n",
              "    }\n",
              "</style>\n",
              "<table border=\"1\" class=\"dataframe\">\n",
              "  <thead>\n",
              "    <tr style=\"text-align: right;\">\n",
              "      <th></th>\n",
              "      <th>weight</th>\n",
              "      <th>height</th>\n",
              "      <th>age</th>\n",
              "    </tr>\n",
              "    <tr>\n",
              "      <th>gender</th>\n",
              "      <th></th>\n",
              "      <th></th>\n",
              "      <th></th>\n",
              "    </tr>\n",
              "  </thead>\n",
              "  <tbody>\n",
              "    <tr>\n",
              "      <th>1</th>\n",
              "      <td>21.0</td>\n",
              "      <td>55</td>\n",
              "      <td>10859</td>\n",
              "    </tr>\n",
              "    <tr>\n",
              "      <th>2</th>\n",
              "      <td>10.0</td>\n",
              "      <td>65</td>\n",
              "      <td>10798</td>\n",
              "    </tr>\n",
              "  </tbody>\n",
              "</table>\n",
              "</div>"
            ],
            "text/plain": [
              "        weight  height    age\n",
              "gender                       \n",
              "1         21.0      55  10859\n",
              "2         10.0      65  10798"
            ]
          },
          "metadata": {
            "tags": []
          },
          "execution_count": 13
        }
      ]
    },
    {
      "cell_type": "code",
      "metadata": {
        "colab": {
          "base_uri": "https://localhost:8080/",
          "height": 136
        },
        "id": "rZddvGV3_mmb",
        "outputId": "a512c7ba-67a1-4423-88cb-51e5e4bd15fd"
      },
      "source": [
        "df.groupby('gender').agg({'weight':'max', 'height':'max', 'age':'max'})"
      ],
      "execution_count": null,
      "outputs": [
        {
          "output_type": "execute_result",
          "data": {
            "text/html": [
              "<div>\n",
              "<style scoped>\n",
              "    .dataframe tbody tr th:only-of-type {\n",
              "        vertical-align: middle;\n",
              "    }\n",
              "\n",
              "    .dataframe tbody tr th {\n",
              "        vertical-align: top;\n",
              "    }\n",
              "\n",
              "    .dataframe thead th {\n",
              "        text-align: right;\n",
              "    }\n",
              "</style>\n",
              "<table border=\"1\" class=\"dataframe\">\n",
              "  <thead>\n",
              "    <tr style=\"text-align: right;\">\n",
              "      <th></th>\n",
              "      <th>weight</th>\n",
              "      <th>height</th>\n",
              "      <th>age</th>\n",
              "    </tr>\n",
              "    <tr>\n",
              "      <th>gender</th>\n",
              "      <th></th>\n",
              "      <th></th>\n",
              "      <th></th>\n",
              "    </tr>\n",
              "  </thead>\n",
              "  <tbody>\n",
              "    <tr>\n",
              "      <th>1</th>\n",
              "      <td>200.0</td>\n",
              "      <td>250</td>\n",
              "      <td>23701</td>\n",
              "    </tr>\n",
              "    <tr>\n",
              "      <th>2</th>\n",
              "      <td>200.0</td>\n",
              "      <td>207</td>\n",
              "      <td>23713</td>\n",
              "    </tr>\n",
              "  </tbody>\n",
              "</table>\n",
              "</div>"
            ],
            "text/plain": [
              "        weight  height    age\n",
              "gender                       \n",
              "1        200.0     250  23701\n",
              "2        200.0     207  23713"
            ]
          },
          "metadata": {
            "tags": []
          },
          "execution_count": 15
        }
      ]
    },
    {
      "cell_type": "code",
      "metadata": {
        "colab": {
          "base_uri": "https://localhost:8080/",
          "height": 166
        },
        "id": "UGixm6Ek7v39",
        "outputId": "f5bbfc54-523f-4e3a-decf-4be457263923"
      },
      "source": [
        "df.groupby('gender').agg({\"age\":['min','max','mean']})"
      ],
      "execution_count": null,
      "outputs": [
        {
          "output_type": "execute_result",
          "data": {
            "text/html": [
              "<div>\n",
              "<style scoped>\n",
              "    .dataframe tbody tr th:only-of-type {\n",
              "        vertical-align: middle;\n",
              "    }\n",
              "\n",
              "    .dataframe tbody tr th {\n",
              "        vertical-align: top;\n",
              "    }\n",
              "\n",
              "    .dataframe thead tr th {\n",
              "        text-align: left;\n",
              "    }\n",
              "\n",
              "    .dataframe thead tr:last-of-type th {\n",
              "        text-align: right;\n",
              "    }\n",
              "</style>\n",
              "<table border=\"1\" class=\"dataframe\">\n",
              "  <thead>\n",
              "    <tr>\n",
              "      <th></th>\n",
              "      <th colspan=\"3\" halign=\"left\">age</th>\n",
              "    </tr>\n",
              "    <tr>\n",
              "      <th></th>\n",
              "      <th>min</th>\n",
              "      <th>max</th>\n",
              "      <th>mean</th>\n",
              "    </tr>\n",
              "    <tr>\n",
              "      <th>gender</th>\n",
              "      <th></th>\n",
              "      <th></th>\n",
              "      <th></th>\n",
              "    </tr>\n",
              "  </thead>\n",
              "  <tbody>\n",
              "    <tr>\n",
              "      <th>1</th>\n",
              "      <td>10859</td>\n",
              "      <td>23701</td>\n",
              "      <td>19510.124577</td>\n",
              "    </tr>\n",
              "    <tr>\n",
              "      <th>2</th>\n",
              "      <td>10798</td>\n",
              "      <td>23713</td>\n",
              "      <td>19392.097875</td>\n",
              "    </tr>\n",
              "  </tbody>\n",
              "</table>\n",
              "</div>"
            ],
            "text/plain": [
              "          age                     \n",
              "          min    max          mean\n",
              "gender                            \n",
              "1       10859  23701  19510.124577\n",
              "2       10798  23713  19392.097875"
            ]
          },
          "metadata": {
            "tags": []
          },
          "execution_count": 12
        }
      ]
    },
    {
      "cell_type": "code",
      "metadata": {
        "colab": {
          "base_uri": "https://localhost:8080/"
        },
        "id": "Op1KWbHhKK72",
        "outputId": "f127bd6d-144b-4ed6-ac8f-0f228240860a"
      },
      "source": [
        "df.groupby('age_cat')['id']"
      ],
      "execution_count": null,
      "outputs": [
        {
          "output_type": "execute_result",
          "data": {
            "text/plain": [
              "<pandas.core.groupby.generic.SeriesGroupBy object at 0x7fdeef72aed0>"
            ]
          },
          "metadata": {
            "tags": []
          },
          "execution_count": 163
        }
      ]
    }
  ]
}