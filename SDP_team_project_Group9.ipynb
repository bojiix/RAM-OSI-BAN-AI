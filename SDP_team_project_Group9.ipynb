{
  "nbformat": 4,
  "nbformat_minor": 0,
  "metadata": {
    "colab": {
      "name": "SDP_team_project_Group9.ipynb",
      "provenance": [],
      "toc_visible": true,
      "include_colab_link": true
    },
    "kernelspec": {
      "name": "python3",
      "display_name": "Python 3"
    }
  },
  "cells": [
    {
      "cell_type": "markdown",
      "metadata": {
        "id": "view-in-github",
        "colab_type": "text"
      },
      "source": [
        "<a href=\"https://colab.research.google.com/github/bojiix/RAM-OSI-BAN-AI/blob/master/SDP_team_project_Group9.ipynb\" target=\"_parent\"><img src=\"https://colab.research.google.com/assets/colab-badge.svg\" alt=\"Open In Colab\"/></a>"
      ]
    },
    {
      "cell_type": "markdown",
      "metadata": {
        "id": "tdDrvOBgBHDi"
      },
      "source": [
        "**Imports And Read Data**"
      ]
    },
    {
      "cell_type": "markdown",
      "metadata": {
        "id": "Gp0B_rqAEVDE"
      },
      "source": [
        "CEVA\r\n"
      ]
    },
    {
      "cell_type": "markdown",
      "metadata": {
        "id": "cinX4QJ1EWmF"
      },
      "source": [
        "# BA"
      ]
    },
    {
      "cell_type": "code",
      "metadata": {
        "id": "tvb-meWRBC-L"
      },
      "source": [
        "import numpy as np # linear algebra\r\n",
        "import pandas as pd # data processing, CSV file I/O (e.g. pd.read_csv)\r\n",
        "import seaborn as sns\r\n",
        "from matplotlib import pyplot as plt\r\n",
        "from matplotlib import rcParams\r\n",
        "from sklearn.linear_model import LinearRegression as lr\r\n",
        "import os\r\n",
        "import random\r\n"
      ],
      "execution_count": 42,
      "outputs": []
    },
    {
      "cell_type": "code",
      "metadata": {
        "id": "v1vKTRDjBRBK"
      },
      "source": [
        "df = pd.read_csv(\"https://raw.githubusercontent.com/bojiix/RAM-OSI-BAN-AI/bojan/cardio_train.csv\", sep=\";\") # citirea bazei de date; separarea in functie de ;"
      ],
      "execution_count": 14,
      "outputs": []
    },
    {
      "cell_type": "markdown",
      "metadata": {
        "id": "Tor1YTNxDEui"
      },
      "source": [
        "**First - Analyze Data**"
      ]
    },
    {
      "cell_type": "markdown",
      "metadata": {
        "id": "BxcpJYeXFGE7"
      },
      "source": [
        "https://www.kaggle.com/sulianova/eda-cardiovascular-data\r\n",
        "\r\n",
        "The source offers a dataset of 70k entries and described all of the data as being of 3 types:\r\n",
        "  - objective: factual information;\r\n",
        "  - examination: results of medical examination;\r\n",
        "  - subjective: information given by the patient.\r\n",
        "\r\n",
        "Firstly, we'll take a look at every data's type and limits. We have:\r\n",
        "\r\n",
        "Age(Objective) - measured in days(int)\r\n",
        "\r\n",
        "Height(Objective) - measured in cm(int)\r\n",
        "\r\n",
        "Weight(Objective) - measured in kg(float)\r\n",
        "\r\n",
        "Gender(Objective) - categorical(1 - female, 2 - male)\r\n",
        "\r\n",
        "---\r\n",
        "\r\n",
        "Systolic blood pressure(Examination) - measured in mmHg(int)\r\n",
        "\r\n",
        "Diastolic blood pressure(Examination) -\tmeasured in mmHg(int)\r\n",
        "\r\n",
        "Cholesterol(Examination) - has 3 numerical represented stages:\t1 - normal, 2 - above normal, 3 - well above normal\r\n",
        "\r\n",
        "Glucose(Examination) - has also 3 numerical represented stages: 1 - normal, 2 - above normal, 3 - well above normal\r\n",
        "\r\n",
        "---\r\n",
        "\r\n",
        "Smoking(Subjective)\t- binary: 0 - no, 1 - yes\r\n",
        "\r\n",
        "Alcohol intake(Subjective) - binary: 0 - no, 1 - yes\r\n",
        "\r\n",
        "Physical activity(Subjective) - binary: 0 - no, 1 - yes\r\n",
        "\r\n",
        "---\r\n",
        "\r\n",
        "Presence or absence of cardiovascular disease(the target aspect) - binary: 0 - ok, 1 - not ok\r\n",
        "\r\n",
        "---\r\n",
        "\r\n",
        "All of this data will be arranged as columns:\r\n",
        "\r\n",
        "Age - age\r\n",
        "\r\n",
        "Height - height\r\n",
        "\r\n",
        "Weight - weight\r\n",
        "\r\n",
        "Gender - gender\r\n",
        "\r\n",
        "Systolic blood pressure - sbp\r\n",
        "\r\n",
        "Diastolic blood pressure - dbp\r\n",
        "\r\n",
        "Cholesterol - cholesterol\r\n",
        "\r\n",
        "Glucose - glucose\r\n",
        "\r\n",
        "Smoking - smoking\r\n",
        "\r\n",
        "Alcohol intake - alcohol\r\n",
        "\r\n",
        "Physical activity - physical_active\r\n",
        "\r\n",
        "Presence or absence of cardiovascular disease - cardio_issues\r\n",
        "\r\n",
        "We also added another column called 'years' that also represents the age of the subject."
      ]
    },
    {
      "cell_type": "code",
      "metadata": {
        "colab": {
          "base_uri": "https://localhost:8080/",
          "height": 407
        },
        "id": "cHZg9eSaB367",
        "outputId": "063a9618-b7e4-45ad-b9b0-6006854a0b87"
      },
      "source": [
        "df['years'] = (df['age'] / 365).round().astype('int') # added age in years\r\n",
        "df #preview data"
      ],
      "execution_count": 15,
      "outputs": [
        {
          "output_type": "execute_result",
          "data": {
            "text/html": [
              "<div>\n",
              "<style scoped>\n",
              "    .dataframe tbody tr th:only-of-type {\n",
              "        vertical-align: middle;\n",
              "    }\n",
              "\n",
              "    .dataframe tbody tr th {\n",
              "        vertical-align: top;\n",
              "    }\n",
              "\n",
              "    .dataframe thead th {\n",
              "        text-align: right;\n",
              "    }\n",
              "</style>\n",
              "<table border=\"1\" class=\"dataframe\">\n",
              "  <thead>\n",
              "    <tr style=\"text-align: right;\">\n",
              "      <th></th>\n",
              "      <th>id</th>\n",
              "      <th>age</th>\n",
              "      <th>gender</th>\n",
              "      <th>height</th>\n",
              "      <th>weight</th>\n",
              "      <th>sbp</th>\n",
              "      <th>dbp</th>\n",
              "      <th>cholesterol</th>\n",
              "      <th>glucose</th>\n",
              "      <th>smoking</th>\n",
              "      <th>alcohol</th>\n",
              "      <th>physical_active</th>\n",
              "      <th>cardio_issues</th>\n",
              "      <th>years</th>\n",
              "    </tr>\n",
              "  </thead>\n",
              "  <tbody>\n",
              "    <tr>\n",
              "      <th>0</th>\n",
              "      <td>0</td>\n",
              "      <td>18393</td>\n",
              "      <td>2</td>\n",
              "      <td>168</td>\n",
              "      <td>62.0</td>\n",
              "      <td>110</td>\n",
              "      <td>80</td>\n",
              "      <td>1</td>\n",
              "      <td>1</td>\n",
              "      <td>0</td>\n",
              "      <td>0</td>\n",
              "      <td>1</td>\n",
              "      <td>0</td>\n",
              "      <td>50</td>\n",
              "    </tr>\n",
              "    <tr>\n",
              "      <th>1</th>\n",
              "      <td>1</td>\n",
              "      <td>20228</td>\n",
              "      <td>1</td>\n",
              "      <td>156</td>\n",
              "      <td>85.0</td>\n",
              "      <td>140</td>\n",
              "      <td>90</td>\n",
              "      <td>3</td>\n",
              "      <td>1</td>\n",
              "      <td>0</td>\n",
              "      <td>0</td>\n",
              "      <td>1</td>\n",
              "      <td>1</td>\n",
              "      <td>55</td>\n",
              "    </tr>\n",
              "    <tr>\n",
              "      <th>2</th>\n",
              "      <td>2</td>\n",
              "      <td>18857</td>\n",
              "      <td>1</td>\n",
              "      <td>165</td>\n",
              "      <td>64.0</td>\n",
              "      <td>130</td>\n",
              "      <td>70</td>\n",
              "      <td>3</td>\n",
              "      <td>1</td>\n",
              "      <td>0</td>\n",
              "      <td>0</td>\n",
              "      <td>0</td>\n",
              "      <td>1</td>\n",
              "      <td>52</td>\n",
              "    </tr>\n",
              "    <tr>\n",
              "      <th>3</th>\n",
              "      <td>3</td>\n",
              "      <td>17623</td>\n",
              "      <td>2</td>\n",
              "      <td>169</td>\n",
              "      <td>82.0</td>\n",
              "      <td>150</td>\n",
              "      <td>100</td>\n",
              "      <td>1</td>\n",
              "      <td>1</td>\n",
              "      <td>0</td>\n",
              "      <td>0</td>\n",
              "      <td>1</td>\n",
              "      <td>1</td>\n",
              "      <td>48</td>\n",
              "    </tr>\n",
              "    <tr>\n",
              "      <th>4</th>\n",
              "      <td>4</td>\n",
              "      <td>17474</td>\n",
              "      <td>1</td>\n",
              "      <td>156</td>\n",
              "      <td>56.0</td>\n",
              "      <td>100</td>\n",
              "      <td>60</td>\n",
              "      <td>1</td>\n",
              "      <td>1</td>\n",
              "      <td>0</td>\n",
              "      <td>0</td>\n",
              "      <td>0</td>\n",
              "      <td>0</td>\n",
              "      <td>48</td>\n",
              "    </tr>\n",
              "    <tr>\n",
              "      <th>...</th>\n",
              "      <td>...</td>\n",
              "      <td>...</td>\n",
              "      <td>...</td>\n",
              "      <td>...</td>\n",
              "      <td>...</td>\n",
              "      <td>...</td>\n",
              "      <td>...</td>\n",
              "      <td>...</td>\n",
              "      <td>...</td>\n",
              "      <td>...</td>\n",
              "      <td>...</td>\n",
              "      <td>...</td>\n",
              "      <td>...</td>\n",
              "      <td>...</td>\n",
              "    </tr>\n",
              "    <tr>\n",
              "      <th>69995</th>\n",
              "      <td>99993</td>\n",
              "      <td>19240</td>\n",
              "      <td>2</td>\n",
              "      <td>168</td>\n",
              "      <td>76.0</td>\n",
              "      <td>120</td>\n",
              "      <td>80</td>\n",
              "      <td>1</td>\n",
              "      <td>1</td>\n",
              "      <td>1</td>\n",
              "      <td>0</td>\n",
              "      <td>1</td>\n",
              "      <td>0</td>\n",
              "      <td>53</td>\n",
              "    </tr>\n",
              "    <tr>\n",
              "      <th>69996</th>\n",
              "      <td>99995</td>\n",
              "      <td>22601</td>\n",
              "      <td>1</td>\n",
              "      <td>158</td>\n",
              "      <td>126.0</td>\n",
              "      <td>140</td>\n",
              "      <td>90</td>\n",
              "      <td>2</td>\n",
              "      <td>2</td>\n",
              "      <td>0</td>\n",
              "      <td>0</td>\n",
              "      <td>1</td>\n",
              "      <td>1</td>\n",
              "      <td>62</td>\n",
              "    </tr>\n",
              "    <tr>\n",
              "      <th>69997</th>\n",
              "      <td>99996</td>\n",
              "      <td>19066</td>\n",
              "      <td>2</td>\n",
              "      <td>183</td>\n",
              "      <td>105.0</td>\n",
              "      <td>180</td>\n",
              "      <td>90</td>\n",
              "      <td>3</td>\n",
              "      <td>1</td>\n",
              "      <td>0</td>\n",
              "      <td>1</td>\n",
              "      <td>0</td>\n",
              "      <td>1</td>\n",
              "      <td>52</td>\n",
              "    </tr>\n",
              "    <tr>\n",
              "      <th>69998</th>\n",
              "      <td>99998</td>\n",
              "      <td>22431</td>\n",
              "      <td>1</td>\n",
              "      <td>163</td>\n",
              "      <td>72.0</td>\n",
              "      <td>135</td>\n",
              "      <td>80</td>\n",
              "      <td>1</td>\n",
              "      <td>2</td>\n",
              "      <td>0</td>\n",
              "      <td>0</td>\n",
              "      <td>0</td>\n",
              "      <td>1</td>\n",
              "      <td>61</td>\n",
              "    </tr>\n",
              "    <tr>\n",
              "      <th>69999</th>\n",
              "      <td>99999</td>\n",
              "      <td>20540</td>\n",
              "      <td>1</td>\n",
              "      <td>170</td>\n",
              "      <td>72.0</td>\n",
              "      <td>120</td>\n",
              "      <td>80</td>\n",
              "      <td>2</td>\n",
              "      <td>1</td>\n",
              "      <td>0</td>\n",
              "      <td>0</td>\n",
              "      <td>1</td>\n",
              "      <td>0</td>\n",
              "      <td>56</td>\n",
              "    </tr>\n",
              "  </tbody>\n",
              "</table>\n",
              "<p>70000 rows × 14 columns</p>\n",
              "</div>"
            ],
            "text/plain": [
              "          id    age  gender  ...  physical_active  cardio_issues  years\n",
              "0          0  18393       2  ...                1              0     50\n",
              "1          1  20228       1  ...                1              1     55\n",
              "2          2  18857       1  ...                0              1     52\n",
              "3          3  17623       2  ...                1              1     48\n",
              "4          4  17474       1  ...                0              0     48\n",
              "...      ...    ...     ...  ...              ...            ...    ...\n",
              "69995  99993  19240       2  ...                1              0     53\n",
              "69996  99995  22601       1  ...                1              1     62\n",
              "69997  99996  19066       2  ...                0              1     52\n",
              "69998  99998  22431       1  ...                0              1     61\n",
              "69999  99999  20540       1  ...                1              0     56\n",
              "\n",
              "[70000 rows x 14 columns]"
            ]
          },
          "metadata": {
            "tags": []
          },
          "execution_count": 15
        }
      ]
    },
    {
      "cell_type": "code",
      "metadata": {
        "colab": {
          "base_uri": "https://localhost:8080/"
        },
        "id": "-gqjOSDPDLW6",
        "outputId": "72973e3b-f61f-4116-cdbe-f4fb68cab053"
      },
      "source": [
        "df.info() # informatiile dataframe-ului, tip coloane, coloane non-null, nume coloane "
      ],
      "execution_count": 16,
      "outputs": [
        {
          "output_type": "stream",
          "text": [
            "<class 'pandas.core.frame.DataFrame'>\n",
            "RangeIndex: 70000 entries, 0 to 69999\n",
            "Data columns (total 14 columns):\n",
            " #   Column           Non-Null Count  Dtype  \n",
            "---  ------           --------------  -----  \n",
            " 0   id               70000 non-null  int64  \n",
            " 1   age              70000 non-null  int64  \n",
            " 2   gender           70000 non-null  int64  \n",
            " 3   height           70000 non-null  int64  \n",
            " 4   weight           70000 non-null  float64\n",
            " 5   sbp              70000 non-null  int64  \n",
            " 6   dbp              70000 non-null  int64  \n",
            " 7   cholesterol      70000 non-null  int64  \n",
            " 8   glucose          70000 non-null  int64  \n",
            " 9   smoking          70000 non-null  int64  \n",
            " 10  alcohol          70000 non-null  int64  \n",
            " 11  physical_active  70000 non-null  int64  \n",
            " 12  cardio_issues    70000 non-null  int64  \n",
            " 13  years            70000 non-null  int64  \n",
            "dtypes: float64(1), int64(13)\n",
            "memory usage: 7.5 MB\n"
          ],
          "name": "stdout"
        }
      ]
    },
    {
      "cell_type": "code",
      "metadata": {
        "colab": {
          "base_uri": "https://localhost:8080/",
          "height": 308
        },
        "id": "reZ61igHiDN9",
        "outputId": "5d477304-59b5-40ef-db96-4e991d253262"
      },
      "source": [
        "df.describe() # calculeaza count, mean, ... max pentru toate datele"
      ],
      "execution_count": 17,
      "outputs": [
        {
          "output_type": "execute_result",
          "data": {
            "text/html": [
              "<div>\n",
              "<style scoped>\n",
              "    .dataframe tbody tr th:only-of-type {\n",
              "        vertical-align: middle;\n",
              "    }\n",
              "\n",
              "    .dataframe tbody tr th {\n",
              "        vertical-align: top;\n",
              "    }\n",
              "\n",
              "    .dataframe thead th {\n",
              "        text-align: right;\n",
              "    }\n",
              "</style>\n",
              "<table border=\"1\" class=\"dataframe\">\n",
              "  <thead>\n",
              "    <tr style=\"text-align: right;\">\n",
              "      <th></th>\n",
              "      <th>id</th>\n",
              "      <th>age</th>\n",
              "      <th>gender</th>\n",
              "      <th>height</th>\n",
              "      <th>weight</th>\n",
              "      <th>sbp</th>\n",
              "      <th>dbp</th>\n",
              "      <th>cholesterol</th>\n",
              "      <th>glucose</th>\n",
              "      <th>smoking</th>\n",
              "      <th>alcohol</th>\n",
              "      <th>physical_active</th>\n",
              "      <th>cardio_issues</th>\n",
              "      <th>years</th>\n",
              "    </tr>\n",
              "  </thead>\n",
              "  <tbody>\n",
              "    <tr>\n",
              "      <th>count</th>\n",
              "      <td>70000.000000</td>\n",
              "      <td>70000.000000</td>\n",
              "      <td>70000.000000</td>\n",
              "      <td>70000.000000</td>\n",
              "      <td>70000.000000</td>\n",
              "      <td>70000.000000</td>\n",
              "      <td>70000.000000</td>\n",
              "      <td>70000.000000</td>\n",
              "      <td>70000.000000</td>\n",
              "      <td>70000.000000</td>\n",
              "      <td>70000.000000</td>\n",
              "      <td>70000.000000</td>\n",
              "      <td>70000.000000</td>\n",
              "      <td>70000.000000</td>\n",
              "    </tr>\n",
              "    <tr>\n",
              "      <th>mean</th>\n",
              "      <td>49972.419900</td>\n",
              "      <td>19468.865814</td>\n",
              "      <td>1.349571</td>\n",
              "      <td>164.359229</td>\n",
              "      <td>74.205690</td>\n",
              "      <td>128.817286</td>\n",
              "      <td>96.630414</td>\n",
              "      <td>1.366871</td>\n",
              "      <td>1.226457</td>\n",
              "      <td>0.088129</td>\n",
              "      <td>0.053771</td>\n",
              "      <td>0.803729</td>\n",
              "      <td>0.499700</td>\n",
              "      <td>53.338686</td>\n",
              "    </tr>\n",
              "    <tr>\n",
              "      <th>std</th>\n",
              "      <td>28851.302323</td>\n",
              "      <td>2467.251667</td>\n",
              "      <td>0.476838</td>\n",
              "      <td>8.210126</td>\n",
              "      <td>14.395757</td>\n",
              "      <td>154.011419</td>\n",
              "      <td>188.472530</td>\n",
              "      <td>0.680250</td>\n",
              "      <td>0.572270</td>\n",
              "      <td>0.283484</td>\n",
              "      <td>0.225568</td>\n",
              "      <td>0.397179</td>\n",
              "      <td>0.500003</td>\n",
              "      <td>6.765294</td>\n",
              "    </tr>\n",
              "    <tr>\n",
              "      <th>min</th>\n",
              "      <td>0.000000</td>\n",
              "      <td>10798.000000</td>\n",
              "      <td>1.000000</td>\n",
              "      <td>55.000000</td>\n",
              "      <td>10.000000</td>\n",
              "      <td>-150.000000</td>\n",
              "      <td>-70.000000</td>\n",
              "      <td>1.000000</td>\n",
              "      <td>1.000000</td>\n",
              "      <td>0.000000</td>\n",
              "      <td>0.000000</td>\n",
              "      <td>0.000000</td>\n",
              "      <td>0.000000</td>\n",
              "      <td>30.000000</td>\n",
              "    </tr>\n",
              "    <tr>\n",
              "      <th>25%</th>\n",
              "      <td>25006.750000</td>\n",
              "      <td>17664.000000</td>\n",
              "      <td>1.000000</td>\n",
              "      <td>159.000000</td>\n",
              "      <td>65.000000</td>\n",
              "      <td>120.000000</td>\n",
              "      <td>80.000000</td>\n",
              "      <td>1.000000</td>\n",
              "      <td>1.000000</td>\n",
              "      <td>0.000000</td>\n",
              "      <td>0.000000</td>\n",
              "      <td>1.000000</td>\n",
              "      <td>0.000000</td>\n",
              "      <td>48.000000</td>\n",
              "    </tr>\n",
              "    <tr>\n",
              "      <th>50%</th>\n",
              "      <td>50001.500000</td>\n",
              "      <td>19703.000000</td>\n",
              "      <td>1.000000</td>\n",
              "      <td>165.000000</td>\n",
              "      <td>72.000000</td>\n",
              "      <td>120.000000</td>\n",
              "      <td>80.000000</td>\n",
              "      <td>1.000000</td>\n",
              "      <td>1.000000</td>\n",
              "      <td>0.000000</td>\n",
              "      <td>0.000000</td>\n",
              "      <td>1.000000</td>\n",
              "      <td>0.000000</td>\n",
              "      <td>54.000000</td>\n",
              "    </tr>\n",
              "    <tr>\n",
              "      <th>75%</th>\n",
              "      <td>74889.250000</td>\n",
              "      <td>21327.000000</td>\n",
              "      <td>2.000000</td>\n",
              "      <td>170.000000</td>\n",
              "      <td>82.000000</td>\n",
              "      <td>140.000000</td>\n",
              "      <td>90.000000</td>\n",
              "      <td>2.000000</td>\n",
              "      <td>1.000000</td>\n",
              "      <td>0.000000</td>\n",
              "      <td>0.000000</td>\n",
              "      <td>1.000000</td>\n",
              "      <td>1.000000</td>\n",
              "      <td>58.000000</td>\n",
              "    </tr>\n",
              "    <tr>\n",
              "      <th>max</th>\n",
              "      <td>99999.000000</td>\n",
              "      <td>23713.000000</td>\n",
              "      <td>2.000000</td>\n",
              "      <td>250.000000</td>\n",
              "      <td>200.000000</td>\n",
              "      <td>16020.000000</td>\n",
              "      <td>11000.000000</td>\n",
              "      <td>3.000000</td>\n",
              "      <td>3.000000</td>\n",
              "      <td>1.000000</td>\n",
              "      <td>1.000000</td>\n",
              "      <td>1.000000</td>\n",
              "      <td>1.000000</td>\n",
              "      <td>65.000000</td>\n",
              "    </tr>\n",
              "  </tbody>\n",
              "</table>\n",
              "</div>"
            ],
            "text/plain": [
              "                 id           age  ...  cardio_issues         years\n",
              "count  70000.000000  70000.000000  ...   70000.000000  70000.000000\n",
              "mean   49972.419900  19468.865814  ...       0.499700     53.338686\n",
              "std    28851.302323   2467.251667  ...       0.500003      6.765294\n",
              "min        0.000000  10798.000000  ...       0.000000     30.000000\n",
              "25%    25006.750000  17664.000000  ...       0.000000     48.000000\n",
              "50%    50001.500000  19703.000000  ...       0.000000     54.000000\n",
              "75%    74889.250000  21327.000000  ...       1.000000     58.000000\n",
              "max    99999.000000  23713.000000  ...       1.000000     65.000000\n",
              "\n",
              "[8 rows x 14 columns]"
            ]
          },
          "metadata": {
            "tags": []
          },
          "execution_count": 17
        }
      ]
    },
    {
      "cell_type": "code",
      "metadata": {
        "id": "mcQg9bWEcSjO"
      },
      "source": [
        "limits = {\r\n",
        "  \"age\": [6570, 54750],\r\n",
        "  \"gender\": [1, 2],\r\n",
        "  \"height\": [120, 250],\r\n",
        "  \"weight\": [35, 200],\r\n",
        "  \"sbp\": [75, 200],\r\n",
        "  \"dbp\": [50, 150],\r\n",
        "  \"cholesterol\": [1, 3],\r\n",
        "  \"glucose\": [1, 3],\r\n",
        "  \"smoking\": [0, 1],\r\n",
        "  \"alcohol\": [0, 1],\r\n",
        "  \"physical_active\": [0, 1],\r\n",
        "  \"cardio_issues\": [0, 1],\r\n",
        "  \"years\": [18, 110]\r\n",
        "}"
      ],
      "execution_count": 18,
      "outputs": []
    },
    {
      "cell_type": "code",
      "metadata": {
        "id": "DVfm5iCHOzcq"
      },
      "source": [
        "def checkIfIsOutOfLimits(data):\r\n",
        "  for key, value in limits.items():\r\n",
        "    print(\"Instances where {0} is greater or lesser than the chosen limits: Greater: {1}, Lesser {2}\".format(key, data[data[key] > value[1]].shape[0], data[data[key] < value[0]].shape[0]))"
      ],
      "execution_count": 19,
      "outputs": []
    },
    {
      "cell_type": "code",
      "metadata": {
        "id": "ZKMn-tobZAOo"
      },
      "source": [
        "def checkDSP(data, bpmelt):\r\n",
        "  sns.boxplot(x = 'variable',y = 'value',data = bpmelt)\r\n",
        "  print(\"Diastilic pressure is higher than systolic one in {0} cases\".format(data[data['dbp']> data['sbp']].shape[0]))"
      ],
      "execution_count": 20,
      "outputs": []
    },
    {
      "cell_type": "code",
      "metadata": {
        "colab": {
          "base_uri": "https://localhost:8080/"
        },
        "id": "lY5QkG7mUIip",
        "outputId": "6e8c78ed-372c-4c20-e146-f73a3a9db511"
      },
      "source": [
        "checkIfIsOutOfLimits(df)"
      ],
      "execution_count": 21,
      "outputs": [
        {
          "output_type": "stream",
          "text": [
            "Instances where age is greater or lesser than the chosen limits: Greater: 0, Lesser 0\n",
            "Instances where gender is greater or lesser than the chosen limits: Greater: 0, Lesser 0\n",
            "Instances where height is greater or lesser than the chosen limits: Greater: 0, Lesser 52\n",
            "Instances where weight is greater or lesser than the chosen limits: Greater: 0, Lesser 20\n",
            "Instances where sbp is greater or lesser than the chosen limits: Greater: 100, Lesser 207\n",
            "Instances where dbp is greater or lesser than the chosen limits: Greater: 975, Lesser 80\n",
            "Instances where cholesterol is greater or lesser than the chosen limits: Greater: 0, Lesser 0\n",
            "Instances where glucose is greater or lesser than the chosen limits: Greater: 0, Lesser 0\n",
            "Instances where smoking is greater or lesser than the chosen limits: Greater: 0, Lesser 0\n",
            "Instances where alcohol is greater or lesser than the chosen limits: Greater: 0, Lesser 0\n",
            "Instances where physical_active is greater or lesser than the chosen limits: Greater: 0, Lesser 0\n",
            "Instances where cardio_issues is greater or lesser than the chosen limits: Greater: 0, Lesser 0\n",
            "Instances where years is greater or lesser than the chosen limits: Greater: 0, Lesser 0\n"
          ],
          "name": "stdout"
        }
      ]
    },
    {
      "cell_type": "code",
      "metadata": {
        "colab": {
          "base_uri": "https://localhost:8080/",
          "height": 407
        },
        "id": "OFEXmiFqiEiU",
        "outputId": "b5a01188-6979-4a41-89be-8dc3381703ac"
      },
      "source": [
        "blood_pressure = df.loc[:,['dbp','sbp']]\r\n",
        "blood_pressure"
      ],
      "execution_count": 22,
      "outputs": [
        {
          "output_type": "execute_result",
          "data": {
            "text/html": [
              "<div>\n",
              "<style scoped>\n",
              "    .dataframe tbody tr th:only-of-type {\n",
              "        vertical-align: middle;\n",
              "    }\n",
              "\n",
              "    .dataframe tbody tr th {\n",
              "        vertical-align: top;\n",
              "    }\n",
              "\n",
              "    .dataframe thead th {\n",
              "        text-align: right;\n",
              "    }\n",
              "</style>\n",
              "<table border=\"1\" class=\"dataframe\">\n",
              "  <thead>\n",
              "    <tr style=\"text-align: right;\">\n",
              "      <th></th>\n",
              "      <th>dbp</th>\n",
              "      <th>sbp</th>\n",
              "    </tr>\n",
              "  </thead>\n",
              "  <tbody>\n",
              "    <tr>\n",
              "      <th>0</th>\n",
              "      <td>80</td>\n",
              "      <td>110</td>\n",
              "    </tr>\n",
              "    <tr>\n",
              "      <th>1</th>\n",
              "      <td>90</td>\n",
              "      <td>140</td>\n",
              "    </tr>\n",
              "    <tr>\n",
              "      <th>2</th>\n",
              "      <td>70</td>\n",
              "      <td>130</td>\n",
              "    </tr>\n",
              "    <tr>\n",
              "      <th>3</th>\n",
              "      <td>100</td>\n",
              "      <td>150</td>\n",
              "    </tr>\n",
              "    <tr>\n",
              "      <th>4</th>\n",
              "      <td>60</td>\n",
              "      <td>100</td>\n",
              "    </tr>\n",
              "    <tr>\n",
              "      <th>...</th>\n",
              "      <td>...</td>\n",
              "      <td>...</td>\n",
              "    </tr>\n",
              "    <tr>\n",
              "      <th>69995</th>\n",
              "      <td>80</td>\n",
              "      <td>120</td>\n",
              "    </tr>\n",
              "    <tr>\n",
              "      <th>69996</th>\n",
              "      <td>90</td>\n",
              "      <td>140</td>\n",
              "    </tr>\n",
              "    <tr>\n",
              "      <th>69997</th>\n",
              "      <td>90</td>\n",
              "      <td>180</td>\n",
              "    </tr>\n",
              "    <tr>\n",
              "      <th>69998</th>\n",
              "      <td>80</td>\n",
              "      <td>135</td>\n",
              "    </tr>\n",
              "    <tr>\n",
              "      <th>69999</th>\n",
              "      <td>80</td>\n",
              "      <td>120</td>\n",
              "    </tr>\n",
              "  </tbody>\n",
              "</table>\n",
              "<p>70000 rows × 2 columns</p>\n",
              "</div>"
            ],
            "text/plain": [
              "       dbp  sbp\n",
              "0       80  110\n",
              "1       90  140\n",
              "2       70  130\n",
              "3      100  150\n",
              "4       60  100\n",
              "...    ...  ...\n",
              "69995   80  120\n",
              "69996   90  140\n",
              "69997   90  180\n",
              "69998   80  135\n",
              "69999   80  120\n",
              "\n",
              "[70000 rows x 2 columns]"
            ]
          },
          "metadata": {
            "tags": []
          },
          "execution_count": 22
        }
      ]
    },
    {
      "cell_type": "code",
      "metadata": {
        "colab": {
          "base_uri": "https://localhost:8080/",
          "height": 407
        },
        "id": "oxkmLKryiETE",
        "outputId": "ba5d28f6-3043-4493-f8bd-1e986fe80ef0"
      },
      "source": [
        "blood_pressureMelt = blood_pressure.melt()\r\n",
        "blood_pressureMelt"
      ],
      "execution_count": 23,
      "outputs": [
        {
          "output_type": "execute_result",
          "data": {
            "text/html": [
              "<div>\n",
              "<style scoped>\n",
              "    .dataframe tbody tr th:only-of-type {\n",
              "        vertical-align: middle;\n",
              "    }\n",
              "\n",
              "    .dataframe tbody tr th {\n",
              "        vertical-align: top;\n",
              "    }\n",
              "\n",
              "    .dataframe thead th {\n",
              "        text-align: right;\n",
              "    }\n",
              "</style>\n",
              "<table border=\"1\" class=\"dataframe\">\n",
              "  <thead>\n",
              "    <tr style=\"text-align: right;\">\n",
              "      <th></th>\n",
              "      <th>variable</th>\n",
              "      <th>value</th>\n",
              "    </tr>\n",
              "  </thead>\n",
              "  <tbody>\n",
              "    <tr>\n",
              "      <th>0</th>\n",
              "      <td>dbp</td>\n",
              "      <td>80</td>\n",
              "    </tr>\n",
              "    <tr>\n",
              "      <th>1</th>\n",
              "      <td>dbp</td>\n",
              "      <td>90</td>\n",
              "    </tr>\n",
              "    <tr>\n",
              "      <th>2</th>\n",
              "      <td>dbp</td>\n",
              "      <td>70</td>\n",
              "    </tr>\n",
              "    <tr>\n",
              "      <th>3</th>\n",
              "      <td>dbp</td>\n",
              "      <td>100</td>\n",
              "    </tr>\n",
              "    <tr>\n",
              "      <th>4</th>\n",
              "      <td>dbp</td>\n",
              "      <td>60</td>\n",
              "    </tr>\n",
              "    <tr>\n",
              "      <th>...</th>\n",
              "      <td>...</td>\n",
              "      <td>...</td>\n",
              "    </tr>\n",
              "    <tr>\n",
              "      <th>139995</th>\n",
              "      <td>sbp</td>\n",
              "      <td>120</td>\n",
              "    </tr>\n",
              "    <tr>\n",
              "      <th>139996</th>\n",
              "      <td>sbp</td>\n",
              "      <td>140</td>\n",
              "    </tr>\n",
              "    <tr>\n",
              "      <th>139997</th>\n",
              "      <td>sbp</td>\n",
              "      <td>180</td>\n",
              "    </tr>\n",
              "    <tr>\n",
              "      <th>139998</th>\n",
              "      <td>sbp</td>\n",
              "      <td>135</td>\n",
              "    </tr>\n",
              "    <tr>\n",
              "      <th>139999</th>\n",
              "      <td>sbp</td>\n",
              "      <td>120</td>\n",
              "    </tr>\n",
              "  </tbody>\n",
              "</table>\n",
              "<p>140000 rows × 2 columns</p>\n",
              "</div>"
            ],
            "text/plain": [
              "       variable  value\n",
              "0           dbp     80\n",
              "1           dbp     90\n",
              "2           dbp     70\n",
              "3           dbp    100\n",
              "4           dbp     60\n",
              "...         ...    ...\n",
              "139995      sbp    120\n",
              "139996      sbp    140\n",
              "139997      sbp    180\n",
              "139998      sbp    135\n",
              "139999      sbp    120\n",
              "\n",
              "[140000 rows x 2 columns]"
            ]
          },
          "metadata": {
            "tags": []
          },
          "execution_count": 23
        }
      ]
    },
    {
      "cell_type": "code",
      "metadata": {
        "colab": {
          "base_uri": "https://localhost:8080/",
          "height": 515
        },
        "id": "t_1mTlZlozVE",
        "outputId": "14605483-5174-416c-bf66-b7f042281bf3"
      },
      "source": [
        "checkDSP(df, blood_pressureMelt)"
      ],
      "execution_count": 24,
      "outputs": [
        {
          "output_type": "stream",
          "text": [
            "Diastilic pressure is higher than systolic one in 1234 cases\n"
          ],
          "name": "stdout"
        },
        {
          "output_type": "display_data",
          "data": {
            "image/png": "[encoded data removed]",
            "text/plain": [
              "<Figure size 792x576 with 1 Axes>"
            ]
          },
          "metadata": {
            "tags": [],
            "needs_background": "light"
          }
        }
      ]
    },
    {
      "cell_type": "code",
      "metadata": {
        "colab": {
          "base_uri": "https://localhost:8080/",
          "height": 407
        },
        "id": "3ZYQQbuWpKkT",
        "outputId": "21b716e5-f21d-436d-8fe0-026bfe4cbb47"
      },
      "source": [
        "cleandf = df.copy()\r\n",
        "cleandf"
      ],
      "execution_count": 25,
      "outputs": [
        {
          "output_type": "execute_result",
          "data": {
            "text/html": [
              "<div>\n",
              "<style scoped>\n",
              "    .dataframe tbody tr th:only-of-type {\n",
              "        vertical-align: middle;\n",
              "    }\n",
              "\n",
              "    .dataframe tbody tr th {\n",
              "        vertical-align: top;\n",
              "    }\n",
              "\n",
              "    .dataframe thead th {\n",
              "        text-align: right;\n",
              "    }\n",
              "</style>\n",
              "<table border=\"1\" class=\"dataframe\">\n",
              "  <thead>\n",
              "    <tr style=\"text-align: right;\">\n",
              "      <th></th>\n",
              "      <th>id</th>\n",
              "      <th>age</th>\n",
              "      <th>gender</th>\n",
              "      <th>height</th>\n",
              "      <th>weight</th>\n",
              "      <th>sbp</th>\n",
              "      <th>dbp</th>\n",
              "      <th>cholesterol</th>\n",
              "      <th>glucose</th>\n",
              "      <th>smoking</th>\n",
              "      <th>alcohol</th>\n",
              "      <th>physical_active</th>\n",
              "      <th>cardio_issues</th>\n",
              "      <th>years</th>\n",
              "    </tr>\n",
              "  </thead>\n",
              "  <tbody>\n",
              "    <tr>\n",
              "      <th>0</th>\n",
              "      <td>0</td>\n",
              "      <td>18393</td>\n",
              "      <td>2</td>\n",
              "      <td>168</td>\n",
              "      <td>62.0</td>\n",
              "      <td>110</td>\n",
              "      <td>80</td>\n",
              "      <td>1</td>\n",
              "      <td>1</td>\n",
              "      <td>0</td>\n",
              "      <td>0</td>\n",
              "      <td>1</td>\n",
              "      <td>0</td>\n",
              "      <td>50</td>\n",
              "    </tr>\n",
              "    <tr>\n",
              "      <th>1</th>\n",
              "      <td>1</td>\n",
              "      <td>20228</td>\n",
              "      <td>1</td>\n",
              "      <td>156</td>\n",
              "      <td>85.0</td>\n",
              "      <td>140</td>\n",
              "      <td>90</td>\n",
              "      <td>3</td>\n",
              "      <td>1</td>\n",
              "      <td>0</td>\n",
              "      <td>0</td>\n",
              "      <td>1</td>\n",
              "      <td>1</td>\n",
              "      <td>55</td>\n",
              "    </tr>\n",
              "    <tr>\n",
              "      <th>2</th>\n",
              "      <td>2</td>\n",
              "      <td>18857</td>\n",
              "      <td>1</td>\n",
              "      <td>165</td>\n",
              "      <td>64.0</td>\n",
              "      <td>130</td>\n",
              "      <td>70</td>\n",
              "      <td>3</td>\n",
              "      <td>1</td>\n",
              "      <td>0</td>\n",
              "      <td>0</td>\n",
              "      <td>0</td>\n",
              "      <td>1</td>\n",
              "      <td>52</td>\n",
              "    </tr>\n",
              "    <tr>\n",
              "      <th>3</th>\n",
              "      <td>3</td>\n",
              "      <td>17623</td>\n",
              "      <td>2</td>\n",
              "      <td>169</td>\n",
              "      <td>82.0</td>\n",
              "      <td>150</td>\n",
              "      <td>100</td>\n",
              "      <td>1</td>\n",
              "      <td>1</td>\n",
              "      <td>0</td>\n",
              "      <td>0</td>\n",
              "      <td>1</td>\n",
              "      <td>1</td>\n",
              "      <td>48</td>\n",
              "    </tr>\n",
              "    <tr>\n",
              "      <th>4</th>\n",
              "      <td>4</td>\n",
              "      <td>17474</td>\n",
              "      <td>1</td>\n",
              "      <td>156</td>\n",
              "      <td>56.0</td>\n",
              "      <td>100</td>\n",
              "      <td>60</td>\n",
              "      <td>1</td>\n",
              "      <td>1</td>\n",
              "      <td>0</td>\n",
              "      <td>0</td>\n",
              "      <td>0</td>\n",
              "      <td>0</td>\n",
              "      <td>48</td>\n",
              "    </tr>\n",
              "    <tr>\n",
              "      <th>...</th>\n",
              "      <td>...</td>\n",
              "      <td>...</td>\n",
              "      <td>...</td>\n",
              "      <td>...</td>\n",
              "      <td>...</td>\n",
              "      <td>...</td>\n",
              "      <td>...</td>\n",
              "      <td>...</td>\n",
              "      <td>...</td>\n",
              "      <td>...</td>\n",
              "      <td>...</td>\n",
              "      <td>...</td>\n",
              "      <td>...</td>\n",
              "      <td>...</td>\n",
              "    </tr>\n",
              "    <tr>\n",
              "      <th>69995</th>\n",
              "      <td>99993</td>\n",
              "      <td>19240</td>\n",
              "      <td>2</td>\n",
              "      <td>168</td>\n",
              "      <td>76.0</td>\n",
              "      <td>120</td>\n",
              "      <td>80</td>\n",
              "      <td>1</td>\n",
              "      <td>1</td>\n",
              "      <td>1</td>\n",
              "      <td>0</td>\n",
              "      <td>1</td>\n",
              "      <td>0</td>\n",
              "      <td>53</td>\n",
              "    </tr>\n",
              "    <tr>\n",
              "      <th>69996</th>\n",
              "      <td>99995</td>\n",
              "      <td>22601</td>\n",
              "      <td>1</td>\n",
              "      <td>158</td>\n",
              "      <td>126.0</td>\n",
              "      <td>140</td>\n",
              "      <td>90</td>\n",
              "      <td>2</td>\n",
              "      <td>2</td>\n",
              "      <td>0</td>\n",
              "      <td>0</td>\n",
              "      <td>1</td>\n",
              "      <td>1</td>\n",
              "      <td>62</td>\n",
              "    </tr>\n",
              "    <tr>\n",
              "      <th>69997</th>\n",
              "      <td>99996</td>\n",
              "      <td>19066</td>\n",
              "      <td>2</td>\n",
              "      <td>183</td>\n",
              "      <td>105.0</td>\n",
              "      <td>180</td>\n",
              "      <td>90</td>\n",
              "      <td>3</td>\n",
              "      <td>1</td>\n",
              "      <td>0</td>\n",
              "      <td>1</td>\n",
              "      <td>0</td>\n",
              "      <td>1</td>\n",
              "      <td>52</td>\n",
              "    </tr>\n",
              "    <tr>\n",
              "      <th>69998</th>\n",
              "      <td>99998</td>\n",
              "      <td>22431</td>\n",
              "      <td>1</td>\n",
              "      <td>163</td>\n",
              "      <td>72.0</td>\n",
              "      <td>135</td>\n",
              "      <td>80</td>\n",
              "      <td>1</td>\n",
              "      <td>2</td>\n",
              "      <td>0</td>\n",
              "      <td>0</td>\n",
              "      <td>0</td>\n",
              "      <td>1</td>\n",
              "      <td>61</td>\n",
              "    </tr>\n",
              "    <tr>\n",
              "      <th>69999</th>\n",
              "      <td>99999</td>\n",
              "      <td>20540</td>\n",
              "      <td>1</td>\n",
              "      <td>170</td>\n",
              "      <td>72.0</td>\n",
              "      <td>120</td>\n",
              "      <td>80</td>\n",
              "      <td>2</td>\n",
              "      <td>1</td>\n",
              "      <td>0</td>\n",
              "      <td>0</td>\n",
              "      <td>1</td>\n",
              "      <td>0</td>\n",
              "      <td>56</td>\n",
              "    </tr>\n",
              "  </tbody>\n",
              "</table>\n",
              "<p>70000 rows × 14 columns</p>\n",
              "</div>"
            ],
            "text/plain": [
              "          id    age  gender  ...  physical_active  cardio_issues  years\n",
              "0          0  18393       2  ...                1              0     50\n",
              "1          1  20228       1  ...                1              1     55\n",
              "2          2  18857       1  ...                0              1     52\n",
              "3          3  17623       2  ...                1              1     48\n",
              "4          4  17474       1  ...                0              0     48\n",
              "...      ...    ...     ...  ...              ...            ...    ...\n",
              "69995  99993  19240       2  ...                1              0     53\n",
              "69996  99995  22601       1  ...                1              1     62\n",
              "69997  99996  19066       2  ...                0              1     52\n",
              "69998  99998  22431       1  ...                0              1     61\n",
              "69999  99999  20540       1  ...                1              0     56\n",
              "\n",
              "[70000 rows x 14 columns]"
            ]
          },
          "metadata": {
            "tags": []
          },
          "execution_count": 25
        }
      ]
    },
    {
      "cell_type": "markdown",
      "metadata": {
        "id": "42J5jTsl1Clb"
      },
      "source": [
        "Optional - Create Fake Data"
      ]
    },
    {
      "cell_type": "code",
      "metadata": {
        "id": "i9g8VyLLusjI"
      },
      "source": [
        "def generateArray(cond, num, lims, d_var):\r\n",
        "  arr = []\r\n",
        "\r\n",
        "  if isinstance(d_var, np.int64) or isinstance(d_var, int):\r\n",
        "    if cond == True:\r\n",
        "      arr = np.random.randint(lims[0], lims[1] + 1, size=num)\r\n",
        "    else:\r\n",
        "      arr = np.random.randint(lims[1] + 2, 100000, size=num)\r\n",
        "  else:\r\n",
        "    if isinstance(d_var, np.float64) or isinstance(d_var, float):\r\n",
        "      if cond == True:\r\n",
        "        arr = np.random.uniform(lims[0], lims[1] + 1, size=num)\r\n",
        "      else:\r\n",
        "        arr = np.random.uniform(lims[1] + 2, 100000, size=num)\r\n",
        "\r\n",
        "        for i in range(len(arr)):\r\n",
        "          arr[i] = float('NaN') if random.choice([True, False]) == True else arr[i]\r\n",
        "\r\n",
        "  return arr"
      ],
      "execution_count": 26,
      "outputs": []
    },
    {
      "cell_type": "code",
      "metadata": {
        "id": "5dnwNVgNHv-J"
      },
      "source": [
        "def createData(assign_vec, num, aux):\r\n",
        "  obj = {\r\n",
        "      \"id\": aux.tail(1)['id'] + 1,\r\n",
        "      \"age\": generateArray(assign_vec[1], num, limits[\"age\"], aux['age'][0]),\r\n",
        "      \"gender\": generateArray(assign_vec[2], num, limits[\"gender\"], aux['gender'][0]),\r\n",
        "      \"height\": generateArray(assign_vec[3], num, limits[\"height\"], aux['height'][0]),\r\n",
        "      \"weight\": generateArray(assign_vec[4], num, limits[\"weight\"], aux['weight'][0]),\r\n",
        "      \"sbp\": generateArray(assign_vec[5], num, limits[\"sbp\"], aux['sbp'][0]),\r\n",
        "      \"dbp\": generateArray(assign_vec[6], num, limits[\"dbp\"], aux['dbp'][0]),\r\n",
        "      \"cholesterol\": generateArray(assign_vec[7], num, limits[\"cholesterol\"], aux['cholesterol'][0]),\r\n",
        "      \"glucose\": generateArray(assign_vec[8], num, limits[\"glucose\"], aux['glucose'][0]),\r\n",
        "      \"smoking\": generateArray(assign_vec[9], num, limits[\"smoking\"], aux['smoking'][0]),\r\n",
        "      \"alcohol\": generateArray(assign_vec[10], num, limits[\"alcohol\"], aux['alcohol'][0]),\r\n",
        "      \"physical_active\": generateArray(assign_vec[11], num, limits[\"physical_active\"], aux['physical_active'][0]),\r\n",
        "      \"cardio_issues\": generateArray(assign_vec[12], num, limits[\"cardio_issues\"], aux['cardio_issues'][0]),\r\n",
        "      \"years\": generateArray(assign_vec[13], num, limits[\"years\"], aux['years'][0]),\r\n",
        "  }\r\n",
        "  to_adddf = pd.DataFrame(obj)\r\n",
        "  return to_adddf"
      ],
      "execution_count": 27,
      "outputs": []
    },
    {
      "cell_type": "code",
      "metadata": {
        "id": "BHx46EdXpaxT"
      },
      "source": [
        "def generateData(aux, n):\r\n",
        "  for i in range(n):\r\n",
        "    arr = np.random.choice([True, False], size=len(aux.columns))\r\n",
        "    aux = aux.append(createData(arr, 1, aux), ignore_index=True)  \r\n",
        "  return aux"
      ],
      "execution_count": 28,
      "outputs": []
    },
    {
      "cell_type": "code",
      "metadata": {
        "colab": {
          "base_uri": "https://localhost:8080/",
          "height": 348
        },
        "id": "zGiDzKmNafi3",
        "outputId": "7d27f04c-61d0-4401-90ad-16b8a75f1e5d"
      },
      "source": [
        "cleandf_fd = cleandf.head(10).copy()\r\n",
        "cleandf_fd"
      ],
      "execution_count": 29,
      "outputs": [
        {
          "output_type": "execute_result",
          "data": {
            "text/html": [
              "<div>\n",
              "<style scoped>\n",
              "    .dataframe tbody tr th:only-of-type {\n",
              "        vertical-align: middle;\n",
              "    }\n",
              "\n",
              "    .dataframe tbody tr th {\n",
              "        vertical-align: top;\n",
              "    }\n",
              "\n",
              "    .dataframe thead th {\n",
              "        text-align: right;\n",
              "    }\n",
              "</style>\n",
              "<table border=\"1\" class=\"dataframe\">\n",
              "  <thead>\n",
              "    <tr style=\"text-align: right;\">\n",
              "      <th></th>\n",
              "      <th>id</th>\n",
              "      <th>age</th>\n",
              "      <th>gender</th>\n",
              "      <th>height</th>\n",
              "      <th>weight</th>\n",
              "      <th>sbp</th>\n",
              "      <th>dbp</th>\n",
              "      <th>cholesterol</th>\n",
              "      <th>glucose</th>\n",
              "      <th>smoking</th>\n",
              "      <th>alcohol</th>\n",
              "      <th>physical_active</th>\n",
              "      <th>cardio_issues</th>\n",
              "      <th>years</th>\n",
              "    </tr>\n",
              "  </thead>\n",
              "  <tbody>\n",
              "    <tr>\n",
              "      <th>0</th>\n",
              "      <td>0</td>\n",
              "      <td>18393</td>\n",
              "      <td>2</td>\n",
              "      <td>168</td>\n",
              "      <td>62.0</td>\n",
              "      <td>110</td>\n",
              "      <td>80</td>\n",
              "      <td>1</td>\n",
              "      <td>1</td>\n",
              "      <td>0</td>\n",
              "      <td>0</td>\n",
              "      <td>1</td>\n",
              "      <td>0</td>\n",
              "      <td>50</td>\n",
              "    </tr>\n",
              "    <tr>\n",
              "      <th>1</th>\n",
              "      <td>1</td>\n",
              "      <td>20228</td>\n",
              "      <td>1</td>\n",
              "      <td>156</td>\n",
              "      <td>85.0</td>\n",
              "      <td>140</td>\n",
              "      <td>90</td>\n",
              "      <td>3</td>\n",
              "      <td>1</td>\n",
              "      <td>0</td>\n",
              "      <td>0</td>\n",
              "      <td>1</td>\n",
              "      <td>1</td>\n",
              "      <td>55</td>\n",
              "    </tr>\n",
              "    <tr>\n",
              "      <th>2</th>\n",
              "      <td>2</td>\n",
              "      <td>18857</td>\n",
              "      <td>1</td>\n",
              "      <td>165</td>\n",
              "      <td>64.0</td>\n",
              "      <td>130</td>\n",
              "      <td>70</td>\n",
              "      <td>3</td>\n",
              "      <td>1</td>\n",
              "      <td>0</td>\n",
              "      <td>0</td>\n",
              "      <td>0</td>\n",
              "      <td>1</td>\n",
              "      <td>52</td>\n",
              "    </tr>\n",
              "    <tr>\n",
              "      <th>3</th>\n",
              "      <td>3</td>\n",
              "      <td>17623</td>\n",
              "      <td>2</td>\n",
              "      <td>169</td>\n",
              "      <td>82.0</td>\n",
              "      <td>150</td>\n",
              "      <td>100</td>\n",
              "      <td>1</td>\n",
              "      <td>1</td>\n",
              "      <td>0</td>\n",
              "      <td>0</td>\n",
              "      <td>1</td>\n",
              "      <td>1</td>\n",
              "      <td>48</td>\n",
              "    </tr>\n",
              "    <tr>\n",
              "      <th>4</th>\n",
              "      <td>4</td>\n",
              "      <td>17474</td>\n",
              "      <td>1</td>\n",
              "      <td>156</td>\n",
              "      <td>56.0</td>\n",
              "      <td>100</td>\n",
              "      <td>60</td>\n",
              "      <td>1</td>\n",
              "      <td>1</td>\n",
              "      <td>0</td>\n",
              "      <td>0</td>\n",
              "      <td>0</td>\n",
              "      <td>0</td>\n",
              "      <td>48</td>\n",
              "    </tr>\n",
              "    <tr>\n",
              "      <th>5</th>\n",
              "      <td>8</td>\n",
              "      <td>21914</td>\n",
              "      <td>1</td>\n",
              "      <td>151</td>\n",
              "      <td>67.0</td>\n",
              "      <td>120</td>\n",
              "      <td>80</td>\n",
              "      <td>2</td>\n",
              "      <td>2</td>\n",
              "      <td>0</td>\n",
              "      <td>0</td>\n",
              "      <td>0</td>\n",
              "      <td>0</td>\n",
              "      <td>60</td>\n",
              "    </tr>\n",
              "    <tr>\n",
              "      <th>6</th>\n",
              "      <td>9</td>\n",
              "      <td>22113</td>\n",
              "      <td>1</td>\n",
              "      <td>157</td>\n",
              "      <td>93.0</td>\n",
              "      <td>130</td>\n",
              "      <td>80</td>\n",
              "      <td>3</td>\n",
              "      <td>1</td>\n",
              "      <td>0</td>\n",
              "      <td>0</td>\n",
              "      <td>1</td>\n",
              "      <td>0</td>\n",
              "      <td>61</td>\n",
              "    </tr>\n",
              "    <tr>\n",
              "      <th>7</th>\n",
              "      <td>12</td>\n",
              "      <td>22584</td>\n",
              "      <td>2</td>\n",
              "      <td>178</td>\n",
              "      <td>95.0</td>\n",
              "      <td>130</td>\n",
              "      <td>90</td>\n",
              "      <td>3</td>\n",
              "      <td>3</td>\n",
              "      <td>0</td>\n",
              "      <td>0</td>\n",
              "      <td>1</td>\n",
              "      <td>1</td>\n",
              "      <td>62</td>\n",
              "    </tr>\n",
              "    <tr>\n",
              "      <th>8</th>\n",
              "      <td>13</td>\n",
              "      <td>17668</td>\n",
              "      <td>1</td>\n",
              "      <td>158</td>\n",
              "      <td>71.0</td>\n",
              "      <td>110</td>\n",
              "      <td>70</td>\n",
              "      <td>1</td>\n",
              "      <td>1</td>\n",
              "      <td>0</td>\n",
              "      <td>0</td>\n",
              "      <td>1</td>\n",
              "      <td>0</td>\n",
              "      <td>48</td>\n",
              "    </tr>\n",
              "    <tr>\n",
              "      <th>9</th>\n",
              "      <td>14</td>\n",
              "      <td>19834</td>\n",
              "      <td>1</td>\n",
              "      <td>164</td>\n",
              "      <td>68.0</td>\n",
              "      <td>110</td>\n",
              "      <td>60</td>\n",
              "      <td>1</td>\n",
              "      <td>1</td>\n",
              "      <td>0</td>\n",
              "      <td>0</td>\n",
              "      <td>0</td>\n",
              "      <td>0</td>\n",
              "      <td>54</td>\n",
              "    </tr>\n",
              "  </tbody>\n",
              "</table>\n",
              "</div>"
            ],
            "text/plain": [
              "   id    age  gender  height  ...  alcohol  physical_active  cardio_issues  years\n",
              "0   0  18393       2     168  ...        0                1              0     50\n",
              "1   1  20228       1     156  ...        0                1              1     55\n",
              "2   2  18857       1     165  ...        0                0              1     52\n",
              "3   3  17623       2     169  ...        0                1              1     48\n",
              "4   4  17474       1     156  ...        0                0              0     48\n",
              "5   8  21914       1     151  ...        0                0              0     60\n",
              "6   9  22113       1     157  ...        0                1              0     61\n",
              "7  12  22584       2     178  ...        0                1              1     62\n",
              "8  13  17668       1     158  ...        0                1              0     48\n",
              "9  14  19834       1     164  ...        0                0              0     54\n",
              "\n",
              "[10 rows x 14 columns]"
            ]
          },
          "metadata": {
            "tags": []
          },
          "execution_count": 29
        }
      ]
    },
    {
      "cell_type": "code",
      "metadata": {
        "colab": {
          "base_uri": "https://localhost:8080/",
          "height": 438
        },
        "id": "x9bOQtzZ0wm6",
        "outputId": "90175cc9-df25-445f-9205-73801f0595d3"
      },
      "source": [
        "cleandf_fd = generateData(cleandf_fd, 3)\r\n",
        "cleandf_fd"
      ],
      "execution_count": 30,
      "outputs": [
        {
          "output_type": "execute_result",
          "data": {
            "text/html": [
              "<div>\n",
              "<style scoped>\n",
              "    .dataframe tbody tr th:only-of-type {\n",
              "        vertical-align: middle;\n",
              "    }\n",
              "\n",
              "    .dataframe tbody tr th {\n",
              "        vertical-align: top;\n",
              "    }\n",
              "\n",
              "    .dataframe thead th {\n",
              "        text-align: right;\n",
              "    }\n",
              "</style>\n",
              "<table border=\"1\" class=\"dataframe\">\n",
              "  <thead>\n",
              "    <tr style=\"text-align: right;\">\n",
              "      <th></th>\n",
              "      <th>id</th>\n",
              "      <th>age</th>\n",
              "      <th>gender</th>\n",
              "      <th>height</th>\n",
              "      <th>weight</th>\n",
              "      <th>sbp</th>\n",
              "      <th>dbp</th>\n",
              "      <th>cholesterol</th>\n",
              "      <th>glucose</th>\n",
              "      <th>smoking</th>\n",
              "      <th>alcohol</th>\n",
              "      <th>physical_active</th>\n",
              "      <th>cardio_issues</th>\n",
              "      <th>years</th>\n",
              "    </tr>\n",
              "  </thead>\n",
              "  <tbody>\n",
              "    <tr>\n",
              "      <th>0</th>\n",
              "      <td>0</td>\n",
              "      <td>18393</td>\n",
              "      <td>2</td>\n",
              "      <td>168</td>\n",
              "      <td>62.000000</td>\n",
              "      <td>110</td>\n",
              "      <td>80</td>\n",
              "      <td>1</td>\n",
              "      <td>1</td>\n",
              "      <td>0</td>\n",
              "      <td>0</td>\n",
              "      <td>1</td>\n",
              "      <td>0</td>\n",
              "      <td>50</td>\n",
              "    </tr>\n",
              "    <tr>\n",
              "      <th>1</th>\n",
              "      <td>1</td>\n",
              "      <td>20228</td>\n",
              "      <td>1</td>\n",
              "      <td>156</td>\n",
              "      <td>85.000000</td>\n",
              "      <td>140</td>\n",
              "      <td>90</td>\n",
              "      <td>3</td>\n",
              "      <td>1</td>\n",
              "      <td>0</td>\n",
              "      <td>0</td>\n",
              "      <td>1</td>\n",
              "      <td>1</td>\n",
              "      <td>55</td>\n",
              "    </tr>\n",
              "    <tr>\n",
              "      <th>2</th>\n",
              "      <td>2</td>\n",
              "      <td>18857</td>\n",
              "      <td>1</td>\n",
              "      <td>165</td>\n",
              "      <td>64.000000</td>\n",
              "      <td>130</td>\n",
              "      <td>70</td>\n",
              "      <td>3</td>\n",
              "      <td>1</td>\n",
              "      <td>0</td>\n",
              "      <td>0</td>\n",
              "      <td>0</td>\n",
              "      <td>1</td>\n",
              "      <td>52</td>\n",
              "    </tr>\n",
              "    <tr>\n",
              "      <th>3</th>\n",
              "      <td>3</td>\n",
              "      <td>17623</td>\n",
              "      <td>2</td>\n",
              "      <td>169</td>\n",
              "      <td>82.000000</td>\n",
              "      <td>150</td>\n",
              "      <td>100</td>\n",
              "      <td>1</td>\n",
              "      <td>1</td>\n",
              "      <td>0</td>\n",
              "      <td>0</td>\n",
              "      <td>1</td>\n",
              "      <td>1</td>\n",
              "      <td>48</td>\n",
              "    </tr>\n",
              "    <tr>\n",
              "      <th>4</th>\n",
              "      <td>4</td>\n",
              "      <td>17474</td>\n",
              "      <td>1</td>\n",
              "      <td>156</td>\n",
              "      <td>56.000000</td>\n",
              "      <td>100</td>\n",
              "      <td>60</td>\n",
              "      <td>1</td>\n",
              "      <td>1</td>\n",
              "      <td>0</td>\n",
              "      <td>0</td>\n",
              "      <td>0</td>\n",
              "      <td>0</td>\n",
              "      <td>48</td>\n",
              "    </tr>\n",
              "    <tr>\n",
              "      <th>5</th>\n",
              "      <td>8</td>\n",
              "      <td>21914</td>\n",
              "      <td>1</td>\n",
              "      <td>151</td>\n",
              "      <td>67.000000</td>\n",
              "      <td>120</td>\n",
              "      <td>80</td>\n",
              "      <td>2</td>\n",
              "      <td>2</td>\n",
              "      <td>0</td>\n",
              "      <td>0</td>\n",
              "      <td>0</td>\n",
              "      <td>0</td>\n",
              "      <td>60</td>\n",
              "    </tr>\n",
              "    <tr>\n",
              "      <th>6</th>\n",
              "      <td>9</td>\n",
              "      <td>22113</td>\n",
              "      <td>1</td>\n",
              "      <td>157</td>\n",
              "      <td>93.000000</td>\n",
              "      <td>130</td>\n",
              "      <td>80</td>\n",
              "      <td>3</td>\n",
              "      <td>1</td>\n",
              "      <td>0</td>\n",
              "      <td>0</td>\n",
              "      <td>1</td>\n",
              "      <td>0</td>\n",
              "      <td>61</td>\n",
              "    </tr>\n",
              "    <tr>\n",
              "      <th>7</th>\n",
              "      <td>12</td>\n",
              "      <td>22584</td>\n",
              "      <td>2</td>\n",
              "      <td>178</td>\n",
              "      <td>95.000000</td>\n",
              "      <td>130</td>\n",
              "      <td>90</td>\n",
              "      <td>3</td>\n",
              "      <td>3</td>\n",
              "      <td>0</td>\n",
              "      <td>0</td>\n",
              "      <td>1</td>\n",
              "      <td>1</td>\n",
              "      <td>62</td>\n",
              "    </tr>\n",
              "    <tr>\n",
              "      <th>8</th>\n",
              "      <td>13</td>\n",
              "      <td>17668</td>\n",
              "      <td>1</td>\n",
              "      <td>158</td>\n",
              "      <td>71.000000</td>\n",
              "      <td>110</td>\n",
              "      <td>70</td>\n",
              "      <td>1</td>\n",
              "      <td>1</td>\n",
              "      <td>0</td>\n",
              "      <td>0</td>\n",
              "      <td>1</td>\n",
              "      <td>0</td>\n",
              "      <td>48</td>\n",
              "    </tr>\n",
              "    <tr>\n",
              "      <th>9</th>\n",
              "      <td>14</td>\n",
              "      <td>19834</td>\n",
              "      <td>1</td>\n",
              "      <td>164</td>\n",
              "      <td>68.000000</td>\n",
              "      <td>110</td>\n",
              "      <td>60</td>\n",
              "      <td>1</td>\n",
              "      <td>1</td>\n",
              "      <td>0</td>\n",
              "      <td>0</td>\n",
              "      <td>0</td>\n",
              "      <td>0</td>\n",
              "      <td>54</td>\n",
              "    </tr>\n",
              "    <tr>\n",
              "      <th>10</th>\n",
              "      <td>15</td>\n",
              "      <td>49888</td>\n",
              "      <td>1</td>\n",
              "      <td>74063</td>\n",
              "      <td>NaN</td>\n",
              "      <td>155</td>\n",
              "      <td>14779</td>\n",
              "      <td>2</td>\n",
              "      <td>3</td>\n",
              "      <td>1</td>\n",
              "      <td>23121</td>\n",
              "      <td>27999</td>\n",
              "      <td>0</td>\n",
              "      <td>99</td>\n",
              "    </tr>\n",
              "    <tr>\n",
              "      <th>11</th>\n",
              "      <td>16</td>\n",
              "      <td>10411</td>\n",
              "      <td>1</td>\n",
              "      <td>57634</td>\n",
              "      <td>14828.331927</td>\n",
              "      <td>5473</td>\n",
              "      <td>70</td>\n",
              "      <td>67060</td>\n",
              "      <td>75648</td>\n",
              "      <td>0</td>\n",
              "      <td>1</td>\n",
              "      <td>1</td>\n",
              "      <td>0</td>\n",
              "      <td>47</td>\n",
              "    </tr>\n",
              "    <tr>\n",
              "      <th>12</th>\n",
              "      <td>17</td>\n",
              "      <td>45316</td>\n",
              "      <td>1</td>\n",
              "      <td>5476</td>\n",
              "      <td>NaN</td>\n",
              "      <td>32062</td>\n",
              "      <td>37843</td>\n",
              "      <td>2</td>\n",
              "      <td>3</td>\n",
              "      <td>98020</td>\n",
              "      <td>51605</td>\n",
              "      <td>54996</td>\n",
              "      <td>1</td>\n",
              "      <td>101</td>\n",
              "    </tr>\n",
              "  </tbody>\n",
              "</table>\n",
              "</div>"
            ],
            "text/plain": [
              "    id    age  gender  height  ...  alcohol  physical_active  cardio_issues  years\n",
              "0    0  18393       2     168  ...        0                1              0     50\n",
              "1    1  20228       1     156  ...        0                1              1     55\n",
              "2    2  18857       1     165  ...        0                0              1     52\n",
              "3    3  17623       2     169  ...        0                1              1     48\n",
              "4    4  17474       1     156  ...        0                0              0     48\n",
              "5    8  21914       1     151  ...        0                0              0     60\n",
              "6    9  22113       1     157  ...        0                1              0     61\n",
              "7   12  22584       2     178  ...        0                1              1     62\n",
              "8   13  17668       1     158  ...        0                1              0     48\n",
              "9   14  19834       1     164  ...        0                0              0     54\n",
              "10  15  49888       1   74063  ...    23121            27999              0     99\n",
              "11  16  10411       1   57634  ...        1                1              0     47\n",
              "12  17  45316       1    5476  ...    51605            54996              1    101\n",
              "\n",
              "[13 rows x 14 columns]"
            ]
          },
          "metadata": {
            "tags": []
          },
          "execution_count": 30
        }
      ]
    },
    {
      "cell_type": "markdown",
      "metadata": {
        "id": "gEWRUxNa17Ka"
      },
      "source": [
        "**Second - Clean Data**"
      ]
    },
    {
      "cell_type": "code",
      "metadata": {
        "id": "C8NOt-3x_oZc"
      },
      "source": [
        "def clearErrorsFromMyData(data):\r\n",
        "  for key, value in limits.items():\r\n",
        "    data.drop(data[(data[key] > value[1]) | (data[key] < value[0])].index,inplace=True)\r\n",
        "  data.drop(data[(data['sbp'] < 0) | (data['dbp'] < 0) | (data['sbp'] < data['dbp'])].index,inplace=True)\r\n",
        "  return data"
      ],
      "execution_count": 31,
      "outputs": []
    },
    {
      "cell_type": "code",
      "metadata": {
        "id": "Gx_VXhKh1Zyy",
        "colab": {
          "base_uri": "https://localhost:8080/"
        },
        "outputId": "e8c6d65d-a7b9-48b4-de66-1e6f9788b99f"
      },
      "source": [
        "data = cleandf.copy()\r\n",
        "print(\"Before\\n {0}\".format(data))\r\n",
        "data = clearErrorsFromMyData(data)\r\n",
        "print(\"After\\n {0}\".format(data))"
      ],
      "execution_count": 32,
      "outputs": [
        {
          "output_type": "stream",
          "text": [
            "Before\n",
            "           id    age  gender  ...  physical_active  cardio_issues  years\n",
            "0          0  18393       2  ...                1              0     50\n",
            "1          1  20228       1  ...                1              1     55\n",
            "2          2  18857       1  ...                0              1     52\n",
            "3          3  17623       2  ...                1              1     48\n",
            "4          4  17474       1  ...                0              0     48\n",
            "...      ...    ...     ...  ...              ...            ...    ...\n",
            "69995  99993  19240       2  ...                1              0     53\n",
            "69996  99995  22601       1  ...                1              1     62\n",
            "69997  99996  19066       2  ...                0              1     52\n",
            "69998  99998  22431       1  ...                0              1     61\n",
            "69999  99999  20540       1  ...                1              0     56\n",
            "\n",
            "[70000 rows x 14 columns]\n",
            "After\n",
            "           id    age  gender  ...  physical_active  cardio_issues  years\n",
            "0          0  18393       2  ...                1              0     50\n",
            "1          1  20228       1  ...                1              1     55\n",
            "2          2  18857       1  ...                0              1     52\n",
            "3          3  17623       2  ...                1              1     48\n",
            "4          4  17474       1  ...                0              0     48\n",
            "...      ...    ...     ...  ...              ...            ...    ...\n",
            "69995  99993  19240       2  ...                1              0     53\n",
            "69996  99995  22601       1  ...                1              1     62\n",
            "69997  99996  19066       2  ...                0              1     52\n",
            "69998  99998  22431       1  ...                0              1     61\n",
            "69999  99999  20540       1  ...                1              0     56\n",
            "\n",
            "[68529 rows x 14 columns]\n"
          ],
          "name": "stdout"
        }
      ]
    },
    {
      "cell_type": "code",
      "metadata": {
        "colab": {
          "base_uri": "https://localhost:8080/"
        },
        "id": "iMU_cmrQcQLK",
        "outputId": "4fa72461-9992-4333-928b-d8f606e0b664"
      },
      "source": [
        "checkIfIsOutOfLimits(data)"
      ],
      "execution_count": 33,
      "outputs": [
        {
          "output_type": "stream",
          "text": [
            "Instances where age is greater or lesser than the chosen limits: Greater: 0, Lesser 0\n",
            "Instances where gender is greater or lesser than the chosen limits: Greater: 0, Lesser 0\n",
            "Instances where height is greater or lesser than the chosen limits: Greater: 0, Lesser 0\n",
            "Instances where weight is greater or lesser than the chosen limits: Greater: 0, Lesser 0\n",
            "Instances where sbp is greater or lesser than the chosen limits: Greater: 0, Lesser 0\n",
            "Instances where dbp is greater or lesser than the chosen limits: Greater: 0, Lesser 0\n",
            "Instances where cholesterol is greater or lesser than the chosen limits: Greater: 0, Lesser 0\n",
            "Instances where glucose is greater or lesser than the chosen limits: Greater: 0, Lesser 0\n",
            "Instances where smoking is greater or lesser than the chosen limits: Greater: 0, Lesser 0\n",
            "Instances where alcohol is greater or lesser than the chosen limits: Greater: 0, Lesser 0\n",
            "Instances where physical_active is greater or lesser than the chosen limits: Greater: 0, Lesser 0\n",
            "Instances where cardio_issues is greater or lesser than the chosen limits: Greater: 0, Lesser 0\n",
            "Instances where years is greater or lesser than the chosen limits: Greater: 0, Lesser 0\n"
          ],
          "name": "stdout"
        }
      ]
    },
    {
      "cell_type": "code",
      "metadata": {
        "colab": {
          "base_uri": "https://localhost:8080/",
          "height": 515
        },
        "id": "TE2EfSqrlbph",
        "outputId": "01b299e4-7c53-400d-a03c-64b226b60a09"
      },
      "source": [
        "blood_pressure = data.loc[:,['dbp','sbp']]\r\n",
        "blood_pressureMelt = blood_pressure.melt()\r\n",
        "\r\n",
        "checkDSP(data, blood_pressureMelt)"
      ],
      "execution_count": 34,
      "outputs": [
        {
          "output_type": "stream",
          "text": [
            "Diastilic pressure is higher than systolic one in 0 cases\n"
          ],
          "name": "stdout"
        },
        {
          "output_type": "display_data",
          "data": {
            "image/png": "[encoded data removed]",
            "text/plain": [
              "<Figure size 792x576 with 1 Axes>"
            ]
          },
          "metadata": {
            "tags": [],
            "needs_background": "light"
          }
        }
      ]
    },
    {
      "cell_type": "code",
      "metadata": {
        "colab": {
          "base_uri": "https://localhost:8080/",
          "height": 308
        },
        "id": "N28oGHE0l5zm",
        "outputId": "1c0e61ab-acec-4273-f747-031c4966d586"
      },
      "source": [
        "data.describe()"
      ],
      "execution_count": 35,
      "outputs": [
        {
          "output_type": "execute_result",
          "data": {
            "text/html": [
              "<div>\n",
              "<style scoped>\n",
              "    .dataframe tbody tr th:only-of-type {\n",
              "        vertical-align: middle;\n",
              "    }\n",
              "\n",
              "    .dataframe tbody tr th {\n",
              "        vertical-align: top;\n",
              "    }\n",
              "\n",
              "    .dataframe thead th {\n",
              "        text-align: right;\n",
              "    }\n",
              "</style>\n",
              "<table border=\"1\" class=\"dataframe\">\n",
              "  <thead>\n",
              "    <tr style=\"text-align: right;\">\n",
              "      <th></th>\n",
              "      <th>id</th>\n",
              "      <th>age</th>\n",
              "      <th>gender</th>\n",
              "      <th>height</th>\n",
              "      <th>weight</th>\n",
              "      <th>sbp</th>\n",
              "      <th>dbp</th>\n",
              "      <th>cholesterol</th>\n",
              "      <th>glucose</th>\n",
              "      <th>smoking</th>\n",
              "      <th>alcohol</th>\n",
              "      <th>physical_active</th>\n",
              "      <th>cardio_issues</th>\n",
              "      <th>years</th>\n",
              "    </tr>\n",
              "  </thead>\n",
              "  <tbody>\n",
              "    <tr>\n",
              "      <th>count</th>\n",
              "      <td>68529.000000</td>\n",
              "      <td>68529.000000</td>\n",
              "      <td>68529.000000</td>\n",
              "      <td>68529.000000</td>\n",
              "      <td>68529.000000</td>\n",
              "      <td>68529.000000</td>\n",
              "      <td>68529.000000</td>\n",
              "      <td>68529.000000</td>\n",
              "      <td>68529.000000</td>\n",
              "      <td>68529.000000</td>\n",
              "      <td>68529.000000</td>\n",
              "      <td>68529.000000</td>\n",
              "      <td>68529.000000</td>\n",
              "      <td>68529.000000</td>\n",
              "    </tr>\n",
              "    <tr>\n",
              "      <th>mean</th>\n",
              "      <td>49974.953538</td>\n",
              "      <td>19464.262969</td>\n",
              "      <td>1.348568</td>\n",
              "      <td>164.417283</td>\n",
              "      <td>74.116069</td>\n",
              "      <td>126.606794</td>\n",
              "      <td>81.289834</td>\n",
              "      <td>1.364459</td>\n",
              "      <td>1.225642</td>\n",
              "      <td>0.087963</td>\n",
              "      <td>0.053335</td>\n",
              "      <td>0.803324</td>\n",
              "      <td>0.494491</td>\n",
              "      <td>53.326344</td>\n",
              "    </tr>\n",
              "    <tr>\n",
              "      <th>std</th>\n",
              "      <td>28848.043430</td>\n",
              "      <td>2468.238892</td>\n",
              "      <td>0.476520</td>\n",
              "      <td>7.914021</td>\n",
              "      <td>14.279412</td>\n",
              "      <td>16.486574</td>\n",
              "      <td>9.344670</td>\n",
              "      <td>0.678796</td>\n",
              "      <td>0.571549</td>\n",
              "      <td>0.283243</td>\n",
              "      <td>0.224702</td>\n",
              "      <td>0.397488</td>\n",
              "      <td>0.499973</td>\n",
              "      <td>6.768013</td>\n",
              "    </tr>\n",
              "    <tr>\n",
              "      <th>min</th>\n",
              "      <td>0.000000</td>\n",
              "      <td>10798.000000</td>\n",
              "      <td>1.000000</td>\n",
              "      <td>120.000000</td>\n",
              "      <td>35.000000</td>\n",
              "      <td>80.000000</td>\n",
              "      <td>50.000000</td>\n",
              "      <td>1.000000</td>\n",
              "      <td>1.000000</td>\n",
              "      <td>0.000000</td>\n",
              "      <td>0.000000</td>\n",
              "      <td>0.000000</td>\n",
              "      <td>0.000000</td>\n",
              "      <td>30.000000</td>\n",
              "    </tr>\n",
              "    <tr>\n",
              "      <th>25%</th>\n",
              "      <td>25003.000000</td>\n",
              "      <td>17657.000000</td>\n",
              "      <td>1.000000</td>\n",
              "      <td>159.000000</td>\n",
              "      <td>65.000000</td>\n",
              "      <td>120.000000</td>\n",
              "      <td>80.000000</td>\n",
              "      <td>1.000000</td>\n",
              "      <td>1.000000</td>\n",
              "      <td>0.000000</td>\n",
              "      <td>0.000000</td>\n",
              "      <td>1.000000</td>\n",
              "      <td>0.000000</td>\n",
              "      <td>48.000000</td>\n",
              "    </tr>\n",
              "    <tr>\n",
              "      <th>50%</th>\n",
              "      <td>50012.000000</td>\n",
              "      <td>19701.000000</td>\n",
              "      <td>1.000000</td>\n",
              "      <td>165.000000</td>\n",
              "      <td>72.000000</td>\n",
              "      <td>120.000000</td>\n",
              "      <td>80.000000</td>\n",
              "      <td>1.000000</td>\n",
              "      <td>1.000000</td>\n",
              "      <td>0.000000</td>\n",
              "      <td>0.000000</td>\n",
              "      <td>1.000000</td>\n",
              "      <td>0.000000</td>\n",
              "      <td>54.000000</td>\n",
              "    </tr>\n",
              "    <tr>\n",
              "      <th>75%</th>\n",
              "      <td>74877.000000</td>\n",
              "      <td>21324.000000</td>\n",
              "      <td>2.000000</td>\n",
              "      <td>170.000000</td>\n",
              "      <td>82.000000</td>\n",
              "      <td>140.000000</td>\n",
              "      <td>90.000000</td>\n",
              "      <td>1.000000</td>\n",
              "      <td>1.000000</td>\n",
              "      <td>0.000000</td>\n",
              "      <td>0.000000</td>\n",
              "      <td>1.000000</td>\n",
              "      <td>1.000000</td>\n",
              "      <td>58.000000</td>\n",
              "    </tr>\n",
              "    <tr>\n",
              "      <th>max</th>\n",
              "      <td>99999.000000</td>\n",
              "      <td>23713.000000</td>\n",
              "      <td>2.000000</td>\n",
              "      <td>250.000000</td>\n",
              "      <td>200.000000</td>\n",
              "      <td>200.000000</td>\n",
              "      <td>150.000000</td>\n",
              "      <td>3.000000</td>\n",
              "      <td>3.000000</td>\n",
              "      <td>1.000000</td>\n",
              "      <td>1.000000</td>\n",
              "      <td>1.000000</td>\n",
              "      <td>1.000000</td>\n",
              "      <td>65.000000</td>\n",
              "    </tr>\n",
              "  </tbody>\n",
              "</table>\n",
              "</div>"
            ],
            "text/plain": [
              "                 id           age  ...  cardio_issues         years\n",
              "count  68529.000000  68529.000000  ...   68529.000000  68529.000000\n",
              "mean   49974.953538  19464.262969  ...       0.494491     53.326344\n",
              "std    28848.043430   2468.238892  ...       0.499973      6.768013\n",
              "min        0.000000  10798.000000  ...       0.000000     30.000000\n",
              "25%    25003.000000  17657.000000  ...       0.000000     48.000000\n",
              "50%    50012.000000  19701.000000  ...       0.000000     54.000000\n",
              "75%    74877.000000  21324.000000  ...       1.000000     58.000000\n",
              "max    99999.000000  23713.000000  ...       1.000000     65.000000\n",
              "\n",
              "[8 rows x 14 columns]"
            ]
          },
          "metadata": {
            "tags": []
          },
          "execution_count": 35
        }
      ]
    },
    {
      "cell_type": "markdown",
      "metadata": {
        "id": "OKQXpqFiA9Lm"
      },
      "source": [
        "# RA"
      ]
    },
    {
      "cell_type": "markdown",
      "metadata": {
        "id": "tU9scnXU1jQx"
      },
      "source": [
        "Numarul total de persoane, separate dupa gen.\r\n",
        "\r\n",
        "---"
      ]
    },
    {
      "cell_type": "code",
      "metadata": {
        "colab": {
          "base_uri": "https://localhost:8080/"
        },
        "id": "zZhR-lWN04j1",
        "outputId": "7821100b-3d04-4208-d0d1-5dd98e5b2a9e"
      },
      "source": [
        "df['gender'].value_counts()"
      ],
      "execution_count": 37,
      "outputs": [
        {
          "output_type": "execute_result",
          "data": {
            "text/plain": [
              "1    45530\n",
              "2    24470\n",
              "Name: gender, dtype: int64"
            ]
          },
          "metadata": {
            "tags": []
          },
          "execution_count": 37
        }
      ]
    },
    {
      "cell_type": "markdown",
      "metadata": {
        "id": "l_PbC55utS3m"
      },
      "source": [
        "  Pentru a afla daca valoarea 1 din coloana 'gender' reprezinta genul feminin sau masculin vom calcula inaltimea medie a celor doua genuri. De asemenea, vom tine cont de presupunerea ca, in medie, inaltimea barbatilor este mai mare decat cea a femeilor."
      ]
    },
    {
      "cell_type": "code",
      "metadata": {
        "id": "nMBSHPOrmKi9",
        "colab": {
          "base_uri": "https://localhost:8080/"
        },
        "outputId": "1efae19d-3387-41b0-ef82-37f22d2dea30"
      },
      "source": [
        "df.groupby('gender')['height'].mean()"
      ],
      "execution_count": 38,
      "outputs": [
        {
          "output_type": "execute_result",
          "data": {
            "text/plain": [
              "gender\n",
              "1    161.355612\n",
              "2    169.947895\n",
              "Name: height, dtype: float64"
            ]
          },
          "metadata": {
            "tags": []
          },
          "execution_count": 38
        }
      ]
    },
    {
      "cell_type": "markdown",
      "metadata": {
        "id": "h4b81fAdwKQl"
      },
      "source": [
        "Am extras submultimea formata din coloanele 'gender' si 'height', unde 'gender' are rol de index si 'height' este valoarea acesteia. Pentru a obtine valoarea medie a inaltimii, am aplicat functia mean() asupra submultimii obtinute.                                  \r\n",
        "Din rezultatul obtinut si tinand cont de presupunerea mentionata anterior, putem presupune ca valoarea 1 din coloana 'gender' reprezinta genul feminin, deoarece valoarea media a acesteia este mai mica decat cea a valorii 2."
      ]
    },
    {
      "cell_type": "markdown",
      "metadata": {
        "id": "HQtvqQbR7lid"
      },
      "source": [
        "Diferite statistici in functie de gen\r\n",
        "\r\n",
        "---"
      ]
    },
    {
      "cell_type": "code",
      "metadata": {
        "colab": {
          "base_uri": "https://localhost:8080/",
          "height": 396
        },
        "id": "Z9ON2KRjHJNV",
        "outputId": "6bbdc755-91d0-40dc-9897-679d3fcadd75"
      },
      "source": [
        "gender_stats = df.groupby('gender')['alco','smoke','gluc','cholesterol']\r\n",
        "gender_stats.mean()"
      ],
      "execution_count": 39,
      "outputs": [
        {
          "output_type": "stream",
          "text": [
            "/usr/local/lib/python3.7/dist-packages/ipykernel_launcher.py:1: FutureWarning: Indexing with multiple keys (implicitly converted to a tuple of keys) will be deprecated, use a list instead.\n",
            "  \"\"\"Entry point for launching an IPython kernel.\n"
          ],
          "name": "stderr"
        },
        {
          "output_type": "error",
          "ename": "KeyError",
          "evalue": "ignored",
          "traceback": [
            "\u001b[0;31m---------------------------------------------------------------------------\u001b[0m",
            "\u001b[0;31mKeyError\u001b[0m                                  Traceback (most recent call last)",
            "\u001b[0;32m<ipython-input-39-746a55bebe3f>\u001b[0m in \u001b[0;36m<module>\u001b[0;34m()\u001b[0m\n\u001b[0;32m----> 1\u001b[0;31m \u001b[0mgender_stats\u001b[0m \u001b[0;34m=\u001b[0m \u001b[0mdf\u001b[0m\u001b[0;34m.\u001b[0m\u001b[0mgroupby\u001b[0m\u001b[0;34m(\u001b[0m\u001b[0;34m'gender'\u001b[0m\u001b[0;34m)\u001b[0m\u001b[0;34m[\u001b[0m\u001b[0;34m'alco'\u001b[0m\u001b[0;34m,\u001b[0m\u001b[0;34m'smoke'\u001b[0m\u001b[0;34m,\u001b[0m\u001b[0;34m'gluc'\u001b[0m\u001b[0;34m,\u001b[0m\u001b[0;34m'cholesterol'\u001b[0m\u001b[0;34m]\u001b[0m\u001b[0;34m\u001b[0m\u001b[0;34m\u001b[0m\u001b[0m\n\u001b[0m\u001b[1;32m      2\u001b[0m \u001b[0mgender_stats\u001b[0m\u001b[0;34m.\u001b[0m\u001b[0mmean\u001b[0m\u001b[0;34m(\u001b[0m\u001b[0;34m)\u001b[0m\u001b[0;34m\u001b[0m\u001b[0;34m\u001b[0m\u001b[0m\n",
            "\u001b[0;32m/usr/local/lib/python3.7/dist-packages/pandas/core/groupby/generic.py\u001b[0m in \u001b[0;36m__getitem__\u001b[0;34m(self, key)\u001b[0m\n\u001b[1;32m   1608\u001b[0m                 \u001b[0mstacklevel\u001b[0m\u001b[0;34m=\u001b[0m\u001b[0;36m2\u001b[0m\u001b[0;34m,\u001b[0m\u001b[0;34m\u001b[0m\u001b[0;34m\u001b[0m\u001b[0m\n\u001b[1;32m   1609\u001b[0m             )\n\u001b[0;32m-> 1610\u001b[0;31m         \u001b[0;32mreturn\u001b[0m \u001b[0msuper\u001b[0m\u001b[0;34m(\u001b[0m\u001b[0;34m)\u001b[0m\u001b[0;34m.\u001b[0m\u001b[0m__getitem__\u001b[0m\u001b[0;34m(\u001b[0m\u001b[0mkey\u001b[0m\u001b[0;34m)\u001b[0m\u001b[0;34m\u001b[0m\u001b[0;34m\u001b[0m\u001b[0m\n\u001b[0m\u001b[1;32m   1611\u001b[0m \u001b[0;34m\u001b[0m\u001b[0m\n\u001b[1;32m   1612\u001b[0m     \u001b[0;32mdef\u001b[0m \u001b[0m_gotitem\u001b[0m\u001b[0;34m(\u001b[0m\u001b[0mself\u001b[0m\u001b[0;34m,\u001b[0m \u001b[0mkey\u001b[0m\u001b[0;34m,\u001b[0m \u001b[0mndim\u001b[0m\u001b[0;34m:\u001b[0m \u001b[0mint\u001b[0m\u001b[0;34m,\u001b[0m \u001b[0msubset\u001b[0m\u001b[0;34m=\u001b[0m\u001b[0;32mNone\u001b[0m\u001b[0;34m)\u001b[0m\u001b[0;34m:\u001b[0m\u001b[0;34m\u001b[0m\u001b[0;34m\u001b[0m\u001b[0m\n",
            "\u001b[0;32m/usr/local/lib/python3.7/dist-packages/pandas/core/base.py\u001b[0m in \u001b[0;36m__getitem__\u001b[0;34m(self, key)\u001b[0m\n\u001b[1;32m    216\u001b[0m             \u001b[0;32mif\u001b[0m \u001b[0mlen\u001b[0m\u001b[0;34m(\u001b[0m\u001b[0mself\u001b[0m\u001b[0;34m.\u001b[0m\u001b[0mobj\u001b[0m\u001b[0;34m.\u001b[0m\u001b[0mcolumns\u001b[0m\u001b[0;34m.\u001b[0m\u001b[0mintersection\u001b[0m\u001b[0;34m(\u001b[0m\u001b[0mkey\u001b[0m\u001b[0;34m)\u001b[0m\u001b[0;34m)\u001b[0m \u001b[0;34m!=\u001b[0m \u001b[0mlen\u001b[0m\u001b[0;34m(\u001b[0m\u001b[0mkey\u001b[0m\u001b[0;34m)\u001b[0m\u001b[0;34m:\u001b[0m\u001b[0;34m\u001b[0m\u001b[0;34m\u001b[0m\u001b[0m\n\u001b[1;32m    217\u001b[0m                 \u001b[0mbad_keys\u001b[0m \u001b[0;34m=\u001b[0m \u001b[0mlist\u001b[0m\u001b[0;34m(\u001b[0m\u001b[0mset\u001b[0m\u001b[0;34m(\u001b[0m\u001b[0mkey\u001b[0m\u001b[0;34m)\u001b[0m\u001b[0;34m.\u001b[0m\u001b[0mdifference\u001b[0m\u001b[0;34m(\u001b[0m\u001b[0mself\u001b[0m\u001b[0;34m.\u001b[0m\u001b[0mobj\u001b[0m\u001b[0;34m.\u001b[0m\u001b[0mcolumns\u001b[0m\u001b[0;34m)\u001b[0m\u001b[0;34m)\u001b[0m\u001b[0;34m\u001b[0m\u001b[0;34m\u001b[0m\u001b[0m\n\u001b[0;32m--> 218\u001b[0;31m                 \u001b[0;32mraise\u001b[0m \u001b[0mKeyError\u001b[0m\u001b[0;34m(\u001b[0m\u001b[0;34mf\"Columns not found: {str(bad_keys)[1:-1]}\"\u001b[0m\u001b[0;34m)\u001b[0m\u001b[0;34m\u001b[0m\u001b[0;34m\u001b[0m\u001b[0m\n\u001b[0m\u001b[1;32m    219\u001b[0m             \u001b[0;32mreturn\u001b[0m \u001b[0mself\u001b[0m\u001b[0;34m.\u001b[0m\u001b[0m_gotitem\u001b[0m\u001b[0;34m(\u001b[0m\u001b[0mlist\u001b[0m\u001b[0;34m(\u001b[0m\u001b[0mkey\u001b[0m\u001b[0;34m)\u001b[0m\u001b[0;34m,\u001b[0m \u001b[0mndim\u001b[0m\u001b[0;34m=\u001b[0m\u001b[0;36m2\u001b[0m\u001b[0;34m)\u001b[0m\u001b[0;34m\u001b[0m\u001b[0;34m\u001b[0m\u001b[0m\n\u001b[1;32m    220\u001b[0m \u001b[0;34m\u001b[0m\u001b[0m\n",
            "\u001b[0;31mKeyError\u001b[0m: \"Columns not found: 'alco', 'smoke', 'gluc'\""
          ]
        }
      ]
    },
    {
      "cell_type": "code",
      "metadata": {
        "id": "8XwWVSuiIB0n"
      },
      "source": [
        "gender_stats.mean().plot()"
      ],
      "execution_count": null,
      "outputs": []
    },
    {
      "cell_type": "code",
      "metadata": {
        "id": "pR_2HZLlLAWy"
      },
      "source": [
        "gender_stats.filter(lambda x: x['alco'].mean() > x['smoke'].mean())"
      ],
      "execution_count": null,
      "outputs": []
    },
    {
      "cell_type": "code",
      "metadata": {
        "id": "iIDlo2HdKLNr"
      },
      "source": [
        "gender_stats.agg({'alco': 'std', 'smoke': 'std','gluc':'std','cholesterol':'std'})"
      ],
      "execution_count": null,
      "outputs": []
    },
    {
      "cell_type": "markdown",
      "metadata": {
        "id": "Mja3qLG2RXqs"
      },
      "source": [
        "\r\n",
        "Persoane cu boli cardiace, pe grupe de varsta\r\n",
        "\r\n",
        "---\r\n",
        "\r\n"
      ]
    },
    {
      "cell_type": "code",
      "metadata": {
        "id": "HvmVsJLjcJQC"
      },
      "source": [
        "df.groupby('gender')['age'].min()/365"
      ],
      "execution_count": null,
      "outputs": []
    },
    {
      "cell_type": "code",
      "metadata": {
        "id": "cmeLJX87cfYh"
      },
      "source": [
        "df.groupby('gender')['age'].max()/365"
      ],
      "execution_count": null,
      "outputs": []
    },
    {
      "cell_type": "markdown",
      "metadata": {
        "id": "aaiW8OHp0W3_"
      },
      "source": [
        "Deoarece am grupat coloana 'age' dupa gen, am aflat valoarea minima si maxima de varsta. Folosind aceasta informatie, am stabilit ca valoare coloanei 'age' va fi cuprinsa intre 29 si 64 de ani."
      ]
    },
    {
      "cell_type": "code",
      "metadata": {
        "id": "3wewW2zwRnkF"
      },
      "source": [
        "def age_func(x):\r\n",
        "  if (x < 30.0) & (x >= 20.0):\r\n",
        "    return '20s'\r\n",
        "  elif (x < 40.0) & (x >= 30.0):\r\n",
        "    return '30s'\r\n",
        "  elif (x < 50.0) & (x >= 40.0):\r\n",
        "    return '40s'\r\n",
        "  elif (x < 60.0) & (x >= 50.0):\r\n",
        "    return '50s'\r\n",
        "  elif (x < 70.0) & (x >= 60.0):\r\n",
        "    return '60s'\r\n"
      ],
      "execution_count": null,
      "outputs": []
    },
    {
      "cell_type": "markdown",
      "metadata": {
        "id": "9oSx4YvA8w1o"
      },
      "source": [
        "Am definit functia age_func(), care va ajuta la stabilirea categoriei de varsta. Categoriile de varsta sunt: \r\n",
        "* 20s (varsta cuprinsa intre 20 -> 29 de ani)\r\n",
        "* 30s (varsta cuprinsa intre 30 -> 39 de ani)\r\n",
        "* 40s (varsta cuprinsa intre 40 -> 49 de ani)\r\n",
        "* 50s (varsta cuprinsa intre 50 -> 59 de ani)\r\n",
        "* 60s (varsta cuprinsa intre 60 -> 69 de ani)"
      ]
    },
    {
      "cell_type": "code",
      "metadata": {
        "id": "poi1ughK4SRt"
      },
      "source": [
        "ages = [] \r\n",
        "#print(len(ages))\r\n",
        "for i, j in df['age'].iteritems():\r\n",
        "    ages.append(age_func(df['age'][i]/365))\r\n",
        "#print(ages)\r\n",
        "df['age_cat']=ages"
      ],
      "execution_count": null,
      "outputs": []
    },
    {
      "cell_type": "markdown",
      "metadata": {
        "id": "l-G5IFQ2F8hh"
      },
      "source": [
        "In lista ages am salvat categoriile de varsta pentru fiecare intrare din coloana 'age', dupa care am atribuit valorile din lista noii coloane 'age_cat'."
      ]
    },
    {
      "cell_type": "code",
      "metadata": {
        "id": "ciE3J-ZzbqJP"
      },
      "source": [
        "tb1 = df.pivot_table(values='id',index='age_cat',columns='cardio', aggfunc=len, fill_value=0)\r\n",
        "tb1"
      ],
      "execution_count": null,
      "outputs": []
    },
    {
      "cell_type": "markdown",
      "metadata": {
        "id": "odO6a35mNTgi"
      },
      "source": [
        "Prin folosirea functiei pivot_table, am creat tabelul pivot ce evidentiaza numarul de persoane cardiace pe grupe de varsta. "
      ]
    },
    {
      "cell_type": "code",
      "metadata": {
        "id": "UAnw3t0UePq8"
      },
      "source": [
        "tb1.plot(xlabel=\"Age Categories\", ylabel=\"Number of Cases\")"
      ],
      "execution_count": null,
      "outputs": []
    },
    {
      "cell_type": "markdown",
      "metadata": {
        "id": "ddeFOrbLBgp3"
      },
      "source": [
        "Persoane cu tensiunea normala, pe categorii de varsta\r\n",
        "\r\n",
        "---"
      ]
    },
    {
      "cell_type": "code",
      "metadata": {
        "id": "bnG-klRl4Yxi"
      },
      "source": [
        "#df[(df.v3 == some_value) & (df.v4 == some_value)].pivot_table(index='v1', columns='A', values='v3', aggfunc='count')\r\n",
        "tb2 = df[((df.ap_hi >= 120) & (df.ap_hi <= 121) & (df.ap_lo >= 79) & (df.ap_lo <= 80) & (df['age_cat'] == '20s')) |\r\n",
        "   ((df.ap_hi >= 122) & (df.ap_hi <= 123) & (df.ap_lo >= 81) & (df.ap_lo <= 82) & (df['age_cat'] == '30s')) |\r\n",
        "   ((df.ap_hi >= 124) & (df.ap_hi <= 127) & (df.ap_lo >= 83) & (df.ap_lo <= 84) & (df['age_cat'] == '40s')) |\r\n",
        "   ((df.ap_hi >= 128) & (df.ap_hi <= 131) & (df.ap_lo >= 85) & (df.ap_lo <= 86) & (df['age_cat'] == '50s')) |\r\n",
        "   ((df.ap_hi >= 132) & (df.ap_hi <= 134) & (df.ap_lo >= 87) & (df.ap_lo <= 88) & (df['age_cat'] == '60s'))\r\n",
        "   ].pivot_table(values=['ap_hi',\t'ap_lo',\t'alco','smoke','gluc','cholesterol','active','cardio'],index='age_cat', aggfunc='mean') \r\n",
        "tb2\r\n"
      ],
      "execution_count": null,
      "outputs": []
    },
    {
      "cell_type": "markdown",
      "metadata": {
        "id": "k0qofMgkCrKl"
      },
      "source": [
        "# OI"
      ]
    },
    {
      "cell_type": "code",
      "metadata": {
        "id": "6U3KU14_C4t0"
      },
      "source": [
        "\r\n"
      ],
      "execution_count": null,
      "outputs": []
    },
    {
      "cell_type": "code",
      "metadata": {
        "colab": {
          "base_uri": "https://localhost:8080/",
          "height": 497
        },
        "id": "8jii4xL-p-Og",
        "outputId": "a2f4c80a-711a-4fff-91b8-7eb898779837"
      },
      "source": [
        "from matplotlib import rcParams\r\n",
        "rcParams['figure.figsize'] = 11, 8\r\n",
        "sns.countplot(x='gender', hue='cholesterol', data = data, palette=\"Set1\");"
      ],
      "execution_count": 36,
      "outputs": [
        {
          "output_type": "display_data",
          "data": {
            "image/png": "[encoded data removed]",
            "text/plain": [
              "<Figure size 792x576 with 1 Axes>"
            ]
          },
          "metadata": {
            "tags": [],
            "needs_background": "light"
          }
        }
      ]
    },
    {
      "cell_type": "code",
      "metadata": {
        "id": "cPCRNpfHEmut",
        "outputId": "653f6021-d48e-4364-a821-08bd30d7fc23",
        "colab": {
          "base_uri": "https://localhost:8080/",
          "height": 572
        }
      },
      "source": [
        "sns.kdeplot(df['years'],df['cholesterol'],shade =True)"
      ],
      "execution_count": 40,
      "outputs": [
        {
          "output_type": "stream",
          "text": [
            "/usr/local/lib/python3.7/dist-packages/seaborn/_decorators.py:43: FutureWarning: Pass the following variable as a keyword arg: y. From version 0.12, the only valid positional argument will be `data`, and passing other arguments without an explicit keyword will result in an error or misinterpretation.\n",
            "  FutureWarning\n"
          ],
          "name": "stderr"
        },
        {
          "output_type": "execute_result",
          "data": {
            "text/plain": [
              "<matplotlib.axes._subplots.AxesSubplot at 0x7fb213cf1b90>"
            ]
          },
          "metadata": {
            "tags": []
          },
          "execution_count": 40
        },
        {
          "output_type": "display_data",
          "data": {
            "image/png": "[encoded data removed]",
            "text/plain": [
              "<Figure size 792x576 with 1 Axes>"
            ]
          },
          "metadata": {
            "tags": [],
            "needs_background": "light"
          }
        }
      ]
    },
    {
      "cell_type": "code",
      "metadata": {
        "id": "3A7kpCuSE1g1",
        "outputId": "0cf87a6d-5375-4970-c7ae-843cbbdcd0de",
        "colab": {
          "base_uri": "https://localhost:8080/",
          "height": 497
        }
      },
      "source": [
        "sns.countplot(x='years', hue='cardio_issues', data = df, palette=\"Set2\");"
      ],
      "execution_count": 41,
      "outputs": [
        {
          "output_type": "display_data",
          "data": {
            "image/png": "[encoded data removed]",
            "text/plain": [
              "<Figure size 792x576 with 1 Axes>"
            ]
          },
          "metadata": {
            "tags": [],
            "needs_background": "light"
          }
        }
      ]
    },
    {
      "cell_type": "code",
      "metadata": {
        "id": "ah0EVDSTFHaz",
        "outputId": "df57fa08-ccea-4703-bcbc-b7d894fcd0de",
        "colab": {
          "base_uri": "https://localhost:8080/",
          "height": 612
        }
      },
      "source": [
        "\r\n",
        "model =lr(copy_X=True, fit_intercept=True, normalize=False)\r\n",
        "X = data['years'][:, None]\r\n",
        "y = data['age']\r\n",
        "\r\n",
        "temp =model.fit(X,y)\r\n",
        "print(temp.score(X,y))\r\n",
        "print(model.coef_)\r\n",
        "print(model.intercept_)\r\n",
        "z= model.predict(X)\r\n",
        "\r\n",
        "plt.scatter(X,y)\r\n",
        "plt.plot(X,z,color='red')"
      ],
      "execution_count": 43,
      "outputs": [
        {
          "output_type": "stream",
          "text": [
            "0.9981815529798129\n",
            "[364.36006497]\n",
            "34.27295307754321\n"
          ],
          "name": "stdout"
        },
        {
          "output_type": "stream",
          "text": [
            "/usr/local/lib/python3.7/dist-packages/ipykernel_launcher.py:3: FutureWarning: Support for multi-dimensional indexing (e.g. `obj[:, None]`) is deprecated and will be removed in a future version.  Convert to a numpy array before indexing instead.\n",
            "  This is separate from the ipykernel package so we can avoid doing imports until\n"
          ],
          "name": "stderr"
        },
        {
          "output_type": "execute_result",
          "data": {
            "text/plain": [
              "[<matplotlib.lines.Line2D at 0x7fb214397550>]"
            ]
          },
          "metadata": {
            "tags": []
          },
          "execution_count": 43
        },
        {
          "output_type": "display_data",
          "data": {
            "image/png": "[encoded data removed]",
            "text/plain": [
              "<Figure size 792x576 with 1 Axes>"
            ]
          },
          "metadata": {
            "tags": [],
            "needs_background": "light"
          }
        }
      ]
    },
    {
      "cell_type": "code",
      "metadata": {
        "id": "jbEr4KeQFciM",
        "outputId": "5365d989-a9b2-4dd4-8bef-a20eb45a09e9",
        "colab": {
          "base_uri": "https://localhost:8080/",
          "height": 604
        }
      },
      "source": [
        "corr = data.corr()\r\n",
        "cmap = sns.diverging_palette(220,221, as_cmap=True)\r\n",
        "f, ax = plt.subplots(figsize=(11, 9))\r\n",
        "sns.heatmap(corr, cmap=cmap, vmax=.3, center=0,annot = True,\r\n",
        "            square=False, linewidths=.75, cbar_kws={\"shrink\": .75});"
      ],
      "execution_count": 45,
      "outputs": [
        {
          "output_type": "display_data",
          "data": {
            "image/png": "[encoded data removed]",
            "text/plain": [
              "<Figure size 792x648 with 2 Axes>"
            ]
          },
          "metadata": {
            "tags": [],
            "needs_background": "light"
          }
        }
      ]
    },
    {
      "cell_type": "markdown",
      "metadata": {
        "id": "RcGX293LFzTE"
      },
      "source": [
        "Se pot observa mai multe corelatii dupa cum urmeaza : Cea mai mare fiind dintre ani si varsta ( cu o valoare de 1 este o regresie liniara perfecta fiind vorba despre acelai lucru scris sub o alta forma, dar aceasta nu poate fi luata in considerare, fiind un lucru evident.\r\n",
        "\r\n",
        "Urmatoarea corelatie ca importanta este Presinua sistolica cu presiunea diastolica ( Indice de corelatie = 0.7 -> corelatie puternica ) Acest lucru rezulta din faptul ca sunt masuratori ale inimilor pacientilor, iar acestea ar trebui sa ai o legatura destul de puternica de cele mai multe ori\r\n",
        "\r\n",
        "De mentionat mai sunt si corelatiile glucoza cu colesterol, de unde rezulta o legatura slaba, dar prezenta intre cele doua valori\r\n",
        "\r\n",
        "Alte si mai slabe dar de urmarit sunt cele care depasesc valoarea de 0.2, dar nu merita atentie suplimentara."
      ]
    },
    {
      "cell_type": "code",
      "metadata": {
        "id": "uWYRIQkQF2Pz",
        "outputId": "7cfc6d23-0fa8-46f3-ecf7-d8803ef1fa69",
        "colab": {
          "base_uri": "https://localhost:8080/",
          "height": 775
        }
      },
      "source": [
        "model =lr(copy_X=True, fit_intercept=True, normalize=False)\r\n",
        "model2 =lr(copy_X=True, fit_intercept=True, normalize=False)\r\n",
        "X = data['sbp'][:, None]\r\n",
        "y = data['dbp']\r\n",
        "\r\n",
        "X2 = df['sbp'][:, None]\r\n",
        "y2 = df['dbp']\r\n",
        "print(\"---------------------------------------------------------------\");\r\n",
        "print(\"Filtered Data:\")\r\n",
        "temp =model.fit(X,y)\r\n",
        "print(temp.score(X,y))\r\n",
        "print(model.coef_)\r\n",
        "print(model.intercept_)\r\n",
        "\r\n",
        "print(\"---------------------------------------------------------------\");\r\n",
        "print(\"Unfiltered Data:\")\r\n",
        "temp2 =model2.fit(X2,y2)\r\n",
        "print(temp2.score(X2,y2))\r\n",
        "print(model2.coef_)\r\n",
        "print(model2.intercept_)\r\n",
        "\r\n",
        "\r\n",
        "z= model.predict(X)\r\n",
        "\r\n",
        "\r\n",
        "plt.scatter(X,y)\r\n",
        "plt.plot(X,z,color='red')\r\n"
      ],
      "execution_count": 55,
      "outputs": [
        {
          "output_type": "stream",
          "text": [
            "---------------------------------------------------------------\n",
            "Filtered Data:\n",
            "0.5378710920241931\n",
            "[0.41569296]\n",
            "28.66028009877361\n",
            "---------------------------------------------------------------\n",
            "Unfiltered Data:\n",
            "0.0002587437414518501\n",
            "[0.01968476]\n",
            "94.09467728135569\n"
          ],
          "name": "stdout"
        },
        {
          "output_type": "stream",
          "text": [
            "/usr/local/lib/python3.7/dist-packages/ipykernel_launcher.py:3: FutureWarning: Support for multi-dimensional indexing (e.g. `obj[:, None]`) is deprecated and will be removed in a future version.  Convert to a numpy array before indexing instead.\n",
            "  This is separate from the ipykernel package so we can avoid doing imports until\n",
            "/usr/local/lib/python3.7/dist-packages/ipykernel_launcher.py:6: FutureWarning: Support for multi-dimensional indexing (e.g. `obj[:, None]`) is deprecated and will be removed in a future version.  Convert to a numpy array before indexing instead.\n",
            "  \n"
          ],
          "name": "stderr"
        },
        {
          "output_type": "execute_result",
          "data": {
            "text/plain": [
              "[<matplotlib.lines.Line2D at 0x7fb203542550>]"
            ]
          },
          "metadata": {
            "tags": []
          },
          "execution_count": 55
        },
        {
          "output_type": "display_data",
          "data": {
            "image/png": "[encoded data removed]",
            "text/plain": [
              "<Figure size 792x576 with 1 Axes>"
            ]
          },
          "metadata": {
            "tags": [],
            "needs_background": "light"
          }
        }
      ]
    },
    {
      "cell_type": "markdown",
      "metadata": {
        "id": "12rE6BtxIsdE"
      },
      "source": [
        "Se poate observa fara nici o alta explicatie rezultatul filtrarii datelor care au fost filtrate alaturi de cele nefiltrate, factor de corelatie de 2600 ori mai mare."
      ]
    }
  ]
}