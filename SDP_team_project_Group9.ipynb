{
  "nbformat": 4,
  "nbformat_minor": 0,
  "metadata": {
    "colab": {
      "name": "SDP_team_project_Group9.ipynb",
      "provenance": [],
      "include_colab_link": true
    },
    "kernelspec": {
      "name": "python3",
      "display_name": "Python 3"
    }
  },
  "cells": [
    {
      "cell_type": "markdown",
      "metadata": {
        "id": "view-in-github",
        "colab_type": "text"
      },
      "source": [
        "<a href=\"https://colab.research.google.com/github/bojiix/RAM-OSI-BAN-AI/blob/master/SDP_team_project_Group9.ipynb\" target=\"_parent\"><img src=\"https://colab.research.google.com/assets/colab-badge.svg\" alt=\"Open In Colab\"/></a>"
      ]
    },
    {
      "cell_type": "markdown",
      "metadata": {
        "id": "tdDrvOBgBHDi"
      },
      "source": [
        "**Imports And Read Data**"
      ]
    },
    {
      "cell_type": "code",
      "metadata": {
        "id": "tvb-meWRBC-L"
      },
      "source": [
        "import numpy as np # linear algebra\r\n",
        "import pandas as pd # data processing, CSV file I/O (e.g. pd.read_csv)\r\n",
        "import seaborn as sns\r\n",
        "from matplotlib import pyplot as plt\r\n",
        "from matplotlib import rcParams\r\n",
        "import os\r\n",
        "import random"
      ],
      "execution_count": 1,
      "outputs": []
    },
    {
      "cell_type": "code",
      "metadata": {
        "id": "v1vKTRDjBRBK"
      },
      "source": [
        "df = pd.read_csv(\"https://raw.githubusercontent.com/bojiix/RAM-OSI-BAN-AI/bojan/cardio_train.csv\", sep=\";\") # citirea bazei de date; separarea in functie de ;"
      ],
      "execution_count": 2,
      "outputs": []
    },
    {
      "cell_type": "markdown",
      "metadata": {
        "id": "Tor1YTNxDEui"
      },
      "source": [
        "**First - Analyze Data**"
      ]
    },
    {
      "cell_type": "markdown",
      "metadata": {
        "id": "BxcpJYeXFGE7"
      },
      "source": [
        "https://www.kaggle.com/sulianova/eda-cardiovascular-data\r\n",
        "\r\n",
        "The source offers a dataset of 70k entries and described all of the data as being of 3 types:\r\n",
        "  - objective: factual information;\r\n",
        "  - examination: results of medical examination;\r\n",
        "  - subjective: information given by the patient.\r\n",
        "\r\n",
        "Firstly, we'll take a look at every data's type and limits. We have:\r\n",
        "\r\n",
        "Age(Objective) - measured in days(int)\r\n",
        "\r\n",
        "Height(Objective) - measured in cm(int)\r\n",
        "\r\n",
        "Weight(Objective) - measured in kg(float)\r\n",
        "\r\n",
        "Gender(Objective) - categorical(1 - female, 2 - male)\r\n",
        "\r\n",
        "---\r\n",
        "\r\n",
        "Systolic blood pressure(Examination) - measured in mmHg(int)\r\n",
        "\r\n",
        "Diastolic blood pressure(Examination) -\tmeasured in mmHg(int)\r\n",
        "\r\n",
        "Cholesterol(Examination) - has 3 numerical represented stages:\t1 - normal, 2 - above normal, 3 - well above normal\r\n",
        "\r\n",
        "Glucose(Examination) - has also 3 numerical represented stages: 1 - normal, 2 - above normal, 3 - well above normal\r\n",
        "\r\n",
        "---\r\n",
        "\r\n",
        "Smoking(Subjective)\t- binary: 0 - no, 1 - yes\r\n",
        "\r\n",
        "Alcohol intake(Subjective) - binary: 0 - no, 1 - yes\r\n",
        "\r\n",
        "Physical activity(Subjective) - binary: 0 - no, 1 - yes\r\n",
        "\r\n",
        "---\r\n",
        "\r\n",
        "Presence or absence of cardiovascular disease(the target aspect) - binary: 0 - ok, 1 - not ok\r\n",
        "\r\n",
        "---\r\n",
        "\r\n",
        "All of this data will be arranged as columns:\r\n",
        "\r\n",
        "Age - age\r\n",
        "\r\n",
        "Height - height\r\n",
        "\r\n",
        "Weight - weight\r\n",
        "\r\n",
        "Gender - gender\r\n",
        "\r\n",
        "Systolic blood pressure - sbp\r\n",
        "\r\n",
        "Diastolic blood pressure - dbp\r\n",
        "\r\n",
        "Cholesterol - cholesterol\r\n",
        "\r\n",
        "Glucose - glucose\r\n",
        "\r\n",
        "Smoking - smoking\r\n",
        "\r\n",
        "Alcohol intake - alcohol\r\n",
        "\r\n",
        "Physical activity - physical_active\r\n",
        "\r\n",
        "Presence or absence of cardiovascular disease - cardio_issues\r\n",
        "\r\n",
        "We also added another column called 'years' that also represents the age of the subject."
      ]
    },
    {
      "cell_type": "code",
      "metadata": {
        "colab": {
          "base_uri": "https://localhost:8080/",
          "height": 402
        },
        "id": "cHZg9eSaB367",
        "outputId": "866ebd1b-164a-4120-f0e9-158d38e0e350"
      },
      "source": [
        "df['years'] = (df['age'] / 365).round().astype('int') # added age in years\r\n",
        "df #preview data"
      ],
      "execution_count": 3,
      "outputs": [
        {
          "output_type": "execute_result",
          "data": {
            "text/html": [
              "<div>\n",
              "<style scoped>\n",
              "    .dataframe tbody tr th:only-of-type {\n",
              "        vertical-align: middle;\n",
              "    }\n",
              "\n",
              "    .dataframe tbody tr th {\n",
              "        vertical-align: top;\n",
              "    }\n",
              "\n",
              "    .dataframe thead th {\n",
              "        text-align: right;\n",
              "    }\n",
              "</style>\n",
              "<table border=\"1\" class=\"dataframe\">\n",
              "  <thead>\n",
              "    <tr style=\"text-align: right;\">\n",
              "      <th></th>\n",
              "      <th>id</th>\n",
              "      <th>age</th>\n",
              "      <th>gender</th>\n",
              "      <th>height</th>\n",
              "      <th>weight</th>\n",
              "      <th>sbp</th>\n",
              "      <th>dbp</th>\n",
              "      <th>cholesterol</th>\n",
              "      <th>glucose</th>\n",
              "      <th>smoking</th>\n",
              "      <th>alcohol</th>\n",
              "      <th>physical_active</th>\n",
              "      <th>cardio_issues</th>\n",
              "      <th>years</th>\n",
              "    </tr>\n",
              "  </thead>\n",
              "  <tbody>\n",
              "    <tr>\n",
              "      <th>0</th>\n",
              "      <td>0</td>\n",
              "      <td>18393</td>\n",
              "      <td>2</td>\n",
              "      <td>168</td>\n",
              "      <td>62.0</td>\n",
              "      <td>110</td>\n",
              "      <td>80</td>\n",
              "      <td>1</td>\n",
              "      <td>1</td>\n",
              "      <td>0</td>\n",
              "      <td>0</td>\n",
              "      <td>1</td>\n",
              "      <td>0</td>\n",
              "      <td>50</td>\n",
              "    </tr>\n",
              "    <tr>\n",
              "      <th>1</th>\n",
              "      <td>1</td>\n",
              "      <td>20228</td>\n",
              "      <td>1</td>\n",
              "      <td>156</td>\n",
              "      <td>85.0</td>\n",
              "      <td>140</td>\n",
              "      <td>90</td>\n",
              "      <td>3</td>\n",
              "      <td>1</td>\n",
              "      <td>0</td>\n",
              "      <td>0</td>\n",
              "      <td>1</td>\n",
              "      <td>1</td>\n",
              "      <td>55</td>\n",
              "    </tr>\n",
              "    <tr>\n",
              "      <th>2</th>\n",
              "      <td>2</td>\n",
              "      <td>18857</td>\n",
              "      <td>1</td>\n",
              "      <td>165</td>\n",
              "      <td>64.0</td>\n",
              "      <td>130</td>\n",
              "      <td>70</td>\n",
              "      <td>3</td>\n",
              "      <td>1</td>\n",
              "      <td>0</td>\n",
              "      <td>0</td>\n",
              "      <td>0</td>\n",
              "      <td>1</td>\n",
              "      <td>52</td>\n",
              "    </tr>\n",
              "    <tr>\n",
              "      <th>3</th>\n",
              "      <td>3</td>\n",
              "      <td>17623</td>\n",
              "      <td>2</td>\n",
              "      <td>169</td>\n",
              "      <td>82.0</td>\n",
              "      <td>150</td>\n",
              "      <td>100</td>\n",
              "      <td>1</td>\n",
              "      <td>1</td>\n",
              "      <td>0</td>\n",
              "      <td>0</td>\n",
              "      <td>1</td>\n",
              "      <td>1</td>\n",
              "      <td>48</td>\n",
              "    </tr>\n",
              "    <tr>\n",
              "      <th>4</th>\n",
              "      <td>4</td>\n",
              "      <td>17474</td>\n",
              "      <td>1</td>\n",
              "      <td>156</td>\n",
              "      <td>56.0</td>\n",
              "      <td>100</td>\n",
              "      <td>60</td>\n",
              "      <td>1</td>\n",
              "      <td>1</td>\n",
              "      <td>0</td>\n",
              "      <td>0</td>\n",
              "      <td>0</td>\n",
              "      <td>0</td>\n",
              "      <td>48</td>\n",
              "    </tr>\n",
              "    <tr>\n",
              "      <th>...</th>\n",
              "      <td>...</td>\n",
              "      <td>...</td>\n",
              "      <td>...</td>\n",
              "      <td>...</td>\n",
              "      <td>...</td>\n",
              "      <td>...</td>\n",
              "      <td>...</td>\n",
              "      <td>...</td>\n",
              "      <td>...</td>\n",
              "      <td>...</td>\n",
              "      <td>...</td>\n",
              "      <td>...</td>\n",
              "      <td>...</td>\n",
              "      <td>...</td>\n",
              "    </tr>\n",
              "    <tr>\n",
              "      <th>69995</th>\n",
              "      <td>99993</td>\n",
              "      <td>19240</td>\n",
              "      <td>2</td>\n",
              "      <td>168</td>\n",
              "      <td>76.0</td>\n",
              "      <td>120</td>\n",
              "      <td>80</td>\n",
              "      <td>1</td>\n",
              "      <td>1</td>\n",
              "      <td>1</td>\n",
              "      <td>0</td>\n",
              "      <td>1</td>\n",
              "      <td>0</td>\n",
              "      <td>53</td>\n",
              "    </tr>\n",
              "    <tr>\n",
              "      <th>69996</th>\n",
              "      <td>99995</td>\n",
              "      <td>22601</td>\n",
              "      <td>1</td>\n",
              "      <td>158</td>\n",
              "      <td>126.0</td>\n",
              "      <td>140</td>\n",
              "      <td>90</td>\n",
              "      <td>2</td>\n",
              "      <td>2</td>\n",
              "      <td>0</td>\n",
              "      <td>0</td>\n",
              "      <td>1</td>\n",
              "      <td>1</td>\n",
              "      <td>62</td>\n",
              "    </tr>\n",
              "    <tr>\n",
              "      <th>69997</th>\n",
              "      <td>99996</td>\n",
              "      <td>19066</td>\n",
              "      <td>2</td>\n",
              "      <td>183</td>\n",
              "      <td>105.0</td>\n",
              "      <td>180</td>\n",
              "      <td>90</td>\n",
              "      <td>3</td>\n",
              "      <td>1</td>\n",
              "      <td>0</td>\n",
              "      <td>1</td>\n",
              "      <td>0</td>\n",
              "      <td>1</td>\n",
              "      <td>52</td>\n",
              "    </tr>\n",
              "    <tr>\n",
              "      <th>69998</th>\n",
              "      <td>99998</td>\n",
              "      <td>22431</td>\n",
              "      <td>1</td>\n",
              "      <td>163</td>\n",
              "      <td>72.0</td>\n",
              "      <td>135</td>\n",
              "      <td>80</td>\n",
              "      <td>1</td>\n",
              "      <td>2</td>\n",
              "      <td>0</td>\n",
              "      <td>0</td>\n",
              "      <td>0</td>\n",
              "      <td>1</td>\n",
              "      <td>61</td>\n",
              "    </tr>\n",
              "    <tr>\n",
              "      <th>69999</th>\n",
              "      <td>99999</td>\n",
              "      <td>20540</td>\n",
              "      <td>1</td>\n",
              "      <td>170</td>\n",
              "      <td>72.0</td>\n",
              "      <td>120</td>\n",
              "      <td>80</td>\n",
              "      <td>2</td>\n",
              "      <td>1</td>\n",
              "      <td>0</td>\n",
              "      <td>0</td>\n",
              "      <td>1</td>\n",
              "      <td>0</td>\n",
              "      <td>56</td>\n",
              "    </tr>\n",
              "  </tbody>\n",
              "</table>\n",
              "<p>70000 rows × 14 columns</p>\n",
              "</div>"
            ],
            "text/plain": [
              "          id    age  gender  ...  physical_active  cardio_issues  years\n",
              "0          0  18393       2  ...                1              0     50\n",
              "1          1  20228       1  ...                1              1     55\n",
              "2          2  18857       1  ...                0              1     52\n",
              "3          3  17623       2  ...                1              1     48\n",
              "4          4  17474       1  ...                0              0     48\n",
              "...      ...    ...     ...  ...              ...            ...    ...\n",
              "69995  99993  19240       2  ...                1              0     53\n",
              "69996  99995  22601       1  ...                1              1     62\n",
              "69997  99996  19066       2  ...                0              1     52\n",
              "69998  99998  22431       1  ...                0              1     61\n",
              "69999  99999  20540       1  ...                1              0     56\n",
              "\n",
              "[70000 rows x 14 columns]"
            ]
          },
          "metadata": {
            "tags": []
          },
          "execution_count": 3
        }
      ]
    },
    {
      "cell_type": "code",
      "metadata": {
        "colab": {
          "base_uri": "https://localhost:8080/"
        },
        "id": "-gqjOSDPDLW6",
        "outputId": "3a7b39fa-7b5d-484a-e645-54a4de5b51fb"
      },
      "source": [
        "df.info() # informatiile dataframe-ului, tip coloane, coloane non-null, nume coloane "
      ],
      "execution_count": 5,
      "outputs": [
        {
          "output_type": "stream",
          "text": [
            "<class 'pandas.core.frame.DataFrame'>\n",
            "RangeIndex: 70000 entries, 0 to 69999\n",
            "Data columns (total 14 columns):\n",
            " #   Column           Non-Null Count  Dtype  \n",
            "---  ------           --------------  -----  \n",
            " 0   id               70000 non-null  int64  \n",
            " 1   age              70000 non-null  int64  \n",
            " 2   gender           70000 non-null  int64  \n",
            " 3   height           70000 non-null  int64  \n",
            " 4   weight           70000 non-null  float64\n",
            " 5   sbp              70000 non-null  int64  \n",
            " 6   dbp              70000 non-null  int64  \n",
            " 7   cholesterol      70000 non-null  int64  \n",
            " 8   glucose          70000 non-null  int64  \n",
            " 9   smoking          70000 non-null  int64  \n",
            " 10  alcohol          70000 non-null  int64  \n",
            " 11  physical_active  70000 non-null  int64  \n",
            " 12  cardio_issues    70000 non-null  int64  \n",
            " 13  years            70000 non-null  int64  \n",
            "dtypes: float64(1), int64(13)\n",
            "memory usage: 7.5 MB\n"
          ],
          "name": "stdout"
        }
      ]
    },
    {
      "cell_type": "code",
      "metadata": {
        "colab": {
          "base_uri": "https://localhost:8080/",
          "height": 304
        },
        "id": "reZ61igHiDN9",
        "outputId": "b99f076e-d70b-4694-e7da-ff30e4b4473d"
      },
      "source": [
        "df.describe() # calculeaza count, mean, ... max pentru toate datele"
      ],
      "execution_count": 6,
      "outputs": [
        {
          "output_type": "execute_result",
          "data": {
            "text/html": [
              "<div>\n",
              "<style scoped>\n",
              "    .dataframe tbody tr th:only-of-type {\n",
              "        vertical-align: middle;\n",
              "    }\n",
              "\n",
              "    .dataframe tbody tr th {\n",
              "        vertical-align: top;\n",
              "    }\n",
              "\n",
              "    .dataframe thead th {\n",
              "        text-align: right;\n",
              "    }\n",
              "</style>\n",
              "<table border=\"1\" class=\"dataframe\">\n",
              "  <thead>\n",
              "    <tr style=\"text-align: right;\">\n",
              "      <th></th>\n",
              "      <th>id</th>\n",
              "      <th>age</th>\n",
              "      <th>gender</th>\n",
              "      <th>height</th>\n",
              "      <th>weight</th>\n",
              "      <th>sbp</th>\n",
              "      <th>dbp</th>\n",
              "      <th>cholesterol</th>\n",
              "      <th>glucose</th>\n",
              "      <th>smoking</th>\n",
              "      <th>alcohol</th>\n",
              "      <th>physical_active</th>\n",
              "      <th>cardio_issues</th>\n",
              "      <th>years</th>\n",
              "    </tr>\n",
              "  </thead>\n",
              "  <tbody>\n",
              "    <tr>\n",
              "      <th>count</th>\n",
              "      <td>70000.000000</td>\n",
              "      <td>70000.000000</td>\n",
              "      <td>70000.000000</td>\n",
              "      <td>70000.000000</td>\n",
              "      <td>70000.000000</td>\n",
              "      <td>70000.000000</td>\n",
              "      <td>70000.000000</td>\n",
              "      <td>70000.000000</td>\n",
              "      <td>70000.000000</td>\n",
              "      <td>70000.000000</td>\n",
              "      <td>70000.000000</td>\n",
              "      <td>70000.000000</td>\n",
              "      <td>70000.000000</td>\n",
              "      <td>70000.000000</td>\n",
              "    </tr>\n",
              "    <tr>\n",
              "      <th>mean</th>\n",
              "      <td>49972.419900</td>\n",
              "      <td>19468.865814</td>\n",
              "      <td>1.349571</td>\n",
              "      <td>164.359229</td>\n",
              "      <td>74.205690</td>\n",
              "      <td>128.817286</td>\n",
              "      <td>96.630414</td>\n",
              "      <td>1.366871</td>\n",
              "      <td>1.226457</td>\n",
              "      <td>0.088129</td>\n",
              "      <td>0.053771</td>\n",
              "      <td>0.803729</td>\n",
              "      <td>0.499700</td>\n",
              "      <td>53.338686</td>\n",
              "    </tr>\n",
              "    <tr>\n",
              "      <th>std</th>\n",
              "      <td>28851.302323</td>\n",
              "      <td>2467.251667</td>\n",
              "      <td>0.476838</td>\n",
              "      <td>8.210126</td>\n",
              "      <td>14.395757</td>\n",
              "      <td>154.011419</td>\n",
              "      <td>188.472530</td>\n",
              "      <td>0.680250</td>\n",
              "      <td>0.572270</td>\n",
              "      <td>0.283484</td>\n",
              "      <td>0.225568</td>\n",
              "      <td>0.397179</td>\n",
              "      <td>0.500003</td>\n",
              "      <td>6.765294</td>\n",
              "    </tr>\n",
              "    <tr>\n",
              "      <th>min</th>\n",
              "      <td>0.000000</td>\n",
              "      <td>10798.000000</td>\n",
              "      <td>1.000000</td>\n",
              "      <td>55.000000</td>\n",
              "      <td>10.000000</td>\n",
              "      <td>-150.000000</td>\n",
              "      <td>-70.000000</td>\n",
              "      <td>1.000000</td>\n",
              "      <td>1.000000</td>\n",
              "      <td>0.000000</td>\n",
              "      <td>0.000000</td>\n",
              "      <td>0.000000</td>\n",
              "      <td>0.000000</td>\n",
              "      <td>30.000000</td>\n",
              "    </tr>\n",
              "    <tr>\n",
              "      <th>25%</th>\n",
              "      <td>25006.750000</td>\n",
              "      <td>17664.000000</td>\n",
              "      <td>1.000000</td>\n",
              "      <td>159.000000</td>\n",
              "      <td>65.000000</td>\n",
              "      <td>120.000000</td>\n",
              "      <td>80.000000</td>\n",
              "      <td>1.000000</td>\n",
              "      <td>1.000000</td>\n",
              "      <td>0.000000</td>\n",
              "      <td>0.000000</td>\n",
              "      <td>1.000000</td>\n",
              "      <td>0.000000</td>\n",
              "      <td>48.000000</td>\n",
              "    </tr>\n",
              "    <tr>\n",
              "      <th>50%</th>\n",
              "      <td>50001.500000</td>\n",
              "      <td>19703.000000</td>\n",
              "      <td>1.000000</td>\n",
              "      <td>165.000000</td>\n",
              "      <td>72.000000</td>\n",
              "      <td>120.000000</td>\n",
              "      <td>80.000000</td>\n",
              "      <td>1.000000</td>\n",
              "      <td>1.000000</td>\n",
              "      <td>0.000000</td>\n",
              "      <td>0.000000</td>\n",
              "      <td>1.000000</td>\n",
              "      <td>0.000000</td>\n",
              "      <td>54.000000</td>\n",
              "    </tr>\n",
              "    <tr>\n",
              "      <th>75%</th>\n",
              "      <td>74889.250000</td>\n",
              "      <td>21327.000000</td>\n",
              "      <td>2.000000</td>\n",
              "      <td>170.000000</td>\n",
              "      <td>82.000000</td>\n",
              "      <td>140.000000</td>\n",
              "      <td>90.000000</td>\n",
              "      <td>2.000000</td>\n",
              "      <td>1.000000</td>\n",
              "      <td>0.000000</td>\n",
              "      <td>0.000000</td>\n",
              "      <td>1.000000</td>\n",
              "      <td>1.000000</td>\n",
              "      <td>58.000000</td>\n",
              "    </tr>\n",
              "    <tr>\n",
              "      <th>max</th>\n",
              "      <td>99999.000000</td>\n",
              "      <td>23713.000000</td>\n",
              "      <td>2.000000</td>\n",
              "      <td>250.000000</td>\n",
              "      <td>200.000000</td>\n",
              "      <td>16020.000000</td>\n",
              "      <td>11000.000000</td>\n",
              "      <td>3.000000</td>\n",
              "      <td>3.000000</td>\n",
              "      <td>1.000000</td>\n",
              "      <td>1.000000</td>\n",
              "      <td>1.000000</td>\n",
              "      <td>1.000000</td>\n",
              "      <td>65.000000</td>\n",
              "    </tr>\n",
              "  </tbody>\n",
              "</table>\n",
              "</div>"
            ],
            "text/plain": [
              "                 id           age  ...  cardio_issues         years\n",
              "count  70000.000000  70000.000000  ...   70000.000000  70000.000000\n",
              "mean   49972.419900  19468.865814  ...       0.499700     53.338686\n",
              "std    28851.302323   2467.251667  ...       0.500003      6.765294\n",
              "min        0.000000  10798.000000  ...       0.000000     30.000000\n",
              "25%    25006.750000  17664.000000  ...       0.000000     48.000000\n",
              "50%    50001.500000  19703.000000  ...       0.000000     54.000000\n",
              "75%    74889.250000  21327.000000  ...       1.000000     58.000000\n",
              "max    99999.000000  23713.000000  ...       1.000000     65.000000\n",
              "\n",
              "[8 rows x 14 columns]"
            ]
          },
          "metadata": {
            "tags": []
          },
          "execution_count": 6
        }
      ]
    },
    {
      "cell_type": "code",
      "metadata": {
        "id": "mcQg9bWEcSjO"
      },
      "source": [
        "limits = {\r\n",
        "  \"age\": [6570, 54750],\r\n",
        "  \"gender\": [1, 2],\r\n",
        "  \"height\": [120, 250],\r\n",
        "  \"weight\": [35, 200],\r\n",
        "  \"sbp\": [75, 200],\r\n",
        "  \"dbp\": [50, 150],\r\n",
        "  \"cholesterol\": [1, 3],\r\n",
        "  \"glucose\": [1, 3],\r\n",
        "  \"smoking\": [0, 1],\r\n",
        "  \"alcohol\": [0, 1],\r\n",
        "  \"physical_active\": [0, 1],\r\n",
        "  \"cardio_issues\": [0, 1],\r\n",
        "  \"years\": [18, 110]\r\n",
        "}"
      ],
      "execution_count": 7,
      "outputs": []
    },
    {
      "cell_type": "code",
      "metadata": {
        "id": "DVfm5iCHOzcq"
      },
      "source": [
        "def checkIfIsOutOfLimits(data):\r\n",
        "  for key, value in limits.items():\r\n",
        "    print(\"Instances where {0} is greater or lesser than the chosen limits: Greater: {1}, Lesser {2}\".format(key, data[data[key] > value[1]].shape[0], data[data[key] < value[0]].shape[0]))"
      ],
      "execution_count": 8,
      "outputs": []
    },
    {
      "cell_type": "code",
      "metadata": {
        "id": "ZKMn-tobZAOo"
      },
      "source": [
        "def checkDSP(data, bpmelt):\r\n",
        "  sns.boxplot(x = 'variable',y = 'value',data = bpmelt)\r\n",
        "  print(\"Diastilic pressure is higher than systolic one in {0} cases\".format(data[data['dbp']> data['sbp']].shape[0]))"
      ],
      "execution_count": 9,
      "outputs": []
    },
    {
      "cell_type": "code",
      "metadata": {
        "colab": {
          "base_uri": "https://localhost:8080/"
        },
        "id": "lY5QkG7mUIip",
        "outputId": "07496120-ce00-4b66-b259-f8f66d734a88"
      },
      "source": [
        "checkIfIsOutOfLimits(df)"
      ],
      "execution_count": 10,
      "outputs": [
        {
          "output_type": "stream",
          "text": [
            "Instances where age is greater or lesser than the chosen limits: Greater: 0, Lesser 0\n",
            "Instances where gender is greater or lesser than the chosen limits: Greater: 0, Lesser 0\n",
            "Instances where height is greater or lesser than the chosen limits: Greater: 0, Lesser 52\n",
            "Instances where weight is greater or lesser than the chosen limits: Greater: 0, Lesser 20\n",
            "Instances where sbp is greater or lesser than the chosen limits: Greater: 100, Lesser 207\n",
            "Instances where dbp is greater or lesser than the chosen limits: Greater: 975, Lesser 80\n",
            "Instances where cholesterol is greater or lesser than the chosen limits: Greater: 0, Lesser 0\n",
            "Instances where glucose is greater or lesser than the chosen limits: Greater: 0, Lesser 0\n",
            "Instances where smoking is greater or lesser than the chosen limits: Greater: 0, Lesser 0\n",
            "Instances where alcohol is greater or lesser than the chosen limits: Greater: 0, Lesser 0\n",
            "Instances where physical_active is greater or lesser than the chosen limits: Greater: 0, Lesser 0\n",
            "Instances where cardio_issues is greater or lesser than the chosen limits: Greater: 0, Lesser 0\n",
            "Instances where years is greater or lesser than the chosen limits: Greater: 0, Lesser 0\n"
          ],
          "name": "stdout"
        }
      ]
    },
    {
      "cell_type": "code",
      "metadata": {
        "colab": {
          "base_uri": "https://localhost:8080/",
          "height": 402
        },
        "id": "OFEXmiFqiEiU",
        "outputId": "85647234-8368-4dba-aa32-3259dcc64c85"
      },
      "source": [
        "blood_pressure = df.loc[:,['dbp','sbp']]\r\n",
        "blood_pressure"
      ],
      "execution_count": 11,
      "outputs": [
        {
          "output_type": "execute_result",
          "data": {
            "text/html": [
              "<div>\n",
              "<style scoped>\n",
              "    .dataframe tbody tr th:only-of-type {\n",
              "        vertical-align: middle;\n",
              "    }\n",
              "\n",
              "    .dataframe tbody tr th {\n",
              "        vertical-align: top;\n",
              "    }\n",
              "\n",
              "    .dataframe thead th {\n",
              "        text-align: right;\n",
              "    }\n",
              "</style>\n",
              "<table border=\"1\" class=\"dataframe\">\n",
              "  <thead>\n",
              "    <tr style=\"text-align: right;\">\n",
              "      <th></th>\n",
              "      <th>dbp</th>\n",
              "      <th>sbp</th>\n",
              "    </tr>\n",
              "  </thead>\n",
              "  <tbody>\n",
              "    <tr>\n",
              "      <th>0</th>\n",
              "      <td>80</td>\n",
              "      <td>110</td>\n",
              "    </tr>\n",
              "    <tr>\n",
              "      <th>1</th>\n",
              "      <td>90</td>\n",
              "      <td>140</td>\n",
              "    </tr>\n",
              "    <tr>\n",
              "      <th>2</th>\n",
              "      <td>70</td>\n",
              "      <td>130</td>\n",
              "    </tr>\n",
              "    <tr>\n",
              "      <th>3</th>\n",
              "      <td>100</td>\n",
              "      <td>150</td>\n",
              "    </tr>\n",
              "    <tr>\n",
              "      <th>4</th>\n",
              "      <td>60</td>\n",
              "      <td>100</td>\n",
              "    </tr>\n",
              "    <tr>\n",
              "      <th>...</th>\n",
              "      <td>...</td>\n",
              "      <td>...</td>\n",
              "    </tr>\n",
              "    <tr>\n",
              "      <th>69995</th>\n",
              "      <td>80</td>\n",
              "      <td>120</td>\n",
              "    </tr>\n",
              "    <tr>\n",
              "      <th>69996</th>\n",
              "      <td>90</td>\n",
              "      <td>140</td>\n",
              "    </tr>\n",
              "    <tr>\n",
              "      <th>69997</th>\n",
              "      <td>90</td>\n",
              "      <td>180</td>\n",
              "    </tr>\n",
              "    <tr>\n",
              "      <th>69998</th>\n",
              "      <td>80</td>\n",
              "      <td>135</td>\n",
              "    </tr>\n",
              "    <tr>\n",
              "      <th>69999</th>\n",
              "      <td>80</td>\n",
              "      <td>120</td>\n",
              "    </tr>\n",
              "  </tbody>\n",
              "</table>\n",
              "<p>70000 rows × 2 columns</p>\n",
              "</div>"
            ],
            "text/plain": [
              "       dbp  sbp\n",
              "0       80  110\n",
              "1       90  140\n",
              "2       70  130\n",
              "3      100  150\n",
              "4       60  100\n",
              "...    ...  ...\n",
              "69995   80  120\n",
              "69996   90  140\n",
              "69997   90  180\n",
              "69998   80  135\n",
              "69999   80  120\n",
              "\n",
              "[70000 rows x 2 columns]"
            ]
          },
          "metadata": {
            "tags": []
          },
          "execution_count": 11
        }
      ]
    },
    {
      "cell_type": "code",
      "metadata": {
        "colab": {
          "base_uri": "https://localhost:8080/",
          "height": 402
        },
        "id": "oxkmLKryiETE",
        "outputId": "937a651a-9a7a-4612-fdb0-2ae60082d0a4"
      },
      "source": [
        "blood_pressureMelt = blood_pressure.melt()\r\n",
        "blood_pressureMelt"
      ],
      "execution_count": 12,
      "outputs": [
        {
          "output_type": "execute_result",
          "data": {
            "text/html": [
              "<div>\n",
              "<style scoped>\n",
              "    .dataframe tbody tr th:only-of-type {\n",
              "        vertical-align: middle;\n",
              "    }\n",
              "\n",
              "    .dataframe tbody tr th {\n",
              "        vertical-align: top;\n",
              "    }\n",
              "\n",
              "    .dataframe thead th {\n",
              "        text-align: right;\n",
              "    }\n",
              "</style>\n",
              "<table border=\"1\" class=\"dataframe\">\n",
              "  <thead>\n",
              "    <tr style=\"text-align: right;\">\n",
              "      <th></th>\n",
              "      <th>variable</th>\n",
              "      <th>value</th>\n",
              "    </tr>\n",
              "  </thead>\n",
              "  <tbody>\n",
              "    <tr>\n",
              "      <th>0</th>\n",
              "      <td>dbp</td>\n",
              "      <td>80</td>\n",
              "    </tr>\n",
              "    <tr>\n",
              "      <th>1</th>\n",
              "      <td>dbp</td>\n",
              "      <td>90</td>\n",
              "    </tr>\n",
              "    <tr>\n",
              "      <th>2</th>\n",
              "      <td>dbp</td>\n",
              "      <td>70</td>\n",
              "    </tr>\n",
              "    <tr>\n",
              "      <th>3</th>\n",
              "      <td>dbp</td>\n",
              "      <td>100</td>\n",
              "    </tr>\n",
              "    <tr>\n",
              "      <th>4</th>\n",
              "      <td>dbp</td>\n",
              "      <td>60</td>\n",
              "    </tr>\n",
              "    <tr>\n",
              "      <th>...</th>\n",
              "      <td>...</td>\n",
              "      <td>...</td>\n",
              "    </tr>\n",
              "    <tr>\n",
              "      <th>139995</th>\n",
              "      <td>sbp</td>\n",
              "      <td>120</td>\n",
              "    </tr>\n",
              "    <tr>\n",
              "      <th>139996</th>\n",
              "      <td>sbp</td>\n",
              "      <td>140</td>\n",
              "    </tr>\n",
              "    <tr>\n",
              "      <th>139997</th>\n",
              "      <td>sbp</td>\n",
              "      <td>180</td>\n",
              "    </tr>\n",
              "    <tr>\n",
              "      <th>139998</th>\n",
              "      <td>sbp</td>\n",
              "      <td>135</td>\n",
              "    </tr>\n",
              "    <tr>\n",
              "      <th>139999</th>\n",
              "      <td>sbp</td>\n",
              "      <td>120</td>\n",
              "    </tr>\n",
              "  </tbody>\n",
              "</table>\n",
              "<p>140000 rows × 2 columns</p>\n",
              "</div>"
            ],
            "text/plain": [
              "       variable  value\n",
              "0           dbp     80\n",
              "1           dbp     90\n",
              "2           dbp     70\n",
              "3           dbp    100\n",
              "4           dbp     60\n",
              "...         ...    ...\n",
              "139995      sbp    120\n",
              "139996      sbp    140\n",
              "139997      sbp    180\n",
              "139998      sbp    135\n",
              "139999      sbp    120\n",
              "\n",
              "[140000 rows x 2 columns]"
            ]
          },
          "metadata": {
            "tags": []
          },
          "execution_count": 12
        }
      ]
    },
    {
      "cell_type": "code",
      "metadata": {
        "colab": {
          "base_uri": "https://localhost:8080/",
          "height": 296
        },
        "id": "t_1mTlZlozVE",
        "outputId": "0658cceb-a894-4f3a-c4a0-35b6ebd9b707"
      },
      "source": [
        "checkDSP(df, blood_pressureMelt)"
      ],
      "execution_count": 13,
      "outputs": [
        {
          "output_type": "stream",
          "text": [
            "Diastilic pressure is higher than systolic one in 1234 cases\n"
          ],
          "name": "stdout"
        },
        {
          "output_type": "display_data",
          "data": {
            "image/png": "[encoded data removed]",
            "text/plain": [
              "<Figure size 432x288 with 1 Axes>"
            ]
          },
          "metadata": {
            "tags": [],
            "needs_background": "light"
          }
        }
      ]
    },
    {
      "cell_type": "code",
      "metadata": {
        "colab": {
          "base_uri": "https://localhost:8080/",
          "height": 402
        },
        "id": "3ZYQQbuWpKkT",
        "outputId": "9ec31185-184f-42f6-ad3f-3c69ce493914"
      },
      "source": [
        "cleandf = df.copy()\r\n",
        "cleandf"
      ],
      "execution_count": 14,
      "outputs": [
        {
          "output_type": "execute_result",
          "data": {
            "text/html": [
              "<div>\n",
              "<style scoped>\n",
              "    .dataframe tbody tr th:only-of-type {\n",
              "        vertical-align: middle;\n",
              "    }\n",
              "\n",
              "    .dataframe tbody tr th {\n",
              "        vertical-align: top;\n",
              "    }\n",
              "\n",
              "    .dataframe thead th {\n",
              "        text-align: right;\n",
              "    }\n",
              "</style>\n",
              "<table border=\"1\" class=\"dataframe\">\n",
              "  <thead>\n",
              "    <tr style=\"text-align: right;\">\n",
              "      <th></th>\n",
              "      <th>id</th>\n",
              "      <th>age</th>\n",
              "      <th>gender</th>\n",
              "      <th>height</th>\n",
              "      <th>weight</th>\n",
              "      <th>sbp</th>\n",
              "      <th>dbp</th>\n",
              "      <th>cholesterol</th>\n",
              "      <th>glucose</th>\n",
              "      <th>smoking</th>\n",
              "      <th>alcohol</th>\n",
              "      <th>physical_active</th>\n",
              "      <th>cardio_issues</th>\n",
              "      <th>years</th>\n",
              "    </tr>\n",
              "  </thead>\n",
              "  <tbody>\n",
              "    <tr>\n",
              "      <th>0</th>\n",
              "      <td>0</td>\n",
              "      <td>18393</td>\n",
              "      <td>2</td>\n",
              "      <td>168</td>\n",
              "      <td>62.0</td>\n",
              "      <td>110</td>\n",
              "      <td>80</td>\n",
              "      <td>1</td>\n",
              "      <td>1</td>\n",
              "      <td>0</td>\n",
              "      <td>0</td>\n",
              "      <td>1</td>\n",
              "      <td>0</td>\n",
              "      <td>50</td>\n",
              "    </tr>\n",
              "    <tr>\n",
              "      <th>1</th>\n",
              "      <td>1</td>\n",
              "      <td>20228</td>\n",
              "      <td>1</td>\n",
              "      <td>156</td>\n",
              "      <td>85.0</td>\n",
              "      <td>140</td>\n",
              "      <td>90</td>\n",
              "      <td>3</td>\n",
              "      <td>1</td>\n",
              "      <td>0</td>\n",
              "      <td>0</td>\n",
              "      <td>1</td>\n",
              "      <td>1</td>\n",
              "      <td>55</td>\n",
              "    </tr>\n",
              "    <tr>\n",
              "      <th>2</th>\n",
              "      <td>2</td>\n",
              "      <td>18857</td>\n",
              "      <td>1</td>\n",
              "      <td>165</td>\n",
              "      <td>64.0</td>\n",
              "      <td>130</td>\n",
              "      <td>70</td>\n",
              "      <td>3</td>\n",
              "      <td>1</td>\n",
              "      <td>0</td>\n",
              "      <td>0</td>\n",
              "      <td>0</td>\n",
              "      <td>1</td>\n",
              "      <td>52</td>\n",
              "    </tr>\n",
              "    <tr>\n",
              "      <th>3</th>\n",
              "      <td>3</td>\n",
              "      <td>17623</td>\n",
              "      <td>2</td>\n",
              "      <td>169</td>\n",
              "      <td>82.0</td>\n",
              "      <td>150</td>\n",
              "      <td>100</td>\n",
              "      <td>1</td>\n",
              "      <td>1</td>\n",
              "      <td>0</td>\n",
              "      <td>0</td>\n",
              "      <td>1</td>\n",
              "      <td>1</td>\n",
              "      <td>48</td>\n",
              "    </tr>\n",
              "    <tr>\n",
              "      <th>4</th>\n",
              "      <td>4</td>\n",
              "      <td>17474</td>\n",
              "      <td>1</td>\n",
              "      <td>156</td>\n",
              "      <td>56.0</td>\n",
              "      <td>100</td>\n",
              "      <td>60</td>\n",
              "      <td>1</td>\n",
              "      <td>1</td>\n",
              "      <td>0</td>\n",
              "      <td>0</td>\n",
              "      <td>0</td>\n",
              "      <td>0</td>\n",
              "      <td>48</td>\n",
              "    </tr>\n",
              "    <tr>\n",
              "      <th>...</th>\n",
              "      <td>...</td>\n",
              "      <td>...</td>\n",
              "      <td>...</td>\n",
              "      <td>...</td>\n",
              "      <td>...</td>\n",
              "      <td>...</td>\n",
              "      <td>...</td>\n",
              "      <td>...</td>\n",
              "      <td>...</td>\n",
              "      <td>...</td>\n",
              "      <td>...</td>\n",
              "      <td>...</td>\n",
              "      <td>...</td>\n",
              "      <td>...</td>\n",
              "    </tr>\n",
              "    <tr>\n",
              "      <th>69995</th>\n",
              "      <td>99993</td>\n",
              "      <td>19240</td>\n",
              "      <td>2</td>\n",
              "      <td>168</td>\n",
              "      <td>76.0</td>\n",
              "      <td>120</td>\n",
              "      <td>80</td>\n",
              "      <td>1</td>\n",
              "      <td>1</td>\n",
              "      <td>1</td>\n",
              "      <td>0</td>\n",
              "      <td>1</td>\n",
              "      <td>0</td>\n",
              "      <td>53</td>\n",
              "    </tr>\n",
              "    <tr>\n",
              "      <th>69996</th>\n",
              "      <td>99995</td>\n",
              "      <td>22601</td>\n",
              "      <td>1</td>\n",
              "      <td>158</td>\n",
              "      <td>126.0</td>\n",
              "      <td>140</td>\n",
              "      <td>90</td>\n",
              "      <td>2</td>\n",
              "      <td>2</td>\n",
              "      <td>0</td>\n",
              "      <td>0</td>\n",
              "      <td>1</td>\n",
              "      <td>1</td>\n",
              "      <td>62</td>\n",
              "    </tr>\n",
              "    <tr>\n",
              "      <th>69997</th>\n",
              "      <td>99996</td>\n",
              "      <td>19066</td>\n",
              "      <td>2</td>\n",
              "      <td>183</td>\n",
              "      <td>105.0</td>\n",
              "      <td>180</td>\n",
              "      <td>90</td>\n",
              "      <td>3</td>\n",
              "      <td>1</td>\n",
              "      <td>0</td>\n",
              "      <td>1</td>\n",
              "      <td>0</td>\n",
              "      <td>1</td>\n",
              "      <td>52</td>\n",
              "    </tr>\n",
              "    <tr>\n",
              "      <th>69998</th>\n",
              "      <td>99998</td>\n",
              "      <td>22431</td>\n",
              "      <td>1</td>\n",
              "      <td>163</td>\n",
              "      <td>72.0</td>\n",
              "      <td>135</td>\n",
              "      <td>80</td>\n",
              "      <td>1</td>\n",
              "      <td>2</td>\n",
              "      <td>0</td>\n",
              "      <td>0</td>\n",
              "      <td>0</td>\n",
              "      <td>1</td>\n",
              "      <td>61</td>\n",
              "    </tr>\n",
              "    <tr>\n",
              "      <th>69999</th>\n",
              "      <td>99999</td>\n",
              "      <td>20540</td>\n",
              "      <td>1</td>\n",
              "      <td>170</td>\n",
              "      <td>72.0</td>\n",
              "      <td>120</td>\n",
              "      <td>80</td>\n",
              "      <td>2</td>\n",
              "      <td>1</td>\n",
              "      <td>0</td>\n",
              "      <td>0</td>\n",
              "      <td>1</td>\n",
              "      <td>0</td>\n",
              "      <td>56</td>\n",
              "    </tr>\n",
              "  </tbody>\n",
              "</table>\n",
              "<p>70000 rows × 14 columns</p>\n",
              "</div>"
            ],
            "text/plain": [
              "          id    age  gender  ...  physical_active  cardio_issues  years\n",
              "0          0  18393       2  ...                1              0     50\n",
              "1          1  20228       1  ...                1              1     55\n",
              "2          2  18857       1  ...                0              1     52\n",
              "3          3  17623       2  ...                1              1     48\n",
              "4          4  17474       1  ...                0              0     48\n",
              "...      ...    ...     ...  ...              ...            ...    ...\n",
              "69995  99993  19240       2  ...                1              0     53\n",
              "69996  99995  22601       1  ...                1              1     62\n",
              "69997  99996  19066       2  ...                0              1     52\n",
              "69998  99998  22431       1  ...                0              1     61\n",
              "69999  99999  20540       1  ...                1              0     56\n",
              "\n",
              "[70000 rows x 14 columns]"
            ]
          },
          "metadata": {
            "tags": []
          },
          "execution_count": 14
        }
      ]
    },
    {
      "cell_type": "markdown",
      "metadata": {
        "id": "42J5jTsl1Clb"
      },
      "source": [
        "Optional - Create Fake Data"
      ]
    },
    {
      "cell_type": "code",
      "metadata": {
        "id": "i9g8VyLLusjI"
      },
      "source": [
        "def generateArray(cond, num, lims, d_var):\r\n",
        "  arr = []\r\n",
        "\r\n",
        "  if isinstance(d_var, np.int64) or isinstance(d_var, int):\r\n",
        "    if cond == True:\r\n",
        "      arr = np.random.randint(lims[0], lims[1] + 1, size=num)\r\n",
        "    else:\r\n",
        "      arr = np.random.randint(lims[1] + 2, 100000, size=num)\r\n",
        "  else:\r\n",
        "    if isinstance(d_var, np.float64) or isinstance(d_var, float):\r\n",
        "      if cond == True:\r\n",
        "        arr = np.random.uniform(lims[0], lims[1] + 1, size=num)\r\n",
        "      else:\r\n",
        "        arr = np.random.uniform(lims[1] + 2, 100000, size=num)\r\n",
        "\r\n",
        "        for i in range(len(arr)):\r\n",
        "          arr[i] = float('NaN') if random.choice([True, False]) == True else arr[i]\r\n",
        "\r\n",
        "  return arr"
      ],
      "execution_count": 15,
      "outputs": []
    },
    {
      "cell_type": "code",
      "metadata": {
        "id": "5dnwNVgNHv-J"
      },
      "source": [
        "def createData(assign_vec, num, aux):\r\n",
        "  obj = {\r\n",
        "      \"id\": aux.tail(1)['id'] + 1,\r\n",
        "      \"age\": generateArray(assign_vec[1], num, limits[\"age\"], aux['age'][0]),\r\n",
        "      \"gender\": generateArray(assign_vec[2], num, limits[\"gender\"], aux['gender'][0]),\r\n",
        "      \"height\": generateArray(assign_vec[3], num, limits[\"height\"], aux['height'][0]),\r\n",
        "      \"weight\": generateArray(assign_vec[4], num, limits[\"weight\"], aux['weight'][0]),\r\n",
        "      \"sbp\": generateArray(assign_vec[5], num, limits[\"sbp\"], aux['sbp'][0]),\r\n",
        "      \"dbp\": generateArray(assign_vec[6], num, limits[\"dbp\"], aux['dbp'][0]),\r\n",
        "      \"cholesterol\": generateArray(assign_vec[7], num, limits[\"cholesterol\"], aux['cholesterol'][0]),\r\n",
        "      \"glucose\": generateArray(assign_vec[8], num, limits[\"glucose\"], aux['glucose'][0]),\r\n",
        "      \"smoking\": generateArray(assign_vec[9], num, limits[\"smoking\"], aux['smoking'][0]),\r\n",
        "      \"alcohol\": generateArray(assign_vec[10], num, limits[\"alcohol\"], aux['alcohol'][0]),\r\n",
        "      \"physical_active\": generateArray(assign_vec[11], num, limits[\"physical_active\"], aux['physical_active'][0]),\r\n",
        "      \"cardio_issues\": generateArray(assign_vec[12], num, limits[\"cardio_issues\"], aux['cardio_issues'][0]),\r\n",
        "      \"years\": generateArray(assign_vec[13], num, limits[\"years\"], aux['years'][0]),\r\n",
        "  }\r\n",
        "  to_adddf = pd.DataFrame(obj)\r\n",
        "  return to_adddf"
      ],
      "execution_count": 16,
      "outputs": []
    },
    {
      "cell_type": "code",
      "metadata": {
        "id": "BHx46EdXpaxT"
      },
      "source": [
        "def generateData(aux, n):\r\n",
        "  for i in range(n):\r\n",
        "    arr = np.random.choice([True, False], size=len(aux.columns))\r\n",
        "    aux = aux.append(createData(arr, 1, aux), ignore_index=True)  \r\n",
        "  return aux"
      ],
      "execution_count": 17,
      "outputs": []
    },
    {
      "cell_type": "code",
      "metadata": {
        "colab": {
          "base_uri": "https://localhost:8080/",
          "height": 343
        },
        "id": "zGiDzKmNafi3",
        "outputId": "7d71267e-dd77-4719-d734-14f0dab9fd4e"
      },
      "source": [
        "cleandf_fd = cleandf.head(10).copy()\r\n",
        "cleandf_fd"
      ],
      "execution_count": 18,
      "outputs": [
        {
          "output_type": "execute_result",
          "data": {
            "text/html": [
              "<div>\n",
              "<style scoped>\n",
              "    .dataframe tbody tr th:only-of-type {\n",
              "        vertical-align: middle;\n",
              "    }\n",
              "\n",
              "    .dataframe tbody tr th {\n",
              "        vertical-align: top;\n",
              "    }\n",
              "\n",
              "    .dataframe thead th {\n",
              "        text-align: right;\n",
              "    }\n",
              "</style>\n",
              "<table border=\"1\" class=\"dataframe\">\n",
              "  <thead>\n",
              "    <tr style=\"text-align: right;\">\n",
              "      <th></th>\n",
              "      <th>id</th>\n",
              "      <th>age</th>\n",
              "      <th>gender</th>\n",
              "      <th>height</th>\n",
              "      <th>weight</th>\n",
              "      <th>sbp</th>\n",
              "      <th>dbp</th>\n",
              "      <th>cholesterol</th>\n",
              "      <th>glucose</th>\n",
              "      <th>smoking</th>\n",
              "      <th>alcohol</th>\n",
              "      <th>physical_active</th>\n",
              "      <th>cardio_issues</th>\n",
              "      <th>years</th>\n",
              "    </tr>\n",
              "  </thead>\n",
              "  <tbody>\n",
              "    <tr>\n",
              "      <th>0</th>\n",
              "      <td>0</td>\n",
              "      <td>18393</td>\n",
              "      <td>2</td>\n",
              "      <td>168</td>\n",
              "      <td>62.0</td>\n",
              "      <td>110</td>\n",
              "      <td>80</td>\n",
              "      <td>1</td>\n",
              "      <td>1</td>\n",
              "      <td>0</td>\n",
              "      <td>0</td>\n",
              "      <td>1</td>\n",
              "      <td>0</td>\n",
              "      <td>50</td>\n",
              "    </tr>\n",
              "    <tr>\n",
              "      <th>1</th>\n",
              "      <td>1</td>\n",
              "      <td>20228</td>\n",
              "      <td>1</td>\n",
              "      <td>156</td>\n",
              "      <td>85.0</td>\n",
              "      <td>140</td>\n",
              "      <td>90</td>\n",
              "      <td>3</td>\n",
              "      <td>1</td>\n",
              "      <td>0</td>\n",
              "      <td>0</td>\n",
              "      <td>1</td>\n",
              "      <td>1</td>\n",
              "      <td>55</td>\n",
              "    </tr>\n",
              "    <tr>\n",
              "      <th>2</th>\n",
              "      <td>2</td>\n",
              "      <td>18857</td>\n",
              "      <td>1</td>\n",
              "      <td>165</td>\n",
              "      <td>64.0</td>\n",
              "      <td>130</td>\n",
              "      <td>70</td>\n",
              "      <td>3</td>\n",
              "      <td>1</td>\n",
              "      <td>0</td>\n",
              "      <td>0</td>\n",
              "      <td>0</td>\n",
              "      <td>1</td>\n",
              "      <td>52</td>\n",
              "    </tr>\n",
              "    <tr>\n",
              "      <th>3</th>\n",
              "      <td>3</td>\n",
              "      <td>17623</td>\n",
              "      <td>2</td>\n",
              "      <td>169</td>\n",
              "      <td>82.0</td>\n",
              "      <td>150</td>\n",
              "      <td>100</td>\n",
              "      <td>1</td>\n",
              "      <td>1</td>\n",
              "      <td>0</td>\n",
              "      <td>0</td>\n",
              "      <td>1</td>\n",
              "      <td>1</td>\n",
              "      <td>48</td>\n",
              "    </tr>\n",
              "    <tr>\n",
              "      <th>4</th>\n",
              "      <td>4</td>\n",
              "      <td>17474</td>\n",
              "      <td>1</td>\n",
              "      <td>156</td>\n",
              "      <td>56.0</td>\n",
              "      <td>100</td>\n",
              "      <td>60</td>\n",
              "      <td>1</td>\n",
              "      <td>1</td>\n",
              "      <td>0</td>\n",
              "      <td>0</td>\n",
              "      <td>0</td>\n",
              "      <td>0</td>\n",
              "      <td>48</td>\n",
              "    </tr>\n",
              "    <tr>\n",
              "      <th>5</th>\n",
              "      <td>8</td>\n",
              "      <td>21914</td>\n",
              "      <td>1</td>\n",
              "      <td>151</td>\n",
              "      <td>67.0</td>\n",
              "      <td>120</td>\n",
              "      <td>80</td>\n",
              "      <td>2</td>\n",
              "      <td>2</td>\n",
              "      <td>0</td>\n",
              "      <td>0</td>\n",
              "      <td>0</td>\n",
              "      <td>0</td>\n",
              "      <td>60</td>\n",
              "    </tr>\n",
              "    <tr>\n",
              "      <th>6</th>\n",
              "      <td>9</td>\n",
              "      <td>22113</td>\n",
              "      <td>1</td>\n",
              "      <td>157</td>\n",
              "      <td>93.0</td>\n",
              "      <td>130</td>\n",
              "      <td>80</td>\n",
              "      <td>3</td>\n",
              "      <td>1</td>\n",
              "      <td>0</td>\n",
              "      <td>0</td>\n",
              "      <td>1</td>\n",
              "      <td>0</td>\n",
              "      <td>61</td>\n",
              "    </tr>\n",
              "    <tr>\n",
              "      <th>7</th>\n",
              "      <td>12</td>\n",
              "      <td>22584</td>\n",
              "      <td>2</td>\n",
              "      <td>178</td>\n",
              "      <td>95.0</td>\n",
              "      <td>130</td>\n",
              "      <td>90</td>\n",
              "      <td>3</td>\n",
              "      <td>3</td>\n",
              "      <td>0</td>\n",
              "      <td>0</td>\n",
              "      <td>1</td>\n",
              "      <td>1</td>\n",
              "      <td>62</td>\n",
              "    </tr>\n",
              "    <tr>\n",
              "      <th>8</th>\n",
              "      <td>13</td>\n",
              "      <td>17668</td>\n",
              "      <td>1</td>\n",
              "      <td>158</td>\n",
              "      <td>71.0</td>\n",
              "      <td>110</td>\n",
              "      <td>70</td>\n",
              "      <td>1</td>\n",
              "      <td>1</td>\n",
              "      <td>0</td>\n",
              "      <td>0</td>\n",
              "      <td>1</td>\n",
              "      <td>0</td>\n",
              "      <td>48</td>\n",
              "    </tr>\n",
              "    <tr>\n",
              "      <th>9</th>\n",
              "      <td>14</td>\n",
              "      <td>19834</td>\n",
              "      <td>1</td>\n",
              "      <td>164</td>\n",
              "      <td>68.0</td>\n",
              "      <td>110</td>\n",
              "      <td>60</td>\n",
              "      <td>1</td>\n",
              "      <td>1</td>\n",
              "      <td>0</td>\n",
              "      <td>0</td>\n",
              "      <td>0</td>\n",
              "      <td>0</td>\n",
              "      <td>54</td>\n",
              "    </tr>\n",
              "  </tbody>\n",
              "</table>\n",
              "</div>"
            ],
            "text/plain": [
              "   id    age  gender  height  ...  alcohol  physical_active  cardio_issues  years\n",
              "0   0  18393       2     168  ...        0                1              0     50\n",
              "1   1  20228       1     156  ...        0                1              1     55\n",
              "2   2  18857       1     165  ...        0                0              1     52\n",
              "3   3  17623       2     169  ...        0                1              1     48\n",
              "4   4  17474       1     156  ...        0                0              0     48\n",
              "5   8  21914       1     151  ...        0                0              0     60\n",
              "6   9  22113       1     157  ...        0                1              0     61\n",
              "7  12  22584       2     178  ...        0                1              1     62\n",
              "8  13  17668       1     158  ...        0                1              0     48\n",
              "9  14  19834       1     164  ...        0                0              0     54\n",
              "\n",
              "[10 rows x 14 columns]"
            ]
          },
          "metadata": {
            "tags": []
          },
          "execution_count": 18
        }
      ]
    },
    {
      "cell_type": "code",
      "metadata": {
        "colab": {
          "base_uri": "https://localhost:8080/",
          "height": 432
        },
        "id": "x9bOQtzZ0wm6",
        "outputId": "43fa0028-831e-4e46-8548-eabddfdd92ca"
      },
      "source": [
        "cleandf_fd = generateData(cleandf_fd, 3)\r\n",
        "cleandf_fd"
      ],
      "execution_count": 19,
      "outputs": [
        {
          "output_type": "execute_result",
          "data": {
            "text/html": [
              "<div>\n",
              "<style scoped>\n",
              "    .dataframe tbody tr th:only-of-type {\n",
              "        vertical-align: middle;\n",
              "    }\n",
              "\n",
              "    .dataframe tbody tr th {\n",
              "        vertical-align: top;\n",
              "    }\n",
              "\n",
              "    .dataframe thead th {\n",
              "        text-align: right;\n",
              "    }\n",
              "</style>\n",
              "<table border=\"1\" class=\"dataframe\">\n",
              "  <thead>\n",
              "    <tr style=\"text-align: right;\">\n",
              "      <th></th>\n",
              "      <th>id</th>\n",
              "      <th>age</th>\n",
              "      <th>gender</th>\n",
              "      <th>height</th>\n",
              "      <th>weight</th>\n",
              "      <th>sbp</th>\n",
              "      <th>dbp</th>\n",
              "      <th>cholesterol</th>\n",
              "      <th>glucose</th>\n",
              "      <th>smoking</th>\n",
              "      <th>alcohol</th>\n",
              "      <th>physical_active</th>\n",
              "      <th>cardio_issues</th>\n",
              "      <th>years</th>\n",
              "    </tr>\n",
              "  </thead>\n",
              "  <tbody>\n",
              "    <tr>\n",
              "      <th>0</th>\n",
              "      <td>0</td>\n",
              "      <td>18393</td>\n",
              "      <td>2</td>\n",
              "      <td>168</td>\n",
              "      <td>62.000000</td>\n",
              "      <td>110</td>\n",
              "      <td>80</td>\n",
              "      <td>1</td>\n",
              "      <td>1</td>\n",
              "      <td>0</td>\n",
              "      <td>0</td>\n",
              "      <td>1</td>\n",
              "      <td>0</td>\n",
              "      <td>50</td>\n",
              "    </tr>\n",
              "    <tr>\n",
              "      <th>1</th>\n",
              "      <td>1</td>\n",
              "      <td>20228</td>\n",
              "      <td>1</td>\n",
              "      <td>156</td>\n",
              "      <td>85.000000</td>\n",
              "      <td>140</td>\n",
              "      <td>90</td>\n",
              "      <td>3</td>\n",
              "      <td>1</td>\n",
              "      <td>0</td>\n",
              "      <td>0</td>\n",
              "      <td>1</td>\n",
              "      <td>1</td>\n",
              "      <td>55</td>\n",
              "    </tr>\n",
              "    <tr>\n",
              "      <th>2</th>\n",
              "      <td>2</td>\n",
              "      <td>18857</td>\n",
              "      <td>1</td>\n",
              "      <td>165</td>\n",
              "      <td>64.000000</td>\n",
              "      <td>130</td>\n",
              "      <td>70</td>\n",
              "      <td>3</td>\n",
              "      <td>1</td>\n",
              "      <td>0</td>\n",
              "      <td>0</td>\n",
              "      <td>0</td>\n",
              "      <td>1</td>\n",
              "      <td>52</td>\n",
              "    </tr>\n",
              "    <tr>\n",
              "      <th>3</th>\n",
              "      <td>3</td>\n",
              "      <td>17623</td>\n",
              "      <td>2</td>\n",
              "      <td>169</td>\n",
              "      <td>82.000000</td>\n",
              "      <td>150</td>\n",
              "      <td>100</td>\n",
              "      <td>1</td>\n",
              "      <td>1</td>\n",
              "      <td>0</td>\n",
              "      <td>0</td>\n",
              "      <td>1</td>\n",
              "      <td>1</td>\n",
              "      <td>48</td>\n",
              "    </tr>\n",
              "    <tr>\n",
              "      <th>4</th>\n",
              "      <td>4</td>\n",
              "      <td>17474</td>\n",
              "      <td>1</td>\n",
              "      <td>156</td>\n",
              "      <td>56.000000</td>\n",
              "      <td>100</td>\n",
              "      <td>60</td>\n",
              "      <td>1</td>\n",
              "      <td>1</td>\n",
              "      <td>0</td>\n",
              "      <td>0</td>\n",
              "      <td>0</td>\n",
              "      <td>0</td>\n",
              "      <td>48</td>\n",
              "    </tr>\n",
              "    <tr>\n",
              "      <th>5</th>\n",
              "      <td>8</td>\n",
              "      <td>21914</td>\n",
              "      <td>1</td>\n",
              "      <td>151</td>\n",
              "      <td>67.000000</td>\n",
              "      <td>120</td>\n",
              "      <td>80</td>\n",
              "      <td>2</td>\n",
              "      <td>2</td>\n",
              "      <td>0</td>\n",
              "      <td>0</td>\n",
              "      <td>0</td>\n",
              "      <td>0</td>\n",
              "      <td>60</td>\n",
              "    </tr>\n",
              "    <tr>\n",
              "      <th>6</th>\n",
              "      <td>9</td>\n",
              "      <td>22113</td>\n",
              "      <td>1</td>\n",
              "      <td>157</td>\n",
              "      <td>93.000000</td>\n",
              "      <td>130</td>\n",
              "      <td>80</td>\n",
              "      <td>3</td>\n",
              "      <td>1</td>\n",
              "      <td>0</td>\n",
              "      <td>0</td>\n",
              "      <td>1</td>\n",
              "      <td>0</td>\n",
              "      <td>61</td>\n",
              "    </tr>\n",
              "    <tr>\n",
              "      <th>7</th>\n",
              "      <td>12</td>\n",
              "      <td>22584</td>\n",
              "      <td>2</td>\n",
              "      <td>178</td>\n",
              "      <td>95.000000</td>\n",
              "      <td>130</td>\n",
              "      <td>90</td>\n",
              "      <td>3</td>\n",
              "      <td>3</td>\n",
              "      <td>0</td>\n",
              "      <td>0</td>\n",
              "      <td>1</td>\n",
              "      <td>1</td>\n",
              "      <td>62</td>\n",
              "    </tr>\n",
              "    <tr>\n",
              "      <th>8</th>\n",
              "      <td>13</td>\n",
              "      <td>17668</td>\n",
              "      <td>1</td>\n",
              "      <td>158</td>\n",
              "      <td>71.000000</td>\n",
              "      <td>110</td>\n",
              "      <td>70</td>\n",
              "      <td>1</td>\n",
              "      <td>1</td>\n",
              "      <td>0</td>\n",
              "      <td>0</td>\n",
              "      <td>1</td>\n",
              "      <td>0</td>\n",
              "      <td>48</td>\n",
              "    </tr>\n",
              "    <tr>\n",
              "      <th>9</th>\n",
              "      <td>14</td>\n",
              "      <td>19834</td>\n",
              "      <td>1</td>\n",
              "      <td>164</td>\n",
              "      <td>68.000000</td>\n",
              "      <td>110</td>\n",
              "      <td>60</td>\n",
              "      <td>1</td>\n",
              "      <td>1</td>\n",
              "      <td>0</td>\n",
              "      <td>0</td>\n",
              "      <td>0</td>\n",
              "      <td>0</td>\n",
              "      <td>54</td>\n",
              "    </tr>\n",
              "    <tr>\n",
              "      <th>10</th>\n",
              "      <td>15</td>\n",
              "      <td>28654</td>\n",
              "      <td>1</td>\n",
              "      <td>14677</td>\n",
              "      <td>99604.471172</td>\n",
              "      <td>75</td>\n",
              "      <td>17425</td>\n",
              "      <td>3</td>\n",
              "      <td>1</td>\n",
              "      <td>1</td>\n",
              "      <td>19764</td>\n",
              "      <td>16444</td>\n",
              "      <td>0</td>\n",
              "      <td>87761</td>\n",
              "    </tr>\n",
              "    <tr>\n",
              "      <th>11</th>\n",
              "      <td>16</td>\n",
              "      <td>11363</td>\n",
              "      <td>2</td>\n",
              "      <td>150</td>\n",
              "      <td>127.605385</td>\n",
              "      <td>72541</td>\n",
              "      <td>110</td>\n",
              "      <td>21112</td>\n",
              "      <td>1</td>\n",
              "      <td>1</td>\n",
              "      <td>15299</td>\n",
              "      <td>79639</td>\n",
              "      <td>0</td>\n",
              "      <td>14134</td>\n",
              "    </tr>\n",
              "    <tr>\n",
              "      <th>12</th>\n",
              "      <td>17</td>\n",
              "      <td>48175</td>\n",
              "      <td>3938</td>\n",
              "      <td>31697</td>\n",
              "      <td>167.928056</td>\n",
              "      <td>33685</td>\n",
              "      <td>50</td>\n",
              "      <td>56125</td>\n",
              "      <td>54779</td>\n",
              "      <td>1</td>\n",
              "      <td>0</td>\n",
              "      <td>0</td>\n",
              "      <td>91635</td>\n",
              "      <td>58667</td>\n",
              "    </tr>\n",
              "  </tbody>\n",
              "</table>\n",
              "</div>"
            ],
            "text/plain": [
              "    id    age  gender  height  ...  alcohol  physical_active  cardio_issues  years\n",
              "0    0  18393       2     168  ...        0                1              0     50\n",
              "1    1  20228       1     156  ...        0                1              1     55\n",
              "2    2  18857       1     165  ...        0                0              1     52\n",
              "3    3  17623       2     169  ...        0                1              1     48\n",
              "4    4  17474       1     156  ...        0                0              0     48\n",
              "5    8  21914       1     151  ...        0                0              0     60\n",
              "6    9  22113       1     157  ...        0                1              0     61\n",
              "7   12  22584       2     178  ...        0                1              1     62\n",
              "8   13  17668       1     158  ...        0                1              0     48\n",
              "9   14  19834       1     164  ...        0                0              0     54\n",
              "10  15  28654       1   14677  ...    19764            16444              0  87761\n",
              "11  16  11363       2     150  ...    15299            79639              0  14134\n",
              "12  17  48175    3938   31697  ...        0                0          91635  58667\n",
              "\n",
              "[13 rows x 14 columns]"
            ]
          },
          "metadata": {
            "tags": []
          },
          "execution_count": 19
        }
      ]
    },
    {
      "cell_type": "markdown",
      "metadata": {
        "id": "gEWRUxNa17Ka"
      },
      "source": [
        "**Second - Clean Data**"
      ]
    },
    {
      "cell_type": "code",
      "metadata": {
        "id": "C8NOt-3x_oZc"
      },
      "source": [
        "def clearErrorsFromMyData(data):\r\n",
        "  for key, value in limits.items():\r\n",
        "    data.drop(data[(data[key] > value[1]) | (data[key] < value[0])].index,inplace=True)\r\n",
        "  data.drop(data[(data['sbp'] < 0) | (data['dbp'] < 0) | (data['sbp'] < data['dbp'])].index,inplace=True)\r\n",
        "  return data"
      ],
      "execution_count": 20,
      "outputs": []
    },
    {
      "cell_type": "code",
      "metadata": {
        "id": "Gx_VXhKh1Zyy",
        "colab": {
          "base_uri": "https://localhost:8080/"
        },
        "outputId": "4ba56257-06ca-4b16-e69b-07a37c1baca4"
      },
      "source": [
        "data = cleandf.copy()\r\n",
        "print(\"Before\\n {0}\".format(data))\r\n",
        "data = clearErrorsFromMyData(data)\r\n",
        "print(\"After\\n {0}\".format(data))"
      ],
      "execution_count": 21,
      "outputs": [
        {
          "output_type": "stream",
          "text": [
            "Before\n",
            "           id    age  gender  ...  physical_active  cardio_issues  years\n",
            "0          0  18393       2  ...                1              0     50\n",
            "1          1  20228       1  ...                1              1     55\n",
            "2          2  18857       1  ...                0              1     52\n",
            "3          3  17623       2  ...                1              1     48\n",
            "4          4  17474       1  ...                0              0     48\n",
            "...      ...    ...     ...  ...              ...            ...    ...\n",
            "69995  99993  19240       2  ...                1              0     53\n",
            "69996  99995  22601       1  ...                1              1     62\n",
            "69997  99996  19066       2  ...                0              1     52\n",
            "69998  99998  22431       1  ...                0              1     61\n",
            "69999  99999  20540       1  ...                1              0     56\n",
            "\n",
            "[70000 rows x 14 columns]\n",
            "After\n",
            "           id    age  gender  ...  physical_active  cardio_issues  years\n",
            "0          0  18393       2  ...                1              0     50\n",
            "1          1  20228       1  ...                1              1     55\n",
            "2          2  18857       1  ...                0              1     52\n",
            "3          3  17623       2  ...                1              1     48\n",
            "4          4  17474       1  ...                0              0     48\n",
            "...      ...    ...     ...  ...              ...            ...    ...\n",
            "69995  99993  19240       2  ...                1              0     53\n",
            "69996  99995  22601       1  ...                1              1     62\n",
            "69997  99996  19066       2  ...                0              1     52\n",
            "69998  99998  22431       1  ...                0              1     61\n",
            "69999  99999  20540       1  ...                1              0     56\n",
            "\n",
            "[68529 rows x 14 columns]\n"
          ],
          "name": "stdout"
        }
      ]
    },
    {
      "cell_type": "code",
      "metadata": {
        "colab": {
          "base_uri": "https://localhost:8080/"
        },
        "id": "iMU_cmrQcQLK",
        "outputId": "d6f74437-8a6f-455d-8b60-cca88ce540ae"
      },
      "source": [
        "checkIfIsOutOfLimits(data)"
      ],
      "execution_count": 22,
      "outputs": [
        {
          "output_type": "stream",
          "text": [
            "Instances where age is greater or lesser than the chosen limits: Greater: 0, Lesser 0\n",
            "Instances where gender is greater or lesser than the chosen limits: Greater: 0, Lesser 0\n",
            "Instances where height is greater or lesser than the chosen limits: Greater: 0, Lesser 0\n",
            "Instances where weight is greater or lesser than the chosen limits: Greater: 0, Lesser 0\n",
            "Instances where sbp is greater or lesser than the chosen limits: Greater: 0, Lesser 0\n",
            "Instances where dbp is greater or lesser than the chosen limits: Greater: 0, Lesser 0\n",
            "Instances where cholesterol is greater or lesser than the chosen limits: Greater: 0, Lesser 0\n",
            "Instances where glucose is greater or lesser than the chosen limits: Greater: 0, Lesser 0\n",
            "Instances where smoking is greater or lesser than the chosen limits: Greater: 0, Lesser 0\n",
            "Instances where alcohol is greater or lesser than the chosen limits: Greater: 0, Lesser 0\n",
            "Instances where physical_active is greater or lesser than the chosen limits: Greater: 0, Lesser 0\n",
            "Instances where cardio_issues is greater or lesser than the chosen limits: Greater: 0, Lesser 0\n",
            "Instances where years is greater or lesser than the chosen limits: Greater: 0, Lesser 0\n"
          ],
          "name": "stdout"
        }
      ]
    },
    {
      "cell_type": "code",
      "metadata": {
        "colab": {
          "base_uri": "https://localhost:8080/",
          "height": 296
        },
        "id": "TE2EfSqrlbph",
        "outputId": "01d1834c-ac9f-4bf5-973f-a1b6bb109db7"
      },
      "source": [
        "blood_pressure = data.loc[:,['dbp','sbp']]\r\n",
        "blood_pressureMelt = blood_pressure.melt()\r\n",
        "\r\n",
        "checkDSP(data, blood_pressureMelt)"
      ],
      "execution_count": 23,
      "outputs": [
        {
          "output_type": "stream",
          "text": [
            "Diastilic pressure is higher than systolic one in 0 cases\n"
          ],
          "name": "stdout"
        },
        {
          "output_type": "display_data",
          "data": {
            "image/png": "[encoded data removed]",
            "text/plain": [
              "<Figure size 432x288 with 1 Axes>"
            ]
          },
          "metadata": {
            "tags": [],
            "needs_background": "light"
          }
        }
      ]
    },
    {
      "cell_type": "code",
      "metadata": {
        "colab": {
          "base_uri": "https://localhost:8080/",
          "height": 304
        },
        "id": "N28oGHE0l5zm",
        "outputId": "4b385df0-966c-41d3-cad8-429dcba95a4f"
      },
      "source": [
        "data.describe()"
      ],
      "execution_count": 24,
      "outputs": [
        {
          "output_type": "execute_result",
          "data": {
            "text/html": [
              "<div>\n",
              "<style scoped>\n",
              "    .dataframe tbody tr th:only-of-type {\n",
              "        vertical-align: middle;\n",
              "    }\n",
              "\n",
              "    .dataframe tbody tr th {\n",
              "        vertical-align: top;\n",
              "    }\n",
              "\n",
              "    .dataframe thead th {\n",
              "        text-align: right;\n",
              "    }\n",
              "</style>\n",
              "<table border=\"1\" class=\"dataframe\">\n",
              "  <thead>\n",
              "    <tr style=\"text-align: right;\">\n",
              "      <th></th>\n",
              "      <th>id</th>\n",
              "      <th>age</th>\n",
              "      <th>gender</th>\n",
              "      <th>height</th>\n",
              "      <th>weight</th>\n",
              "      <th>sbp</th>\n",
              "      <th>dbp</th>\n",
              "      <th>cholesterol</th>\n",
              "      <th>glucose</th>\n",
              "      <th>smoking</th>\n",
              "      <th>alcohol</th>\n",
              "      <th>physical_active</th>\n",
              "      <th>cardio_issues</th>\n",
              "      <th>years</th>\n",
              "    </tr>\n",
              "  </thead>\n",
              "  <tbody>\n",
              "    <tr>\n",
              "      <th>count</th>\n",
              "      <td>68529.000000</td>\n",
              "      <td>68529.000000</td>\n",
              "      <td>68529.000000</td>\n",
              "      <td>68529.000000</td>\n",
              "      <td>68529.000000</td>\n",
              "      <td>68529.000000</td>\n",
              "      <td>68529.000000</td>\n",
              "      <td>68529.000000</td>\n",
              "      <td>68529.000000</td>\n",
              "      <td>68529.000000</td>\n",
              "      <td>68529.000000</td>\n",
              "      <td>68529.000000</td>\n",
              "      <td>68529.000000</td>\n",
              "      <td>68529.000000</td>\n",
              "    </tr>\n",
              "    <tr>\n",
              "      <th>mean</th>\n",
              "      <td>49974.953538</td>\n",
              "      <td>19464.262969</td>\n",
              "      <td>1.348568</td>\n",
              "      <td>164.417283</td>\n",
              "      <td>74.116069</td>\n",
              "      <td>126.606794</td>\n",
              "      <td>81.289834</td>\n",
              "      <td>1.364459</td>\n",
              "      <td>1.225642</td>\n",
              "      <td>0.087963</td>\n",
              "      <td>0.053335</td>\n",
              "      <td>0.803324</td>\n",
              "      <td>0.494491</td>\n",
              "      <td>53.326344</td>\n",
              "    </tr>\n",
              "    <tr>\n",
              "      <th>std</th>\n",
              "      <td>28848.043430</td>\n",
              "      <td>2468.238892</td>\n",
              "      <td>0.476520</td>\n",
              "      <td>7.914021</td>\n",
              "      <td>14.279412</td>\n",
              "      <td>16.486574</td>\n",
              "      <td>9.344670</td>\n",
              "      <td>0.678796</td>\n",
              "      <td>0.571549</td>\n",
              "      <td>0.283243</td>\n",
              "      <td>0.224702</td>\n",
              "      <td>0.397488</td>\n",
              "      <td>0.499973</td>\n",
              "      <td>6.768013</td>\n",
              "    </tr>\n",
              "    <tr>\n",
              "      <th>min</th>\n",
              "      <td>0.000000</td>\n",
              "      <td>10798.000000</td>\n",
              "      <td>1.000000</td>\n",
              "      <td>120.000000</td>\n",
              "      <td>35.000000</td>\n",
              "      <td>80.000000</td>\n",
              "      <td>50.000000</td>\n",
              "      <td>1.000000</td>\n",
              "      <td>1.000000</td>\n",
              "      <td>0.000000</td>\n",
              "      <td>0.000000</td>\n",
              "      <td>0.000000</td>\n",
              "      <td>0.000000</td>\n",
              "      <td>30.000000</td>\n",
              "    </tr>\n",
              "    <tr>\n",
              "      <th>25%</th>\n",
              "      <td>25003.000000</td>\n",
              "      <td>17657.000000</td>\n",
              "      <td>1.000000</td>\n",
              "      <td>159.000000</td>\n",
              "      <td>65.000000</td>\n",
              "      <td>120.000000</td>\n",
              "      <td>80.000000</td>\n",
              "      <td>1.000000</td>\n",
              "      <td>1.000000</td>\n",
              "      <td>0.000000</td>\n",
              "      <td>0.000000</td>\n",
              "      <td>1.000000</td>\n",
              "      <td>0.000000</td>\n",
              "      <td>48.000000</td>\n",
              "    </tr>\n",
              "    <tr>\n",
              "      <th>50%</th>\n",
              "      <td>50012.000000</td>\n",
              "      <td>19701.000000</td>\n",
              "      <td>1.000000</td>\n",
              "      <td>165.000000</td>\n",
              "      <td>72.000000</td>\n",
              "      <td>120.000000</td>\n",
              "      <td>80.000000</td>\n",
              "      <td>1.000000</td>\n",
              "      <td>1.000000</td>\n",
              "      <td>0.000000</td>\n",
              "      <td>0.000000</td>\n",
              "      <td>1.000000</td>\n",
              "      <td>0.000000</td>\n",
              "      <td>54.000000</td>\n",
              "    </tr>\n",
              "    <tr>\n",
              "      <th>75%</th>\n",
              "      <td>74877.000000</td>\n",
              "      <td>21324.000000</td>\n",
              "      <td>2.000000</td>\n",
              "      <td>170.000000</td>\n",
              "      <td>82.000000</td>\n",
              "      <td>140.000000</td>\n",
              "      <td>90.000000</td>\n",
              "      <td>1.000000</td>\n",
              "      <td>1.000000</td>\n",
              "      <td>0.000000</td>\n",
              "      <td>0.000000</td>\n",
              "      <td>1.000000</td>\n",
              "      <td>1.000000</td>\n",
              "      <td>58.000000</td>\n",
              "    </tr>\n",
              "    <tr>\n",
              "      <th>max</th>\n",
              "      <td>99999.000000</td>\n",
              "      <td>23713.000000</td>\n",
              "      <td>2.000000</td>\n",
              "      <td>250.000000</td>\n",
              "      <td>200.000000</td>\n",
              "      <td>200.000000</td>\n",
              "      <td>150.000000</td>\n",
              "      <td>3.000000</td>\n",
              "      <td>3.000000</td>\n",
              "      <td>1.000000</td>\n",
              "      <td>1.000000</td>\n",
              "      <td>1.000000</td>\n",
              "      <td>1.000000</td>\n",
              "      <td>65.000000</td>\n",
              "    </tr>\n",
              "  </tbody>\n",
              "</table>\n",
              "</div>"
            ],
            "text/plain": [
              "                 id           age  ...  cardio_issues         years\n",
              "count  68529.000000  68529.000000  ...   68529.000000  68529.000000\n",
              "mean   49974.953538  19464.262969  ...       0.494491     53.326344\n",
              "std    28848.043430   2468.238892  ...       0.499973      6.768013\n",
              "min        0.000000  10798.000000  ...       0.000000     30.000000\n",
              "25%    25003.000000  17657.000000  ...       0.000000     48.000000\n",
              "50%    50012.000000  19701.000000  ...       0.000000     54.000000\n",
              "75%    74877.000000  21324.000000  ...       1.000000     58.000000\n",
              "max    99999.000000  23713.000000  ...       1.000000     65.000000\n",
              "\n",
              "[8 rows x 14 columns]"
            ]
          },
          "metadata": {
            "tags": []
          },
          "execution_count": 24
        }
      ]
    },
    {
      "cell_type": "markdown",
      "metadata": {
        "id": "OKQXpqFiA9Lm"
      },
      "source": [
        "# RA"
      ]
    },
    {
      "cell_type": "markdown",
      "metadata": {
        "id": "tU9scnXU1jQx"
      },
      "source": [
        "Numarul total de persoane, separate dupa gen.\r\n",
        "\r\n",
        "---"
      ]
    },
    {
      "cell_type": "code",
      "metadata": {
        "colab": {
          "base_uri": "https://localhost:8080/"
        },
        "id": "zZhR-lWN04j1",
        "outputId": "98ead1ad-6a4f-4377-d7b4-e9f47d556513"
      },
      "source": [
        "df['gender'].value_counts()"
      ],
      "execution_count": null,
      "outputs": [
        {
          "output_type": "execute_result",
          "data": {
            "text/plain": [
              "1    45530\n",
              "2    24470\n",
              "Name: gender, dtype: int64"
            ]
          },
          "metadata": {
            "tags": []
          },
          "execution_count": 7
        }
      ]
    },
    {
      "cell_type": "markdown",
      "metadata": {
        "id": "l_PbC55utS3m"
      },
      "source": [
        "  Pentru a afla daca valoarea 1 din coloana 'gender' reprezinta genul feminin sau masculin vom calcula inaltimea medie a celor doua genuri. De asemenea, vom tine cont de presupunerea ca, in medie, inaltimea barbatilor este mai mare decat cea a femeilor."
      ]
    },
    {
      "cell_type": "code",
      "metadata": {
        "id": "nMBSHPOrmKi9",
        "colab": {
          "base_uri": "https://localhost:8080/"
        },
        "outputId": "1e30ecb7-0c1f-4c0e-b587-93f1c938f1e4"
      },
      "source": [
        "df.groupby('gender')['height'].mean()"
      ],
      "execution_count": null,
      "outputs": [
        {
          "output_type": "execute_result",
          "data": {
            "text/plain": [
              "gender\n",
              "1    161.355612\n",
              "2    169.947895\n",
              "Name: height, dtype: float64"
            ]
          },
          "metadata": {
            "tags": []
          },
          "execution_count": 180
        }
      ]
    },
    {
      "cell_type": "markdown",
      "metadata": {
        "id": "h4b81fAdwKQl"
      },
      "source": [
        "Am extras submultimea formata din coloanele 'gender' si 'height', unde 'gender' are rol de index si 'height' este valoarea acesteia. Pentru a obtine valoarea medie a inaltimii, am aplicat functia mean() asupra submultimii obtinute.                                  \r\n",
        "Din rezultatul obtinut si tinand cont de presupunerea mentionata anterior, putem presupune ca valoarea 1 din coloana 'gender' reprezinta genul feminin, deoarece valoarea media a acesteia este mai mica decat cea a valorii 2."
      ]
    },
    {
      "cell_type": "markdown",
      "metadata": {
        "id": "HQtvqQbR7lid"
      },
      "source": [
        "Diferite statistici in functie de gen\r\n",
        "\r\n",
        "---"
      ]
    },
    {
      "cell_type": "code",
      "metadata": {
        "colab": {
          "base_uri": "https://localhost:8080/",
          "height": 190
        },
        "id": "Z9ON2KRjHJNV",
        "outputId": "781f66fd-d8a3-4280-f500-ba7368c329fa"
      },
      "source": [
        "gender_stats = df.groupby('gender')['alco','smoke','gluc','cholesterol']\r\n",
        "gender_stats.mean()"
      ],
      "execution_count": null,
      "outputs": [
        {
          "output_type": "stream",
          "text": [
            "/usr/local/lib/python3.7/dist-packages/ipykernel_launcher.py:1: FutureWarning: Indexing with multiple keys (implicitly converted to a tuple of keys) will be deprecated, use a list instead.\n",
            "  \"\"\"Entry point for launching an IPython kernel.\n"
          ],
          "name": "stderr"
        },
        {
          "output_type": "execute_result",
          "data": {
            "text/html": [
              "<div>\n",
              "<style scoped>\n",
              "    .dataframe tbody tr th:only-of-type {\n",
              "        vertical-align: middle;\n",
              "    }\n",
              "\n",
              "    .dataframe tbody tr th {\n",
              "        vertical-align: top;\n",
              "    }\n",
              "\n",
              "    .dataframe thead th {\n",
              "        text-align: right;\n",
              "    }\n",
              "</style>\n",
              "<table border=\"1\" class=\"dataframe\">\n",
              "  <thead>\n",
              "    <tr style=\"text-align: right;\">\n",
              "      <th></th>\n",
              "      <th>alco</th>\n",
              "      <th>smoke</th>\n",
              "      <th>gluc</th>\n",
              "      <th>cholesterol</th>\n",
              "    </tr>\n",
              "    <tr>\n",
              "      <th>gender</th>\n",
              "      <th></th>\n",
              "      <th></th>\n",
              "      <th></th>\n",
              "      <th></th>\n",
              "    </tr>\n",
              "  </thead>\n",
              "  <tbody>\n",
              "    <tr>\n",
              "      <th>1</th>\n",
              "      <td>0.025500</td>\n",
              "      <td>0.017856</td>\n",
              "      <td>1.235054</td>\n",
              "      <td>1.384735</td>\n",
              "    </tr>\n",
              "    <tr>\n",
              "      <th>2</th>\n",
              "      <td>0.106375</td>\n",
              "      <td>0.218880</td>\n",
              "      <td>1.210462</td>\n",
              "      <td>1.333633</td>\n",
              "    </tr>\n",
              "  </tbody>\n",
              "</table>\n",
              "</div>"
            ],
            "text/plain": [
              "            alco     smoke      gluc  cholesterol\n",
              "gender                                           \n",
              "1       0.025500  0.017856  1.235054     1.384735\n",
              "2       0.106375  0.218880  1.210462     1.333633"
            ]
          },
          "metadata": {
            "tags": []
          },
          "execution_count": 60
        }
      ]
    },
    {
      "cell_type": "code",
      "metadata": {
        "colab": {
          "base_uri": "https://localhost:8080/",
          "height": 296
        },
        "id": "8XwWVSuiIB0n",
        "outputId": "9529ece7-5ae6-4d0e-f5db-de5fa8ea8d09"
      },
      "source": [
        "gender_stats.mean().plot()"
      ],
      "execution_count": null,
      "outputs": [
        {
          "output_type": "execute_result",
          "data": {
            "text/plain": [
              "<matplotlib.axes._subplots.AxesSubplot at 0x7f418bac3750>"
            ]
          },
          "metadata": {
            "tags": []
          },
          "execution_count": 63
        },
        {
          "output_type": "display_data",
          "data": {
            "image/png": "[encoded data removed]",
            "text/plain": [
              "<Figure size 432x288 with 1 Axes>"
            ]
          },
          "metadata": {
            "tags": [],
            "needs_background": "light"
          }
        }
      ]
    },
    {
      "cell_type": "code",
      "metadata": {
        "colab": {
          "base_uri": "https://localhost:8080/",
          "height": 402
        },
        "id": "pR_2HZLlLAWy",
        "outputId": "54439aaf-0bcf-4593-9b37-fa027aadbd3a"
      },
      "source": [
        "gender_stats.filter(lambda x: x['alco'].mean() > x['smoke'].mean())"
      ],
      "execution_count": null,
      "outputs": [
        {
          "output_type": "execute_result",
          "data": {
            "text/html": [
              "<div>\n",
              "<style scoped>\n",
              "    .dataframe tbody tr th:only-of-type {\n",
              "        vertical-align: middle;\n",
              "    }\n",
              "\n",
              "    .dataframe tbody tr th {\n",
              "        vertical-align: top;\n",
              "    }\n",
              "\n",
              "    .dataframe thead th {\n",
              "        text-align: right;\n",
              "    }\n",
              "</style>\n",
              "<table border=\"1\" class=\"dataframe\">\n",
              "  <thead>\n",
              "    <tr style=\"text-align: right;\">\n",
              "      <th></th>\n",
              "      <th>alco</th>\n",
              "      <th>smoke</th>\n",
              "      <th>gluc</th>\n",
              "      <th>cholesterol</th>\n",
              "    </tr>\n",
              "  </thead>\n",
              "  <tbody>\n",
              "    <tr>\n",
              "      <th>1</th>\n",
              "      <td>0</td>\n",
              "      <td>0</td>\n",
              "      <td>1</td>\n",
              "      <td>3</td>\n",
              "    </tr>\n",
              "    <tr>\n",
              "      <th>2</th>\n",
              "      <td>0</td>\n",
              "      <td>0</td>\n",
              "      <td>1</td>\n",
              "      <td>3</td>\n",
              "    </tr>\n",
              "    <tr>\n",
              "      <th>4</th>\n",
              "      <td>0</td>\n",
              "      <td>0</td>\n",
              "      <td>1</td>\n",
              "      <td>1</td>\n",
              "    </tr>\n",
              "    <tr>\n",
              "      <th>5</th>\n",
              "      <td>0</td>\n",
              "      <td>0</td>\n",
              "      <td>2</td>\n",
              "      <td>2</td>\n",
              "    </tr>\n",
              "    <tr>\n",
              "      <th>6</th>\n",
              "      <td>0</td>\n",
              "      <td>0</td>\n",
              "      <td>1</td>\n",
              "      <td>3</td>\n",
              "    </tr>\n",
              "    <tr>\n",
              "      <th>...</th>\n",
              "      <td>...</td>\n",
              "      <td>...</td>\n",
              "      <td>...</td>\n",
              "      <td>...</td>\n",
              "    </tr>\n",
              "    <tr>\n",
              "      <th>69993</th>\n",
              "      <td>0</td>\n",
              "      <td>0</td>\n",
              "      <td>1</td>\n",
              "      <td>1</td>\n",
              "    </tr>\n",
              "    <tr>\n",
              "      <th>69994</th>\n",
              "      <td>0</td>\n",
              "      <td>0</td>\n",
              "      <td>1</td>\n",
              "      <td>1</td>\n",
              "    </tr>\n",
              "    <tr>\n",
              "      <th>69996</th>\n",
              "      <td>0</td>\n",
              "      <td>0</td>\n",
              "      <td>2</td>\n",
              "      <td>2</td>\n",
              "    </tr>\n",
              "    <tr>\n",
              "      <th>69998</th>\n",
              "      <td>0</td>\n",
              "      <td>0</td>\n",
              "      <td>2</td>\n",
              "      <td>1</td>\n",
              "    </tr>\n",
              "    <tr>\n",
              "      <th>69999</th>\n",
              "      <td>0</td>\n",
              "      <td>0</td>\n",
              "      <td>1</td>\n",
              "      <td>2</td>\n",
              "    </tr>\n",
              "  </tbody>\n",
              "</table>\n",
              "<p>45530 rows × 4 columns</p>\n",
              "</div>"
            ],
            "text/plain": [
              "       alco  smoke  gluc  cholesterol\n",
              "1         0      0     1            3\n",
              "2         0      0     1            3\n",
              "4         0      0     1            1\n",
              "5         0      0     2            2\n",
              "6         0      0     1            3\n",
              "...     ...    ...   ...          ...\n",
              "69993     0      0     1            1\n",
              "69994     0      0     1            1\n",
              "69996     0      0     2            2\n",
              "69998     0      0     2            1\n",
              "69999     0      0     1            2\n",
              "\n",
              "[45530 rows x 4 columns]"
            ]
          },
          "metadata": {
            "tags": []
          },
          "execution_count": 73
        }
      ]
    },
    {
      "cell_type": "code",
      "metadata": {
        "colab": {
          "base_uri": "https://localhost:8080/",
          "height": 136
        },
        "id": "iIDlo2HdKLNr",
        "outputId": "c8185432-8708-4091-90af-09d4c8a9c236"
      },
      "source": [
        "gender_stats.agg({'alco': 'std', 'smoke': 'std','gluc':'std','cholesterol':'std'})"
      ],
      "execution_count": null,
      "outputs": [
        {
          "output_type": "execute_result",
          "data": {
            "text/html": [
              "<div>\n",
              "<style scoped>\n",
              "    .dataframe tbody tr th:only-of-type {\n",
              "        vertical-align: middle;\n",
              "    }\n",
              "\n",
              "    .dataframe tbody tr th {\n",
              "        vertical-align: top;\n",
              "    }\n",
              "\n",
              "    .dataframe thead th {\n",
              "        text-align: right;\n",
              "    }\n",
              "</style>\n",
              "<table border=\"1\" class=\"dataframe\">\n",
              "  <thead>\n",
              "    <tr style=\"text-align: right;\">\n",
              "      <th></th>\n",
              "      <th>alco</th>\n",
              "      <th>smoke</th>\n",
              "      <th>gluc</th>\n",
              "      <th>cholesterol</th>\n",
              "    </tr>\n",
              "    <tr>\n",
              "      <th>gender</th>\n",
              "      <th></th>\n",
              "      <th></th>\n",
              "      <th></th>\n",
              "      <th></th>\n",
              "    </tr>\n",
              "  </thead>\n",
              "  <tbody>\n",
              "    <tr>\n",
              "      <th>1</th>\n",
              "      <td>0.157639</td>\n",
              "      <td>0.132431</td>\n",
              "      <td>0.582956</td>\n",
              "      <td>0.693417</td>\n",
              "    </tr>\n",
              "    <tr>\n",
              "      <th>2</th>\n",
              "      <td>0.308323</td>\n",
              "      <td>0.413496</td>\n",
              "      <td>0.551493</td>\n",
              "      <td>0.653764</td>\n",
              "    </tr>\n",
              "  </tbody>\n",
              "</table>\n",
              "</div>"
            ],
            "text/plain": [
              "            alco     smoke      gluc  cholesterol\n",
              "gender                                           \n",
              "1       0.157639  0.132431  0.582956     0.693417\n",
              "2       0.308323  0.413496  0.551493     0.653764"
            ]
          },
          "metadata": {
            "tags": []
          },
          "execution_count": 68
        }
      ]
    },
    {
      "cell_type": "markdown",
      "metadata": {
        "id": "Mja3qLG2RXqs"
      },
      "source": [
        "\r\n",
        "Persoane cu boli cardiace, pe grupe de varsta\r\n",
        "\r\n",
        "---\r\n",
        "\r\n"
      ]
    },
    {
      "cell_type": "code",
      "metadata": {
        "colab": {
          "base_uri": "https://localhost:8080/"
        },
        "id": "HvmVsJLjcJQC",
        "outputId": "0d505fe7-8b54-4914-e69f-76d3c45d5011"
      },
      "source": [
        "df.groupby('gender')['age'].min()/365"
      ],
      "execution_count": null,
      "outputs": [
        {
          "output_type": "execute_result",
          "data": {
            "text/plain": [
              "gender\n",
              "1    29.750685\n",
              "2    29.583562\n",
              "Name: age, dtype: float64"
            ]
          },
          "metadata": {
            "tags": []
          },
          "execution_count": 4
        }
      ]
    },
    {
      "cell_type": "code",
      "metadata": {
        "colab": {
          "base_uri": "https://localhost:8080/"
        },
        "id": "cmeLJX87cfYh",
        "outputId": "ab611b75-aad9-4191-923b-498a48295b41"
      },
      "source": [
        "df.groupby('gender')['age'].max()/365"
      ],
      "execution_count": null,
      "outputs": [
        {
          "output_type": "execute_result",
          "data": {
            "text/plain": [
              "gender\n",
              "1    64.934247\n",
              "2    64.967123\n",
              "Name: age, dtype: float64"
            ]
          },
          "metadata": {
            "tags": []
          },
          "execution_count": 5
        }
      ]
    },
    {
      "cell_type": "markdown",
      "metadata": {
        "id": "aaiW8OHp0W3_"
      },
      "source": [
        "Deoarece am grupat coloana 'age' dupa gen, am aflat valoarea minima si maxima de varsta. Folosind aceasta informatie, am stabilit ca valoare coloanei 'age' va fi cuprinsa intre 29 si 64 de ani."
      ]
    },
    {
      "cell_type": "code",
      "metadata": {
        "id": "3wewW2zwRnkF"
      },
      "source": [
        "def age_func(x):\r\n",
        "  if (x < 30.0) & (x >= 20.0):\r\n",
        "    return '20s'\r\n",
        "  elif (x < 40.0) & (x >= 30.0):\r\n",
        "    return '30s'\r\n",
        "  elif (x < 50.0) & (x >= 40.0):\r\n",
        "    return '40s'\r\n",
        "  elif (x < 60.0) & (x >= 50.0):\r\n",
        "    return '50s'\r\n",
        "  elif (x < 70.0) & (x >= 60.0):\r\n",
        "    return '60s'\r\n"
      ],
      "execution_count": null,
      "outputs": []
    },
    {
      "cell_type": "markdown",
      "metadata": {
        "id": "9oSx4YvA8w1o"
      },
      "source": [
        "Am definit functia age_func(), care va ajuta la stabilirea categoriei de varsta. Categoriile de varsta sunt: \r\n",
        "* 20s (varsta cuprinsa intre 20 -> 29 de ani)\r\n",
        "* 30s (varsta cuprinsa intre 30 -> 39 de ani)\r\n",
        "* 40s (varsta cuprinsa intre 40 -> 49 de ani)\r\n",
        "* 50s (varsta cuprinsa intre 50 -> 59 de ani)\r\n",
        "* 60s (varsta cuprinsa intre 60 -> 69 de ani)"
      ]
    },
    {
      "cell_type": "code",
      "metadata": {
        "id": "poi1ughK4SRt"
      },
      "source": [
        "ages = [] \r\n",
        "#print(len(ages))\r\n",
        "for i, j in df['age'].iteritems():\r\n",
        "    ages.append(age_func(df['age'][i]/365))\r\n",
        "#print(ages)\r\n",
        "df['age_cat']=ages"
      ],
      "execution_count": null,
      "outputs": []
    },
    {
      "cell_type": "markdown",
      "metadata": {
        "id": "l-G5IFQ2F8hh"
      },
      "source": [
        "In lista ages am salvat categoriile de varsta pentru fiecare intrare din coloana 'age', dupa care am atribuit valorile din lista noii coloane 'age_cat'."
      ]
    },
    {
      "cell_type": "code",
      "metadata": {
        "colab": {
          "base_uri": "https://localhost:8080/",
          "height": 225
        },
        "id": "ciE3J-ZzbqJP",
        "outputId": "a5abe8cf-282c-47a2-eba1-d4db1a3e26da"
      },
      "source": [
        "tb1 = df.pivot_table(values='id',index='age_cat',columns='cardio', aggfunc=len, fill_value=0)\r\n",
        "tb1"
      ],
      "execution_count": null,
      "outputs": [
        {
          "output_type": "execute_result",
          "data": {
            "text/html": [
              "<div>\n",
              "<style scoped>\n",
              "    .dataframe tbody tr th:only-of-type {\n",
              "        vertical-align: middle;\n",
              "    }\n",
              "\n",
              "    .dataframe tbody tr th {\n",
              "        vertical-align: top;\n",
              "    }\n",
              "\n",
              "    .dataframe thead th {\n",
              "        text-align: right;\n",
              "    }\n",
              "</style>\n",
              "<table border=\"1\" class=\"dataframe\">\n",
              "  <thead>\n",
              "    <tr style=\"text-align: right;\">\n",
              "      <th>cardio</th>\n",
              "      <th>0</th>\n",
              "      <th>1</th>\n",
              "    </tr>\n",
              "    <tr>\n",
              "      <th>age_cat</th>\n",
              "      <th></th>\n",
              "      <th></th>\n",
              "    </tr>\n",
              "  </thead>\n",
              "  <tbody>\n",
              "    <tr>\n",
              "      <th>20s</th>\n",
              "      <td>3</td>\n",
              "      <td>0</td>\n",
              "    </tr>\n",
              "    <tr>\n",
              "      <th>30s</th>\n",
              "      <td>1349</td>\n",
              "      <td>432</td>\n",
              "    </tr>\n",
              "    <tr>\n",
              "      <th>40s</th>\n",
              "      <td>12177</td>\n",
              "      <td>7448</td>\n",
              "    </tr>\n",
              "    <tr>\n",
              "      <th>50s</th>\n",
              "      <td>17186</td>\n",
              "      <td>18355</td>\n",
              "    </tr>\n",
              "    <tr>\n",
              "      <th>60s</th>\n",
              "      <td>4306</td>\n",
              "      <td>8744</td>\n",
              "    </tr>\n",
              "  </tbody>\n",
              "</table>\n",
              "</div>"
            ],
            "text/plain": [
              "cardio       0      1\n",
              "age_cat              \n",
              "20s          3      0\n",
              "30s       1349    432\n",
              "40s      12177   7448\n",
              "50s      17186  18355\n",
              "60s       4306   8744"
            ]
          },
          "metadata": {
            "tags": []
          },
          "execution_count": 155
        }
      ]
    },
    {
      "cell_type": "markdown",
      "metadata": {
        "id": "odO6a35mNTgi"
      },
      "source": [
        "Prin folosirea functiei pivot_table, am creat tabelul pivot ce evidentiaza numarul de persoane cardiace pe grupe de varsta. "
      ]
    },
    {
      "cell_type": "code",
      "metadata": {
        "colab": {
          "base_uri": "https://localhost:8080/",
          "height": 296
        },
        "id": "UAnw3t0UePq8",
        "outputId": "f48c32eb-fe04-4cee-9cc9-560e3450256f"
      },
      "source": [
        "tb1.plot(xlabel=\"Age Categories\", ylabel=\"Number of Cases\")"
      ],
      "execution_count": null,
      "outputs": [
        {
          "output_type": "execute_result",
          "data": {
            "text/plain": [
              "<matplotlib.axes._subplots.AxesSubplot at 0x7f035f306150>"
            ]
          },
          "metadata": {
            "tags": []
          },
          "execution_count": 60
        },
        {
          "output_type": "display_data",
          "data": {
            "image/png": "[encoded data removed]",
            "text/plain": [
              "<Figure size 432x288 with 1 Axes>"
            ]
          },
          "metadata": {
            "tags": [],
            "needs_background": "light"
          }
        }
      ]
    },
    {
      "cell_type": "markdown",
      "metadata": {
        "id": "ddeFOrbLBgp3"
      },
      "source": [
        "Persoane cu tensiunea normala, pe categorii de varsta\r\n",
        "\r\n",
        "---"
      ]
    },
    {
      "cell_type": "code",
      "metadata": {
        "colab": {
          "base_uri": "https://localhost:8080/",
          "height": 166
        },
        "id": "bnG-klRl4Yxi",
        "outputId": "ee8aa07f-e91b-46f2-9876-7bd67aef36f3"
      },
      "source": [
        "#df[(df.v3 == some_value) & (df.v4 == some_value)].pivot_table(index='v1', columns='A', values='v3', aggfunc='count')\r\n",
        "tb2 = df[((df.ap_hi >= 120) & (df.ap_hi <= 121) & (df.ap_lo >= 79) & (df.ap_lo <= 80) & (df['age_cat'] == '20s')) |\r\n",
        "   ((df.ap_hi >= 122) & (df.ap_hi <= 123) & (df.ap_lo >= 81) & (df.ap_lo <= 82) & (df['age_cat'] == '30s')) |\r\n",
        "   ((df.ap_hi >= 124) & (df.ap_hi <= 127) & (df.ap_lo >= 83) & (df.ap_lo <= 84) & (df['age_cat'] == '40s')) |\r\n",
        "   ((df.ap_hi >= 128) & (df.ap_hi <= 131) & (df.ap_lo >= 85) & (df.ap_lo <= 86) & (df['age_cat'] == '50s')) |\r\n",
        "   ((df.ap_hi >= 132) & (df.ap_hi <= 134) & (df.ap_lo >= 87) & (df.ap_lo <= 88) & (df['age_cat'] == '60s'))\r\n",
        "   ].pivot_table(values=['ap_hi',\t'ap_lo',\t'alco','smoke','gluc','cholesterol','active','cardio'],index='age_cat', aggfunc='mean') \r\n",
        "tb2\r\n"
      ],
      "execution_count": null,
      "outputs": [
        {
          "output_type": "execute_result",
          "data": {
            "text/html": [
              "<div>\n",
              "<style scoped>\n",
              "    .dataframe tbody tr th:only-of-type {\n",
              "        vertical-align: middle;\n",
              "    }\n",
              "\n",
              "    .dataframe tbody tr th {\n",
              "        vertical-align: top;\n",
              "    }\n",
              "\n",
              "    .dataframe thead th {\n",
              "        text-align: right;\n",
              "    }\n",
              "</style>\n",
              "<table border=\"1\" class=\"dataframe\">\n",
              "  <thead>\n",
              "    <tr style=\"text-align: right;\">\n",
              "      <th></th>\n",
              "      <th>active</th>\n",
              "      <th>alco</th>\n",
              "      <th>ap_hi</th>\n",
              "      <th>ap_lo</th>\n",
              "      <th>cardio</th>\n",
              "      <th>cholesterol</th>\n",
              "      <th>gluc</th>\n",
              "      <th>smoke</th>\n",
              "    </tr>\n",
              "    <tr>\n",
              "      <th>age_cat</th>\n",
              "      <th></th>\n",
              "      <th></th>\n",
              "      <th></th>\n",
              "      <th></th>\n",
              "      <th></th>\n",
              "      <th></th>\n",
              "      <th></th>\n",
              "      <th></th>\n",
              "    </tr>\n",
              "  </thead>\n",
              "  <tbody>\n",
              "    <tr>\n",
              "      <th>20s</th>\n",
              "      <td>1.00</td>\n",
              "      <td>0.00</td>\n",
              "      <td>120.00</td>\n",
              "      <td>80.00</td>\n",
              "      <td>0.00</td>\n",
              "      <td>1.00</td>\n",
              "      <td>1.00</td>\n",
              "      <td>0.00</td>\n",
              "    </tr>\n",
              "    <tr>\n",
              "      <th>40s</th>\n",
              "      <td>0.75</td>\n",
              "      <td>0.00</td>\n",
              "      <td>125.50</td>\n",
              "      <td>83.50</td>\n",
              "      <td>0.00</td>\n",
              "      <td>1.00</td>\n",
              "      <td>1.00</td>\n",
              "      <td>0.00</td>\n",
              "    </tr>\n",
              "    <tr>\n",
              "      <th>50s</th>\n",
              "      <td>0.86</td>\n",
              "      <td>0.12</td>\n",
              "      <td>129.94</td>\n",
              "      <td>85.06</td>\n",
              "      <td>0.62</td>\n",
              "      <td>1.58</td>\n",
              "      <td>1.36</td>\n",
              "      <td>0.08</td>\n",
              "    </tr>\n",
              "  </tbody>\n",
              "</table>\n",
              "</div>"
            ],
            "text/plain": [
              "         active  alco   ap_hi  ap_lo  cardio  cholesterol  gluc  smoke\n",
              "age_cat                                                               \n",
              "20s        1.00  0.00  120.00  80.00    0.00         1.00  1.00   0.00\n",
              "40s        0.75  0.00  125.50  83.50    0.00         1.00  1.00   0.00\n",
              "50s        0.86  0.12  129.94  85.06    0.62         1.58  1.36   0.08"
            ]
          },
          "metadata": {
            "tags": []
          },
          "execution_count": 163
        }
      ]
    }
  ]
}