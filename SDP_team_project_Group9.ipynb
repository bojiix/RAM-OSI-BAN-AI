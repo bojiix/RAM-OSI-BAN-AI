{
  "nbformat": 4,
  "nbformat_minor": 0,
  "metadata": {
    "colab": {
      "name": "SDP_team_project_Group9.ipynb",
      "provenance": [],
      "include_colab_link": true
    },
    "kernelspec": {
      "name": "python3",
      "display_name": "Python 3"
    }
  },
  "cells": [
    {
      "cell_type": "markdown",
      "metadata": {
        "id": "view-in-github",
        "colab_type": "text"
      },
      "source": [
        "<a href=\"https://colab.research.google.com/github/bojiix/RAM-OSI-BAN-AI/blob/master/SDP_team_project_Group9.ipynb\" target=\"_parent\"><img src=\"https://colab.research.google.com/assets/colab-badge.svg\" alt=\"Open In Colab\"/></a>"
      ]
    },
    {
      "cell_type": "markdown",
      "metadata": {
        "id": "rGj70kQduE6l"
      },
      "source": [
        "# Analiza datelor cardiovasculare"
      ]
    },
    {
      "cell_type": "markdown",
      "metadata": {
        "id": "tdDrvOBgBHDi"
      },
      "source": [
        "**Imports And Read Data**"
      ]
    },
    {
      "cell_type": "markdown",
      "metadata": {
        "id": "cinX4QJ1EWmF"
      },
      "source": [
        "# BA"
      ]
    },
    {
      "cell_type": "code",
      "metadata": {
        "id": "tvb-meWRBC-L"
      },
      "source": [
        "import numpy as np # linear algebra\r\n",
        "import pandas as pd # data processing, CSV file I/O (e.g. pd.read_csv)\r\n",
        "import seaborn as sns\r\n",
        "from matplotlib import pyplot as plt\r\n",
        "from matplotlib import rcParams\r\n",
        "from sklearn.linear_model import LinearRegression as lr\r\n",
        "import os\r\n",
        "import random\r\n"
      ],
      "execution_count": 2,
      "outputs": []
    },
    {
      "cell_type": "code",
      "metadata": {
        "id": "v1vKTRDjBRBK"
      },
      "source": [
        "df = pd.read_csv(\"https://raw.githubusercontent.com/bojiix/RAM-OSI-BAN-AI/bojan/cardio_train.csv\", sep=\";\") # citirea bazei de date; separarea in functie de ;"
      ],
      "execution_count": 3,
      "outputs": []
    },
    {
      "cell_type": "markdown",
      "metadata": {
        "id": "Tor1YTNxDEui"
      },
      "source": [
        "**First - Analyze Data**"
      ]
    },
    {
      "cell_type": "markdown",
      "metadata": {
        "id": "BxcpJYeXFGE7"
      },
      "source": [
        "https://www.kaggle.com/sulianova/eda-cardiovascular-data\r\n",
        "\r\n",
        "The source offers a dataset of 70k entries and described all of the data as being of 3 types:\r\n",
        "  - objective: factual information;\r\n",
        "  - examination: results of medical examination;\r\n",
        "  - subjective: information given by the patient.\r\n",
        "\r\n",
        "Firstly, we'll take a look at every data's type and limits. We have:\r\n",
        "\r\n",
        "Age(Objective) - measured in days(int)\r\n",
        "\r\n",
        "Height(Objective) - measured in cm(int)\r\n",
        "\r\n",
        "Weight(Objective) - measured in kg(float)\r\n",
        "\r\n",
        "Gender(Objective) - categorical(1 - female, 2 - male)\r\n",
        "\r\n",
        "---\r\n",
        "\r\n",
        "Systolic blood pressure(Examination) - measured in mmHg(int)\r\n",
        "\r\n",
        "Diastolic blood pressure(Examination) -\tmeasured in mmHg(int)\r\n",
        "\r\n",
        "Cholesterol(Examination) - has 3 numerical represented stages:\t1 - normal, 2 - above normal, 3 - well above normal\r\n",
        "\r\n",
        "Glucose(Examination) - has also 3 numerical represented stages: 1 - normal, 2 - above normal, 3 - well above normal\r\n",
        "\r\n",
        "---\r\n",
        "\r\n",
        "Smoking(Subjective)\t- binary: 0 - no, 1 - yes\r\n",
        "\r\n",
        "Alcohol intake(Subjective) - binary: 0 - no, 1 - yes\r\n",
        "\r\n",
        "Physical activity(Subjective) - binary: 0 - no, 1 - yes\r\n",
        "\r\n",
        "---\r\n",
        "\r\n",
        "Presence or absence of cardiovascular disease(the target aspect) - binary: 0 - ok, 1 - not ok\r\n",
        "\r\n",
        "---\r\n",
        "\r\n",
        "All of this data will be arranged as columns:\r\n",
        "\r\n",
        "Age - age\r\n",
        "\r\n",
        "Height - height\r\n",
        "\r\n",
        "Weight - weight\r\n",
        "\r\n",
        "Gender - gender\r\n",
        "\r\n",
        "Systolic blood pressure - sbp\r\n",
        "\r\n",
        "Diastolic blood pressure - dbp\r\n",
        "\r\n",
        "Cholesterol - cholesterol\r\n",
        "\r\n",
        "Glucose - glucose\r\n",
        "\r\n",
        "Smoking - smoking\r\n",
        "\r\n",
        "Alcohol intake - alcohol\r\n",
        "\r\n",
        "Physical activity - physical_active\r\n",
        "\r\n",
        "Presence or absence of cardiovascular disease - cardio_issues\r\n",
        "\r\n",
        "We also added another column called 'years' that also represents the age of the subject."
      ]
    },
    {
      "cell_type": "code",
      "metadata": {
        "colab": {
          "base_uri": "https://localhost:8080/",
          "height": 0
        },
        "id": "cHZg9eSaB367",
        "outputId": "636d604b-8296-4dbc-dc39-b14d976f3ffa"
      },
      "source": [
        "df['years'] = (df['age'] / 365).round().astype('int') # added age in years\r\n",
        "df #preview data"
      ],
      "execution_count": 4,
      "outputs": [
        {
          "output_type": "execute_result",
          "data": {
            "text/html": [
              "<div>\n",
              "<style scoped>\n",
              "    .dataframe tbody tr th:only-of-type {\n",
              "        vertical-align: middle;\n",
              "    }\n",
              "\n",
              "    .dataframe tbody tr th {\n",
              "        vertical-align: top;\n",
              "    }\n",
              "\n",
              "    .dataframe thead th {\n",
              "        text-align: right;\n",
              "    }\n",
              "</style>\n",
              "<table border=\"1\" class=\"dataframe\">\n",
              "  <thead>\n",
              "    <tr style=\"text-align: right;\">\n",
              "      <th></th>\n",
              "      <th>id</th>\n",
              "      <th>age</th>\n",
              "      <th>gender</th>\n",
              "      <th>height</th>\n",
              "      <th>weight</th>\n",
              "      <th>sbp</th>\n",
              "      <th>dbp</th>\n",
              "      <th>cholesterol</th>\n",
              "      <th>glucose</th>\n",
              "      <th>smoking</th>\n",
              "      <th>alcohol</th>\n",
              "      <th>physical_active</th>\n",
              "      <th>cardio_issues</th>\n",
              "      <th>years</th>\n",
              "    </tr>\n",
              "  </thead>\n",
              "  <tbody>\n",
              "    <tr>\n",
              "      <th>0</th>\n",
              "      <td>0</td>\n",
              "      <td>18393</td>\n",
              "      <td>2</td>\n",
              "      <td>168</td>\n",
              "      <td>62.0</td>\n",
              "      <td>110</td>\n",
              "      <td>80</td>\n",
              "      <td>1</td>\n",
              "      <td>1</td>\n",
              "      <td>0</td>\n",
              "      <td>0</td>\n",
              "      <td>1</td>\n",
              "      <td>0</td>\n",
              "      <td>50</td>\n",
              "    </tr>\n",
              "    <tr>\n",
              "      <th>1</th>\n",
              "      <td>1</td>\n",
              "      <td>20228</td>\n",
              "      <td>1</td>\n",
              "      <td>156</td>\n",
              "      <td>85.0</td>\n",
              "      <td>140</td>\n",
              "      <td>90</td>\n",
              "      <td>3</td>\n",
              "      <td>1</td>\n",
              "      <td>0</td>\n",
              "      <td>0</td>\n",
              "      <td>1</td>\n",
              "      <td>1</td>\n",
              "      <td>55</td>\n",
              "    </tr>\n",
              "    <tr>\n",
              "      <th>2</th>\n",
              "      <td>2</td>\n",
              "      <td>18857</td>\n",
              "      <td>1</td>\n",
              "      <td>165</td>\n",
              "      <td>64.0</td>\n",
              "      <td>130</td>\n",
              "      <td>70</td>\n",
              "      <td>3</td>\n",
              "      <td>1</td>\n",
              "      <td>0</td>\n",
              "      <td>0</td>\n",
              "      <td>0</td>\n",
              "      <td>1</td>\n",
              "      <td>52</td>\n",
              "    </tr>\n",
              "    <tr>\n",
              "      <th>3</th>\n",
              "      <td>3</td>\n",
              "      <td>17623</td>\n",
              "      <td>2</td>\n",
              "      <td>169</td>\n",
              "      <td>82.0</td>\n",
              "      <td>150</td>\n",
              "      <td>100</td>\n",
              "      <td>1</td>\n",
              "      <td>1</td>\n",
              "      <td>0</td>\n",
              "      <td>0</td>\n",
              "      <td>1</td>\n",
              "      <td>1</td>\n",
              "      <td>48</td>\n",
              "    </tr>\n",
              "    <tr>\n",
              "      <th>4</th>\n",
              "      <td>4</td>\n",
              "      <td>17474</td>\n",
              "      <td>1</td>\n",
              "      <td>156</td>\n",
              "      <td>56.0</td>\n",
              "      <td>100</td>\n",
              "      <td>60</td>\n",
              "      <td>1</td>\n",
              "      <td>1</td>\n",
              "      <td>0</td>\n",
              "      <td>0</td>\n",
              "      <td>0</td>\n",
              "      <td>0</td>\n",
              "      <td>48</td>\n",
              "    </tr>\n",
              "    <tr>\n",
              "      <th>...</th>\n",
              "      <td>...</td>\n",
              "      <td>...</td>\n",
              "      <td>...</td>\n",
              "      <td>...</td>\n",
              "      <td>...</td>\n",
              "      <td>...</td>\n",
              "      <td>...</td>\n",
              "      <td>...</td>\n",
              "      <td>...</td>\n",
              "      <td>...</td>\n",
              "      <td>...</td>\n",
              "      <td>...</td>\n",
              "      <td>...</td>\n",
              "      <td>...</td>\n",
              "    </tr>\n",
              "    <tr>\n",
              "      <th>69995</th>\n",
              "      <td>99993</td>\n",
              "      <td>19240</td>\n",
              "      <td>2</td>\n",
              "      <td>168</td>\n",
              "      <td>76.0</td>\n",
              "      <td>120</td>\n",
              "      <td>80</td>\n",
              "      <td>1</td>\n",
              "      <td>1</td>\n",
              "      <td>1</td>\n",
              "      <td>0</td>\n",
              "      <td>1</td>\n",
              "      <td>0</td>\n",
              "      <td>53</td>\n",
              "    </tr>\n",
              "    <tr>\n",
              "      <th>69996</th>\n",
              "      <td>99995</td>\n",
              "      <td>22601</td>\n",
              "      <td>1</td>\n",
              "      <td>158</td>\n",
              "      <td>126.0</td>\n",
              "      <td>140</td>\n",
              "      <td>90</td>\n",
              "      <td>2</td>\n",
              "      <td>2</td>\n",
              "      <td>0</td>\n",
              "      <td>0</td>\n",
              "      <td>1</td>\n",
              "      <td>1</td>\n",
              "      <td>62</td>\n",
              "    </tr>\n",
              "    <tr>\n",
              "      <th>69997</th>\n",
              "      <td>99996</td>\n",
              "      <td>19066</td>\n",
              "      <td>2</td>\n",
              "      <td>183</td>\n",
              "      <td>105.0</td>\n",
              "      <td>180</td>\n",
              "      <td>90</td>\n",
              "      <td>3</td>\n",
              "      <td>1</td>\n",
              "      <td>0</td>\n",
              "      <td>1</td>\n",
              "      <td>0</td>\n",
              "      <td>1</td>\n",
              "      <td>52</td>\n",
              "    </tr>\n",
              "    <tr>\n",
              "      <th>69998</th>\n",
              "      <td>99998</td>\n",
              "      <td>22431</td>\n",
              "      <td>1</td>\n",
              "      <td>163</td>\n",
              "      <td>72.0</td>\n",
              "      <td>135</td>\n",
              "      <td>80</td>\n",
              "      <td>1</td>\n",
              "      <td>2</td>\n",
              "      <td>0</td>\n",
              "      <td>0</td>\n",
              "      <td>0</td>\n",
              "      <td>1</td>\n",
              "      <td>61</td>\n",
              "    </tr>\n",
              "    <tr>\n",
              "      <th>69999</th>\n",
              "      <td>99999</td>\n",
              "      <td>20540</td>\n",
              "      <td>1</td>\n",
              "      <td>170</td>\n",
              "      <td>72.0</td>\n",
              "      <td>120</td>\n",
              "      <td>80</td>\n",
              "      <td>2</td>\n",
              "      <td>1</td>\n",
              "      <td>0</td>\n",
              "      <td>0</td>\n",
              "      <td>1</td>\n",
              "      <td>0</td>\n",
              "      <td>56</td>\n",
              "    </tr>\n",
              "  </tbody>\n",
              "</table>\n",
              "<p>70000 rows × 14 columns</p>\n",
              "</div>"
            ],
            "text/plain": [
              "          id    age  gender  ...  physical_active  cardio_issues  years\n",
              "0          0  18393       2  ...                1              0     50\n",
              "1          1  20228       1  ...                1              1     55\n",
              "2          2  18857       1  ...                0              1     52\n",
              "3          3  17623       2  ...                1              1     48\n",
              "4          4  17474       1  ...                0              0     48\n",
              "...      ...    ...     ...  ...              ...            ...    ...\n",
              "69995  99993  19240       2  ...                1              0     53\n",
              "69996  99995  22601       1  ...                1              1     62\n",
              "69997  99996  19066       2  ...                0              1     52\n",
              "69998  99998  22431       1  ...                0              1     61\n",
              "69999  99999  20540       1  ...                1              0     56\n",
              "\n",
              "[70000 rows x 14 columns]"
            ]
          },
          "metadata": {
            "tags": []
          },
          "execution_count": 4
        }
      ]
    },
    {
      "cell_type": "code",
      "metadata": {
        "colab": {
          "base_uri": "https://localhost:8080/"
        },
        "id": "-gqjOSDPDLW6",
        "outputId": "e8b61cf2-2271-4e79-d967-1f468c308822"
      },
      "source": [
        "df.info() # informatiile dataframe-ului, tip coloane, coloane non-null, nume coloane "
      ],
      "execution_count": 5,
      "outputs": [
        {
          "output_type": "stream",
          "text": [
            "<class 'pandas.core.frame.DataFrame'>\n",
            "RangeIndex: 70000 entries, 0 to 69999\n",
            "Data columns (total 14 columns):\n",
            " #   Column           Non-Null Count  Dtype  \n",
            "---  ------           --------------  -----  \n",
            " 0   id               70000 non-null  int64  \n",
            " 1   age              70000 non-null  int64  \n",
            " 2   gender           70000 non-null  int64  \n",
            " 3   height           70000 non-null  int64  \n",
            " 4   weight           70000 non-null  float64\n",
            " 5   sbp              70000 non-null  int64  \n",
            " 6   dbp              70000 non-null  int64  \n",
            " 7   cholesterol      70000 non-null  int64  \n",
            " 8   glucose          70000 non-null  int64  \n",
            " 9   smoking          70000 non-null  int64  \n",
            " 10  alcohol          70000 non-null  int64  \n",
            " 11  physical_active  70000 non-null  int64  \n",
            " 12  cardio_issues    70000 non-null  int64  \n",
            " 13  years            70000 non-null  int64  \n",
            "dtypes: float64(1), int64(13)\n",
            "memory usage: 7.5 MB\n"
          ],
          "name": "stdout"
        }
      ]
    },
    {
      "cell_type": "code",
      "metadata": {
        "colab": {
          "base_uri": "https://localhost:8080/",
          "height": 0
        },
        "id": "reZ61igHiDN9",
        "outputId": "9b6e55b2-41b7-45dd-d88b-16e4360627b7"
      },
      "source": [
        "df.describe() # calculeaza count, mean, ... max pentru toate datele"
      ],
      "execution_count": 6,
      "outputs": [
        {
          "output_type": "execute_result",
          "data": {
            "text/html": [
              "<div>\n",
              "<style scoped>\n",
              "    .dataframe tbody tr th:only-of-type {\n",
              "        vertical-align: middle;\n",
              "    }\n",
              "\n",
              "    .dataframe tbody tr th {\n",
              "        vertical-align: top;\n",
              "    }\n",
              "\n",
              "    .dataframe thead th {\n",
              "        text-align: right;\n",
              "    }\n",
              "</style>\n",
              "<table border=\"1\" class=\"dataframe\">\n",
              "  <thead>\n",
              "    <tr style=\"text-align: right;\">\n",
              "      <th></th>\n",
              "      <th>id</th>\n",
              "      <th>age</th>\n",
              "      <th>gender</th>\n",
              "      <th>height</th>\n",
              "      <th>weight</th>\n",
              "      <th>sbp</th>\n",
              "      <th>dbp</th>\n",
              "      <th>cholesterol</th>\n",
              "      <th>glucose</th>\n",
              "      <th>smoking</th>\n",
              "      <th>alcohol</th>\n",
              "      <th>physical_active</th>\n",
              "      <th>cardio_issues</th>\n",
              "      <th>years</th>\n",
              "    </tr>\n",
              "  </thead>\n",
              "  <tbody>\n",
              "    <tr>\n",
              "      <th>count</th>\n",
              "      <td>70000.000000</td>\n",
              "      <td>70000.000000</td>\n",
              "      <td>70000.000000</td>\n",
              "      <td>70000.000000</td>\n",
              "      <td>70000.000000</td>\n",
              "      <td>70000.000000</td>\n",
              "      <td>70000.000000</td>\n",
              "      <td>70000.000000</td>\n",
              "      <td>70000.000000</td>\n",
              "      <td>70000.000000</td>\n",
              "      <td>70000.000000</td>\n",
              "      <td>70000.000000</td>\n",
              "      <td>70000.000000</td>\n",
              "      <td>70000.000000</td>\n",
              "    </tr>\n",
              "    <tr>\n",
              "      <th>mean</th>\n",
              "      <td>49972.419900</td>\n",
              "      <td>19468.865814</td>\n",
              "      <td>1.349571</td>\n",
              "      <td>164.359229</td>\n",
              "      <td>74.205690</td>\n",
              "      <td>128.817286</td>\n",
              "      <td>96.630414</td>\n",
              "      <td>1.366871</td>\n",
              "      <td>1.226457</td>\n",
              "      <td>0.088129</td>\n",
              "      <td>0.053771</td>\n",
              "      <td>0.803729</td>\n",
              "      <td>0.499700</td>\n",
              "      <td>53.338686</td>\n",
              "    </tr>\n",
              "    <tr>\n",
              "      <th>std</th>\n",
              "      <td>28851.302323</td>\n",
              "      <td>2467.251667</td>\n",
              "      <td>0.476838</td>\n",
              "      <td>8.210126</td>\n",
              "      <td>14.395757</td>\n",
              "      <td>154.011419</td>\n",
              "      <td>188.472530</td>\n",
              "      <td>0.680250</td>\n",
              "      <td>0.572270</td>\n",
              "      <td>0.283484</td>\n",
              "      <td>0.225568</td>\n",
              "      <td>0.397179</td>\n",
              "      <td>0.500003</td>\n",
              "      <td>6.765294</td>\n",
              "    </tr>\n",
              "    <tr>\n",
              "      <th>min</th>\n",
              "      <td>0.000000</td>\n",
              "      <td>10798.000000</td>\n",
              "      <td>1.000000</td>\n",
              "      <td>55.000000</td>\n",
              "      <td>10.000000</td>\n",
              "      <td>-150.000000</td>\n",
              "      <td>-70.000000</td>\n",
              "      <td>1.000000</td>\n",
              "      <td>1.000000</td>\n",
              "      <td>0.000000</td>\n",
              "      <td>0.000000</td>\n",
              "      <td>0.000000</td>\n",
              "      <td>0.000000</td>\n",
              "      <td>30.000000</td>\n",
              "    </tr>\n",
              "    <tr>\n",
              "      <th>25%</th>\n",
              "      <td>25006.750000</td>\n",
              "      <td>17664.000000</td>\n",
              "      <td>1.000000</td>\n",
              "      <td>159.000000</td>\n",
              "      <td>65.000000</td>\n",
              "      <td>120.000000</td>\n",
              "      <td>80.000000</td>\n",
              "      <td>1.000000</td>\n",
              "      <td>1.000000</td>\n",
              "      <td>0.000000</td>\n",
              "      <td>0.000000</td>\n",
              "      <td>1.000000</td>\n",
              "      <td>0.000000</td>\n",
              "      <td>48.000000</td>\n",
              "    </tr>\n",
              "    <tr>\n",
              "      <th>50%</th>\n",
              "      <td>50001.500000</td>\n",
              "      <td>19703.000000</td>\n",
              "      <td>1.000000</td>\n",
              "      <td>165.000000</td>\n",
              "      <td>72.000000</td>\n",
              "      <td>120.000000</td>\n",
              "      <td>80.000000</td>\n",
              "      <td>1.000000</td>\n",
              "      <td>1.000000</td>\n",
              "      <td>0.000000</td>\n",
              "      <td>0.000000</td>\n",
              "      <td>1.000000</td>\n",
              "      <td>0.000000</td>\n",
              "      <td>54.000000</td>\n",
              "    </tr>\n",
              "    <tr>\n",
              "      <th>75%</th>\n",
              "      <td>74889.250000</td>\n",
              "      <td>21327.000000</td>\n",
              "      <td>2.000000</td>\n",
              "      <td>170.000000</td>\n",
              "      <td>82.000000</td>\n",
              "      <td>140.000000</td>\n",
              "      <td>90.000000</td>\n",
              "      <td>2.000000</td>\n",
              "      <td>1.000000</td>\n",
              "      <td>0.000000</td>\n",
              "      <td>0.000000</td>\n",
              "      <td>1.000000</td>\n",
              "      <td>1.000000</td>\n",
              "      <td>58.000000</td>\n",
              "    </tr>\n",
              "    <tr>\n",
              "      <th>max</th>\n",
              "      <td>99999.000000</td>\n",
              "      <td>23713.000000</td>\n",
              "      <td>2.000000</td>\n",
              "      <td>250.000000</td>\n",
              "      <td>200.000000</td>\n",
              "      <td>16020.000000</td>\n",
              "      <td>11000.000000</td>\n",
              "      <td>3.000000</td>\n",
              "      <td>3.000000</td>\n",
              "      <td>1.000000</td>\n",
              "      <td>1.000000</td>\n",
              "      <td>1.000000</td>\n",
              "      <td>1.000000</td>\n",
              "      <td>65.000000</td>\n",
              "    </tr>\n",
              "  </tbody>\n",
              "</table>\n",
              "</div>"
            ],
            "text/plain": [
              "                 id           age  ...  cardio_issues         years\n",
              "count  70000.000000  70000.000000  ...   70000.000000  70000.000000\n",
              "mean   49972.419900  19468.865814  ...       0.499700     53.338686\n",
              "std    28851.302323   2467.251667  ...       0.500003      6.765294\n",
              "min        0.000000  10798.000000  ...       0.000000     30.000000\n",
              "25%    25006.750000  17664.000000  ...       0.000000     48.000000\n",
              "50%    50001.500000  19703.000000  ...       0.000000     54.000000\n",
              "75%    74889.250000  21327.000000  ...       1.000000     58.000000\n",
              "max    99999.000000  23713.000000  ...       1.000000     65.000000\n",
              "\n",
              "[8 rows x 14 columns]"
            ]
          },
          "metadata": {
            "tags": []
          },
          "execution_count": 6
        }
      ]
    },
    {
      "cell_type": "code",
      "metadata": {
        "id": "mcQg9bWEcSjO"
      },
      "source": [
        "limits = {\r\n",
        "  \"age\": [6570, 54750],\r\n",
        "  \"gender\": [1, 2],\r\n",
        "  \"height\": [120, 250],\r\n",
        "  \"weight\": [35, 200],\r\n",
        "  \"sbp\": [75, 200],\r\n",
        "  \"dbp\": [50, 150],\r\n",
        "  \"cholesterol\": [1, 3],\r\n",
        "  \"glucose\": [1, 3],\r\n",
        "  \"smoking\": [0, 1],\r\n",
        "  \"alcohol\": [0, 1],\r\n",
        "  \"physical_active\": [0, 1],\r\n",
        "  \"cardio_issues\": [0, 1],\r\n",
        "  \"years\": [18, 110]\r\n",
        "}"
      ],
      "execution_count": 7,
      "outputs": []
    },
    {
      "cell_type": "code",
      "metadata": {
        "id": "DVfm5iCHOzcq"
      },
      "source": [
        "def checkIfIsOutOfLimits(data):\r\n",
        "  for key, value in limits.items():\r\n",
        "    print(\"Instances where {0} is greater or lesser than the chosen limits: Greater: {1}, Lesser {2}\".format(key, data[data[key] > value[1]].shape[0], data[data[key] < value[0]].shape[0]))"
      ],
      "execution_count": 8,
      "outputs": []
    },
    {
      "cell_type": "code",
      "metadata": {
        "id": "ZKMn-tobZAOo"
      },
      "source": [
        "def checkDSP(data, bpmelt):\r\n",
        "  sns.boxplot(x = 'variable',y = 'value',data = bpmelt)\r\n",
        "  print(\"Diastilic pressure is higher than systolic one in {0} cases\".format(data[data['dbp']> data['sbp']].shape[0]))"
      ],
      "execution_count": 9,
      "outputs": []
    },
    {
      "cell_type": "code",
      "metadata": {
        "colab": {
          "base_uri": "https://localhost:8080/"
        },
        "id": "lY5QkG7mUIip",
        "outputId": "9213bc33-8b53-4a30-a934-48132ea64d55"
      },
      "source": [
        "checkIfIsOutOfLimits(df)"
      ],
      "execution_count": 10,
      "outputs": [
        {
          "output_type": "stream",
          "text": [
            "Instances where age is greater or lesser than the chosen limits: Greater: 0, Lesser 0\n",
            "Instances where gender is greater or lesser than the chosen limits: Greater: 0, Lesser 0\n",
            "Instances where height is greater or lesser than the chosen limits: Greater: 0, Lesser 52\n",
            "Instances where weight is greater or lesser than the chosen limits: Greater: 0, Lesser 20\n",
            "Instances where sbp is greater or lesser than the chosen limits: Greater: 100, Lesser 207\n",
            "Instances where dbp is greater or lesser than the chosen limits: Greater: 975, Lesser 80\n",
            "Instances where cholesterol is greater or lesser than the chosen limits: Greater: 0, Lesser 0\n",
            "Instances where glucose is greater or lesser than the chosen limits: Greater: 0, Lesser 0\n",
            "Instances where smoking is greater or lesser than the chosen limits: Greater: 0, Lesser 0\n",
            "Instances where alcohol is greater or lesser than the chosen limits: Greater: 0, Lesser 0\n",
            "Instances where physical_active is greater or lesser than the chosen limits: Greater: 0, Lesser 0\n",
            "Instances where cardio_issues is greater or lesser than the chosen limits: Greater: 0, Lesser 0\n",
            "Instances where years is greater or lesser than the chosen limits: Greater: 0, Lesser 0\n"
          ],
          "name": "stdout"
        }
      ]
    },
    {
      "cell_type": "code",
      "metadata": {
        "colab": {
          "base_uri": "https://localhost:8080/",
          "height": 0
        },
        "id": "OFEXmiFqiEiU",
        "outputId": "bb33b914-2be4-4366-acf4-a639f2b2a300"
      },
      "source": [
        "blood_pressure = df.loc[:,['dbp','sbp']]\r\n",
        "blood_pressure"
      ],
      "execution_count": 11,
      "outputs": [
        {
          "output_type": "execute_result",
          "data": {
            "text/html": [
              "<div>\n",
              "<style scoped>\n",
              "    .dataframe tbody tr th:only-of-type {\n",
              "        vertical-align: middle;\n",
              "    }\n",
              "\n",
              "    .dataframe tbody tr th {\n",
              "        vertical-align: top;\n",
              "    }\n",
              "\n",
              "    .dataframe thead th {\n",
              "        text-align: right;\n",
              "    }\n",
              "</style>\n",
              "<table border=\"1\" class=\"dataframe\">\n",
              "  <thead>\n",
              "    <tr style=\"text-align: right;\">\n",
              "      <th></th>\n",
              "      <th>dbp</th>\n",
              "      <th>sbp</th>\n",
              "    </tr>\n",
              "  </thead>\n",
              "  <tbody>\n",
              "    <tr>\n",
              "      <th>0</th>\n",
              "      <td>80</td>\n",
              "      <td>110</td>\n",
              "    </tr>\n",
              "    <tr>\n",
              "      <th>1</th>\n",
              "      <td>90</td>\n",
              "      <td>140</td>\n",
              "    </tr>\n",
              "    <tr>\n",
              "      <th>2</th>\n",
              "      <td>70</td>\n",
              "      <td>130</td>\n",
              "    </tr>\n",
              "    <tr>\n",
              "      <th>3</th>\n",
              "      <td>100</td>\n",
              "      <td>150</td>\n",
              "    </tr>\n",
              "    <tr>\n",
              "      <th>4</th>\n",
              "      <td>60</td>\n",
              "      <td>100</td>\n",
              "    </tr>\n",
              "    <tr>\n",
              "      <th>...</th>\n",
              "      <td>...</td>\n",
              "      <td>...</td>\n",
              "    </tr>\n",
              "    <tr>\n",
              "      <th>69995</th>\n",
              "      <td>80</td>\n",
              "      <td>120</td>\n",
              "    </tr>\n",
              "    <tr>\n",
              "      <th>69996</th>\n",
              "      <td>90</td>\n",
              "      <td>140</td>\n",
              "    </tr>\n",
              "    <tr>\n",
              "      <th>69997</th>\n",
              "      <td>90</td>\n",
              "      <td>180</td>\n",
              "    </tr>\n",
              "    <tr>\n",
              "      <th>69998</th>\n",
              "      <td>80</td>\n",
              "      <td>135</td>\n",
              "    </tr>\n",
              "    <tr>\n",
              "      <th>69999</th>\n",
              "      <td>80</td>\n",
              "      <td>120</td>\n",
              "    </tr>\n",
              "  </tbody>\n",
              "</table>\n",
              "<p>70000 rows × 2 columns</p>\n",
              "</div>"
            ],
            "text/plain": [
              "       dbp  sbp\n",
              "0       80  110\n",
              "1       90  140\n",
              "2       70  130\n",
              "3      100  150\n",
              "4       60  100\n",
              "...    ...  ...\n",
              "69995   80  120\n",
              "69996   90  140\n",
              "69997   90  180\n",
              "69998   80  135\n",
              "69999   80  120\n",
              "\n",
              "[70000 rows x 2 columns]"
            ]
          },
          "metadata": {
            "tags": []
          },
          "execution_count": 11
        }
      ]
    },
    {
      "cell_type": "code",
      "metadata": {
        "colab": {
          "base_uri": "https://localhost:8080/",
          "height": 0
        },
        "id": "oxkmLKryiETE",
        "outputId": "b3865386-ecc1-476a-9f54-6040bd1e574f"
      },
      "source": [
        "blood_pressureMelt = blood_pressure.melt()\r\n",
        "blood_pressureMelt"
      ],
      "execution_count": 12,
      "outputs": [
        {
          "output_type": "execute_result",
          "data": {
            "text/html": [
              "<div>\n",
              "<style scoped>\n",
              "    .dataframe tbody tr th:only-of-type {\n",
              "        vertical-align: middle;\n",
              "    }\n",
              "\n",
              "    .dataframe tbody tr th {\n",
              "        vertical-align: top;\n",
              "    }\n",
              "\n",
              "    .dataframe thead th {\n",
              "        text-align: right;\n",
              "    }\n",
              "</style>\n",
              "<table border=\"1\" class=\"dataframe\">\n",
              "  <thead>\n",
              "    <tr style=\"text-align: right;\">\n",
              "      <th></th>\n",
              "      <th>variable</th>\n",
              "      <th>value</th>\n",
              "    </tr>\n",
              "  </thead>\n",
              "  <tbody>\n",
              "    <tr>\n",
              "      <th>0</th>\n",
              "      <td>dbp</td>\n",
              "      <td>80</td>\n",
              "    </tr>\n",
              "    <tr>\n",
              "      <th>1</th>\n",
              "      <td>dbp</td>\n",
              "      <td>90</td>\n",
              "    </tr>\n",
              "    <tr>\n",
              "      <th>2</th>\n",
              "      <td>dbp</td>\n",
              "      <td>70</td>\n",
              "    </tr>\n",
              "    <tr>\n",
              "      <th>3</th>\n",
              "      <td>dbp</td>\n",
              "      <td>100</td>\n",
              "    </tr>\n",
              "    <tr>\n",
              "      <th>4</th>\n",
              "      <td>dbp</td>\n",
              "      <td>60</td>\n",
              "    </tr>\n",
              "    <tr>\n",
              "      <th>...</th>\n",
              "      <td>...</td>\n",
              "      <td>...</td>\n",
              "    </tr>\n",
              "    <tr>\n",
              "      <th>139995</th>\n",
              "      <td>sbp</td>\n",
              "      <td>120</td>\n",
              "    </tr>\n",
              "    <tr>\n",
              "      <th>139996</th>\n",
              "      <td>sbp</td>\n",
              "      <td>140</td>\n",
              "    </tr>\n",
              "    <tr>\n",
              "      <th>139997</th>\n",
              "      <td>sbp</td>\n",
              "      <td>180</td>\n",
              "    </tr>\n",
              "    <tr>\n",
              "      <th>139998</th>\n",
              "      <td>sbp</td>\n",
              "      <td>135</td>\n",
              "    </tr>\n",
              "    <tr>\n",
              "      <th>139999</th>\n",
              "      <td>sbp</td>\n",
              "      <td>120</td>\n",
              "    </tr>\n",
              "  </tbody>\n",
              "</table>\n",
              "<p>140000 rows × 2 columns</p>\n",
              "</div>"
            ],
            "text/plain": [
              "       variable  value\n",
              "0           dbp     80\n",
              "1           dbp     90\n",
              "2           dbp     70\n",
              "3           dbp    100\n",
              "4           dbp     60\n",
              "...         ...    ...\n",
              "139995      sbp    120\n",
              "139996      sbp    140\n",
              "139997      sbp    180\n",
              "139998      sbp    135\n",
              "139999      sbp    120\n",
              "\n",
              "[140000 rows x 2 columns]"
            ]
          },
          "metadata": {
            "tags": []
          },
          "execution_count": 12
        }
      ]
    },
    {
      "cell_type": "code",
      "metadata": {
        "colab": {
          "base_uri": "https://localhost:8080/",
          "height": 0
        },
        "id": "t_1mTlZlozVE",
        "outputId": "ab6ef6ea-c8b7-4cef-dd9b-1928176f0c02"
      },
      "source": [
        "checkDSP(df, blood_pressureMelt)"
      ],
      "execution_count": 13,
      "outputs": [
        {
          "output_type": "stream",
          "text": [
            "Diastilic pressure is higher than systolic one in 1234 cases\n"
          ],
          "name": "stdout"
        },
        {
          "output_type": "display_data",
          "data": {
            "image/png": "[encoded data removed]",
            "text/plain": [
              "<Figure size 432x288 with 1 Axes>"
            ]
          },
          "metadata": {
            "tags": [],
            "needs_background": "light"
          }
        }
      ]
    },
    {
      "cell_type": "code",
      "metadata": {
        "colab": {
          "base_uri": "https://localhost:8080/",
          "height": 0
        },
        "id": "3ZYQQbuWpKkT",
        "outputId": "92026ddb-67fb-498a-a81c-6e4aa60e8bd4"
      },
      "source": [
        "cleandf = df.copy()\r\n",
        "cleandf"
      ],
      "execution_count": 14,
      "outputs": [
        {
          "output_type": "execute_result",
          "data": {
            "text/html": [
              "<div>\n",
              "<style scoped>\n",
              "    .dataframe tbody tr th:only-of-type {\n",
              "        vertical-align: middle;\n",
              "    }\n",
              "\n",
              "    .dataframe tbody tr th {\n",
              "        vertical-align: top;\n",
              "    }\n",
              "\n",
              "    .dataframe thead th {\n",
              "        text-align: right;\n",
              "    }\n",
              "</style>\n",
              "<table border=\"1\" class=\"dataframe\">\n",
              "  <thead>\n",
              "    <tr style=\"text-align: right;\">\n",
              "      <th></th>\n",
              "      <th>id</th>\n",
              "      <th>age</th>\n",
              "      <th>gender</th>\n",
              "      <th>height</th>\n",
              "      <th>weight</th>\n",
              "      <th>sbp</th>\n",
              "      <th>dbp</th>\n",
              "      <th>cholesterol</th>\n",
              "      <th>glucose</th>\n",
              "      <th>smoking</th>\n",
              "      <th>alcohol</th>\n",
              "      <th>physical_active</th>\n",
              "      <th>cardio_issues</th>\n",
              "      <th>years</th>\n",
              "    </tr>\n",
              "  </thead>\n",
              "  <tbody>\n",
              "    <tr>\n",
              "      <th>0</th>\n",
              "      <td>0</td>\n",
              "      <td>18393</td>\n",
              "      <td>2</td>\n",
              "      <td>168</td>\n",
              "      <td>62.0</td>\n",
              "      <td>110</td>\n",
              "      <td>80</td>\n",
              "      <td>1</td>\n",
              "      <td>1</td>\n",
              "      <td>0</td>\n",
              "      <td>0</td>\n",
              "      <td>1</td>\n",
              "      <td>0</td>\n",
              "      <td>50</td>\n",
              "    </tr>\n",
              "    <tr>\n",
              "      <th>1</th>\n",
              "      <td>1</td>\n",
              "      <td>20228</td>\n",
              "      <td>1</td>\n",
              "      <td>156</td>\n",
              "      <td>85.0</td>\n",
              "      <td>140</td>\n",
              "      <td>90</td>\n",
              "      <td>3</td>\n",
              "      <td>1</td>\n",
              "      <td>0</td>\n",
              "      <td>0</td>\n",
              "      <td>1</td>\n",
              "      <td>1</td>\n",
              "      <td>55</td>\n",
              "    </tr>\n",
              "    <tr>\n",
              "      <th>2</th>\n",
              "      <td>2</td>\n",
              "      <td>18857</td>\n",
              "      <td>1</td>\n",
              "      <td>165</td>\n",
              "      <td>64.0</td>\n",
              "      <td>130</td>\n",
              "      <td>70</td>\n",
              "      <td>3</td>\n",
              "      <td>1</td>\n",
              "      <td>0</td>\n",
              "      <td>0</td>\n",
              "      <td>0</td>\n",
              "      <td>1</td>\n",
              "      <td>52</td>\n",
              "    </tr>\n",
              "    <tr>\n",
              "      <th>3</th>\n",
              "      <td>3</td>\n",
              "      <td>17623</td>\n",
              "      <td>2</td>\n",
              "      <td>169</td>\n",
              "      <td>82.0</td>\n",
              "      <td>150</td>\n",
              "      <td>100</td>\n",
              "      <td>1</td>\n",
              "      <td>1</td>\n",
              "      <td>0</td>\n",
              "      <td>0</td>\n",
              "      <td>1</td>\n",
              "      <td>1</td>\n",
              "      <td>48</td>\n",
              "    </tr>\n",
              "    <tr>\n",
              "      <th>4</th>\n",
              "      <td>4</td>\n",
              "      <td>17474</td>\n",
              "      <td>1</td>\n",
              "      <td>156</td>\n",
              "      <td>56.0</td>\n",
              "      <td>100</td>\n",
              "      <td>60</td>\n",
              "      <td>1</td>\n",
              "      <td>1</td>\n",
              "      <td>0</td>\n",
              "      <td>0</td>\n",
              "      <td>0</td>\n",
              "      <td>0</td>\n",
              "      <td>48</td>\n",
              "    </tr>\n",
              "    <tr>\n",
              "      <th>...</th>\n",
              "      <td>...</td>\n",
              "      <td>...</td>\n",
              "      <td>...</td>\n",
              "      <td>...</td>\n",
              "      <td>...</td>\n",
              "      <td>...</td>\n",
              "      <td>...</td>\n",
              "      <td>...</td>\n",
              "      <td>...</td>\n",
              "      <td>...</td>\n",
              "      <td>...</td>\n",
              "      <td>...</td>\n",
              "      <td>...</td>\n",
              "      <td>...</td>\n",
              "    </tr>\n",
              "    <tr>\n",
              "      <th>69995</th>\n",
              "      <td>99993</td>\n",
              "      <td>19240</td>\n",
              "      <td>2</td>\n",
              "      <td>168</td>\n",
              "      <td>76.0</td>\n",
              "      <td>120</td>\n",
              "      <td>80</td>\n",
              "      <td>1</td>\n",
              "      <td>1</td>\n",
              "      <td>1</td>\n",
              "      <td>0</td>\n",
              "      <td>1</td>\n",
              "      <td>0</td>\n",
              "      <td>53</td>\n",
              "    </tr>\n",
              "    <tr>\n",
              "      <th>69996</th>\n",
              "      <td>99995</td>\n",
              "      <td>22601</td>\n",
              "      <td>1</td>\n",
              "      <td>158</td>\n",
              "      <td>126.0</td>\n",
              "      <td>140</td>\n",
              "      <td>90</td>\n",
              "      <td>2</td>\n",
              "      <td>2</td>\n",
              "      <td>0</td>\n",
              "      <td>0</td>\n",
              "      <td>1</td>\n",
              "      <td>1</td>\n",
              "      <td>62</td>\n",
              "    </tr>\n",
              "    <tr>\n",
              "      <th>69997</th>\n",
              "      <td>99996</td>\n",
              "      <td>19066</td>\n",
              "      <td>2</td>\n",
              "      <td>183</td>\n",
              "      <td>105.0</td>\n",
              "      <td>180</td>\n",
              "      <td>90</td>\n",
              "      <td>3</td>\n",
              "      <td>1</td>\n",
              "      <td>0</td>\n",
              "      <td>1</td>\n",
              "      <td>0</td>\n",
              "      <td>1</td>\n",
              "      <td>52</td>\n",
              "    </tr>\n",
              "    <tr>\n",
              "      <th>69998</th>\n",
              "      <td>99998</td>\n",
              "      <td>22431</td>\n",
              "      <td>1</td>\n",
              "      <td>163</td>\n",
              "      <td>72.0</td>\n",
              "      <td>135</td>\n",
              "      <td>80</td>\n",
              "      <td>1</td>\n",
              "      <td>2</td>\n",
              "      <td>0</td>\n",
              "      <td>0</td>\n",
              "      <td>0</td>\n",
              "      <td>1</td>\n",
              "      <td>61</td>\n",
              "    </tr>\n",
              "    <tr>\n",
              "      <th>69999</th>\n",
              "      <td>99999</td>\n",
              "      <td>20540</td>\n",
              "      <td>1</td>\n",
              "      <td>170</td>\n",
              "      <td>72.0</td>\n",
              "      <td>120</td>\n",
              "      <td>80</td>\n",
              "      <td>2</td>\n",
              "      <td>1</td>\n",
              "      <td>0</td>\n",
              "      <td>0</td>\n",
              "      <td>1</td>\n",
              "      <td>0</td>\n",
              "      <td>56</td>\n",
              "    </tr>\n",
              "  </tbody>\n",
              "</table>\n",
              "<p>70000 rows × 14 columns</p>\n",
              "</div>"
            ],
            "text/plain": [
              "          id    age  gender  ...  physical_active  cardio_issues  years\n",
              "0          0  18393       2  ...                1              0     50\n",
              "1          1  20228       1  ...                1              1     55\n",
              "2          2  18857       1  ...                0              1     52\n",
              "3          3  17623       2  ...                1              1     48\n",
              "4          4  17474       1  ...                0              0     48\n",
              "...      ...    ...     ...  ...              ...            ...    ...\n",
              "69995  99993  19240       2  ...                1              0     53\n",
              "69996  99995  22601       1  ...                1              1     62\n",
              "69997  99996  19066       2  ...                0              1     52\n",
              "69998  99998  22431       1  ...                0              1     61\n",
              "69999  99999  20540       1  ...                1              0     56\n",
              "\n",
              "[70000 rows x 14 columns]"
            ]
          },
          "metadata": {
            "tags": []
          },
          "execution_count": 14
        }
      ]
    },
    {
      "cell_type": "markdown",
      "metadata": {
        "id": "42J5jTsl1Clb"
      },
      "source": [
        "Optional - Create Fake Data"
      ]
    },
    {
      "cell_type": "code",
      "metadata": {
        "id": "i9g8VyLLusjI"
      },
      "source": [
        "def generateArray(cond, num, lims, d_var):\r\n",
        "  arr = []\r\n",
        "\r\n",
        "  if isinstance(d_var, np.int64) or isinstance(d_var, int):\r\n",
        "    if cond == True:\r\n",
        "      arr = np.random.randint(lims[0], lims[1] + 1, size=num)\r\n",
        "    else:\r\n",
        "      arr = np.random.randint(lims[1] + 2, 100000, size=num)\r\n",
        "  else:\r\n",
        "    if isinstance(d_var, np.float64) or isinstance(d_var, float):\r\n",
        "      if cond == True:\r\n",
        "        arr = np.random.uniform(lims[0], lims[1] + 1, size=num)\r\n",
        "      else:\r\n",
        "        arr = np.random.uniform(lims[1] + 2, 100000, size=num)\r\n",
        "\r\n",
        "        for i in range(len(arr)):\r\n",
        "          arr[i] = float('NaN') if random.choice([True, False]) == True else arr[i]\r\n",
        "\r\n",
        "  return arr"
      ],
      "execution_count": 15,
      "outputs": []
    },
    {
      "cell_type": "code",
      "metadata": {
        "id": "5dnwNVgNHv-J"
      },
      "source": [
        "def createData(assign_vec, num, aux):\r\n",
        "  obj = {\r\n",
        "      \"id\": aux.tail(1)['id'] + 1,\r\n",
        "      \"age\": generateArray(assign_vec[1], num, limits[\"age\"], aux['age'][0]),\r\n",
        "      \"gender\": generateArray(assign_vec[2], num, limits[\"gender\"], aux['gender'][0]),\r\n",
        "      \"height\": generateArray(assign_vec[3], num, limits[\"height\"], aux['height'][0]),\r\n",
        "      \"weight\": generateArray(assign_vec[4], num, limits[\"weight\"], aux['weight'][0]),\r\n",
        "      \"sbp\": generateArray(assign_vec[5], num, limits[\"sbp\"], aux['sbp'][0]),\r\n",
        "      \"dbp\": generateArray(assign_vec[6], num, limits[\"dbp\"], aux['dbp'][0]),\r\n",
        "      \"cholesterol\": generateArray(assign_vec[7], num, limits[\"cholesterol\"], aux['cholesterol'][0]),\r\n",
        "      \"glucose\": generateArray(assign_vec[8], num, limits[\"glucose\"], aux['glucose'][0]),\r\n",
        "      \"smoking\": generateArray(assign_vec[9], num, limits[\"smoking\"], aux['smoking'][0]),\r\n",
        "      \"alcohol\": generateArray(assign_vec[10], num, limits[\"alcohol\"], aux['alcohol'][0]),\r\n",
        "      \"physical_active\": generateArray(assign_vec[11], num, limits[\"physical_active\"], aux['physical_active'][0]),\r\n",
        "      \"cardio_issues\": generateArray(assign_vec[12], num, limits[\"cardio_issues\"], aux['cardio_issues'][0]),\r\n",
        "      \"years\": generateArray(assign_vec[13], num, limits[\"years\"], aux['years'][0]),\r\n",
        "  }\r\n",
        "  to_adddf = pd.DataFrame(obj)\r\n",
        "  return to_adddf"
      ],
      "execution_count": 16,
      "outputs": []
    },
    {
      "cell_type": "code",
      "metadata": {
        "id": "BHx46EdXpaxT"
      },
      "source": [
        "def generateData(aux, n):\r\n",
        "  for i in range(n):\r\n",
        "    arr = np.random.choice([True, False], size=len(aux.columns))\r\n",
        "    aux = aux.append(createData(arr, 1, aux), ignore_index=True)  \r\n",
        "  return aux"
      ],
      "execution_count": 17,
      "outputs": []
    },
    {
      "cell_type": "code",
      "metadata": {
        "colab": {
          "base_uri": "https://localhost:8080/",
          "height": 0
        },
        "id": "zGiDzKmNafi3",
        "outputId": "3764f043-083d-4450-f3dd-e8c3a058c0a3"
      },
      "source": [
        "cleandf_fd = cleandf.head(10).copy()\r\n",
        "cleandf_fd"
      ],
      "execution_count": 18,
      "outputs": [
        {
          "output_type": "execute_result",
          "data": {
            "text/html": [
              "<div>\n",
              "<style scoped>\n",
              "    .dataframe tbody tr th:only-of-type {\n",
              "        vertical-align: middle;\n",
              "    }\n",
              "\n",
              "    .dataframe tbody tr th {\n",
              "        vertical-align: top;\n",
              "    }\n",
              "\n",
              "    .dataframe thead th {\n",
              "        text-align: right;\n",
              "    }\n",
              "</style>\n",
              "<table border=\"1\" class=\"dataframe\">\n",
              "  <thead>\n",
              "    <tr style=\"text-align: right;\">\n",
              "      <th></th>\n",
              "      <th>id</th>\n",
              "      <th>age</th>\n",
              "      <th>gender</th>\n",
              "      <th>height</th>\n",
              "      <th>weight</th>\n",
              "      <th>sbp</th>\n",
              "      <th>dbp</th>\n",
              "      <th>cholesterol</th>\n",
              "      <th>glucose</th>\n",
              "      <th>smoking</th>\n",
              "      <th>alcohol</th>\n",
              "      <th>physical_active</th>\n",
              "      <th>cardio_issues</th>\n",
              "      <th>years</th>\n",
              "    </tr>\n",
              "  </thead>\n",
              "  <tbody>\n",
              "    <tr>\n",
              "      <th>0</th>\n",
              "      <td>0</td>\n",
              "      <td>18393</td>\n",
              "      <td>2</td>\n",
              "      <td>168</td>\n",
              "      <td>62.0</td>\n",
              "      <td>110</td>\n",
              "      <td>80</td>\n",
              "      <td>1</td>\n",
              "      <td>1</td>\n",
              "      <td>0</td>\n",
              "      <td>0</td>\n",
              "      <td>1</td>\n",
              "      <td>0</td>\n",
              "      <td>50</td>\n",
              "    </tr>\n",
              "    <tr>\n",
              "      <th>1</th>\n",
              "      <td>1</td>\n",
              "      <td>20228</td>\n",
              "      <td>1</td>\n",
              "      <td>156</td>\n",
              "      <td>85.0</td>\n",
              "      <td>140</td>\n",
              "      <td>90</td>\n",
              "      <td>3</td>\n",
              "      <td>1</td>\n",
              "      <td>0</td>\n",
              "      <td>0</td>\n",
              "      <td>1</td>\n",
              "      <td>1</td>\n",
              "      <td>55</td>\n",
              "    </tr>\n",
              "    <tr>\n",
              "      <th>2</th>\n",
              "      <td>2</td>\n",
              "      <td>18857</td>\n",
              "      <td>1</td>\n",
              "      <td>165</td>\n",
              "      <td>64.0</td>\n",
              "      <td>130</td>\n",
              "      <td>70</td>\n",
              "      <td>3</td>\n",
              "      <td>1</td>\n",
              "      <td>0</td>\n",
              "      <td>0</td>\n",
              "      <td>0</td>\n",
              "      <td>1</td>\n",
              "      <td>52</td>\n",
              "    </tr>\n",
              "    <tr>\n",
              "      <th>3</th>\n",
              "      <td>3</td>\n",
              "      <td>17623</td>\n",
              "      <td>2</td>\n",
              "      <td>169</td>\n",
              "      <td>82.0</td>\n",
              "      <td>150</td>\n",
              "      <td>100</td>\n",
              "      <td>1</td>\n",
              "      <td>1</td>\n",
              "      <td>0</td>\n",
              "      <td>0</td>\n",
              "      <td>1</td>\n",
              "      <td>1</td>\n",
              "      <td>48</td>\n",
              "    </tr>\n",
              "    <tr>\n",
              "      <th>4</th>\n",
              "      <td>4</td>\n",
              "      <td>17474</td>\n",
              "      <td>1</td>\n",
              "      <td>156</td>\n",
              "      <td>56.0</td>\n",
              "      <td>100</td>\n",
              "      <td>60</td>\n",
              "      <td>1</td>\n",
              "      <td>1</td>\n",
              "      <td>0</td>\n",
              "      <td>0</td>\n",
              "      <td>0</td>\n",
              "      <td>0</td>\n",
              "      <td>48</td>\n",
              "    </tr>\n",
              "    <tr>\n",
              "      <th>5</th>\n",
              "      <td>8</td>\n",
              "      <td>21914</td>\n",
              "      <td>1</td>\n",
              "      <td>151</td>\n",
              "      <td>67.0</td>\n",
              "      <td>120</td>\n",
              "      <td>80</td>\n",
              "      <td>2</td>\n",
              "      <td>2</td>\n",
              "      <td>0</td>\n",
              "      <td>0</td>\n",
              "      <td>0</td>\n",
              "      <td>0</td>\n",
              "      <td>60</td>\n",
              "    </tr>\n",
              "    <tr>\n",
              "      <th>6</th>\n",
              "      <td>9</td>\n",
              "      <td>22113</td>\n",
              "      <td>1</td>\n",
              "      <td>157</td>\n",
              "      <td>93.0</td>\n",
              "      <td>130</td>\n",
              "      <td>80</td>\n",
              "      <td>3</td>\n",
              "      <td>1</td>\n",
              "      <td>0</td>\n",
              "      <td>0</td>\n",
              "      <td>1</td>\n",
              "      <td>0</td>\n",
              "      <td>61</td>\n",
              "    </tr>\n",
              "    <tr>\n",
              "      <th>7</th>\n",
              "      <td>12</td>\n",
              "      <td>22584</td>\n",
              "      <td>2</td>\n",
              "      <td>178</td>\n",
              "      <td>95.0</td>\n",
              "      <td>130</td>\n",
              "      <td>90</td>\n",
              "      <td>3</td>\n",
              "      <td>3</td>\n",
              "      <td>0</td>\n",
              "      <td>0</td>\n",
              "      <td>1</td>\n",
              "      <td>1</td>\n",
              "      <td>62</td>\n",
              "    </tr>\n",
              "    <tr>\n",
              "      <th>8</th>\n",
              "      <td>13</td>\n",
              "      <td>17668</td>\n",
              "      <td>1</td>\n",
              "      <td>158</td>\n",
              "      <td>71.0</td>\n",
              "      <td>110</td>\n",
              "      <td>70</td>\n",
              "      <td>1</td>\n",
              "      <td>1</td>\n",
              "      <td>0</td>\n",
              "      <td>0</td>\n",
              "      <td>1</td>\n",
              "      <td>0</td>\n",
              "      <td>48</td>\n",
              "    </tr>\n",
              "    <tr>\n",
              "      <th>9</th>\n",
              "      <td>14</td>\n",
              "      <td>19834</td>\n",
              "      <td>1</td>\n",
              "      <td>164</td>\n",
              "      <td>68.0</td>\n",
              "      <td>110</td>\n",
              "      <td>60</td>\n",
              "      <td>1</td>\n",
              "      <td>1</td>\n",
              "      <td>0</td>\n",
              "      <td>0</td>\n",
              "      <td>0</td>\n",
              "      <td>0</td>\n",
              "      <td>54</td>\n",
              "    </tr>\n",
              "  </tbody>\n",
              "</table>\n",
              "</div>"
            ],
            "text/plain": [
              "   id    age  gender  height  ...  alcohol  physical_active  cardio_issues  years\n",
              "0   0  18393       2     168  ...        0                1              0     50\n",
              "1   1  20228       1     156  ...        0                1              1     55\n",
              "2   2  18857       1     165  ...        0                0              1     52\n",
              "3   3  17623       2     169  ...        0                1              1     48\n",
              "4   4  17474       1     156  ...        0                0              0     48\n",
              "5   8  21914       1     151  ...        0                0              0     60\n",
              "6   9  22113       1     157  ...        0                1              0     61\n",
              "7  12  22584       2     178  ...        0                1              1     62\n",
              "8  13  17668       1     158  ...        0                1              0     48\n",
              "9  14  19834       1     164  ...        0                0              0     54\n",
              "\n",
              "[10 rows x 14 columns]"
            ]
          },
          "metadata": {
            "tags": []
          },
          "execution_count": 18
        }
      ]
    },
    {
      "cell_type": "code",
      "metadata": {
        "colab": {
          "base_uri": "https://localhost:8080/",
          "height": 0
        },
        "id": "x9bOQtzZ0wm6",
        "outputId": "c09f0aa1-489d-4cf0-ba8e-455eb59b1c8c"
      },
      "source": [
        "cleandf_fd = generateData(cleandf_fd, 3)\r\n",
        "cleandf_fd"
      ],
      "execution_count": 19,
      "outputs": [
        {
          "output_type": "execute_result",
          "data": {
            "text/html": [
              "<div>\n",
              "<style scoped>\n",
              "    .dataframe tbody tr th:only-of-type {\n",
              "        vertical-align: middle;\n",
              "    }\n",
              "\n",
              "    .dataframe tbody tr th {\n",
              "        vertical-align: top;\n",
              "    }\n",
              "\n",
              "    .dataframe thead th {\n",
              "        text-align: right;\n",
              "    }\n",
              "</style>\n",
              "<table border=\"1\" class=\"dataframe\">\n",
              "  <thead>\n",
              "    <tr style=\"text-align: right;\">\n",
              "      <th></th>\n",
              "      <th>id</th>\n",
              "      <th>age</th>\n",
              "      <th>gender</th>\n",
              "      <th>height</th>\n",
              "      <th>weight</th>\n",
              "      <th>sbp</th>\n",
              "      <th>dbp</th>\n",
              "      <th>cholesterol</th>\n",
              "      <th>glucose</th>\n",
              "      <th>smoking</th>\n",
              "      <th>alcohol</th>\n",
              "      <th>physical_active</th>\n",
              "      <th>cardio_issues</th>\n",
              "      <th>years</th>\n",
              "    </tr>\n",
              "  </thead>\n",
              "  <tbody>\n",
              "    <tr>\n",
              "      <th>0</th>\n",
              "      <td>0</td>\n",
              "      <td>18393</td>\n",
              "      <td>2</td>\n",
              "      <td>168</td>\n",
              "      <td>62.000000</td>\n",
              "      <td>110</td>\n",
              "      <td>80</td>\n",
              "      <td>1</td>\n",
              "      <td>1</td>\n",
              "      <td>0</td>\n",
              "      <td>0</td>\n",
              "      <td>1</td>\n",
              "      <td>0</td>\n",
              "      <td>50</td>\n",
              "    </tr>\n",
              "    <tr>\n",
              "      <th>1</th>\n",
              "      <td>1</td>\n",
              "      <td>20228</td>\n",
              "      <td>1</td>\n",
              "      <td>156</td>\n",
              "      <td>85.000000</td>\n",
              "      <td>140</td>\n",
              "      <td>90</td>\n",
              "      <td>3</td>\n",
              "      <td>1</td>\n",
              "      <td>0</td>\n",
              "      <td>0</td>\n",
              "      <td>1</td>\n",
              "      <td>1</td>\n",
              "      <td>55</td>\n",
              "    </tr>\n",
              "    <tr>\n",
              "      <th>2</th>\n",
              "      <td>2</td>\n",
              "      <td>18857</td>\n",
              "      <td>1</td>\n",
              "      <td>165</td>\n",
              "      <td>64.000000</td>\n",
              "      <td>130</td>\n",
              "      <td>70</td>\n",
              "      <td>3</td>\n",
              "      <td>1</td>\n",
              "      <td>0</td>\n",
              "      <td>0</td>\n",
              "      <td>0</td>\n",
              "      <td>1</td>\n",
              "      <td>52</td>\n",
              "    </tr>\n",
              "    <tr>\n",
              "      <th>3</th>\n",
              "      <td>3</td>\n",
              "      <td>17623</td>\n",
              "      <td>2</td>\n",
              "      <td>169</td>\n",
              "      <td>82.000000</td>\n",
              "      <td>150</td>\n",
              "      <td>100</td>\n",
              "      <td>1</td>\n",
              "      <td>1</td>\n",
              "      <td>0</td>\n",
              "      <td>0</td>\n",
              "      <td>1</td>\n",
              "      <td>1</td>\n",
              "      <td>48</td>\n",
              "    </tr>\n",
              "    <tr>\n",
              "      <th>4</th>\n",
              "      <td>4</td>\n",
              "      <td>17474</td>\n",
              "      <td>1</td>\n",
              "      <td>156</td>\n",
              "      <td>56.000000</td>\n",
              "      <td>100</td>\n",
              "      <td>60</td>\n",
              "      <td>1</td>\n",
              "      <td>1</td>\n",
              "      <td>0</td>\n",
              "      <td>0</td>\n",
              "      <td>0</td>\n",
              "      <td>0</td>\n",
              "      <td>48</td>\n",
              "    </tr>\n",
              "    <tr>\n",
              "      <th>5</th>\n",
              "      <td>8</td>\n",
              "      <td>21914</td>\n",
              "      <td>1</td>\n",
              "      <td>151</td>\n",
              "      <td>67.000000</td>\n",
              "      <td>120</td>\n",
              "      <td>80</td>\n",
              "      <td>2</td>\n",
              "      <td>2</td>\n",
              "      <td>0</td>\n",
              "      <td>0</td>\n",
              "      <td>0</td>\n",
              "      <td>0</td>\n",
              "      <td>60</td>\n",
              "    </tr>\n",
              "    <tr>\n",
              "      <th>6</th>\n",
              "      <td>9</td>\n",
              "      <td>22113</td>\n",
              "      <td>1</td>\n",
              "      <td>157</td>\n",
              "      <td>93.000000</td>\n",
              "      <td>130</td>\n",
              "      <td>80</td>\n",
              "      <td>3</td>\n",
              "      <td>1</td>\n",
              "      <td>0</td>\n",
              "      <td>0</td>\n",
              "      <td>1</td>\n",
              "      <td>0</td>\n",
              "      <td>61</td>\n",
              "    </tr>\n",
              "    <tr>\n",
              "      <th>7</th>\n",
              "      <td>12</td>\n",
              "      <td>22584</td>\n",
              "      <td>2</td>\n",
              "      <td>178</td>\n",
              "      <td>95.000000</td>\n",
              "      <td>130</td>\n",
              "      <td>90</td>\n",
              "      <td>3</td>\n",
              "      <td>3</td>\n",
              "      <td>0</td>\n",
              "      <td>0</td>\n",
              "      <td>1</td>\n",
              "      <td>1</td>\n",
              "      <td>62</td>\n",
              "    </tr>\n",
              "    <tr>\n",
              "      <th>8</th>\n",
              "      <td>13</td>\n",
              "      <td>17668</td>\n",
              "      <td>1</td>\n",
              "      <td>158</td>\n",
              "      <td>71.000000</td>\n",
              "      <td>110</td>\n",
              "      <td>70</td>\n",
              "      <td>1</td>\n",
              "      <td>1</td>\n",
              "      <td>0</td>\n",
              "      <td>0</td>\n",
              "      <td>1</td>\n",
              "      <td>0</td>\n",
              "      <td>48</td>\n",
              "    </tr>\n",
              "    <tr>\n",
              "      <th>9</th>\n",
              "      <td>14</td>\n",
              "      <td>19834</td>\n",
              "      <td>1</td>\n",
              "      <td>164</td>\n",
              "      <td>68.000000</td>\n",
              "      <td>110</td>\n",
              "      <td>60</td>\n",
              "      <td>1</td>\n",
              "      <td>1</td>\n",
              "      <td>0</td>\n",
              "      <td>0</td>\n",
              "      <td>0</td>\n",
              "      <td>0</td>\n",
              "      <td>54</td>\n",
              "    </tr>\n",
              "    <tr>\n",
              "      <th>10</th>\n",
              "      <td>15</td>\n",
              "      <td>67875</td>\n",
              "      <td>6639</td>\n",
              "      <td>1990</td>\n",
              "      <td>58094.882704</td>\n",
              "      <td>7326</td>\n",
              "      <td>10952</td>\n",
              "      <td>3</td>\n",
              "      <td>12207</td>\n",
              "      <td>83955</td>\n",
              "      <td>36454</td>\n",
              "      <td>39480</td>\n",
              "      <td>6510</td>\n",
              "      <td>96</td>\n",
              "    </tr>\n",
              "    <tr>\n",
              "      <th>11</th>\n",
              "      <td>16</td>\n",
              "      <td>78436</td>\n",
              "      <td>50536</td>\n",
              "      <td>6044</td>\n",
              "      <td>NaN</td>\n",
              "      <td>84</td>\n",
              "      <td>94</td>\n",
              "      <td>63234</td>\n",
              "      <td>44335</td>\n",
              "      <td>0</td>\n",
              "      <td>1</td>\n",
              "      <td>22341</td>\n",
              "      <td>0</td>\n",
              "      <td>40401</td>\n",
              "    </tr>\n",
              "    <tr>\n",
              "      <th>12</th>\n",
              "      <td>17</td>\n",
              "      <td>63540</td>\n",
              "      <td>2</td>\n",
              "      <td>72419</td>\n",
              "      <td>55223.369066</td>\n",
              "      <td>5374</td>\n",
              "      <td>98</td>\n",
              "      <td>14968</td>\n",
              "      <td>23227</td>\n",
              "      <td>98761</td>\n",
              "      <td>1</td>\n",
              "      <td>1</td>\n",
              "      <td>22690</td>\n",
              "      <td>79</td>\n",
              "    </tr>\n",
              "  </tbody>\n",
              "</table>\n",
              "</div>"
            ],
            "text/plain": [
              "    id    age  gender  height  ...  alcohol  physical_active  cardio_issues  years\n",
              "0    0  18393       2     168  ...        0                1              0     50\n",
              "1    1  20228       1     156  ...        0                1              1     55\n",
              "2    2  18857       1     165  ...        0                0              1     52\n",
              "3    3  17623       2     169  ...        0                1              1     48\n",
              "4    4  17474       1     156  ...        0                0              0     48\n",
              "5    8  21914       1     151  ...        0                0              0     60\n",
              "6    9  22113       1     157  ...        0                1              0     61\n",
              "7   12  22584       2     178  ...        0                1              1     62\n",
              "8   13  17668       1     158  ...        0                1              0     48\n",
              "9   14  19834       1     164  ...        0                0              0     54\n",
              "10  15  67875    6639    1990  ...    36454            39480           6510     96\n",
              "11  16  78436   50536    6044  ...        1            22341              0  40401\n",
              "12  17  63540       2   72419  ...        1                1          22690     79\n",
              "\n",
              "[13 rows x 14 columns]"
            ]
          },
          "metadata": {
            "tags": []
          },
          "execution_count": 19
        }
      ]
    },
    {
      "cell_type": "markdown",
      "metadata": {
        "id": "gEWRUxNa17Ka"
      },
      "source": [
        "**Second - Clean Data**"
      ]
    },
    {
      "cell_type": "code",
      "metadata": {
        "id": "C8NOt-3x_oZc"
      },
      "source": [
        "def clearErrorsFromMyData(data):\r\n",
        "  for key, value in limits.items():\r\n",
        "    data.drop(data[(data[key] > value[1]) | (data[key] < value[0])].index,inplace=True)\r\n",
        "  data.drop(data[(data['sbp'] < 0) | (data['dbp'] < 0) | (data['sbp'] < data['dbp'])].index,inplace=True)\r\n",
        "  return data"
      ],
      "execution_count": 20,
      "outputs": []
    },
    {
      "cell_type": "code",
      "metadata": {
        "id": "Gx_VXhKh1Zyy",
        "colab": {
          "base_uri": "https://localhost:8080/"
        },
        "outputId": "cf81a561-0fae-466b-e6d5-8edc14653b7d"
      },
      "source": [
        "data = cleandf.copy()\r\n",
        "print(\"Before\\n {0}\".format(data))\r\n",
        "data = clearErrorsFromMyData(data)\r\n",
        "print(\"After\\n {0}\".format(data))"
      ],
      "execution_count": 21,
      "outputs": [
        {
          "output_type": "stream",
          "text": [
            "Before\n",
            "           id    age  gender  ...  physical_active  cardio_issues  years\n",
            "0          0  18393       2  ...                1              0     50\n",
            "1          1  20228       1  ...                1              1     55\n",
            "2          2  18857       1  ...                0              1     52\n",
            "3          3  17623       2  ...                1              1     48\n",
            "4          4  17474       1  ...                0              0     48\n",
            "...      ...    ...     ...  ...              ...            ...    ...\n",
            "69995  99993  19240       2  ...                1              0     53\n",
            "69996  99995  22601       1  ...                1              1     62\n",
            "69997  99996  19066       2  ...                0              1     52\n",
            "69998  99998  22431       1  ...                0              1     61\n",
            "69999  99999  20540       1  ...                1              0     56\n",
            "\n",
            "[70000 rows x 14 columns]\n",
            "After\n",
            "           id    age  gender  ...  physical_active  cardio_issues  years\n",
            "0          0  18393       2  ...                1              0     50\n",
            "1          1  20228       1  ...                1              1     55\n",
            "2          2  18857       1  ...                0              1     52\n",
            "3          3  17623       2  ...                1              1     48\n",
            "4          4  17474       1  ...                0              0     48\n",
            "...      ...    ...     ...  ...              ...            ...    ...\n",
            "69995  99993  19240       2  ...                1              0     53\n",
            "69996  99995  22601       1  ...                1              1     62\n",
            "69997  99996  19066       2  ...                0              1     52\n",
            "69998  99998  22431       1  ...                0              1     61\n",
            "69999  99999  20540       1  ...                1              0     56\n",
            "\n",
            "[68529 rows x 14 columns]\n"
          ],
          "name": "stdout"
        }
      ]
    },
    {
      "cell_type": "code",
      "metadata": {
        "colab": {
          "base_uri": "https://localhost:8080/"
        },
        "id": "iMU_cmrQcQLK",
        "outputId": "e9b7f489-8fdc-4913-8f02-fcabb9a9c605"
      },
      "source": [
        "checkIfIsOutOfLimits(data)"
      ],
      "execution_count": 22,
      "outputs": [
        {
          "output_type": "stream",
          "text": [
            "Instances where age is greater or lesser than the chosen limits: Greater: 0, Lesser 0\n",
            "Instances where gender is greater or lesser than the chosen limits: Greater: 0, Lesser 0\n",
            "Instances where height is greater or lesser than the chosen limits: Greater: 0, Lesser 0\n",
            "Instances where weight is greater or lesser than the chosen limits: Greater: 0, Lesser 0\n",
            "Instances where sbp is greater or lesser than the chosen limits: Greater: 0, Lesser 0\n",
            "Instances where dbp is greater or lesser than the chosen limits: Greater: 0, Lesser 0\n",
            "Instances where cholesterol is greater or lesser than the chosen limits: Greater: 0, Lesser 0\n",
            "Instances where glucose is greater or lesser than the chosen limits: Greater: 0, Lesser 0\n",
            "Instances where smoking is greater or lesser than the chosen limits: Greater: 0, Lesser 0\n",
            "Instances where alcohol is greater or lesser than the chosen limits: Greater: 0, Lesser 0\n",
            "Instances where physical_active is greater or lesser than the chosen limits: Greater: 0, Lesser 0\n",
            "Instances where cardio_issues is greater or lesser than the chosen limits: Greater: 0, Lesser 0\n",
            "Instances where years is greater or lesser than the chosen limits: Greater: 0, Lesser 0\n"
          ],
          "name": "stdout"
        }
      ]
    },
    {
      "cell_type": "code",
      "metadata": {
        "colab": {
          "base_uri": "https://localhost:8080/",
          "height": 0
        },
        "id": "TE2EfSqrlbph",
        "outputId": "f011d8c5-3d6e-4d7e-cccf-fe934e968fea"
      },
      "source": [
        "blood_pressure = data.loc[:,['dbp','sbp']]\r\n",
        "blood_pressureMelt = blood_pressure.melt()\r\n",
        "\r\n",
        "checkDSP(data, blood_pressureMelt)"
      ],
      "execution_count": 23,
      "outputs": [
        {
          "output_type": "stream",
          "text": [
            "Diastilic pressure is higher than systolic one in 0 cases\n"
          ],
          "name": "stdout"
        },
        {
          "output_type": "display_data",
          "data": {
            "image/png": "[encoded data removed]",
            "text/plain": [
              "<Figure size 432x288 with 1 Axes>"
            ]
          },
          "metadata": {
            "tags": [],
            "needs_background": "light"
          }
        }
      ]
    },
    {
      "cell_type": "code",
      "metadata": {
        "colab": {
          "base_uri": "https://localhost:8080/",
          "height": 0
        },
        "id": "N28oGHE0l5zm",
        "outputId": "35ac23c6-e8df-4d2a-f68f-0edf2843fccd"
      },
      "source": [
        "data.describe()"
      ],
      "execution_count": 24,
      "outputs": [
        {
          "output_type": "execute_result",
          "data": {
            "text/html": [
              "<div>\n",
              "<style scoped>\n",
              "    .dataframe tbody tr th:only-of-type {\n",
              "        vertical-align: middle;\n",
              "    }\n",
              "\n",
              "    .dataframe tbody tr th {\n",
              "        vertical-align: top;\n",
              "    }\n",
              "\n",
              "    .dataframe thead th {\n",
              "        text-align: right;\n",
              "    }\n",
              "</style>\n",
              "<table border=\"1\" class=\"dataframe\">\n",
              "  <thead>\n",
              "    <tr style=\"text-align: right;\">\n",
              "      <th></th>\n",
              "      <th>id</th>\n",
              "      <th>age</th>\n",
              "      <th>gender</th>\n",
              "      <th>height</th>\n",
              "      <th>weight</th>\n",
              "      <th>sbp</th>\n",
              "      <th>dbp</th>\n",
              "      <th>cholesterol</th>\n",
              "      <th>glucose</th>\n",
              "      <th>smoking</th>\n",
              "      <th>alcohol</th>\n",
              "      <th>physical_active</th>\n",
              "      <th>cardio_issues</th>\n",
              "      <th>years</th>\n",
              "    </tr>\n",
              "  </thead>\n",
              "  <tbody>\n",
              "    <tr>\n",
              "      <th>count</th>\n",
              "      <td>68529.000000</td>\n",
              "      <td>68529.000000</td>\n",
              "      <td>68529.000000</td>\n",
              "      <td>68529.000000</td>\n",
              "      <td>68529.000000</td>\n",
              "      <td>68529.000000</td>\n",
              "      <td>68529.000000</td>\n",
              "      <td>68529.000000</td>\n",
              "      <td>68529.000000</td>\n",
              "      <td>68529.000000</td>\n",
              "      <td>68529.000000</td>\n",
              "      <td>68529.000000</td>\n",
              "      <td>68529.000000</td>\n",
              "      <td>68529.000000</td>\n",
              "    </tr>\n",
              "    <tr>\n",
              "      <th>mean</th>\n",
              "      <td>49974.953538</td>\n",
              "      <td>19464.262969</td>\n",
              "      <td>1.348568</td>\n",
              "      <td>164.417283</td>\n",
              "      <td>74.116069</td>\n",
              "      <td>126.606794</td>\n",
              "      <td>81.289834</td>\n",
              "      <td>1.364459</td>\n",
              "      <td>1.225642</td>\n",
              "      <td>0.087963</td>\n",
              "      <td>0.053335</td>\n",
              "      <td>0.803324</td>\n",
              "      <td>0.494491</td>\n",
              "      <td>53.326344</td>\n",
              "    </tr>\n",
              "    <tr>\n",
              "      <th>std</th>\n",
              "      <td>28848.043430</td>\n",
              "      <td>2468.238892</td>\n",
              "      <td>0.476520</td>\n",
              "      <td>7.914021</td>\n",
              "      <td>14.279412</td>\n",
              "      <td>16.486574</td>\n",
              "      <td>9.344670</td>\n",
              "      <td>0.678796</td>\n",
              "      <td>0.571549</td>\n",
              "      <td>0.283243</td>\n",
              "      <td>0.224702</td>\n",
              "      <td>0.397488</td>\n",
              "      <td>0.499973</td>\n",
              "      <td>6.768013</td>\n",
              "    </tr>\n",
              "    <tr>\n",
              "      <th>min</th>\n",
              "      <td>0.000000</td>\n",
              "      <td>10798.000000</td>\n",
              "      <td>1.000000</td>\n",
              "      <td>120.000000</td>\n",
              "      <td>35.000000</td>\n",
              "      <td>80.000000</td>\n",
              "      <td>50.000000</td>\n",
              "      <td>1.000000</td>\n",
              "      <td>1.000000</td>\n",
              "      <td>0.000000</td>\n",
              "      <td>0.000000</td>\n",
              "      <td>0.000000</td>\n",
              "      <td>0.000000</td>\n",
              "      <td>30.000000</td>\n",
              "    </tr>\n",
              "    <tr>\n",
              "      <th>25%</th>\n",
              "      <td>25003.000000</td>\n",
              "      <td>17657.000000</td>\n",
              "      <td>1.000000</td>\n",
              "      <td>159.000000</td>\n",
              "      <td>65.000000</td>\n",
              "      <td>120.000000</td>\n",
              "      <td>80.000000</td>\n",
              "      <td>1.000000</td>\n",
              "      <td>1.000000</td>\n",
              "      <td>0.000000</td>\n",
              "      <td>0.000000</td>\n",
              "      <td>1.000000</td>\n",
              "      <td>0.000000</td>\n",
              "      <td>48.000000</td>\n",
              "    </tr>\n",
              "    <tr>\n",
              "      <th>50%</th>\n",
              "      <td>50012.000000</td>\n",
              "      <td>19701.000000</td>\n",
              "      <td>1.000000</td>\n",
              "      <td>165.000000</td>\n",
              "      <td>72.000000</td>\n",
              "      <td>120.000000</td>\n",
              "      <td>80.000000</td>\n",
              "      <td>1.000000</td>\n",
              "      <td>1.000000</td>\n",
              "      <td>0.000000</td>\n",
              "      <td>0.000000</td>\n",
              "      <td>1.000000</td>\n",
              "      <td>0.000000</td>\n",
              "      <td>54.000000</td>\n",
              "    </tr>\n",
              "    <tr>\n",
              "      <th>75%</th>\n",
              "      <td>74877.000000</td>\n",
              "      <td>21324.000000</td>\n",
              "      <td>2.000000</td>\n",
              "      <td>170.000000</td>\n",
              "      <td>82.000000</td>\n",
              "      <td>140.000000</td>\n",
              "      <td>90.000000</td>\n",
              "      <td>1.000000</td>\n",
              "      <td>1.000000</td>\n",
              "      <td>0.000000</td>\n",
              "      <td>0.000000</td>\n",
              "      <td>1.000000</td>\n",
              "      <td>1.000000</td>\n",
              "      <td>58.000000</td>\n",
              "    </tr>\n",
              "    <tr>\n",
              "      <th>max</th>\n",
              "      <td>99999.000000</td>\n",
              "      <td>23713.000000</td>\n",
              "      <td>2.000000</td>\n",
              "      <td>250.000000</td>\n",
              "      <td>200.000000</td>\n",
              "      <td>200.000000</td>\n",
              "      <td>150.000000</td>\n",
              "      <td>3.000000</td>\n",
              "      <td>3.000000</td>\n",
              "      <td>1.000000</td>\n",
              "      <td>1.000000</td>\n",
              "      <td>1.000000</td>\n",
              "      <td>1.000000</td>\n",
              "      <td>65.000000</td>\n",
              "    </tr>\n",
              "  </tbody>\n",
              "</table>\n",
              "</div>"
            ],
            "text/plain": [
              "                 id           age  ...  cardio_issues         years\n",
              "count  68529.000000  68529.000000  ...   68529.000000  68529.000000\n",
              "mean   49974.953538  19464.262969  ...       0.494491     53.326344\n",
              "std    28848.043430   2468.238892  ...       0.499973      6.768013\n",
              "min        0.000000  10798.000000  ...       0.000000     30.000000\n",
              "25%    25003.000000  17657.000000  ...       0.000000     48.000000\n",
              "50%    50012.000000  19701.000000  ...       0.000000     54.000000\n",
              "75%    74877.000000  21324.000000  ...       1.000000     58.000000\n",
              "max    99999.000000  23713.000000  ...       1.000000     65.000000\n",
              "\n",
              "[8 rows x 14 columns]"
            ]
          },
          "metadata": {
            "tags": []
          },
          "execution_count": 24
        }
      ]
    },
    {
      "cell_type": "markdown",
      "metadata": {
        "id": "OKQXpqFiA9Lm"
      },
      "source": [
        "# RA"
      ]
    },
    {
      "cell_type": "markdown",
      "metadata": {
        "id": "tU9scnXU1jQx"
      },
      "source": [
        "Numarul total de persoane, separate dupa gen\r\n",
        "\r\n",
        "---"
      ]
    },
    {
      "cell_type": "code",
      "metadata": {
        "colab": {
          "base_uri": "https://localhost:8080/"
        },
        "id": "zZhR-lWN04j1",
        "outputId": "efeb0ea9-dbb8-49d1-a498-98f19089653d"
      },
      "source": [
        "data['gender'].value_counts()"
      ],
      "execution_count": 27,
      "outputs": [
        {
          "output_type": "execute_result",
          "data": {
            "text/plain": [
              "1    44642\n",
              "2    23887\n",
              "Name: gender, dtype: int64"
            ]
          },
          "metadata": {
            "tags": []
          },
          "execution_count": 27
        }
      ]
    },
    {
      "cell_type": "markdown",
      "metadata": {
        "id": "l_PbC55utS3m"
      },
      "source": [
        "  Pentru a afla daca valoarea 1 din coloana 'gender' reprezinta genul feminin sau masculin vom calcula inaltimea medie a celor doua genuri. De asemenea, vom tine cont de presupunerea ca, in medie, inaltimea barbatilor este mai mare decat cea a femeilor."
      ]
    },
    {
      "cell_type": "code",
      "metadata": {
        "id": "nMBSHPOrmKi9",
        "colab": {
          "base_uri": "https://localhost:8080/"
        },
        "outputId": "4b519fff-b3f0-4eb1-d94c-7b4e460aa297"
      },
      "source": [
        "data.groupby('gender')['height'].mean()"
      ],
      "execution_count": 28,
      "outputs": [
        {
          "output_type": "execute_result",
          "data": {
            "text/plain": [
              "gender\n",
              "1    161.431656\n",
              "2    169.997070\n",
              "Name: height, dtype: float64"
            ]
          },
          "metadata": {
            "tags": []
          },
          "execution_count": 28
        }
      ]
    },
    {
      "cell_type": "markdown",
      "metadata": {
        "id": "h4b81fAdwKQl"
      },
      "source": [
        "Am extras submultimea formata din coloanele 'gender' si 'height', unde 'gender' are rol de index si 'height' este valoarea acesteia. Pentru a obtine valoarea medie a inaltimii, am aplicat functia mean() asupra submultimii obtinute.                       \r\n",
        "           \r\n",
        "Din rezultatul obtinut si tinand cont de presupunerea mentionata anterior, putem presupune ca valoarea 1 din coloana 'gender' reprezinta genul feminin, deoarece valoarea media a acesteia este mai mica decat cea a valorii 2."
      ]
    },
    {
      "cell_type": "markdown",
      "metadata": {
        "id": "HQtvqQbR7lid"
      },
      "source": [
        "Diferite statistici in functie de gen\r\n",
        "\r\n",
        "---"
      ]
    },
    {
      "cell_type": "code",
      "metadata": {
        "colab": {
          "base_uri": "https://localhost:8080/",
          "height": 190
        },
        "id": "Z9ON2KRjHJNV",
        "outputId": "e840917a-9e61-4220-8ca1-c49ab24bb9f4"
      },
      "source": [
        "gender_stats = data.groupby('gender')['alcohol','smoking','glucose','cholesterol']\r\n",
        "gender_stats.mean()"
      ],
      "execution_count": 29,
      "outputs": [
        {
          "output_type": "stream",
          "text": [
            "/usr/local/lib/python3.7/dist-packages/ipykernel_launcher.py:1: FutureWarning: Indexing with multiple keys (implicitly converted to a tuple of keys) will be deprecated, use a list instead.\n",
            "  \"\"\"Entry point for launching an IPython kernel.\n"
          ],
          "name": "stderr"
        },
        {
          "output_type": "execute_result",
          "data": {
            "text/html": [
              "<div>\n",
              "<style scoped>\n",
              "    .dataframe tbody tr th:only-of-type {\n",
              "        vertical-align: middle;\n",
              "    }\n",
              "\n",
              "    .dataframe tbody tr th {\n",
              "        vertical-align: top;\n",
              "    }\n",
              "\n",
              "    .dataframe thead th {\n",
              "        text-align: right;\n",
              "    }\n",
              "</style>\n",
              "<table border=\"1\" class=\"dataframe\">\n",
              "  <thead>\n",
              "    <tr style=\"text-align: right;\">\n",
              "      <th></th>\n",
              "      <th>alcohol</th>\n",
              "      <th>smoking</th>\n",
              "      <th>glucose</th>\n",
              "      <th>cholesterol</th>\n",
              "    </tr>\n",
              "    <tr>\n",
              "      <th>gender</th>\n",
              "      <th></th>\n",
              "      <th></th>\n",
              "      <th></th>\n",
              "      <th></th>\n",
              "    </tr>\n",
              "  </thead>\n",
              "  <tbody>\n",
              "    <tr>\n",
              "      <th>1</th>\n",
              "      <td>0.025178</td>\n",
              "      <td>0.017741</td>\n",
              "      <td>1.234510</td>\n",
              "      <td>1.382756</td>\n",
              "    </tr>\n",
              "    <tr>\n",
              "      <th>2</th>\n",
              "      <td>0.105957</td>\n",
              "      <td>0.219199</td>\n",
              "      <td>1.209068</td>\n",
              "      <td>1.330263</td>\n",
              "    </tr>\n",
              "  </tbody>\n",
              "</table>\n",
              "</div>"
            ],
            "text/plain": [
              "         alcohol   smoking   glucose  cholesterol\n",
              "gender                                           \n",
              "1       0.025178  0.017741  1.234510     1.382756\n",
              "2       0.105957  0.219199  1.209068     1.330263"
            ]
          },
          "metadata": {
            "tags": []
          },
          "execution_count": 29
        }
      ]
    },
    {
      "cell_type": "code",
      "metadata": {
        "id": "8XwWVSuiIB0n",
        "colab": {
          "base_uri": "https://localhost:8080/",
          "height": 417
        },
        "outputId": "9b4d0fc3-f621-4307-ce1d-c6619f6111d7"
      },
      "source": [
        "gender_stats.mean().plot(kind=\"bar\", title=\"Gender Statistics\", figsize=(8,6))"
      ],
      "execution_count": 30,
      "outputs": [
        {
          "output_type": "execute_result",
          "data": {
            "text/plain": [
              "<matplotlib.axes._subplots.AxesSubplot at 0x7f9d1bfdb150>"
            ]
          },
          "metadata": {
            "tags": []
          },
          "execution_count": 30
        },
        {
          "output_type": "display_data",
          "data": {
            "image/png": "[encoded data removed]",
            "text/plain": [
              "<Figure size 576x432 with 1 Axes>"
            ]
          },
          "metadata": {
            "tags": [],
            "needs_background": "light"
          }
        }
      ]
    },
    {
      "cell_type": "markdown",
      "metadata": {
        "id": "EZDierRx9kHH"
      },
      "source": [
        "Din media obtinuta, se observa urmatoarele:\r\n",
        "* tendintele consumului de alcool si a fumatului pentru genul 1 (feminin) sunt considerabile mai reduse fata de genul 2 (masculin)\r\n",
        "* valorile glucozei si colesterolului ale genului feminin suntmai ridicate decat valorile genului masculin"
      ]
    },
    {
      "cell_type": "code",
      "metadata": {
        "id": "0FYh23tCzdI9",
        "outputId": "bddde07f-123a-40b8-b574-464df4b1d3c6",
        "colab": {
          "base_uri": "https://localhost:8080/",
          "height": 136
        }
      },
      "source": [
        "gender_stats.std()"
      ],
      "execution_count": 47,
      "outputs": [
        {
          "output_type": "execute_result",
          "data": {
            "text/html": [
              "<div>\n",
              "<style scoped>\n",
              "    .dataframe tbody tr th:only-of-type {\n",
              "        vertical-align: middle;\n",
              "    }\n",
              "\n",
              "    .dataframe tbody tr th {\n",
              "        vertical-align: top;\n",
              "    }\n",
              "\n",
              "    .dataframe thead th {\n",
              "        text-align: right;\n",
              "    }\n",
              "</style>\n",
              "<table border=\"1\" class=\"dataframe\">\n",
              "  <thead>\n",
              "    <tr style=\"text-align: right;\">\n",
              "      <th></th>\n",
              "      <th>alcohol</th>\n",
              "      <th>smoking</th>\n",
              "      <th>glucose</th>\n",
              "      <th>cholesterol</th>\n",
              "    </tr>\n",
              "    <tr>\n",
              "      <th>gender</th>\n",
              "      <th></th>\n",
              "      <th></th>\n",
              "      <th></th>\n",
              "      <th></th>\n",
              "    </tr>\n",
              "  </thead>\n",
              "  <tbody>\n",
              "    <tr>\n",
              "      <th>1</th>\n",
              "      <td>0.156667</td>\n",
              "      <td>0.132011</td>\n",
              "      <td>0.582480</td>\n",
              "      <td>0.692257</td>\n",
              "    </tr>\n",
              "    <tr>\n",
              "      <th>2</th>\n",
              "      <td>0.307789</td>\n",
              "      <td>0.413712</td>\n",
              "      <td>0.550167</td>\n",
              "      <td>0.651535</td>\n",
              "    </tr>\n",
              "  </tbody>\n",
              "</table>\n",
              "</div>"
            ],
            "text/plain": [
              "         alcohol   smoking   glucose  cholesterol\n",
              "gender                                           \n",
              "1       0.156667  0.132011  0.582480     0.692257\n",
              "2       0.307789  0.413712  0.550167     0.651535"
            ]
          },
          "metadata": {
            "tags": []
          },
          "execution_count": 47
        }
      ]
    },
    {
      "cell_type": "code",
      "metadata": {
        "id": "pR_2HZLlLAWy",
        "colab": {
          "base_uri": "https://localhost:8080/",
          "height": 402
        },
        "outputId": "369d1f60-cfd9-4b4b-facf-8381d9f9d862"
      },
      "source": [
        "grp = gender_stats.filter(lambda x: (x['alcohol'].std()) < (x['smoking'].std()) )\r\n",
        "grp"
      ],
      "execution_count": 31,
      "outputs": [
        {
          "output_type": "execute_result",
          "data": {
            "text/html": [
              "<div>\n",
              "<style scoped>\n",
              "    .dataframe tbody tr th:only-of-type {\n",
              "        vertical-align: middle;\n",
              "    }\n",
              "\n",
              "    .dataframe tbody tr th {\n",
              "        vertical-align: top;\n",
              "    }\n",
              "\n",
              "    .dataframe thead th {\n",
              "        text-align: right;\n",
              "    }\n",
              "</style>\n",
              "<table border=\"1\" class=\"dataframe\">\n",
              "  <thead>\n",
              "    <tr style=\"text-align: right;\">\n",
              "      <th></th>\n",
              "      <th>alcohol</th>\n",
              "      <th>smoking</th>\n",
              "      <th>glucose</th>\n",
              "      <th>cholesterol</th>\n",
              "    </tr>\n",
              "  </thead>\n",
              "  <tbody>\n",
              "    <tr>\n",
              "      <th>0</th>\n",
              "      <td>0</td>\n",
              "      <td>0</td>\n",
              "      <td>1</td>\n",
              "      <td>1</td>\n",
              "    </tr>\n",
              "    <tr>\n",
              "      <th>3</th>\n",
              "      <td>0</td>\n",
              "      <td>0</td>\n",
              "      <td>1</td>\n",
              "      <td>1</td>\n",
              "    </tr>\n",
              "    <tr>\n",
              "      <th>7</th>\n",
              "      <td>0</td>\n",
              "      <td>0</td>\n",
              "      <td>3</td>\n",
              "      <td>3</td>\n",
              "    </tr>\n",
              "    <tr>\n",
              "      <th>11</th>\n",
              "      <td>0</td>\n",
              "      <td>0</td>\n",
              "      <td>1</td>\n",
              "      <td>1</td>\n",
              "    </tr>\n",
              "    <tr>\n",
              "      <th>12</th>\n",
              "      <td>0</td>\n",
              "      <td>0</td>\n",
              "      <td>1</td>\n",
              "      <td>1</td>\n",
              "    </tr>\n",
              "    <tr>\n",
              "      <th>...</th>\n",
              "      <td>...</td>\n",
              "      <td>...</td>\n",
              "      <td>...</td>\n",
              "      <td>...</td>\n",
              "    </tr>\n",
              "    <tr>\n",
              "      <th>69981</th>\n",
              "      <td>0</td>\n",
              "      <td>0</td>\n",
              "      <td>2</td>\n",
              "      <td>2</td>\n",
              "    </tr>\n",
              "    <tr>\n",
              "      <th>69984</th>\n",
              "      <td>0</td>\n",
              "      <td>0</td>\n",
              "      <td>1</td>\n",
              "      <td>1</td>\n",
              "    </tr>\n",
              "    <tr>\n",
              "      <th>69986</th>\n",
              "      <td>0</td>\n",
              "      <td>0</td>\n",
              "      <td>1</td>\n",
              "      <td>1</td>\n",
              "    </tr>\n",
              "    <tr>\n",
              "      <th>69995</th>\n",
              "      <td>0</td>\n",
              "      <td>1</td>\n",
              "      <td>1</td>\n",
              "      <td>1</td>\n",
              "    </tr>\n",
              "    <tr>\n",
              "      <th>69997</th>\n",
              "      <td>1</td>\n",
              "      <td>0</td>\n",
              "      <td>1</td>\n",
              "      <td>3</td>\n",
              "    </tr>\n",
              "  </tbody>\n",
              "</table>\n",
              "<p>23887 rows × 4 columns</p>\n",
              "</div>"
            ],
            "text/plain": [
              "       alcohol  smoking  glucose  cholesterol\n",
              "0            0        0        1            1\n",
              "3            0        0        1            1\n",
              "7            0        0        3            3\n",
              "11           0        0        1            1\n",
              "12           0        0        1            1\n",
              "...        ...      ...      ...          ...\n",
              "69981        0        0        2            2\n",
              "69984        0        0        1            1\n",
              "69986        0        0        1            1\n",
              "69995        0        1        1            1\n",
              "69997        1        0        1            3\n",
              "\n",
              "[23887 rows x 4 columns]"
            ]
          },
          "metadata": {
            "tags": []
          },
          "execution_count": 31
        }
      ]
    },
    {
      "cell_type": "markdown",
      "metadata": {
        "id": "Pz_Uu1u4wT7A"
      },
      "source": [
        "Deviatia standard (Standard Deviation/std) masoara variatia unui set de valori. "
      ]
    },
    {
      "cell_type": "markdown",
      "metadata": {
        "id": "Mja3qLG2RXqs"
      },
      "source": [
        "\r\n",
        "Persoane cu boli cardiace, pe grupe de varsta\r\n",
        "\r\n",
        "---\r\n",
        "\r\n"
      ]
    },
    {
      "cell_type": "code",
      "metadata": {
        "id": "HvmVsJLjcJQC",
        "colab": {
          "base_uri": "https://localhost:8080/"
        },
        "outputId": "c681d201-80db-4023-c45d-a73085b4b520"
      },
      "source": [
        "data.groupby('gender')['years'].min()"
      ],
      "execution_count": 32,
      "outputs": [
        {
          "output_type": "execute_result",
          "data": {
            "text/plain": [
              "gender\n",
              "1    30\n",
              "2    30\n",
              "Name: years, dtype: int64"
            ]
          },
          "metadata": {
            "tags": []
          },
          "execution_count": 32
        }
      ]
    },
    {
      "cell_type": "code",
      "metadata": {
        "id": "cmeLJX87cfYh",
        "colab": {
          "base_uri": "https://localhost:8080/"
        },
        "outputId": "759d28e4-9e14-45aa-863c-ce51e476a80a"
      },
      "source": [
        "data.groupby('gender')['years'].max()"
      ],
      "execution_count": 33,
      "outputs": [
        {
          "output_type": "execute_result",
          "data": {
            "text/plain": [
              "gender\n",
              "1    65\n",
              "2    65\n",
              "Name: years, dtype: int64"
            ]
          },
          "metadata": {
            "tags": []
          },
          "execution_count": 33
        }
      ]
    },
    {
      "cell_type": "markdown",
      "metadata": {
        "id": "aaiW8OHp0W3_"
      },
      "source": [
        "Deoarece am grupat coloana 'years' dupa gen, am aflat valoarea minima si maxima de varsta. Folosind aceasta informatie, am stabilit ca varsta va fi cuprinsa intre 30 si 65 de ani."
      ]
    },
    {
      "cell_type": "code",
      "metadata": {
        "id": "3wewW2zwRnkF"
      },
      "source": [
        "def age_func(x):\r\n",
        "  if (x < 40.0) & (x >= 30.0):\r\n",
        "    return '30s'\r\n",
        "  elif (x < 50.0) & (x >= 40.0):\r\n",
        "    return '40s'\r\n",
        "  elif (x < 60.0) & (x >= 50.0):\r\n",
        "    return '50s'\r\n",
        "  elif (x < 70.0) & (x >= 60.0):\r\n",
        "    return '60s'\r\n"
      ],
      "execution_count": 34,
      "outputs": []
    },
    {
      "cell_type": "markdown",
      "metadata": {
        "id": "9oSx4YvA8w1o"
      },
      "source": [
        "Am definit functia age_func(), care va ajuta la stabilirea categoriei de varsta. Categoriile de varsta sunt: \r\n",
        "* 30s (varsta cuprinsa intre 30 -> 39 de ani)\r\n",
        "* 40s (varsta cuprinsa intre 40 -> 49 de ani)\r\n",
        "* 50s (varsta cuprinsa intre 50 -> 59 de ani)\r\n",
        "* 60s (varsta cuprinsa intre 60 -> 69 de ani)"
      ]
    },
    {
      "cell_type": "code",
      "metadata": {
        "id": "poi1ughK4SRt",
        "colab": {
          "base_uri": "https://localhost:8080/",
          "height": 422
        },
        "outputId": "c02bd598-097f-43cf-c8c2-5b4d8441f496"
      },
      "source": [
        "ages = [] \r\n",
        "\r\n",
        "for i, j in data['age'].iteritems():\r\n",
        "    ages.append(age_func(data['years'][i]))\r\n",
        "#print(ages)\r\n",
        "data['age_cat']=ages\r\n",
        "data"
      ],
      "execution_count": 35,
      "outputs": [
        {
          "output_type": "execute_result",
          "data": {
            "text/html": [
              "<div>\n",
              "<style scoped>\n",
              "    .dataframe tbody tr th:only-of-type {\n",
              "        vertical-align: middle;\n",
              "    }\n",
              "\n",
              "    .dataframe tbody tr th {\n",
              "        vertical-align: top;\n",
              "    }\n",
              "\n",
              "    .dataframe thead th {\n",
              "        text-align: right;\n",
              "    }\n",
              "</style>\n",
              "<table border=\"1\" class=\"dataframe\">\n",
              "  <thead>\n",
              "    <tr style=\"text-align: right;\">\n",
              "      <th></th>\n",
              "      <th>id</th>\n",
              "      <th>age</th>\n",
              "      <th>gender</th>\n",
              "      <th>height</th>\n",
              "      <th>weight</th>\n",
              "      <th>sbp</th>\n",
              "      <th>dbp</th>\n",
              "      <th>cholesterol</th>\n",
              "      <th>glucose</th>\n",
              "      <th>smoking</th>\n",
              "      <th>alcohol</th>\n",
              "      <th>physical_active</th>\n",
              "      <th>cardio_issues</th>\n",
              "      <th>years</th>\n",
              "      <th>age_cat</th>\n",
              "    </tr>\n",
              "  </thead>\n",
              "  <tbody>\n",
              "    <tr>\n",
              "      <th>0</th>\n",
              "      <td>0</td>\n",
              "      <td>18393</td>\n",
              "      <td>2</td>\n",
              "      <td>168</td>\n",
              "      <td>62.0</td>\n",
              "      <td>110</td>\n",
              "      <td>80</td>\n",
              "      <td>1</td>\n",
              "      <td>1</td>\n",
              "      <td>0</td>\n",
              "      <td>0</td>\n",
              "      <td>1</td>\n",
              "      <td>0</td>\n",
              "      <td>50</td>\n",
              "      <td>50s</td>\n",
              "    </tr>\n",
              "    <tr>\n",
              "      <th>1</th>\n",
              "      <td>1</td>\n",
              "      <td>20228</td>\n",
              "      <td>1</td>\n",
              "      <td>156</td>\n",
              "      <td>85.0</td>\n",
              "      <td>140</td>\n",
              "      <td>90</td>\n",
              "      <td>3</td>\n",
              "      <td>1</td>\n",
              "      <td>0</td>\n",
              "      <td>0</td>\n",
              "      <td>1</td>\n",
              "      <td>1</td>\n",
              "      <td>55</td>\n",
              "      <td>50s</td>\n",
              "    </tr>\n",
              "    <tr>\n",
              "      <th>2</th>\n",
              "      <td>2</td>\n",
              "      <td>18857</td>\n",
              "      <td>1</td>\n",
              "      <td>165</td>\n",
              "      <td>64.0</td>\n",
              "      <td>130</td>\n",
              "      <td>70</td>\n",
              "      <td>3</td>\n",
              "      <td>1</td>\n",
              "      <td>0</td>\n",
              "      <td>0</td>\n",
              "      <td>0</td>\n",
              "      <td>1</td>\n",
              "      <td>52</td>\n",
              "      <td>50s</td>\n",
              "    </tr>\n",
              "    <tr>\n",
              "      <th>3</th>\n",
              "      <td>3</td>\n",
              "      <td>17623</td>\n",
              "      <td>2</td>\n",
              "      <td>169</td>\n",
              "      <td>82.0</td>\n",
              "      <td>150</td>\n",
              "      <td>100</td>\n",
              "      <td>1</td>\n",
              "      <td>1</td>\n",
              "      <td>0</td>\n",
              "      <td>0</td>\n",
              "      <td>1</td>\n",
              "      <td>1</td>\n",
              "      <td>48</td>\n",
              "      <td>40s</td>\n",
              "    </tr>\n",
              "    <tr>\n",
              "      <th>4</th>\n",
              "      <td>4</td>\n",
              "      <td>17474</td>\n",
              "      <td>1</td>\n",
              "      <td>156</td>\n",
              "      <td>56.0</td>\n",
              "      <td>100</td>\n",
              "      <td>60</td>\n",
              "      <td>1</td>\n",
              "      <td>1</td>\n",
              "      <td>0</td>\n",
              "      <td>0</td>\n",
              "      <td>0</td>\n",
              "      <td>0</td>\n",
              "      <td>48</td>\n",
              "      <td>40s</td>\n",
              "    </tr>\n",
              "    <tr>\n",
              "      <th>...</th>\n",
              "      <td>...</td>\n",
              "      <td>...</td>\n",
              "      <td>...</td>\n",
              "      <td>...</td>\n",
              "      <td>...</td>\n",
              "      <td>...</td>\n",
              "      <td>...</td>\n",
              "      <td>...</td>\n",
              "      <td>...</td>\n",
              "      <td>...</td>\n",
              "      <td>...</td>\n",
              "      <td>...</td>\n",
              "      <td>...</td>\n",
              "      <td>...</td>\n",
              "      <td>...</td>\n",
              "    </tr>\n",
              "    <tr>\n",
              "      <th>69995</th>\n",
              "      <td>99993</td>\n",
              "      <td>19240</td>\n",
              "      <td>2</td>\n",
              "      <td>168</td>\n",
              "      <td>76.0</td>\n",
              "      <td>120</td>\n",
              "      <td>80</td>\n",
              "      <td>1</td>\n",
              "      <td>1</td>\n",
              "      <td>1</td>\n",
              "      <td>0</td>\n",
              "      <td>1</td>\n",
              "      <td>0</td>\n",
              "      <td>53</td>\n",
              "      <td>50s</td>\n",
              "    </tr>\n",
              "    <tr>\n",
              "      <th>69996</th>\n",
              "      <td>99995</td>\n",
              "      <td>22601</td>\n",
              "      <td>1</td>\n",
              "      <td>158</td>\n",
              "      <td>126.0</td>\n",
              "      <td>140</td>\n",
              "      <td>90</td>\n",
              "      <td>2</td>\n",
              "      <td>2</td>\n",
              "      <td>0</td>\n",
              "      <td>0</td>\n",
              "      <td>1</td>\n",
              "      <td>1</td>\n",
              "      <td>62</td>\n",
              "      <td>60s</td>\n",
              "    </tr>\n",
              "    <tr>\n",
              "      <th>69997</th>\n",
              "      <td>99996</td>\n",
              "      <td>19066</td>\n",
              "      <td>2</td>\n",
              "      <td>183</td>\n",
              "      <td>105.0</td>\n",
              "      <td>180</td>\n",
              "      <td>90</td>\n",
              "      <td>3</td>\n",
              "      <td>1</td>\n",
              "      <td>0</td>\n",
              "      <td>1</td>\n",
              "      <td>0</td>\n",
              "      <td>1</td>\n",
              "      <td>52</td>\n",
              "      <td>50s</td>\n",
              "    </tr>\n",
              "    <tr>\n",
              "      <th>69998</th>\n",
              "      <td>99998</td>\n",
              "      <td>22431</td>\n",
              "      <td>1</td>\n",
              "      <td>163</td>\n",
              "      <td>72.0</td>\n",
              "      <td>135</td>\n",
              "      <td>80</td>\n",
              "      <td>1</td>\n",
              "      <td>2</td>\n",
              "      <td>0</td>\n",
              "      <td>0</td>\n",
              "      <td>0</td>\n",
              "      <td>1</td>\n",
              "      <td>61</td>\n",
              "      <td>60s</td>\n",
              "    </tr>\n",
              "    <tr>\n",
              "      <th>69999</th>\n",
              "      <td>99999</td>\n",
              "      <td>20540</td>\n",
              "      <td>1</td>\n",
              "      <td>170</td>\n",
              "      <td>72.0</td>\n",
              "      <td>120</td>\n",
              "      <td>80</td>\n",
              "      <td>2</td>\n",
              "      <td>1</td>\n",
              "      <td>0</td>\n",
              "      <td>0</td>\n",
              "      <td>1</td>\n",
              "      <td>0</td>\n",
              "      <td>56</td>\n",
              "      <td>50s</td>\n",
              "    </tr>\n",
              "  </tbody>\n",
              "</table>\n",
              "<p>68529 rows × 15 columns</p>\n",
              "</div>"
            ],
            "text/plain": [
              "          id    age  gender  ...  cardio_issues  years  age_cat\n",
              "0          0  18393       2  ...              0     50      50s\n",
              "1          1  20228       1  ...              1     55      50s\n",
              "2          2  18857       1  ...              1     52      50s\n",
              "3          3  17623       2  ...              1     48      40s\n",
              "4          4  17474       1  ...              0     48      40s\n",
              "...      ...    ...     ...  ...            ...    ...      ...\n",
              "69995  99993  19240       2  ...              0     53      50s\n",
              "69996  99995  22601       1  ...              1     62      60s\n",
              "69997  99996  19066       2  ...              1     52      50s\n",
              "69998  99998  22431       1  ...              1     61      60s\n",
              "69999  99999  20540       1  ...              0     56      50s\n",
              "\n",
              "[68529 rows x 15 columns]"
            ]
          },
          "metadata": {
            "tags": []
          },
          "execution_count": 35
        }
      ]
    },
    {
      "cell_type": "markdown",
      "metadata": {
        "id": "l-G5IFQ2F8hh"
      },
      "source": [
        "In lista ages am salvat categoriile de varsta pentru fiecare intrare din coloana 'years', dupa care am atribuit valorile din lista noii coloane 'age_cat'."
      ]
    },
    {
      "cell_type": "code",
      "metadata": {
        "id": "ciE3J-ZzbqJP",
        "colab": {
          "base_uri": "https://localhost:8080/",
          "height": 195
        },
        "outputId": "bce27185-7ac1-4056-9f26-db29d99467db"
      },
      "source": [
        "tb1 = data.pivot_table(values='id',index='age_cat',columns='cardio_issues', aggfunc=len, fill_value=0)\r\n",
        "tb1"
      ],
      "execution_count": 39,
      "outputs": [
        {
          "output_type": "execute_result",
          "data": {
            "text/html": [
              "<div>\n",
              "<style scoped>\n",
              "    .dataframe tbody tr th:only-of-type {\n",
              "        vertical-align: middle;\n",
              "    }\n",
              "\n",
              "    .dataframe tbody tr th {\n",
              "        vertical-align: top;\n",
              "    }\n",
              "\n",
              "    .dataframe thead th {\n",
              "        text-align: right;\n",
              "    }\n",
              "</style>\n",
              "<table border=\"1\" class=\"dataframe\">\n",
              "  <thead>\n",
              "    <tr style=\"text-align: right;\">\n",
              "      <th>cardio_issues</th>\n",
              "      <th>0</th>\n",
              "      <th>1</th>\n",
              "    </tr>\n",
              "    <tr>\n",
              "      <th>age_cat</th>\n",
              "      <th></th>\n",
              "      <th></th>\n",
              "    </tr>\n",
              "  </thead>\n",
              "  <tbody>\n",
              "    <tr>\n",
              "      <th>30s</th>\n",
              "      <td>318</td>\n",
              "      <td>86</td>\n",
              "    </tr>\n",
              "    <tr>\n",
              "      <th>40s</th>\n",
              "      <td>11533</td>\n",
              "      <td>6464</td>\n",
              "    </tr>\n",
              "    <tr>\n",
              "      <th>50s</th>\n",
              "      <td>17455</td>\n",
              "      <td>17128</td>\n",
              "    </tr>\n",
              "    <tr>\n",
              "      <th>60s</th>\n",
              "      <td>5336</td>\n",
              "      <td>10209</td>\n",
              "    </tr>\n",
              "  </tbody>\n",
              "</table>\n",
              "</div>"
            ],
            "text/plain": [
              "cardio_issues      0      1\n",
              "age_cat                    \n",
              "30s              318     86\n",
              "40s            11533   6464\n",
              "50s            17455  17128\n",
              "60s             5336  10209"
            ]
          },
          "metadata": {
            "tags": []
          },
          "execution_count": 39
        }
      ]
    },
    {
      "cell_type": "markdown",
      "metadata": {
        "id": "odO6a35mNTgi"
      },
      "source": [
        "Prin folosirea functiei pivot_table, am creat tabelul pivot ce evidentiaza numarul de persoane cardiace pe grupe de varsta. "
      ]
    },
    {
      "cell_type": "code",
      "metadata": {
        "id": "UAnw3t0UePq8",
        "colab": {
          "base_uri": "https://localhost:8080/",
          "height": 405
        },
        "outputId": "5457d390-736a-4ab5-c712-5c03aa6a2eac"
      },
      "source": [
        "tb1.plot(xlabel=\"Age Categories\", ylabel=\"Number of Cases\", figsize=(8,6))"
      ],
      "execution_count": 40,
      "outputs": [
        {
          "output_type": "execute_result",
          "data": {
            "text/plain": [
              "<matplotlib.axes._subplots.AxesSubplot at 0x7f9d1bf7ba50>"
            ]
          },
          "metadata": {
            "tags": []
          },
          "execution_count": 40
        },
        {
          "output_type": "display_data",
          "data": {
            "image/png": "[encoded data removed]",
            "text/plain": [
              "<Figure size 576x432 with 1 Axes>"
            ]
          },
          "metadata": {
            "tags": [],
            "needs_background": "light"
          }
        }
      ]
    },
    {
      "cell_type": "markdown",
      "metadata": {
        "id": "ddeFOrbLBgp3"
      },
      "source": [
        "Persoane cu tensiunea normala, pe categorii de varsta\r\n",
        "\r\n",
        "---"
      ]
    },
    {
      "cell_type": "code",
      "metadata": {
        "id": "bnG-klRl4Yxi",
        "colab": {
          "base_uri": "https://localhost:8080/",
          "height": 156
        },
        "outputId": "cb9282de-c069-465f-96b7-c67dc97b1cd7"
      },
      "source": [
        "#df[(df.v3 == some_value) & (df.v4 == some_value)].pivot_table(index='v1', columns='A', values='v3', aggfunc='count')\r\n",
        "tb2 = data[((data.sbp >= 120) & (data.sbp <= 121) & (data.dbp >= 79) & (data.dbp <= 80) & (data['age_cat'] == '20s')) |\r\n",
        "   ((data.sbp >= 122) & (data.sbp <= 123) & (data.dbp >= 81) & (data.dbp <= 82) & (data['age_cat'] == '30s')) |\r\n",
        "   ((data.sbp >= 124) & (data.sbp <= 127) & (data.dbp >= 83) & (data.dbp <= 84) & (data['age_cat'] == '40s')) |\r\n",
        "   ((data.sbp >= 128) & (data.sbp <= 131) & (data.dbp >= 85) & (data.dbp <= 86) & (data['age_cat'] == '50s')) |\r\n",
        "   ((data.sbp >= 132) & (data.sbp <= 134) & (data.dbp >= 87) & (data.dbp <= 88) & (data['age_cat'] == '60s'))\r\n",
        "   ].pivot_table(values=['sbp',\t'dbp',\t'alcohol','smoking','glucose','cholesterol','physical_active','cardio_issues'],index='age_cat', aggfunc='mean') \r\n",
        "tb2\r\n"
      ],
      "execution_count": 41,
      "outputs": [
        {
          "output_type": "execute_result",
          "data": {
            "text/html": [
              "<div>\n",
              "<style scoped>\n",
              "    .dataframe tbody tr th:only-of-type {\n",
              "        vertical-align: middle;\n",
              "    }\n",
              "\n",
              "    .dataframe tbody tr th {\n",
              "        vertical-align: top;\n",
              "    }\n",
              "\n",
              "    .dataframe thead th {\n",
              "        text-align: right;\n",
              "    }\n",
              "</style>\n",
              "<table border=\"1\" class=\"dataframe\">\n",
              "  <thead>\n",
              "    <tr style=\"text-align: right;\">\n",
              "      <th></th>\n",
              "      <th>alcohol</th>\n",
              "      <th>cardio_issues</th>\n",
              "      <th>cholesterol</th>\n",
              "      <th>dbp</th>\n",
              "      <th>glucose</th>\n",
              "      <th>physical_active</th>\n",
              "      <th>sbp</th>\n",
              "      <th>smoking</th>\n",
              "    </tr>\n",
              "    <tr>\n",
              "      <th>age_cat</th>\n",
              "      <th></th>\n",
              "      <th></th>\n",
              "      <th></th>\n",
              "      <th></th>\n",
              "      <th></th>\n",
              "      <th></th>\n",
              "      <th></th>\n",
              "      <th></th>\n",
              "    </tr>\n",
              "  </thead>\n",
              "  <tbody>\n",
              "    <tr>\n",
              "      <th>40s</th>\n",
              "      <td>0.000000</td>\n",
              "      <td>0.000000</td>\n",
              "      <td>1.000000</td>\n",
              "      <td>83.5000</td>\n",
              "      <td>1.000</td>\n",
              "      <td>0.750</td>\n",
              "      <td>126.0000</td>\n",
              "      <td>0.000000</td>\n",
              "    </tr>\n",
              "    <tr>\n",
              "      <th>50s</th>\n",
              "      <td>0.104167</td>\n",
              "      <td>0.604167</td>\n",
              "      <td>1.520833</td>\n",
              "      <td>85.0625</td>\n",
              "      <td>1.375</td>\n",
              "      <td>0.875</td>\n",
              "      <td>129.9375</td>\n",
              "      <td>0.041667</td>\n",
              "    </tr>\n",
              "  </tbody>\n",
              "</table>\n",
              "</div>"
            ],
            "text/plain": [
              "          alcohol  cardio_issues  ...       sbp   smoking\n",
              "age_cat                           ...                    \n",
              "40s      0.000000       0.000000  ...  126.0000  0.000000\n",
              "50s      0.104167       0.604167  ...  129.9375  0.041667\n",
              "\n",
              "[2 rows x 8 columns]"
            ]
          },
          "metadata": {
            "tags": []
          },
          "execution_count": 41
        }
      ]
    },
    {
      "cell_type": "markdown",
      "metadata": {
        "id": "k0qofMgkCrKl"
      },
      "source": [
        "# OI"
      ]
    },
    {
      "cell_type": "code",
      "metadata": {
        "id": "6U3KU14_C4t0"
      },
      "source": [
        "\r\n"
      ],
      "execution_count": null,
      "outputs": []
    },
    {
      "cell_type": "code",
      "metadata": {
        "colab": {
          "base_uri": "https://localhost:8080/",
          "height": 497
        },
        "id": "8jii4xL-p-Og",
        "outputId": "0be17693-92e3-4357-dca3-a7707cd239a7"
      },
      "source": [
        "from matplotlib import rcParams\r\n",
        "rcParams['figure.figsize'] = 11, 8\r\n",
        "sns.countplot(x='gender', hue='cholesterol', data = data, palette=\"Set1\");"
      ],
      "execution_count": null,
      "outputs": [
        {
          "output_type": "display_data",
          "data": {
            "image/png": "[encoded data removed]",
            "text/plain": [
              "<Figure size 792x576 with 1 Axes>"
            ]
          },
          "metadata": {
            "tags": [],
            "needs_background": "light"
          }
        }
      ]
    },
    {
      "cell_type": "code",
      "metadata": {
        "id": "e2GwSsHNmckV"
      },
      "source": [
        "def DrawSns(dataSet):\r\n",
        "  sns.kdeplot(dataSet['years'],dataSet['cholesterol'],shade =True)\r\n",
        "  return"
      ],
      "execution_count": null,
      "outputs": []
    },
    {
      "cell_type": "code",
      "metadata": {
        "id": "cPCRNpfHEmut",
        "colab": {
          "base_uri": "https://localhost:8080/",
          "height": 619
        },
        "outputId": "54092f1a-8852-4878-d72d-7d3a7e2a1c9d"
      },
      "source": [
        "import tracemalloc\r\n",
        "np.random.seed(0)\r\n",
        "values = np.random.randint(1, 100, size=100000)\r\n",
        "output=[None] * len(values)\r\n",
        "y = np.zeros(2*len(values))\r\n",
        "tracemalloc.start()\r\n",
        "\r\n",
        "DrawSns(data)\r\n",
        "\r\n",
        "first_size, first_peak = tracemalloc.get_traced_memory()\r\n",
        "tracemalloc.clear_traces()\r\n",
        "\r\n",
        "DrawSns(df)\r\n",
        "\r\n",
        "second_size, second_peak = tracemalloc.get_traced_memory()\r\n",
        "tracemalloc.clear_traces()\r\n",
        "\r\n",
        "print(f\"size Filtered: {first_size}, peak: {first_peak}\")\r\n",
        "print(f\"size Unfiltered: {second_size}, peak: {second_peak}\")\r\n",
        "\r\n",
        "\r\n",
        "tracemalloc.stop()\r\n",
        "    "
      ],
      "execution_count": null,
      "outputs": [
        {
          "output_type": "stream",
          "text": [
            "/usr/local/lib/python3.7/dist-packages/seaborn/_decorators.py:43: FutureWarning: Pass the following variable as a keyword arg: y. From version 0.12, the only valid positional argument will be `data`, and passing other arguments without an explicit keyword will result in an error or misinterpretation.\n",
            "  FutureWarning\n",
            "/usr/local/lib/python3.7/dist-packages/seaborn/_decorators.py:43: FutureWarning: Pass the following variable as a keyword arg: y. From version 0.12, the only valid positional argument will be `data`, and passing other arguments without an explicit keyword will result in an error or misinterpretation.\n",
            "  FutureWarning\n"
          ],
          "name": "stderr"
        },
        {
          "output_type": "stream",
          "text": [
            "size Filtered: 2981718, peak: 15252249\n",
            "size Unfiltered: 2480940, peak: 15222796\n"
          ],
          "name": "stdout"
        },
        {
          "output_type": "display_data",
          "data": {
            "image/png": "[encoded data removed]",
            "text/plain": [
              "<Figure size 792x576 with 1 Axes>"
            ]
          },
          "metadata": {
            "tags": [],
            "needs_background": "light"
          }
        }
      ]
    },
    {
      "cell_type": "code",
      "metadata": {
        "id": "3A7kpCuSE1g1",
        "colab": {
          "base_uri": "https://localhost:8080/",
          "height": 497
        },
        "outputId": "db6f1fb2-f53d-4518-9652-15bffd09faa9"
      },
      "source": [
        "sns.countplot(x='years', hue='cardio_issues', data = df, palette=\"Set2\");"
      ],
      "execution_count": null,
      "outputs": [
        {
          "output_type": "display_data",
          "data": {
            "image/png": "[encoded data removed]",
            "text/plain": [
              "<Figure size 792x576 with 1 Axes>"
            ]
          },
          "metadata": {
            "tags": [],
            "needs_background": "light"
          }
        }
      ]
    },
    {
      "cell_type": "code",
      "metadata": {
        "id": "ah0EVDSTFHaz",
        "colab": {
          "base_uri": "https://localhost:8080/",
          "height": 604
        },
        "outputId": "6703f1a4-fd2c-4268-bb60-32744fec321d"
      },
      "source": [
        "\r\n",
        "model =lr(copy_X=True, fit_intercept=True, normalize=False)\r\n",
        "X = data['years'][:, None]\r\n",
        "y = data['age']\r\n",
        "\r\n",
        "temp =model.fit(X,y)\r\n",
        "print(temp.score(X,y))\r\n",
        "print(model.coef_)\r\n",
        "print(model.intercept_)\r\n",
        "z= model.predict(X)\r\n",
        "\r\n",
        "plt.scatter(X,y)\r\n",
        "plt.plot(X,z,color='red')"
      ],
      "execution_count": null,
      "outputs": [
        {
          "output_type": "stream",
          "text": [
            "0.9981815529798129\n",
            "[364.36006497]\n",
            "34.27295307754321\n"
          ],
          "name": "stdout"
        },
        {
          "output_type": "stream",
          "text": [
            "/usr/local/lib/python3.7/dist-packages/ipykernel_launcher.py:3: FutureWarning: Support for multi-dimensional indexing (e.g. `obj[:, None]`) is deprecated and will be removed in a future version.  Convert to a numpy array before indexing instead.\n",
            "  This is separate from the ipykernel package so we can avoid doing imports until\n"
          ],
          "name": "stderr"
        },
        {
          "output_type": "execute_result",
          "data": {
            "text/plain": [
              "[<matplotlib.lines.Line2D at 0x7f4b0eb589d0>]"
            ]
          },
          "metadata": {
            "tags": []
          },
          "execution_count": 80
        },
        {
          "output_type": "display_data",
          "data": {
            "image/png": "[encoded data removed]",
            "text/plain": [
              "<Figure size 792x576 with 1 Axes>"
            ]
          },
          "metadata": {
            "tags": [],
            "needs_background": "light"
          }
        }
      ]
    },
    {
      "cell_type": "code",
      "metadata": {
        "id": "jbEr4KeQFciM",
        "colab": {
          "base_uri": "https://localhost:8080/",
          "height": 604
        },
        "outputId": "6783eec8-9aaa-4c62-d2b9-9b8cf59ecd31"
      },
      "source": [
        "corr = data.corr()\r\n",
        "cmap = sns.diverging_palette(220,221, as_cmap=True)\r\n",
        "f, ax = plt.subplots(figsize=(11, 9))\r\n",
        "sns.heatmap(corr, cmap=cmap, vmax=.3, center=0,annot = True,\r\n",
        "            square=False, linewidths=.75, cbar_kws={\"shrink\": .75});"
      ],
      "execution_count": null,
      "outputs": [
        {
          "output_type": "display_data",
          "data": {
            "image/png": "[encoded data removed]",
            "text/plain": [
              "<Figure size 792x648 with 2 Axes>"
            ]
          },
          "metadata": {
            "tags": [],
            "needs_background": "light"
          }
        }
      ]
    },
    {
      "cell_type": "markdown",
      "metadata": {
        "id": "RcGX293LFzTE"
      },
      "source": [
        "Se pot observa mai multe corelatii dupa cum urmeaza : Cea mai mare fiind dintre ani si varsta ( cu o valoare de 1 este o regresie liniara perfecta fiind vorba despre acelai lucru scris sub o alta forma, dar aceasta nu poate fi luata in considerare, fiind un lucru evident.\r\n",
        "\r\n",
        "Urmatoarea corelatie ca importanta este Presinua sistolica cu presiunea diastolica ( Indice de corelatie = 0.7 -> corelatie puternica ) Acest lucru rezulta din faptul ca sunt masuratori ale inimilor pacientilor, iar acestea ar trebui sa ai o legatura destul de puternica de cele mai multe ori\r\n",
        "\r\n",
        "De mentionat mai sunt si corelatiile glucoza cu colesterol, de unde rezulta o legatura slaba, dar prezenta intre cele doua valori\r\n",
        "\r\n",
        "Alte si mai slabe dar de urmarit sunt cele care depasesc valoarea de 0.2, dar nu merita atentie suplimentara."
      ]
    },
    {
      "cell_type": "code",
      "metadata": {
        "id": "uWYRIQkQF2Pz",
        "colab": {
          "base_uri": "https://localhost:8080/",
          "height": 755
        },
        "outputId": "1424e585-293a-4406-e7c9-e5852284d598"
      },
      "source": [
        "model =lr(copy_X=True, fit_intercept=True, normalize=False)\r\n",
        "model2 =lr(copy_X=True, fit_intercept=True, normalize=False)\r\n",
        "X = data['sbp'][:, None]\r\n",
        "y = data['dbp']\r\n",
        "\r\n",
        "X2 = df['sbp'][:, None]\r\n",
        "y2 = df['dbp']\r\n",
        "print(\"---------------------------------------------------------------\");\r\n",
        "print(\"Filtered Data:\")\r\n",
        "temp =model.fit(X,y)\r\n",
        "print(temp.score(X,y))\r\n",
        "print(model.coef_)\r\n",
        "print(model.intercept_)\r\n",
        "\r\n",
        "print(\"---------------------------------------------------------------\");\r\n",
        "print(\"Unfiltered Data:\")\r\n",
        "temp2 =model2.fit(X2,y2)\r\n",
        "print(temp2.score(X2,y2))\r\n",
        "print(model2.coef_)\r\n",
        "print(model2.intercept_)\r\n",
        "\r\n",
        "\r\n",
        "z= model.predict(X)\r\n",
        "\r\n",
        "\r\n",
        "plt.scatter(X,y)\r\n",
        "plt.plot(X,z,color='red')\r\n"
      ],
      "execution_count": null,
      "outputs": [
        {
          "output_type": "stream",
          "text": [
            "---------------------------------------------------------------\n",
            "Filtered Data:\n",
            "0.5378710920241931\n",
            "[0.41569296]\n",
            "28.66028009877361\n",
            "---------------------------------------------------------------\n",
            "Unfiltered Data:\n",
            "0.0002587437414518501\n",
            "[0.01968476]\n",
            "94.09467728135569\n"
          ],
          "name": "stdout"
        },
        {
          "output_type": "stream",
          "text": [
            "/usr/local/lib/python3.7/dist-packages/ipykernel_launcher.py:3: FutureWarning: Support for multi-dimensional indexing (e.g. `obj[:, None]`) is deprecated and will be removed in a future version.  Convert to a numpy array before indexing instead.\n",
            "  This is separate from the ipykernel package so we can avoid doing imports until\n",
            "/usr/local/lib/python3.7/dist-packages/ipykernel_launcher.py:6: FutureWarning: Support for multi-dimensional indexing (e.g. `obj[:, None]`) is deprecated and will be removed in a future version.  Convert to a numpy array before indexing instead.\n",
            "  \n"
          ],
          "name": "stderr"
        },
        {
          "output_type": "execute_result",
          "data": {
            "text/plain": [
              "[<matplotlib.lines.Line2D at 0x7f4b0c323e90>]"
            ]
          },
          "metadata": {
            "tags": []
          },
          "execution_count": 82
        },
        {
          "output_type": "display_data",
          "data": {
            "image/png": "[encoded data removed]",
            "text/plain": [
              "<Figure size 792x576 with 1 Axes>"
            ]
          },
          "metadata": {
            "tags": [],
            "needs_background": "light"
          }
        }
      ]
    },
    {
      "cell_type": "markdown",
      "metadata": {
        "id": "12rE6BtxIsdE"
      },
      "source": [
        "Se poate observa fara nici o alta explicatie rezultatul filtrarii datelor care au fost filtrate alaturi de cele nefiltrate, factor de corelatie de 2600 ori mai mare."
      ]
    },
    {
      "cell_type": "code",
      "metadata": {
        "colab": {
          "base_uri": "https://localhost:8080/"
        },
        "id": "-SJXWzpFuW-G",
        "outputId": "16105e36-bb0e-4728-9a59-80f3f0210b22"
      },
      "source": [
        "# first neural network with keras tutorial\r\n",
        "from numpy import loadtxt\r\n",
        "from keras.models import Sequential\r\n",
        "from keras.layers import Dense\r\n",
        "\r\n",
        "X= data[['age','gender','height','weight','sbp','dbp','cholesterol','glucose','smoking','alcohol','physical_active']]\r\n",
        "y = data['cardio_issues']\r\n",
        "model = Sequential()\r\n",
        "model.add(Dense(12, input_dim=11, activation='relu'))\r\n",
        "model.add(Dense(8, activation='relu'))\r\n",
        "model.add(Dense(1, activation='sigmoid'))\r\n",
        "\r\n",
        "model.compile(loss='binary_crossentropy', optimizer='adam', metrics=['accuracy'])\r\n",
        "\r\n",
        "model.fit(X, y, epochs=150, batch_size=10)\r\n",
        "\r\n",
        "_, accuracy = model.evaluate(X, y)\r\n",
        "print('Accuracy: %.2f' % (accuracy*100))"
      ],
      "execution_count": null,
      "outputs": [
        {
          "output_type": "stream",
          "text": [
            "Epoch 1/150\n",
            "6853/6853 [==============================] - 9s 1ms/step - loss: 194.2814 - accuracy: 0.5419\n",
            "Epoch 2/150\n",
            "6853/6853 [==============================] - 9s 1ms/step - loss: 1.9177 - accuracy: 0.5804\n",
            "Epoch 3/150\n",
            "6853/6853 [==============================] - 9s 1ms/step - loss: 1.7637 - accuracy: 0.5897\n",
            "Epoch 4/150\n",
            "6853/6853 [==============================] - 9s 1ms/step - loss: 1.5992 - accuracy: 0.6004\n",
            "Epoch 5/150\n",
            "6853/6853 [==============================] - 9s 1ms/step - loss: 1.3865 - accuracy: 0.6083\n",
            "Epoch 6/150\n",
            "6853/6853 [==============================] - 9s 1ms/step - loss: 1.2335 - accuracy: 0.6158\n",
            "Epoch 7/150\n",
            "6853/6853 [==============================] - 9s 1ms/step - loss: 1.0440 - accuracy: 0.6214\n",
            "Epoch 8/150\n",
            "6853/6853 [==============================] - 9s 1ms/step - loss: 0.9117 - accuracy: 0.6249\n",
            "Epoch 9/150\n",
            "6853/6853 [==============================] - 9s 1ms/step - loss: 0.8561 - accuracy: 0.6169\n",
            "Epoch 10/150\n",
            "6853/6853 [==============================] - 9s 1ms/step - loss: 0.7621 - accuracy: 0.6256\n",
            "Epoch 11/150\n",
            "6853/6853 [==============================] - 9s 1ms/step - loss: 0.6509 - accuracy: 0.6231\n",
            "Epoch 12/150\n",
            "6853/6853 [==============================] - 9s 1ms/step - loss: 0.6763 - accuracy: 0.5790\n",
            "Epoch 13/150\n",
            "6853/6853 [==============================] - 9s 1ms/step - loss: 0.6385 - accuracy: 0.6436\n",
            "Epoch 14/150\n",
            "6853/6853 [==============================] - 9s 1ms/step - loss: 0.6158 - accuracy: 0.6648\n",
            "Epoch 15/150\n",
            "6853/6853 [==============================] - 9s 1ms/step - loss: 0.6094 - accuracy: 0.6746\n",
            "Epoch 16/150\n",
            "6853/6853 [==============================] - 9s 1ms/step - loss: 0.6012 - accuracy: 0.6851\n",
            "Epoch 17/150\n",
            "6853/6853 [==============================] - 9s 1ms/step - loss: 0.5988 - accuracy: 0.6863\n",
            "Epoch 18/150\n",
            "6853/6853 [==============================] - 9s 1ms/step - loss: 0.6008 - accuracy: 0.6829\n",
            "Epoch 19/150\n",
            "6853/6853 [==============================] - 9s 1ms/step - loss: 0.5916 - accuracy: 0.6981\n",
            "Epoch 20/150\n",
            "6853/6853 [==============================] - 9s 1ms/step - loss: 0.5949 - accuracy: 0.6909\n",
            "Epoch 21/150\n",
            "6853/6853 [==============================] - 9s 1ms/step - loss: 0.5918 - accuracy: 0.6962\n",
            "Epoch 22/150\n",
            "6853/6853 [==============================] - 9s 1ms/step - loss: 0.5894 - accuracy: 0.6974\n",
            "Epoch 23/150\n",
            "6853/6853 [==============================] - 9s 1ms/step - loss: 0.5913 - accuracy: 0.6956\n",
            "Epoch 24/150\n",
            "6853/6853 [==============================] - 9s 1ms/step - loss: 0.5888 - accuracy: 0.6993\n",
            "Epoch 25/150\n",
            "6853/6853 [==============================] - 9s 1ms/step - loss: 0.5885 - accuracy: 0.6963\n",
            "Epoch 26/150\n",
            "6853/6853 [==============================] - 9s 1ms/step - loss: 0.5838 - accuracy: 0.7049\n",
            "Epoch 27/150\n",
            "6853/6853 [==============================] - 9s 1ms/step - loss: 0.5861 - accuracy: 0.6997\n",
            "Epoch 28/150\n",
            "6853/6853 [==============================] - 9s 1ms/step - loss: 0.5828 - accuracy: 0.7053\n",
            "Epoch 29/150\n",
            "6853/6853 [==============================] - 9s 1ms/step - loss: 0.5871 - accuracy: 0.6995\n",
            "Epoch 30/150\n",
            "6853/6853 [==============================] - 9s 1ms/step - loss: 0.5880 - accuracy: 0.7001\n",
            "Epoch 31/150\n",
            "6853/6853 [==============================] - 9s 1ms/step - loss: 0.5817 - accuracy: 0.7041\n",
            "Epoch 32/150\n",
            "6853/6853 [==============================] - 9s 1ms/step - loss: 0.5884 - accuracy: 0.6977\n",
            "Epoch 33/150\n",
            "6853/6853 [==============================] - 9s 1ms/step - loss: 0.5836 - accuracy: 0.7021\n",
            "Epoch 34/150\n",
            "6853/6853 [==============================] - 9s 1ms/step - loss: 0.5843 - accuracy: 0.7018\n",
            "Epoch 35/150\n",
            "6853/6853 [==============================] - 9s 1ms/step - loss: 0.5841 - accuracy: 0.7058\n",
            "Epoch 36/150\n",
            "6853/6853 [==============================] - 9s 1ms/step - loss: 0.5822 - accuracy: 0.7062\n",
            "Epoch 37/150\n",
            "6853/6853 [==============================] - 9s 1ms/step - loss: 0.5801 - accuracy: 0.7059\n",
            "Epoch 38/150\n",
            "6853/6853 [==============================] - 9s 1ms/step - loss: 0.5790 - accuracy: 0.7104\n",
            "Epoch 39/150\n",
            "6853/6853 [==============================] - 9s 1ms/step - loss: 0.5824 - accuracy: 0.7071\n",
            "Epoch 40/150\n",
            "6853/6853 [==============================] - 9s 1ms/step - loss: 0.5812 - accuracy: 0.7082\n",
            "Epoch 41/150\n",
            "6853/6853 [==============================] - 9s 1ms/step - loss: 0.5805 - accuracy: 0.7077\n",
            "Epoch 42/150\n",
            "6853/6853 [==============================] - 9s 1ms/step - loss: 0.5774 - accuracy: 0.7067\n",
            "Epoch 43/150\n",
            "6853/6853 [==============================] - 9s 1ms/step - loss: 0.5806 - accuracy: 0.7064\n",
            "Epoch 44/150\n",
            "6853/6853 [==============================] - 9s 1ms/step - loss: 0.5779 - accuracy: 0.7104\n",
            "Epoch 45/150\n",
            "6853/6853 [==============================] - 9s 1ms/step - loss: 0.5794 - accuracy: 0.7080\n",
            "Epoch 46/150\n",
            "6853/6853 [==============================] - 9s 1ms/step - loss: 0.5767 - accuracy: 0.7123\n",
            "Epoch 47/150\n",
            "6853/6853 [==============================] - 9s 1ms/step - loss: 0.5785 - accuracy: 0.7096\n",
            "Epoch 48/150\n",
            "6853/6853 [==============================] - 9s 1ms/step - loss: 0.5766 - accuracy: 0.7125\n",
            "Epoch 49/150\n",
            "6853/6853 [==============================] - 9s 1ms/step - loss: 0.5787 - accuracy: 0.7093\n",
            "Epoch 50/150\n",
            "6853/6853 [==============================] - 9s 1ms/step - loss: 0.5772 - accuracy: 0.7113\n",
            "Epoch 51/150\n",
            "6853/6853 [==============================] - 9s 1ms/step - loss: 0.5781 - accuracy: 0.7097\n",
            "Epoch 52/150\n",
            "6853/6853 [==============================] - 9s 1ms/step - loss: 0.5774 - accuracy: 0.7097\n",
            "Epoch 53/150\n",
            "6853/6853 [==============================] - 9s 1ms/step - loss: 0.5758 - accuracy: 0.7149\n",
            "Epoch 54/150\n",
            "6853/6853 [==============================] - 9s 1ms/step - loss: 0.5754 - accuracy: 0.7127\n",
            "Epoch 55/150\n",
            "6853/6853 [==============================] - 9s 1ms/step - loss: 0.5734 - accuracy: 0.7118\n",
            "Epoch 56/150\n",
            "6853/6853 [==============================] - 9s 1ms/step - loss: 0.5778 - accuracy: 0.7092\n",
            "Epoch 57/150\n",
            "6853/6853 [==============================] - 9s 1ms/step - loss: 0.5788 - accuracy: 0.7104\n",
            "Epoch 58/150\n",
            "6853/6853 [==============================] - 9s 1ms/step - loss: 0.5781 - accuracy: 0.7112\n",
            "Epoch 59/150\n",
            "6853/6853 [==============================] - 9s 1ms/step - loss: 0.5737 - accuracy: 0.7145\n",
            "Epoch 60/150\n",
            "6853/6853 [==============================] - 9s 1ms/step - loss: 0.5734 - accuracy: 0.7144\n",
            "Epoch 61/150\n",
            "6853/6853 [==============================] - 9s 1ms/step - loss: 0.5776 - accuracy: 0.7076\n",
            "Epoch 62/150\n",
            "6853/6853 [==============================] - 9s 1ms/step - loss: 0.5718 - accuracy: 0.7135\n",
            "Epoch 63/150\n",
            "6853/6853 [==============================] - 9s 1ms/step - loss: 0.5756 - accuracy: 0.7098\n",
            "Epoch 64/150\n",
            "6853/6853 [==============================] - 9s 1ms/step - loss: 0.5797 - accuracy: 0.7058\n",
            "Epoch 65/150\n",
            "6853/6853 [==============================] - 9s 1ms/step - loss: 0.5767 - accuracy: 0.7099\n",
            "Epoch 66/150\n",
            "6853/6853 [==============================] - 9s 1ms/step - loss: 0.5761 - accuracy: 0.7123\n",
            "Epoch 67/150\n",
            "6853/6853 [==============================] - 9s 1ms/step - loss: 0.5772 - accuracy: 0.7088\n",
            "Epoch 68/150\n",
            "6853/6853 [==============================] - 9s 1ms/step - loss: 0.5773 - accuracy: 0.7128\n",
            "Epoch 69/150\n",
            "6853/6853 [==============================] - 9s 1ms/step - loss: 0.5741 - accuracy: 0.7133\n",
            "Epoch 70/150\n",
            "6853/6853 [==============================] - 9s 1ms/step - loss: 0.5755 - accuracy: 0.7100\n",
            "Epoch 71/150\n",
            "6853/6853 [==============================] - 9s 1ms/step - loss: 0.5753 - accuracy: 0.7150\n",
            "Epoch 72/150\n",
            "6853/6853 [==============================] - 9s 1ms/step - loss: 0.5752 - accuracy: 0.7144\n",
            "Epoch 73/150\n",
            "6853/6853 [==============================] - 9s 1ms/step - loss: 0.5748 - accuracy: 0.7132\n",
            "Epoch 74/150\n",
            "6853/6853 [==============================] - 9s 1ms/step - loss: 0.5754 - accuracy: 0.7117\n",
            "Epoch 75/150\n",
            "6853/6853 [==============================] - 9s 1ms/step - loss: 0.5757 - accuracy: 0.7129\n",
            "Epoch 76/150\n",
            "6853/6853 [==============================] - 9s 1ms/step - loss: 0.5750 - accuracy: 0.7126\n",
            "Epoch 77/150\n",
            "6853/6853 [==============================] - 9s 1ms/step - loss: 0.5785 - accuracy: 0.7098\n",
            "Epoch 78/150\n",
            "6853/6853 [==============================] - 9s 1ms/step - loss: 0.5760 - accuracy: 0.7122\n",
            "Epoch 79/150\n",
            "6853/6853 [==============================] - 9s 1ms/step - loss: 0.5766 - accuracy: 0.7114\n",
            "Epoch 80/150\n",
            "6853/6853 [==============================] - 9s 1ms/step - loss: 0.5738 - accuracy: 0.7148\n",
            "Epoch 81/150\n",
            "6853/6853 [==============================] - 9s 1ms/step - loss: 0.5709 - accuracy: 0.7161\n",
            "Epoch 82/150\n",
            "6853/6853 [==============================] - 9s 1ms/step - loss: 0.5719 - accuracy: 0.7170\n",
            "Epoch 83/150\n",
            "6853/6853 [==============================] - 9s 1ms/step - loss: 0.5793 - accuracy: 0.7089\n",
            "Epoch 84/150\n",
            "6853/6853 [==============================] - 9s 1ms/step - loss: 0.5724 - accuracy: 0.7145\n",
            "Epoch 85/150\n",
            "6853/6853 [==============================] - 9s 1ms/step - loss: 0.5743 - accuracy: 0.7137\n",
            "Epoch 86/150\n",
            "6853/6853 [==============================] - 9s 1ms/step - loss: 0.5773 - accuracy: 0.7117\n",
            "Epoch 87/150\n",
            "6853/6853 [==============================] - 9s 1ms/step - loss: 0.5736 - accuracy: 0.7133\n",
            "Epoch 88/150\n",
            "6853/6853 [==============================] - 9s 1ms/step - loss: 0.5743 - accuracy: 0.7147\n",
            "Epoch 89/150\n",
            "6853/6853 [==============================] - 9s 1ms/step - loss: 0.5746 - accuracy: 0.7130\n",
            "Epoch 90/150\n",
            "6853/6853 [==============================] - 9s 1ms/step - loss: 0.5736 - accuracy: 0.7162\n",
            "Epoch 91/150\n",
            "6853/6853 [==============================] - 9s 1ms/step - loss: 0.5780 - accuracy: 0.7104\n",
            "Epoch 92/150\n",
            "6853/6853 [==============================] - 9s 1ms/step - loss: 0.5731 - accuracy: 0.7146\n",
            "Epoch 93/150\n",
            "6853/6853 [==============================] - 9s 1ms/step - loss: 0.5753 - accuracy: 0.7122\n",
            "Epoch 94/150\n",
            "6853/6853 [==============================] - 9s 1ms/step - loss: 0.5733 - accuracy: 0.7158\n",
            "Epoch 95/150\n",
            "6853/6853 [==============================] - 9s 1ms/step - loss: 0.5772 - accuracy: 0.7115\n",
            "Epoch 96/150\n",
            "6853/6853 [==============================] - 9s 1ms/step - loss: 0.5744 - accuracy: 0.7127\n",
            "Epoch 97/150\n",
            "6853/6853 [==============================] - 9s 1ms/step - loss: 0.5749 - accuracy: 0.7122\n",
            "Epoch 98/150\n",
            "6853/6853 [==============================] - 9s 1ms/step - loss: 0.5742 - accuracy: 0.7170\n",
            "Epoch 99/150\n",
            "6853/6853 [==============================] - 9s 1ms/step - loss: 0.5743 - accuracy: 0.7138\n",
            "Epoch 100/150\n",
            "6853/6853 [==============================] - 9s 1ms/step - loss: 0.5745 - accuracy: 0.7142\n",
            "Epoch 101/150\n",
            "6853/6853 [==============================] - 9s 1ms/step - loss: 0.5748 - accuracy: 0.7124\n",
            "Epoch 102/150\n",
            "6853/6853 [==============================] - 9s 1ms/step - loss: 0.5711 - accuracy: 0.7172\n",
            "Epoch 103/150\n",
            "6853/6853 [==============================] - 9s 1ms/step - loss: 0.5722 - accuracy: 0.7160\n",
            "Epoch 104/150\n",
            "6853/6853 [==============================] - 9s 1ms/step - loss: 0.5734 - accuracy: 0.7147\n",
            "Epoch 105/150\n",
            "6853/6853 [==============================] - 9s 1ms/step - loss: 0.5756 - accuracy: 0.7114\n",
            "Epoch 106/150\n",
            "6853/6853 [==============================] - 9s 1ms/step - loss: 0.5742 - accuracy: 0.7160\n",
            "Epoch 107/150\n",
            "6853/6853 [==============================] - 9s 1ms/step - loss: 0.5721 - accuracy: 0.7173\n",
            "Epoch 108/150\n",
            "6853/6853 [==============================] - 9s 1ms/step - loss: 0.5699 - accuracy: 0.7198\n",
            "Epoch 109/150\n",
            "6853/6853 [==============================] - 9s 1ms/step - loss: 0.5756 - accuracy: 0.7114\n",
            "Epoch 110/150\n",
            "6853/6853 [==============================] - 9s 1ms/step - loss: 0.5754 - accuracy: 0.7152\n",
            "Epoch 111/150\n",
            "6853/6853 [==============================] - 9s 1ms/step - loss: 0.5771 - accuracy: 0.7105\n",
            "Epoch 112/150\n",
            "6853/6853 [==============================] - 9s 1ms/step - loss: 0.5711 - accuracy: 0.7156\n",
            "Epoch 113/150\n",
            "6853/6853 [==============================] - 9s 1ms/step - loss: 0.5746 - accuracy: 0.7125\n",
            "Epoch 114/150\n",
            "6853/6853 [==============================] - 9s 1ms/step - loss: 0.5747 - accuracy: 0.7110\n",
            "Epoch 115/150\n",
            "6853/6853 [==============================] - 9s 1ms/step - loss: 0.5739 - accuracy: 0.7137\n",
            "Epoch 116/150\n",
            "6853/6853 [==============================] - 9s 1ms/step - loss: 0.5710 - accuracy: 0.7151\n",
            "Epoch 117/150\n",
            "6853/6853 [==============================] - 9s 1ms/step - loss: 0.5727 - accuracy: 0.7166\n",
            "Epoch 118/150\n",
            "6853/6853 [==============================] - 9s 1ms/step - loss: 0.5738 - accuracy: 0.7157\n",
            "Epoch 119/150\n",
            "6853/6853 [==============================] - 9s 1ms/step - loss: 0.5714 - accuracy: 0.7168\n",
            "Epoch 120/150\n",
            "6853/6853 [==============================] - 10s 1ms/step - loss: 0.5732 - accuracy: 0.7152\n",
            "Epoch 121/150\n",
            "6853/6853 [==============================] - 9s 1ms/step - loss: 0.5748 - accuracy: 0.7141\n",
            "Epoch 122/150\n",
            "6853/6853 [==============================] - 9s 1ms/step - loss: 0.5745 - accuracy: 0.7141\n",
            "Epoch 123/150\n",
            "6853/6853 [==============================] - 9s 1ms/step - loss: 0.5736 - accuracy: 0.7175\n",
            "Epoch 124/150\n",
            "6853/6853 [==============================] - 9s 1ms/step - loss: 0.5727 - accuracy: 0.7146\n",
            "Epoch 125/150\n",
            "6853/6853 [==============================] - 9s 1ms/step - loss: 0.5749 - accuracy: 0.7154\n",
            "Epoch 126/150\n",
            "6853/6853 [==============================] - 9s 1ms/step - loss: 0.5744 - accuracy: 0.7164\n",
            "Epoch 127/150\n",
            "6853/6853 [==============================] - 9s 1ms/step - loss: 0.5717 - accuracy: 0.7157\n",
            "Epoch 128/150\n",
            "6853/6853 [==============================] - 9s 1ms/step - loss: 0.5743 - accuracy: 0.7147\n",
            "Epoch 129/150\n",
            "6853/6853 [==============================] - 9s 1ms/step - loss: 0.5716 - accuracy: 0.7177\n",
            "Epoch 130/150\n",
            "6853/6853 [==============================] - 9s 1ms/step - loss: 0.5771 - accuracy: 0.7125\n",
            "Epoch 131/150\n",
            "6853/6853 [==============================] - 9s 1ms/step - loss: 0.5785 - accuracy: 0.7111\n",
            "Epoch 132/150\n",
            "6853/6853 [==============================] - 9s 1ms/step - loss: 0.5727 - accuracy: 0.7142\n",
            "Epoch 133/150\n",
            "6853/6853 [==============================] - 9s 1ms/step - loss: 0.5733 - accuracy: 0.7160\n",
            "Epoch 134/150\n",
            "6853/6853 [==============================] - 9s 1ms/step - loss: 0.5736 - accuracy: 0.7168\n",
            "Epoch 135/150\n",
            "6853/6853 [==============================] - 9s 1ms/step - loss: 0.5725 - accuracy: 0.7168\n",
            "Epoch 136/150\n",
            "6853/6853 [==============================] - 9s 1ms/step - loss: 0.5740 - accuracy: 0.7123\n",
            "Epoch 137/150\n",
            "6853/6853 [==============================] - 9s 1ms/step - loss: 0.5756 - accuracy: 0.7149\n",
            "Epoch 138/150\n",
            "6853/6853 [==============================] - 9s 1ms/step - loss: 0.5711 - accuracy: 0.7179\n",
            "Epoch 139/150\n",
            "6853/6853 [==============================] - 9s 1ms/step - loss: 0.5752 - accuracy: 0.7138\n",
            "Epoch 140/150\n",
            "6853/6853 [==============================] - 9s 1ms/step - loss: 0.5753 - accuracy: 0.7145\n",
            "Epoch 141/150\n",
            "6853/6853 [==============================] - 9s 1ms/step - loss: 0.5734 - accuracy: 0.7161\n",
            "Epoch 142/150\n",
            "6853/6853 [==============================] - 9s 1ms/step - loss: 0.5742 - accuracy: 0.7126\n",
            "Epoch 143/150\n",
            "6853/6853 [==============================] - 9s 1ms/step - loss: 0.5722 - accuracy: 0.7165\n",
            "Epoch 144/150\n",
            "6853/6853 [==============================] - 9s 1ms/step - loss: 0.5738 - accuracy: 0.7155\n",
            "Epoch 145/150\n",
            "6853/6853 [==============================] - 9s 1ms/step - loss: 0.5706 - accuracy: 0.7162\n",
            "Epoch 146/150\n",
            "6853/6853 [==============================] - 9s 1ms/step - loss: 0.5736 - accuracy: 0.7143\n",
            "Epoch 147/150\n",
            "6853/6853 [==============================] - 9s 1ms/step - loss: 0.5748 - accuracy: 0.7123\n",
            "Epoch 148/150\n",
            "6853/6853 [==============================] - 9s 1ms/step - loss: 0.5716 - accuracy: 0.7166\n",
            "Epoch 149/150\n",
            "6853/6853 [==============================] - 9s 1ms/step - loss: 0.5737 - accuracy: 0.7126\n",
            "Epoch 150/150\n",
            "6853/6853 [==============================] - 9s 1ms/step - loss: 0.5735 - accuracy: 0.7158\n",
            "2142/2142 [==============================] - 2s 996us/step - loss: 0.5718 - accuracy: 0.7153\n",
            "Accuracy: 71.53\n"
          ],
          "name": "stdout"
        }
      ]
    },
    {
      "cell_type": "code",
      "metadata": {
        "id": "hPXLUzxju7vF"
      },
      "source": [
        ""
      ],
      "execution_count": null,
      "outputs": []
    }
  ]
}