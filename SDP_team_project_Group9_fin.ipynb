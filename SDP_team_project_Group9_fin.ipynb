{
  "nbformat": 4,
  "nbformat_minor": 0,
  "metadata": {
    "colab": {
      "name": "SDP_team_project_Group9.ipynb",
      "provenance": [],
      "toc_visible": true,
      "include_colab_link": true
    },
    "kernelspec": {
      "name": "python3",
      "display_name": "Python 3"
    }
  },
  "cells": [
    {
      "cell_type": "markdown",
      "metadata": {
        "id": "view-in-github",
        "colab_type": "text"
      },
      "source": [
        "<a href=\"https://colab.research.google.com/github/bojiix/RAM-OSI-BAN-AI/blob/rogoz/SDP_team_project_Group9_fin.ipynb\" target=\"_parent\"><img src=\"https://colab.research.google.com/assets/colab-badge.svg\" alt=\"Open In Colab\"/></a>"
      ]
    },
    {
      "cell_type": "markdown",
      "metadata": {
        "id": "rGj70kQduE6l"
      },
      "source": [
        "# Analiza datelor cardiovasculare\r\n",
        "\r\n",
        "---\r\n",
        "\r\n",
        "Bojan Alexandru\r\n",
        "\r\n",
        "Rogoz Anamaria\r\n",
        "\r\n",
        "Oltean Ioan"
      ]
    },
    {
      "cell_type": "markdown",
      "metadata": {
        "id": "cinX4QJ1EWmF"
      },
      "source": [
        "# BA"
      ]
    },
    {
      "cell_type": "code",
      "metadata": {
        "id": "tvb-meWRBC-L"
      },
      "source": [
        "import numpy as np # linear algebra\r\n",
        "import pandas as pd # data processing, CSV file I/O (e.g. pd.read_csv)\r\n",
        "import seaborn as sns\r\n",
        "from matplotlib import pyplot as plt\r\n",
        "from matplotlib import rcParams\r\n",
        "from sklearn.linear_model import LinearRegression as lr\r\n",
        "import os\r\n",
        "import random\r\n"
      ],
      "execution_count": null,
      "outputs": []
    },
    {
      "cell_type": "code",
      "metadata": {
        "id": "v1vKTRDjBRBK"
      },
      "source": [
        "df = pd.read_csv(\"https://raw.githubusercontent.com/bojiix/RAM-OSI-BAN-AI/bojan/cardio_train.csv\", sep=\";\") # citirea bazei de date; separarea in functie de ;"
      ],
      "execution_count": null,
      "outputs": []
    },
    {
      "cell_type": "markdown",
      "metadata": {
        "id": "wm-5GBt56JoB"
      },
      "source": [
        "**I - Analiza datelor**"
      ]
    },
    {
      "cell_type": "markdown",
      "metadata": {
        "id": "v7mnkGkg6JoL"
      },
      "source": [
        "https://www.kaggle.com/sulianova/eda-cardiovascular-data\r\n",
        "\r\n",
        "Sursa oferă un set de date de 70k intrări și descrie toate datele ca fiind de 3 tipuri:\r\n",
        "  - obiectiv: informații despre pacient;\r\n",
        "  - examinare: rezultatele examinării medicale;\r\n",
        "  - subiectiv: informațiile date de pacient.\r\n",
        "\r\n",
        "În primul rând, vom arunca o privire asupra tipului și limitelor fiecărei date. Avem:\r\n",
        "\r\n",
        "Age(obiectiv) - măsurată în zile(int)\r\n",
        "\r\n",
        "Height(obiectiv) - măsurată în cm(int)\r\n",
        "\r\n",
        "Weight(obiectiv) - măsurată în kg(float)\r\n",
        "\r\n",
        "Gender(obiectiv) - categorie(1 - female, 2 - male)\r\n",
        "\r\n",
        "---\r\n",
        "\r\n",
        "Systolic blood pressure(examinare) - măsurată în mmHg(int)\r\n",
        "\r\n",
        "Diastolic blood pressure(examinare) -\tmăsurată în mmHg(int)\r\n",
        "\r\n",
        "Cholesterol(examinare) - are 3 etape reprezentate numeric: 1 - normal, 2 - peste normal, 3 - cu mult peste normal\r\n",
        "\r\n",
        "Glucose(examinare) - are 3 etape reprezentate numeric: 1 - normal, 2 - peste normal, 3 - cu mult peste normal\r\n",
        "\r\n",
        "---\r\n",
        "\r\n",
        "Smoking(subiectiv)\t- binar: 0 - nu, 1 - da\r\n",
        "\r\n",
        "Alcohol intake(subiectiv) - binar: 0 - nu, 1 - da\r\n",
        "\r\n",
        "Physical activity(subiectiv) - binar: 0 - nu, 1 - da\r\n",
        "\r\n",
        "---\r\n",
        "\r\n",
        "Presence or absence of cardiovascular disease(the target aspect) - binar: 0 - in regula, 1 - nu este in regula\r\n",
        "\r\n",
        "---\r\n",
        "\r\n",
        "Toate aceste date vor fi aranjate ca si coloane:\r\n",
        "\r\n",
        "Age - age\r\n",
        "\r\n",
        "Height - height\r\n",
        "\r\n",
        "Weight - weight\r\n",
        "\r\n",
        "Gender - gender\r\n",
        "\r\n",
        "Systolic blood pressure - sbp\r\n",
        "\r\n",
        "Diastolic blood pressure - dbp\r\n",
        "\r\n",
        "Cholesterol - cholesterol\r\n",
        "\r\n",
        "Glucose - glucose\r\n",
        "\r\n",
        "Smoking - smoking\r\n",
        "\r\n",
        "Alcohol intake - alcohol\r\n",
        "\r\n",
        "Physical activity - physical_active\r\n",
        "\r\n",
        "Presence or absence of cardiovascular disease - cardio_issues\r\n",
        "\r\n",
        "Am adăugat, de asemenea, o altă coloană numită \"years\", care reprezintă vârsta pacientului (calculată in funcție de coloana \"age\")."
      ]
    },
    {
      "cell_type": "code",
      "metadata": {
        "colab": {
          "base_uri": "https://localhost:8080/"
        },
        "id": "cHZg9eSaB367",
        "outputId": "baf5683d-65a8-4591-c14a-ce3af60d39fd"
      },
      "source": [
        "df['years'] = (df['age'] / 365).round().astype('int') # added age in years\r\n",
        "df #preview data"
      ],
      "execution_count": null,
      "outputs": [
        {
          "output_type": "execute_result",
          "data": {
            "text/html": [
              "<div>\n",
              "<style scoped>\n",
              "    .dataframe tbody tr th:only-of-type {\n",
              "        vertical-align: middle;\n",
              "    }\n",
              "\n",
              "    .dataframe tbody tr th {\n",
              "        vertical-align: top;\n",
              "    }\n",
              "\n",
              "    .dataframe thead th {\n",
              "        text-align: right;\n",
              "    }\n",
              "</style>\n",
              "<table border=\"1\" class=\"dataframe\">\n",
              "  <thead>\n",
              "    <tr style=\"text-align: right;\">\n",
              "      <th></th>\n",
              "      <th>id</th>\n",
              "      <th>age</th>\n",
              "      <th>gender</th>\n",
              "      <th>height</th>\n",
              "      <th>weight</th>\n",
              "      <th>sbp</th>\n",
              "      <th>dbp</th>\n",
              "      <th>cholesterol</th>\n",
              "      <th>glucose</th>\n",
              "      <th>smoking</th>\n",
              "      <th>alcohol</th>\n",
              "      <th>physical_active</th>\n",
              "      <th>cardio_issues</th>\n",
              "      <th>years</th>\n",
              "    </tr>\n",
              "  </thead>\n",
              "  <tbody>\n",
              "    <tr>\n",
              "      <th>0</th>\n",
              "      <td>0</td>\n",
              "      <td>18393</td>\n",
              "      <td>2</td>\n",
              "      <td>168</td>\n",
              "      <td>62.0</td>\n",
              "      <td>110</td>\n",
              "      <td>80</td>\n",
              "      <td>1</td>\n",
              "      <td>1</td>\n",
              "      <td>0</td>\n",
              "      <td>0</td>\n",
              "      <td>1</td>\n",
              "      <td>0</td>\n",
              "      <td>50</td>\n",
              "    </tr>\n",
              "    <tr>\n",
              "      <th>1</th>\n",
              "      <td>1</td>\n",
              "      <td>20228</td>\n",
              "      <td>1</td>\n",
              "      <td>156</td>\n",
              "      <td>85.0</td>\n",
              "      <td>140</td>\n",
              "      <td>90</td>\n",
              "      <td>3</td>\n",
              "      <td>1</td>\n",
              "      <td>0</td>\n",
              "      <td>0</td>\n",
              "      <td>1</td>\n",
              "      <td>1</td>\n",
              "      <td>55</td>\n",
              "    </tr>\n",
              "    <tr>\n",
              "      <th>2</th>\n",
              "      <td>2</td>\n",
              "      <td>18857</td>\n",
              "      <td>1</td>\n",
              "      <td>165</td>\n",
              "      <td>64.0</td>\n",
              "      <td>130</td>\n",
              "      <td>70</td>\n",
              "      <td>3</td>\n",
              "      <td>1</td>\n",
              "      <td>0</td>\n",
              "      <td>0</td>\n",
              "      <td>0</td>\n",
              "      <td>1</td>\n",
              "      <td>52</td>\n",
              "    </tr>\n",
              "    <tr>\n",
              "      <th>3</th>\n",
              "      <td>3</td>\n",
              "      <td>17623</td>\n",
              "      <td>2</td>\n",
              "      <td>169</td>\n",
              "      <td>82.0</td>\n",
              "      <td>150</td>\n",
              "      <td>100</td>\n",
              "      <td>1</td>\n",
              "      <td>1</td>\n",
              "      <td>0</td>\n",
              "      <td>0</td>\n",
              "      <td>1</td>\n",
              "      <td>1</td>\n",
              "      <td>48</td>\n",
              "    </tr>\n",
              "    <tr>\n",
              "      <th>4</th>\n",
              "      <td>4</td>\n",
              "      <td>17474</td>\n",
              "      <td>1</td>\n",
              "      <td>156</td>\n",
              "      <td>56.0</td>\n",
              "      <td>100</td>\n",
              "      <td>60</td>\n",
              "      <td>1</td>\n",
              "      <td>1</td>\n",
              "      <td>0</td>\n",
              "      <td>0</td>\n",
              "      <td>0</td>\n",
              "      <td>0</td>\n",
              "      <td>48</td>\n",
              "    </tr>\n",
              "    <tr>\n",
              "      <th>...</th>\n",
              "      <td>...</td>\n",
              "      <td>...</td>\n",
              "      <td>...</td>\n",
              "      <td>...</td>\n",
              "      <td>...</td>\n",
              "      <td>...</td>\n",
              "      <td>...</td>\n",
              "      <td>...</td>\n",
              "      <td>...</td>\n",
              "      <td>...</td>\n",
              "      <td>...</td>\n",
              "      <td>...</td>\n",
              "      <td>...</td>\n",
              "      <td>...</td>\n",
              "    </tr>\n",
              "    <tr>\n",
              "      <th>69995</th>\n",
              "      <td>99993</td>\n",
              "      <td>19240</td>\n",
              "      <td>2</td>\n",
              "      <td>168</td>\n",
              "      <td>76.0</td>\n",
              "      <td>120</td>\n",
              "      <td>80</td>\n",
              "      <td>1</td>\n",
              "      <td>1</td>\n",
              "      <td>1</td>\n",
              "      <td>0</td>\n",
              "      <td>1</td>\n",
              "      <td>0</td>\n",
              "      <td>53</td>\n",
              "    </tr>\n",
              "    <tr>\n",
              "      <th>69996</th>\n",
              "      <td>99995</td>\n",
              "      <td>22601</td>\n",
              "      <td>1</td>\n",
              "      <td>158</td>\n",
              "      <td>126.0</td>\n",
              "      <td>140</td>\n",
              "      <td>90</td>\n",
              "      <td>2</td>\n",
              "      <td>2</td>\n",
              "      <td>0</td>\n",
              "      <td>0</td>\n",
              "      <td>1</td>\n",
              "      <td>1</td>\n",
              "      <td>62</td>\n",
              "    </tr>\n",
              "    <tr>\n",
              "      <th>69997</th>\n",
              "      <td>99996</td>\n",
              "      <td>19066</td>\n",
              "      <td>2</td>\n",
              "      <td>183</td>\n",
              "      <td>105.0</td>\n",
              "      <td>180</td>\n",
              "      <td>90</td>\n",
              "      <td>3</td>\n",
              "      <td>1</td>\n",
              "      <td>0</td>\n",
              "      <td>1</td>\n",
              "      <td>0</td>\n",
              "      <td>1</td>\n",
              "      <td>52</td>\n",
              "    </tr>\n",
              "    <tr>\n",
              "      <th>69998</th>\n",
              "      <td>99998</td>\n",
              "      <td>22431</td>\n",
              "      <td>1</td>\n",
              "      <td>163</td>\n",
              "      <td>72.0</td>\n",
              "      <td>135</td>\n",
              "      <td>80</td>\n",
              "      <td>1</td>\n",
              "      <td>2</td>\n",
              "      <td>0</td>\n",
              "      <td>0</td>\n",
              "      <td>0</td>\n",
              "      <td>1</td>\n",
              "      <td>61</td>\n",
              "    </tr>\n",
              "    <tr>\n",
              "      <th>69999</th>\n",
              "      <td>99999</td>\n",
              "      <td>20540</td>\n",
              "      <td>1</td>\n",
              "      <td>170</td>\n",
              "      <td>72.0</td>\n",
              "      <td>120</td>\n",
              "      <td>80</td>\n",
              "      <td>2</td>\n",
              "      <td>1</td>\n",
              "      <td>0</td>\n",
              "      <td>0</td>\n",
              "      <td>1</td>\n",
              "      <td>0</td>\n",
              "      <td>56</td>\n",
              "    </tr>\n",
              "  </tbody>\n",
              "</table>\n",
              "<p>70000 rows × 14 columns</p>\n",
              "</div>"
            ],
            "text/plain": [
              "          id    age  gender  ...  physical_active  cardio_issues  years\n",
              "0          0  18393       2  ...                1              0     50\n",
              "1          1  20228       1  ...                1              1     55\n",
              "2          2  18857       1  ...                0              1     52\n",
              "3          3  17623       2  ...                1              1     48\n",
              "4          4  17474       1  ...                0              0     48\n",
              "...      ...    ...     ...  ...              ...            ...    ...\n",
              "69995  99993  19240       2  ...                1              0     53\n",
              "69996  99995  22601       1  ...                1              1     62\n",
              "69997  99996  19066       2  ...                0              1     52\n",
              "69998  99998  22431       1  ...                0              1     61\n",
              "69999  99999  20540       1  ...                1              0     56\n",
              "\n",
              "[70000 rows x 14 columns]"
            ]
          },
          "metadata": {
            "tags": []
          },
          "execution_count": 195
        }
      ]
    },
    {
      "cell_type": "code",
      "metadata": {
        "colab": {
          "base_uri": "https://localhost:8080/"
        },
        "id": "-gqjOSDPDLW6",
        "outputId": "d870421e-233f-4d03-f53d-3ffc22fb6a59"
      },
      "source": [
        "df.info() # informatiile dataframe-ului, tip coloane, coloane non-null, nume coloane "
      ],
      "execution_count": null,
      "outputs": [
        {
          "output_type": "stream",
          "text": [
            "<class 'pandas.core.frame.DataFrame'>\n",
            "RangeIndex: 70000 entries, 0 to 69999\n",
            "Data columns (total 14 columns):\n",
            " #   Column           Non-Null Count  Dtype  \n",
            "---  ------           --------------  -----  \n",
            " 0   id               70000 non-null  int64  \n",
            " 1   age              70000 non-null  int64  \n",
            " 2   gender           70000 non-null  int64  \n",
            " 3   height           70000 non-null  int64  \n",
            " 4   weight           70000 non-null  float64\n",
            " 5   sbp              70000 non-null  int64  \n",
            " 6   dbp              70000 non-null  int64  \n",
            " 7   cholesterol      70000 non-null  int64  \n",
            " 8   glucose          70000 non-null  int64  \n",
            " 9   smoking          70000 non-null  int64  \n",
            " 10  alcohol          70000 non-null  int64  \n",
            " 11  physical_active  70000 non-null  int64  \n",
            " 12  cardio_issues    70000 non-null  int64  \n",
            " 13  years            70000 non-null  int64  \n",
            "dtypes: float64(1), int64(13)\n",
            "memory usage: 7.5 MB\n"
          ],
          "name": "stdout"
        }
      ]
    },
    {
      "cell_type": "code",
      "metadata": {
        "colab": {
          "base_uri": "https://localhost:8080/"
        },
        "id": "reZ61igHiDN9",
        "outputId": "6507b665-32e7-4508-9e49-cac3f847d560"
      },
      "source": [
        "df.describe() # calculeaza count, mean, ... max pentru toate datele"
      ],
      "execution_count": null,
      "outputs": [
        {
          "output_type": "execute_result",
          "data": {
            "text/html": [
              "<div>\n",
              "<style scoped>\n",
              "    .dataframe tbody tr th:only-of-type {\n",
              "        vertical-align: middle;\n",
              "    }\n",
              "\n",
              "    .dataframe tbody tr th {\n",
              "        vertical-align: top;\n",
              "    }\n",
              "\n",
              "    .dataframe thead th {\n",
              "        text-align: right;\n",
              "    }\n",
              "</style>\n",
              "<table border=\"1\" class=\"dataframe\">\n",
              "  <thead>\n",
              "    <tr style=\"text-align: right;\">\n",
              "      <th></th>\n",
              "      <th>id</th>\n",
              "      <th>age</th>\n",
              "      <th>gender</th>\n",
              "      <th>height</th>\n",
              "      <th>weight</th>\n",
              "      <th>sbp</th>\n",
              "      <th>dbp</th>\n",
              "      <th>cholesterol</th>\n",
              "      <th>glucose</th>\n",
              "      <th>smoking</th>\n",
              "      <th>alcohol</th>\n",
              "      <th>physical_active</th>\n",
              "      <th>cardio_issues</th>\n",
              "      <th>years</th>\n",
              "    </tr>\n",
              "  </thead>\n",
              "  <tbody>\n",
              "    <tr>\n",
              "      <th>count</th>\n",
              "      <td>70000.000000</td>\n",
              "      <td>70000.000000</td>\n",
              "      <td>70000.000000</td>\n",
              "      <td>70000.000000</td>\n",
              "      <td>70000.000000</td>\n",
              "      <td>70000.000000</td>\n",
              "      <td>70000.000000</td>\n",
              "      <td>70000.000000</td>\n",
              "      <td>70000.000000</td>\n",
              "      <td>70000.000000</td>\n",
              "      <td>70000.000000</td>\n",
              "      <td>70000.000000</td>\n",
              "      <td>70000.000000</td>\n",
              "      <td>70000.000000</td>\n",
              "    </tr>\n",
              "    <tr>\n",
              "      <th>mean</th>\n",
              "      <td>49972.419900</td>\n",
              "      <td>19468.865814</td>\n",
              "      <td>1.349571</td>\n",
              "      <td>164.359229</td>\n",
              "      <td>74.205690</td>\n",
              "      <td>128.817286</td>\n",
              "      <td>96.630414</td>\n",
              "      <td>1.366871</td>\n",
              "      <td>1.226457</td>\n",
              "      <td>0.088129</td>\n",
              "      <td>0.053771</td>\n",
              "      <td>0.803729</td>\n",
              "      <td>0.499700</td>\n",
              "      <td>53.338686</td>\n",
              "    </tr>\n",
              "    <tr>\n",
              "      <th>std</th>\n",
              "      <td>28851.302323</td>\n",
              "      <td>2467.251667</td>\n",
              "      <td>0.476838</td>\n",
              "      <td>8.210126</td>\n",
              "      <td>14.395757</td>\n",
              "      <td>154.011419</td>\n",
              "      <td>188.472530</td>\n",
              "      <td>0.680250</td>\n",
              "      <td>0.572270</td>\n",
              "      <td>0.283484</td>\n",
              "      <td>0.225568</td>\n",
              "      <td>0.397179</td>\n",
              "      <td>0.500003</td>\n",
              "      <td>6.765294</td>\n",
              "    </tr>\n",
              "    <tr>\n",
              "      <th>min</th>\n",
              "      <td>0.000000</td>\n",
              "      <td>10798.000000</td>\n",
              "      <td>1.000000</td>\n",
              "      <td>55.000000</td>\n",
              "      <td>10.000000</td>\n",
              "      <td>-150.000000</td>\n",
              "      <td>-70.000000</td>\n",
              "      <td>1.000000</td>\n",
              "      <td>1.000000</td>\n",
              "      <td>0.000000</td>\n",
              "      <td>0.000000</td>\n",
              "      <td>0.000000</td>\n",
              "      <td>0.000000</td>\n",
              "      <td>30.000000</td>\n",
              "    </tr>\n",
              "    <tr>\n",
              "      <th>25%</th>\n",
              "      <td>25006.750000</td>\n",
              "      <td>17664.000000</td>\n",
              "      <td>1.000000</td>\n",
              "      <td>159.000000</td>\n",
              "      <td>65.000000</td>\n",
              "      <td>120.000000</td>\n",
              "      <td>80.000000</td>\n",
              "      <td>1.000000</td>\n",
              "      <td>1.000000</td>\n",
              "      <td>0.000000</td>\n",
              "      <td>0.000000</td>\n",
              "      <td>1.000000</td>\n",
              "      <td>0.000000</td>\n",
              "      <td>48.000000</td>\n",
              "    </tr>\n",
              "    <tr>\n",
              "      <th>50%</th>\n",
              "      <td>50001.500000</td>\n",
              "      <td>19703.000000</td>\n",
              "      <td>1.000000</td>\n",
              "      <td>165.000000</td>\n",
              "      <td>72.000000</td>\n",
              "      <td>120.000000</td>\n",
              "      <td>80.000000</td>\n",
              "      <td>1.000000</td>\n",
              "      <td>1.000000</td>\n",
              "      <td>0.000000</td>\n",
              "      <td>0.000000</td>\n",
              "      <td>1.000000</td>\n",
              "      <td>0.000000</td>\n",
              "      <td>54.000000</td>\n",
              "    </tr>\n",
              "    <tr>\n",
              "      <th>75%</th>\n",
              "      <td>74889.250000</td>\n",
              "      <td>21327.000000</td>\n",
              "      <td>2.000000</td>\n",
              "      <td>170.000000</td>\n",
              "      <td>82.000000</td>\n",
              "      <td>140.000000</td>\n",
              "      <td>90.000000</td>\n",
              "      <td>2.000000</td>\n",
              "      <td>1.000000</td>\n",
              "      <td>0.000000</td>\n",
              "      <td>0.000000</td>\n",
              "      <td>1.000000</td>\n",
              "      <td>1.000000</td>\n",
              "      <td>58.000000</td>\n",
              "    </tr>\n",
              "    <tr>\n",
              "      <th>max</th>\n",
              "      <td>99999.000000</td>\n",
              "      <td>23713.000000</td>\n",
              "      <td>2.000000</td>\n",
              "      <td>250.000000</td>\n",
              "      <td>200.000000</td>\n",
              "      <td>16020.000000</td>\n",
              "      <td>11000.000000</td>\n",
              "      <td>3.000000</td>\n",
              "      <td>3.000000</td>\n",
              "      <td>1.000000</td>\n",
              "      <td>1.000000</td>\n",
              "      <td>1.000000</td>\n",
              "      <td>1.000000</td>\n",
              "      <td>65.000000</td>\n",
              "    </tr>\n",
              "  </tbody>\n",
              "</table>\n",
              "</div>"
            ],
            "text/plain": [
              "                 id           age  ...  cardio_issues         years\n",
              "count  70000.000000  70000.000000  ...   70000.000000  70000.000000\n",
              "mean   49972.419900  19468.865814  ...       0.499700     53.338686\n",
              "std    28851.302323   2467.251667  ...       0.500003      6.765294\n",
              "min        0.000000  10798.000000  ...       0.000000     30.000000\n",
              "25%    25006.750000  17664.000000  ...       0.000000     48.000000\n",
              "50%    50001.500000  19703.000000  ...       0.000000     54.000000\n",
              "75%    74889.250000  21327.000000  ...       1.000000     58.000000\n",
              "max    99999.000000  23713.000000  ...       1.000000     65.000000\n",
              "\n",
              "[8 rows x 14 columns]"
            ]
          },
          "metadata": {
            "tags": []
          },
          "execution_count": 197
        }
      ]
    },
    {
      "cell_type": "code",
      "metadata": {
        "id": "mcQg9bWEcSjO"
      },
      "source": [
        "limits = {\r\n",
        "  \"age\": [6570, 54750],\r\n",
        "  \"gender\": [1, 2],\r\n",
        "  \"height\": [120, 250],\r\n",
        "  \"weight\": [35, 200],\r\n",
        "  \"sbp\": [75, 200],\r\n",
        "  \"dbp\": [50, 150],\r\n",
        "  \"cholesterol\": [1, 3],\r\n",
        "  \"glucose\": [1, 3],\r\n",
        "  \"smoking\": [0, 1],\r\n",
        "  \"alcohol\": [0, 1],\r\n",
        "  \"physical_active\": [0, 1],\r\n",
        "  \"cardio_issues\": [0, 1],\r\n",
        "  \"years\": [18, 110]\r\n",
        "}"
      ],
      "execution_count": null,
      "outputs": []
    },
    {
      "cell_type": "markdown",
      "metadata": {
        "id": "Rny8qA-heBZg"
      },
      "source": [
        "In sectiunea de mai jos, parcurgem lista limitelor fiecarei coloane, pentru a verifica iregularitati in dataset.\r\n",
        "\r\n",
        "Acest lucru il facem printr-o filtrare de genul:\r\n",
        "df[ df['numele_coloanei'] > limits['numele_coloanei'][index] ].shape[0]\r\n",
        "index: 0 - limita inferioara\r\n",
        "index: 1 - limita superioara\r\n",
        "\r\n",
        "shape returneaza o tupla cu dimensiunile dataframeului.\r\n",
        "shape[0] - nuamrul de row-uri"
      ]
    },
    {
      "cell_type": "code",
      "metadata": {
        "id": "DVfm5iCHOzcq"
      },
      "source": [
        "def checkIfIsOutOfLimits(data):\r\n",
        "  for key, value in limits.items():\r\n",
        "    print(\"Instances where {0} is greater or lesser than the chosen limits: Greater: {1}, Lesser {2}\".format(key, data[data[key] > value[1]].shape[0], data[data[key] < value[0]].shape[0]))"
      ],
      "execution_count": null,
      "outputs": []
    },
    {
      "cell_type": "markdown",
      "metadata": {
        "id": "c6EV5JmafW2v"
      },
      "source": [
        "De asemenea, putem verifica numarul de cazuri in care tensiunea diastolica este mai mare decat cea sistolica"
      ]
    },
    {
      "cell_type": "code",
      "metadata": {
        "id": "ZKMn-tobZAOo"
      },
      "source": [
        "def checkDSP(data, bpmelt):\r\n",
        "  sns.boxplot(x = 'variable',y = 'value',data = bpmelt)\r\n",
        "  print(\"Diastilic pressure is higher than systolic one in {0} cases\".format(data[data['dbp']> data['sbp']].shape[0]))"
      ],
      "execution_count": null,
      "outputs": []
    },
    {
      "cell_type": "code",
      "metadata": {
        "colab": {
          "base_uri": "https://localhost:8080/"
        },
        "id": "lY5QkG7mUIip",
        "outputId": "8afd012f-dc97-4ca7-be72-a945e4ee7bfc"
      },
      "source": [
        "checkIfIsOutOfLimits(df)"
      ],
      "execution_count": null,
      "outputs": [
        {
          "output_type": "stream",
          "text": [
            "Instances where age is greater or lesser than the chosen limits: Greater: 0, Lesser 0\n",
            "Instances where gender is greater or lesser than the chosen limits: Greater: 0, Lesser 0\n",
            "Instances where height is greater or lesser than the chosen limits: Greater: 0, Lesser 52\n",
            "Instances where weight is greater or lesser than the chosen limits: Greater: 0, Lesser 20\n",
            "Instances where sbp is greater or lesser than the chosen limits: Greater: 100, Lesser 207\n",
            "Instances where dbp is greater or lesser than the chosen limits: Greater: 975, Lesser 80\n",
            "Instances where cholesterol is greater or lesser than the chosen limits: Greater: 0, Lesser 0\n",
            "Instances where glucose is greater or lesser than the chosen limits: Greater: 0, Lesser 0\n",
            "Instances where smoking is greater or lesser than the chosen limits: Greater: 0, Lesser 0\n",
            "Instances where alcohol is greater or lesser than the chosen limits: Greater: 0, Lesser 0\n",
            "Instances where physical_active is greater or lesser than the chosen limits: Greater: 0, Lesser 0\n",
            "Instances where cardio_issues is greater or lesser than the chosen limits: Greater: 0, Lesser 0\n",
            "Instances where years is greater or lesser than the chosen limits: Greater: 0, Lesser 0\n"
          ],
          "name": "stdout"
        }
      ]
    },
    {
      "cell_type": "code",
      "metadata": {
        "colab": {
          "base_uri": "https://localhost:8080/"
        },
        "id": "OFEXmiFqiEiU",
        "outputId": "90a5c1e2-c4c6-4f74-bfd1-a44771a4918b"
      },
      "source": [
        "blood_pressure = df.loc[:,['dbp','sbp']]\r\n",
        "blood_pressure"
      ],
      "execution_count": null,
      "outputs": [
        {
          "output_type": "execute_result",
          "data": {
            "text/html": [
              "<div>\n",
              "<style scoped>\n",
              "    .dataframe tbody tr th:only-of-type {\n",
              "        vertical-align: middle;\n",
              "    }\n",
              "\n",
              "    .dataframe tbody tr th {\n",
              "        vertical-align: top;\n",
              "    }\n",
              "\n",
              "    .dataframe thead th {\n",
              "        text-align: right;\n",
              "    }\n",
              "</style>\n",
              "<table border=\"1\" class=\"dataframe\">\n",
              "  <thead>\n",
              "    <tr style=\"text-align: right;\">\n",
              "      <th></th>\n",
              "      <th>dbp</th>\n",
              "      <th>sbp</th>\n",
              "    </tr>\n",
              "  </thead>\n",
              "  <tbody>\n",
              "    <tr>\n",
              "      <th>0</th>\n",
              "      <td>80</td>\n",
              "      <td>110</td>\n",
              "    </tr>\n",
              "    <tr>\n",
              "      <th>1</th>\n",
              "      <td>90</td>\n",
              "      <td>140</td>\n",
              "    </tr>\n",
              "    <tr>\n",
              "      <th>2</th>\n",
              "      <td>70</td>\n",
              "      <td>130</td>\n",
              "    </tr>\n",
              "    <tr>\n",
              "      <th>3</th>\n",
              "      <td>100</td>\n",
              "      <td>150</td>\n",
              "    </tr>\n",
              "    <tr>\n",
              "      <th>4</th>\n",
              "      <td>60</td>\n",
              "      <td>100</td>\n",
              "    </tr>\n",
              "    <tr>\n",
              "      <th>...</th>\n",
              "      <td>...</td>\n",
              "      <td>...</td>\n",
              "    </tr>\n",
              "    <tr>\n",
              "      <th>69995</th>\n",
              "      <td>80</td>\n",
              "      <td>120</td>\n",
              "    </tr>\n",
              "    <tr>\n",
              "      <th>69996</th>\n",
              "      <td>90</td>\n",
              "      <td>140</td>\n",
              "    </tr>\n",
              "    <tr>\n",
              "      <th>69997</th>\n",
              "      <td>90</td>\n",
              "      <td>180</td>\n",
              "    </tr>\n",
              "    <tr>\n",
              "      <th>69998</th>\n",
              "      <td>80</td>\n",
              "      <td>135</td>\n",
              "    </tr>\n",
              "    <tr>\n",
              "      <th>69999</th>\n",
              "      <td>80</td>\n",
              "      <td>120</td>\n",
              "    </tr>\n",
              "  </tbody>\n",
              "</table>\n",
              "<p>70000 rows × 2 columns</p>\n",
              "</div>"
            ],
            "text/plain": [
              "       dbp  sbp\n",
              "0       80  110\n",
              "1       90  140\n",
              "2       70  130\n",
              "3      100  150\n",
              "4       60  100\n",
              "...    ...  ...\n",
              "69995   80  120\n",
              "69996   90  140\n",
              "69997   90  180\n",
              "69998   80  135\n",
              "69999   80  120\n",
              "\n",
              "[70000 rows x 2 columns]"
            ]
          },
          "metadata": {
            "tags": []
          },
          "execution_count": 202
        }
      ]
    },
    {
      "cell_type": "code",
      "metadata": {
        "colab": {
          "base_uri": "https://localhost:8080/"
        },
        "id": "oxkmLKryiETE",
        "outputId": "fd50710a-9ad3-4d59-f95c-8a94a040ce37"
      },
      "source": [
        "blood_pressureMelt = blood_pressure.melt()\r\n",
        "blood_pressureMelt"
      ],
      "execution_count": null,
      "outputs": [
        {
          "output_type": "execute_result",
          "data": {
            "text/html": [
              "<div>\n",
              "<style scoped>\n",
              "    .dataframe tbody tr th:only-of-type {\n",
              "        vertical-align: middle;\n",
              "    }\n",
              "\n",
              "    .dataframe tbody tr th {\n",
              "        vertical-align: top;\n",
              "    }\n",
              "\n",
              "    .dataframe thead th {\n",
              "        text-align: right;\n",
              "    }\n",
              "</style>\n",
              "<table border=\"1\" class=\"dataframe\">\n",
              "  <thead>\n",
              "    <tr style=\"text-align: right;\">\n",
              "      <th></th>\n",
              "      <th>variable</th>\n",
              "      <th>value</th>\n",
              "    </tr>\n",
              "  </thead>\n",
              "  <tbody>\n",
              "    <tr>\n",
              "      <th>0</th>\n",
              "      <td>dbp</td>\n",
              "      <td>80</td>\n",
              "    </tr>\n",
              "    <tr>\n",
              "      <th>1</th>\n",
              "      <td>dbp</td>\n",
              "      <td>90</td>\n",
              "    </tr>\n",
              "    <tr>\n",
              "      <th>2</th>\n",
              "      <td>dbp</td>\n",
              "      <td>70</td>\n",
              "    </tr>\n",
              "    <tr>\n",
              "      <th>3</th>\n",
              "      <td>dbp</td>\n",
              "      <td>100</td>\n",
              "    </tr>\n",
              "    <tr>\n",
              "      <th>4</th>\n",
              "      <td>dbp</td>\n",
              "      <td>60</td>\n",
              "    </tr>\n",
              "    <tr>\n",
              "      <th>...</th>\n",
              "      <td>...</td>\n",
              "      <td>...</td>\n",
              "    </tr>\n",
              "    <tr>\n",
              "      <th>139995</th>\n",
              "      <td>sbp</td>\n",
              "      <td>120</td>\n",
              "    </tr>\n",
              "    <tr>\n",
              "      <th>139996</th>\n",
              "      <td>sbp</td>\n",
              "      <td>140</td>\n",
              "    </tr>\n",
              "    <tr>\n",
              "      <th>139997</th>\n",
              "      <td>sbp</td>\n",
              "      <td>180</td>\n",
              "    </tr>\n",
              "    <tr>\n",
              "      <th>139998</th>\n",
              "      <td>sbp</td>\n",
              "      <td>135</td>\n",
              "    </tr>\n",
              "    <tr>\n",
              "      <th>139999</th>\n",
              "      <td>sbp</td>\n",
              "      <td>120</td>\n",
              "    </tr>\n",
              "  </tbody>\n",
              "</table>\n",
              "<p>140000 rows × 2 columns</p>\n",
              "</div>"
            ],
            "text/plain": [
              "       variable  value\n",
              "0           dbp     80\n",
              "1           dbp     90\n",
              "2           dbp     70\n",
              "3           dbp    100\n",
              "4           dbp     60\n",
              "...         ...    ...\n",
              "139995      sbp    120\n",
              "139996      sbp    140\n",
              "139997      sbp    180\n",
              "139998      sbp    135\n",
              "139999      sbp    120\n",
              "\n",
              "[140000 rows x 2 columns]"
            ]
          },
          "metadata": {
            "tags": []
          },
          "execution_count": 203
        }
      ]
    },
    {
      "cell_type": "markdown",
      "metadata": {
        "id": "6OzyS5a7hLRB"
      },
      "source": [
        "Motivul pentru care am aplicat melt pe cele 2 coloane este pentru a genera un boxplot in care putem vizualiza frecventa tensiunilor.\r\n",
        "Ne este clar ca tensiuni cu valori peste treapta de 200-300 sunt total gresite, astfel avem o idee despre ce date trebuie sa eliminam."
      ]
    },
    {
      "cell_type": "code",
      "metadata": {
        "colab": {
          "base_uri": "https://localhost:8080/"
        },
        "id": "t_1mTlZlozVE",
        "outputId": "7021ee08-f0d7-415c-831e-0b424cd7a89f"
      },
      "source": [
        "checkDSP(df, blood_pressureMelt)"
      ],
      "execution_count": null,
      "outputs": [
        {
          "output_type": "stream",
          "text": [
            "Diastilic pressure is higher than systolic one in 1234 cases\n"
          ],
          "name": "stdout"
        },
        {
          "output_type": "display_data",
          "data": {
            "image/png": "[encoded data removed]",
            "text/plain": [
              "<Figure size 792x576 with 1 Axes>"
            ]
          },
          "metadata": {
            "tags": [],
            "needs_background": "light"
          }
        }
      ]
    },
    {
      "cell_type": "markdown",
      "metadata": {
        "id": "Oby1hSCgiVPZ"
      },
      "source": [
        "Pentru a mentine o oarecare dinamicitate in inlocuirea unor variabile de test pe parcursul prezentarii, am ales sa creez mai multe copii din datele originale."
      ]
    },
    {
      "cell_type": "code",
      "metadata": {
        "colab": {
          "base_uri": "https://localhost:8080/"
        },
        "id": "3ZYQQbuWpKkT",
        "outputId": "171aad9b-b751-4d4e-d35f-49b88adc8825"
      },
      "source": [
        "cleandf = df.copy()\r\n",
        "cleandf"
      ],
      "execution_count": null,
      "outputs": [
        {
          "output_type": "execute_result",
          "data": {
            "text/html": [
              "<div>\n",
              "<style scoped>\n",
              "    .dataframe tbody tr th:only-of-type {\n",
              "        vertical-align: middle;\n",
              "    }\n",
              "\n",
              "    .dataframe tbody tr th {\n",
              "        vertical-align: top;\n",
              "    }\n",
              "\n",
              "    .dataframe thead th {\n",
              "        text-align: right;\n",
              "    }\n",
              "</style>\n",
              "<table border=\"1\" class=\"dataframe\">\n",
              "  <thead>\n",
              "    <tr style=\"text-align: right;\">\n",
              "      <th></th>\n",
              "      <th>id</th>\n",
              "      <th>age</th>\n",
              "      <th>gender</th>\n",
              "      <th>height</th>\n",
              "      <th>weight</th>\n",
              "      <th>sbp</th>\n",
              "      <th>dbp</th>\n",
              "      <th>cholesterol</th>\n",
              "      <th>glucose</th>\n",
              "      <th>smoking</th>\n",
              "      <th>alcohol</th>\n",
              "      <th>physical_active</th>\n",
              "      <th>cardio_issues</th>\n",
              "      <th>years</th>\n",
              "    </tr>\n",
              "  </thead>\n",
              "  <tbody>\n",
              "    <tr>\n",
              "      <th>0</th>\n",
              "      <td>0</td>\n",
              "      <td>18393</td>\n",
              "      <td>2</td>\n",
              "      <td>168</td>\n",
              "      <td>62.0</td>\n",
              "      <td>110</td>\n",
              "      <td>80</td>\n",
              "      <td>1</td>\n",
              "      <td>1</td>\n",
              "      <td>0</td>\n",
              "      <td>0</td>\n",
              "      <td>1</td>\n",
              "      <td>0</td>\n",
              "      <td>50</td>\n",
              "    </tr>\n",
              "    <tr>\n",
              "      <th>1</th>\n",
              "      <td>1</td>\n",
              "      <td>20228</td>\n",
              "      <td>1</td>\n",
              "      <td>156</td>\n",
              "      <td>85.0</td>\n",
              "      <td>140</td>\n",
              "      <td>90</td>\n",
              "      <td>3</td>\n",
              "      <td>1</td>\n",
              "      <td>0</td>\n",
              "      <td>0</td>\n",
              "      <td>1</td>\n",
              "      <td>1</td>\n",
              "      <td>55</td>\n",
              "    </tr>\n",
              "    <tr>\n",
              "      <th>2</th>\n",
              "      <td>2</td>\n",
              "      <td>18857</td>\n",
              "      <td>1</td>\n",
              "      <td>165</td>\n",
              "      <td>64.0</td>\n",
              "      <td>130</td>\n",
              "      <td>70</td>\n",
              "      <td>3</td>\n",
              "      <td>1</td>\n",
              "      <td>0</td>\n",
              "      <td>0</td>\n",
              "      <td>0</td>\n",
              "      <td>1</td>\n",
              "      <td>52</td>\n",
              "    </tr>\n",
              "    <tr>\n",
              "      <th>3</th>\n",
              "      <td>3</td>\n",
              "      <td>17623</td>\n",
              "      <td>2</td>\n",
              "      <td>169</td>\n",
              "      <td>82.0</td>\n",
              "      <td>150</td>\n",
              "      <td>100</td>\n",
              "      <td>1</td>\n",
              "      <td>1</td>\n",
              "      <td>0</td>\n",
              "      <td>0</td>\n",
              "      <td>1</td>\n",
              "      <td>1</td>\n",
              "      <td>48</td>\n",
              "    </tr>\n",
              "    <tr>\n",
              "      <th>4</th>\n",
              "      <td>4</td>\n",
              "      <td>17474</td>\n",
              "      <td>1</td>\n",
              "      <td>156</td>\n",
              "      <td>56.0</td>\n",
              "      <td>100</td>\n",
              "      <td>60</td>\n",
              "      <td>1</td>\n",
              "      <td>1</td>\n",
              "      <td>0</td>\n",
              "      <td>0</td>\n",
              "      <td>0</td>\n",
              "      <td>0</td>\n",
              "      <td>48</td>\n",
              "    </tr>\n",
              "    <tr>\n",
              "      <th>...</th>\n",
              "      <td>...</td>\n",
              "      <td>...</td>\n",
              "      <td>...</td>\n",
              "      <td>...</td>\n",
              "      <td>...</td>\n",
              "      <td>...</td>\n",
              "      <td>...</td>\n",
              "      <td>...</td>\n",
              "      <td>...</td>\n",
              "      <td>...</td>\n",
              "      <td>...</td>\n",
              "      <td>...</td>\n",
              "      <td>...</td>\n",
              "      <td>...</td>\n",
              "    </tr>\n",
              "    <tr>\n",
              "      <th>69995</th>\n",
              "      <td>99993</td>\n",
              "      <td>19240</td>\n",
              "      <td>2</td>\n",
              "      <td>168</td>\n",
              "      <td>76.0</td>\n",
              "      <td>120</td>\n",
              "      <td>80</td>\n",
              "      <td>1</td>\n",
              "      <td>1</td>\n",
              "      <td>1</td>\n",
              "      <td>0</td>\n",
              "      <td>1</td>\n",
              "      <td>0</td>\n",
              "      <td>53</td>\n",
              "    </tr>\n",
              "    <tr>\n",
              "      <th>69996</th>\n",
              "      <td>99995</td>\n",
              "      <td>22601</td>\n",
              "      <td>1</td>\n",
              "      <td>158</td>\n",
              "      <td>126.0</td>\n",
              "      <td>140</td>\n",
              "      <td>90</td>\n",
              "      <td>2</td>\n",
              "      <td>2</td>\n",
              "      <td>0</td>\n",
              "      <td>0</td>\n",
              "      <td>1</td>\n",
              "      <td>1</td>\n",
              "      <td>62</td>\n",
              "    </tr>\n",
              "    <tr>\n",
              "      <th>69997</th>\n",
              "      <td>99996</td>\n",
              "      <td>19066</td>\n",
              "      <td>2</td>\n",
              "      <td>183</td>\n",
              "      <td>105.0</td>\n",
              "      <td>180</td>\n",
              "      <td>90</td>\n",
              "      <td>3</td>\n",
              "      <td>1</td>\n",
              "      <td>0</td>\n",
              "      <td>1</td>\n",
              "      <td>0</td>\n",
              "      <td>1</td>\n",
              "      <td>52</td>\n",
              "    </tr>\n",
              "    <tr>\n",
              "      <th>69998</th>\n",
              "      <td>99998</td>\n",
              "      <td>22431</td>\n",
              "      <td>1</td>\n",
              "      <td>163</td>\n",
              "      <td>72.0</td>\n",
              "      <td>135</td>\n",
              "      <td>80</td>\n",
              "      <td>1</td>\n",
              "      <td>2</td>\n",
              "      <td>0</td>\n",
              "      <td>0</td>\n",
              "      <td>0</td>\n",
              "      <td>1</td>\n",
              "      <td>61</td>\n",
              "    </tr>\n",
              "    <tr>\n",
              "      <th>69999</th>\n",
              "      <td>99999</td>\n",
              "      <td>20540</td>\n",
              "      <td>1</td>\n",
              "      <td>170</td>\n",
              "      <td>72.0</td>\n",
              "      <td>120</td>\n",
              "      <td>80</td>\n",
              "      <td>2</td>\n",
              "      <td>1</td>\n",
              "      <td>0</td>\n",
              "      <td>0</td>\n",
              "      <td>1</td>\n",
              "      <td>0</td>\n",
              "      <td>56</td>\n",
              "    </tr>\n",
              "  </tbody>\n",
              "</table>\n",
              "<p>70000 rows × 14 columns</p>\n",
              "</div>"
            ],
            "text/plain": [
              "          id    age  gender  ...  physical_active  cardio_issues  years\n",
              "0          0  18393       2  ...                1              0     50\n",
              "1          1  20228       1  ...                1              1     55\n",
              "2          2  18857       1  ...                0              1     52\n",
              "3          3  17623       2  ...                1              1     48\n",
              "4          4  17474       1  ...                0              0     48\n",
              "...      ...    ...     ...  ...              ...            ...    ...\n",
              "69995  99993  19240       2  ...                1              0     53\n",
              "69996  99995  22601       1  ...                1              1     62\n",
              "69997  99996  19066       2  ...                0              1     52\n",
              "69998  99998  22431       1  ...                0              1     61\n",
              "69999  99999  20540       1  ...                1              0     56\n",
              "\n",
              "[70000 rows x 14 columns]"
            ]
          },
          "metadata": {
            "tags": []
          },
          "execution_count": 205
        }
      ]
    },
    {
      "cell_type": "markdown",
      "metadata": {
        "id": "42J5jTsl1Clb"
      },
      "source": [
        "Optional - Create Fake Data"
      ]
    },
    {
      "cell_type": "markdown",
      "metadata": {
        "id": "lfo_bANWi2lQ"
      },
      "source": [
        "In functia de mai jos, generam un array de minim 1, cu valori cuprinse intre anumite limite sau Nan in functie de anumiti paramatri. Mai exact, rolul parametrilor sunt:\r\n",
        "\r\n",
        "cond: True/False; True - genereaza date incadrate in limitele oferite, False - genereaza data irelevante si chiar NaN in cazul coloanelor de tip float. \r\n",
        "\r\n",
        "num: lungimea array-ului, cate date sa fie create pentru coloana respectiva\r\n",
        "\r\n",
        "lims: limitele oferite\r\n",
        "\r\n",
        "d_var: valoarea pentru aflarea tipului de data al coloanei"
      ]
    },
    {
      "cell_type": "code",
      "metadata": {
        "id": "i9g8VyLLusjI"
      },
      "source": [
        "def generateArray(cond, num, lims, d_var):\r\n",
        "  arr = []\r\n",
        "\r\n",
        "  if isinstance(d_var, np.int64) or isinstance(d_var, int):\r\n",
        "    if cond == True:\r\n",
        "      arr = np.random.randint(lims[0], lims[1] + 1, size=num)\r\n",
        "    else:\r\n",
        "      arr = np.random.randint(lims[1] + 2, 100000, size=num)\r\n",
        "  else:\r\n",
        "    if isinstance(d_var, np.float64) or isinstance(d_var, float):\r\n",
        "      if cond == True:\r\n",
        "        arr = np.random.uniform(lims[0], lims[1] + 1, size=num)\r\n",
        "      else:\r\n",
        "        arr = np.random.uniform(lims[1] + 2, 100000, size=num)\r\n",
        "\r\n",
        "        for i in range(len(arr)):\r\n",
        "          arr[i] = float('NaN') if random.choice([True, False]) == True else arr[i]\r\n",
        "\r\n",
        "  return arr"
      ],
      "execution_count": null,
      "outputs": []
    },
    {
      "cell_type": "markdown",
      "metadata": {
        "id": "Omq5rYGGkr-j"
      },
      "source": [
        "Cream un dataframe nou.\r\n",
        "\r\n",
        "aux.tail(1)['id'] - ia ultimul id si il facem + 1\r\n",
        "\r\n",
        "generateArray(...):\r\n",
        "  - assign_vec[1] - conditia True/False\r\n",
        "  - num - length\r\n",
        "  - limits['nume_coloana']\r\n",
        "  - aux['nume_coloana'][0] - o celula\r\n"
      ]
    },
    {
      "cell_type": "code",
      "metadata": {
        "id": "5dnwNVgNHv-J"
      },
      "source": [
        "def createData(assign_vec, num, aux):\r\n",
        "  obj = {\r\n",
        "      \"id\": aux.tail(1)['id'] + 1,\r\n",
        "      \"age\": generateArray(assign_vec[1], num, limits[\"age\"], aux['age'][0]),\r\n",
        "      \"gender\": generateArray(assign_vec[2], num, limits[\"gender\"], aux['gender'][0]),\r\n",
        "      \"height\": generateArray(assign_vec[3], num, limits[\"height\"], aux['height'][0]),\r\n",
        "      \"weight\": generateArray(assign_vec[4], num, limits[\"weight\"], aux['weight'][0]),\r\n",
        "      \"sbp\": generateArray(assign_vec[5], num, limits[\"sbp\"], aux['sbp'][0]),\r\n",
        "      \"dbp\": generateArray(assign_vec[6], num, limits[\"dbp\"], aux['dbp'][0]),\r\n",
        "      \"cholesterol\": generateArray(assign_vec[7], num, limits[\"cholesterol\"], aux['cholesterol'][0]),\r\n",
        "      \"glucose\": generateArray(assign_vec[8], num, limits[\"glucose\"], aux['glucose'][0]),\r\n",
        "      \"smoking\": generateArray(assign_vec[9], num, limits[\"smoking\"], aux['smoking'][0]),\r\n",
        "      \"alcohol\": generateArray(assign_vec[10], num, limits[\"alcohol\"], aux['alcohol'][0]),\r\n",
        "      \"physical_active\": generateArray(assign_vec[11], num, limits[\"physical_active\"], aux['physical_active'][0]),\r\n",
        "      \"cardio_issues\": generateArray(assign_vec[12], num, limits[\"cardio_issues\"], aux['cardio_issues'][0]),\r\n",
        "      \"years\": generateArray(assign_vec[13], num, limits[\"years\"], aux['years'][0]),\r\n",
        "  }\r\n",
        "  to_adddf = pd.DataFrame(obj)\r\n",
        "  return to_adddf"
      ],
      "execution_count": null,
      "outputs": []
    },
    {
      "cell_type": "markdown",
      "metadata": {
        "id": "8dblT1Yslg3Z"
      },
      "source": [
        "np.random.choice([True, False], size=len(aux.columns))\r\n",
        "Creeaza un array de lungime size=len(aux.columns), cu valori alese random intre True si False"
      ]
    },
    {
      "cell_type": "code",
      "metadata": {
        "id": "BHx46EdXpaxT"
      },
      "source": [
        "def generateData(aux, n):\r\n",
        "  for i in range(n):\r\n",
        "    arr = np.random.choice([True, False], size=len(aux.columns))\r\n",
        "    aux = aux.append(createData(arr, 1, aux), ignore_index=True)  \r\n",
        "  return aux"
      ],
      "execution_count": null,
      "outputs": []
    },
    {
      "cell_type": "markdown",
      "metadata": {
        "id": "XFzytHTCmD8J"
      },
      "source": [
        "In dataframe-ul de mai joc copiem doar primele 10 randuri, deoarece in acesta vom adauga de fake data."
      ]
    },
    {
      "cell_type": "code",
      "metadata": {
        "colab": {
          "base_uri": "https://localhost:8080/"
        },
        "id": "zGiDzKmNafi3",
        "outputId": "4ee5577b-17aa-476d-ac62-20ccf26b5e73"
      },
      "source": [
        "cleandf_fd = cleandf.head(10).copy()\r\n",
        "cleandf_fd"
      ],
      "execution_count": null,
      "outputs": [
        {
          "output_type": "execute_result",
          "data": {
            "text/html": [
              "<div>\n",
              "<style scoped>\n",
              "    .dataframe tbody tr th:only-of-type {\n",
              "        vertical-align: middle;\n",
              "    }\n",
              "\n",
              "    .dataframe tbody tr th {\n",
              "        vertical-align: top;\n",
              "    }\n",
              "\n",
              "    .dataframe thead th {\n",
              "        text-align: right;\n",
              "    }\n",
              "</style>\n",
              "<table border=\"1\" class=\"dataframe\">\n",
              "  <thead>\n",
              "    <tr style=\"text-align: right;\">\n",
              "      <th></th>\n",
              "      <th>id</th>\n",
              "      <th>age</th>\n",
              "      <th>gender</th>\n",
              "      <th>height</th>\n",
              "      <th>weight</th>\n",
              "      <th>sbp</th>\n",
              "      <th>dbp</th>\n",
              "      <th>cholesterol</th>\n",
              "      <th>glucose</th>\n",
              "      <th>smoking</th>\n",
              "      <th>alcohol</th>\n",
              "      <th>physical_active</th>\n",
              "      <th>cardio_issues</th>\n",
              "      <th>years</th>\n",
              "    </tr>\n",
              "  </thead>\n",
              "  <tbody>\n",
              "    <tr>\n",
              "      <th>0</th>\n",
              "      <td>0</td>\n",
              "      <td>18393</td>\n",
              "      <td>2</td>\n",
              "      <td>168</td>\n",
              "      <td>62.0</td>\n",
              "      <td>110</td>\n",
              "      <td>80</td>\n",
              "      <td>1</td>\n",
              "      <td>1</td>\n",
              "      <td>0</td>\n",
              "      <td>0</td>\n",
              "      <td>1</td>\n",
              "      <td>0</td>\n",
              "      <td>50</td>\n",
              "    </tr>\n",
              "    <tr>\n",
              "      <th>1</th>\n",
              "      <td>1</td>\n",
              "      <td>20228</td>\n",
              "      <td>1</td>\n",
              "      <td>156</td>\n",
              "      <td>85.0</td>\n",
              "      <td>140</td>\n",
              "      <td>90</td>\n",
              "      <td>3</td>\n",
              "      <td>1</td>\n",
              "      <td>0</td>\n",
              "      <td>0</td>\n",
              "      <td>1</td>\n",
              "      <td>1</td>\n",
              "      <td>55</td>\n",
              "    </tr>\n",
              "    <tr>\n",
              "      <th>2</th>\n",
              "      <td>2</td>\n",
              "      <td>18857</td>\n",
              "      <td>1</td>\n",
              "      <td>165</td>\n",
              "      <td>64.0</td>\n",
              "      <td>130</td>\n",
              "      <td>70</td>\n",
              "      <td>3</td>\n",
              "      <td>1</td>\n",
              "      <td>0</td>\n",
              "      <td>0</td>\n",
              "      <td>0</td>\n",
              "      <td>1</td>\n",
              "      <td>52</td>\n",
              "    </tr>\n",
              "    <tr>\n",
              "      <th>3</th>\n",
              "      <td>3</td>\n",
              "      <td>17623</td>\n",
              "      <td>2</td>\n",
              "      <td>169</td>\n",
              "      <td>82.0</td>\n",
              "      <td>150</td>\n",
              "      <td>100</td>\n",
              "      <td>1</td>\n",
              "      <td>1</td>\n",
              "      <td>0</td>\n",
              "      <td>0</td>\n",
              "      <td>1</td>\n",
              "      <td>1</td>\n",
              "      <td>48</td>\n",
              "    </tr>\n",
              "    <tr>\n",
              "      <th>4</th>\n",
              "      <td>4</td>\n",
              "      <td>17474</td>\n",
              "      <td>1</td>\n",
              "      <td>156</td>\n",
              "      <td>56.0</td>\n",
              "      <td>100</td>\n",
              "      <td>60</td>\n",
              "      <td>1</td>\n",
              "      <td>1</td>\n",
              "      <td>0</td>\n",
              "      <td>0</td>\n",
              "      <td>0</td>\n",
              "      <td>0</td>\n",
              "      <td>48</td>\n",
              "    </tr>\n",
              "    <tr>\n",
              "      <th>5</th>\n",
              "      <td>8</td>\n",
              "      <td>21914</td>\n",
              "      <td>1</td>\n",
              "      <td>151</td>\n",
              "      <td>67.0</td>\n",
              "      <td>120</td>\n",
              "      <td>80</td>\n",
              "      <td>2</td>\n",
              "      <td>2</td>\n",
              "      <td>0</td>\n",
              "      <td>0</td>\n",
              "      <td>0</td>\n",
              "      <td>0</td>\n",
              "      <td>60</td>\n",
              "    </tr>\n",
              "    <tr>\n",
              "      <th>6</th>\n",
              "      <td>9</td>\n",
              "      <td>22113</td>\n",
              "      <td>1</td>\n",
              "      <td>157</td>\n",
              "      <td>93.0</td>\n",
              "      <td>130</td>\n",
              "      <td>80</td>\n",
              "      <td>3</td>\n",
              "      <td>1</td>\n",
              "      <td>0</td>\n",
              "      <td>0</td>\n",
              "      <td>1</td>\n",
              "      <td>0</td>\n",
              "      <td>61</td>\n",
              "    </tr>\n",
              "    <tr>\n",
              "      <th>7</th>\n",
              "      <td>12</td>\n",
              "      <td>22584</td>\n",
              "      <td>2</td>\n",
              "      <td>178</td>\n",
              "      <td>95.0</td>\n",
              "      <td>130</td>\n",
              "      <td>90</td>\n",
              "      <td>3</td>\n",
              "      <td>3</td>\n",
              "      <td>0</td>\n",
              "      <td>0</td>\n",
              "      <td>1</td>\n",
              "      <td>1</td>\n",
              "      <td>62</td>\n",
              "    </tr>\n",
              "    <tr>\n",
              "      <th>8</th>\n",
              "      <td>13</td>\n",
              "      <td>17668</td>\n",
              "      <td>1</td>\n",
              "      <td>158</td>\n",
              "      <td>71.0</td>\n",
              "      <td>110</td>\n",
              "      <td>70</td>\n",
              "      <td>1</td>\n",
              "      <td>1</td>\n",
              "      <td>0</td>\n",
              "      <td>0</td>\n",
              "      <td>1</td>\n",
              "      <td>0</td>\n",
              "      <td>48</td>\n",
              "    </tr>\n",
              "    <tr>\n",
              "      <th>9</th>\n",
              "      <td>14</td>\n",
              "      <td>19834</td>\n",
              "      <td>1</td>\n",
              "      <td>164</td>\n",
              "      <td>68.0</td>\n",
              "      <td>110</td>\n",
              "      <td>60</td>\n",
              "      <td>1</td>\n",
              "      <td>1</td>\n",
              "      <td>0</td>\n",
              "      <td>0</td>\n",
              "      <td>0</td>\n",
              "      <td>0</td>\n",
              "      <td>54</td>\n",
              "    </tr>\n",
              "  </tbody>\n",
              "</table>\n",
              "</div>"
            ],
            "text/plain": [
              "   id    age  gender  height  ...  alcohol  physical_active  cardio_issues  years\n",
              "0   0  18393       2     168  ...        0                1              0     50\n",
              "1   1  20228       1     156  ...        0                1              1     55\n",
              "2   2  18857       1     165  ...        0                0              1     52\n",
              "3   3  17623       2     169  ...        0                1              1     48\n",
              "4   4  17474       1     156  ...        0                0              0     48\n",
              "5   8  21914       1     151  ...        0                0              0     60\n",
              "6   9  22113       1     157  ...        0                1              0     61\n",
              "7  12  22584       2     178  ...        0                1              1     62\n",
              "8  13  17668       1     158  ...        0                1              0     48\n",
              "9  14  19834       1     164  ...        0                0              0     54\n",
              "\n",
              "[10 rows x 14 columns]"
            ]
          },
          "metadata": {
            "tags": []
          },
          "execution_count": 209
        }
      ]
    },
    {
      "cell_type": "code",
      "metadata": {
        "colab": {
          "base_uri": "https://localhost:8080/"
        },
        "id": "x9bOQtzZ0wm6",
        "outputId": "7877adec-c39a-474e-ed2f-d6e81ccb293e"
      },
      "source": [
        "cleandf_fd = generateData(cleandf_fd, 3)\r\n",
        "cleandf_fd"
      ],
      "execution_count": null,
      "outputs": [
        {
          "output_type": "execute_result",
          "data": {
            "text/html": [
              "<div>\n",
              "<style scoped>\n",
              "    .dataframe tbody tr th:only-of-type {\n",
              "        vertical-align: middle;\n",
              "    }\n",
              "\n",
              "    .dataframe tbody tr th {\n",
              "        vertical-align: top;\n",
              "    }\n",
              "\n",
              "    .dataframe thead th {\n",
              "        text-align: right;\n",
              "    }\n",
              "</style>\n",
              "<table border=\"1\" class=\"dataframe\">\n",
              "  <thead>\n",
              "    <tr style=\"text-align: right;\">\n",
              "      <th></th>\n",
              "      <th>id</th>\n",
              "      <th>age</th>\n",
              "      <th>gender</th>\n",
              "      <th>height</th>\n",
              "      <th>weight</th>\n",
              "      <th>sbp</th>\n",
              "      <th>dbp</th>\n",
              "      <th>cholesterol</th>\n",
              "      <th>glucose</th>\n",
              "      <th>smoking</th>\n",
              "      <th>alcohol</th>\n",
              "      <th>physical_active</th>\n",
              "      <th>cardio_issues</th>\n",
              "      <th>years</th>\n",
              "    </tr>\n",
              "  </thead>\n",
              "  <tbody>\n",
              "    <tr>\n",
              "      <th>0</th>\n",
              "      <td>0</td>\n",
              "      <td>18393</td>\n",
              "      <td>2</td>\n",
              "      <td>168</td>\n",
              "      <td>62.000000</td>\n",
              "      <td>110</td>\n",
              "      <td>80</td>\n",
              "      <td>1</td>\n",
              "      <td>1</td>\n",
              "      <td>0</td>\n",
              "      <td>0</td>\n",
              "      <td>1</td>\n",
              "      <td>0</td>\n",
              "      <td>50</td>\n",
              "    </tr>\n",
              "    <tr>\n",
              "      <th>1</th>\n",
              "      <td>1</td>\n",
              "      <td>20228</td>\n",
              "      <td>1</td>\n",
              "      <td>156</td>\n",
              "      <td>85.000000</td>\n",
              "      <td>140</td>\n",
              "      <td>90</td>\n",
              "      <td>3</td>\n",
              "      <td>1</td>\n",
              "      <td>0</td>\n",
              "      <td>0</td>\n",
              "      <td>1</td>\n",
              "      <td>1</td>\n",
              "      <td>55</td>\n",
              "    </tr>\n",
              "    <tr>\n",
              "      <th>2</th>\n",
              "      <td>2</td>\n",
              "      <td>18857</td>\n",
              "      <td>1</td>\n",
              "      <td>165</td>\n",
              "      <td>64.000000</td>\n",
              "      <td>130</td>\n",
              "      <td>70</td>\n",
              "      <td>3</td>\n",
              "      <td>1</td>\n",
              "      <td>0</td>\n",
              "      <td>0</td>\n",
              "      <td>0</td>\n",
              "      <td>1</td>\n",
              "      <td>52</td>\n",
              "    </tr>\n",
              "    <tr>\n",
              "      <th>3</th>\n",
              "      <td>3</td>\n",
              "      <td>17623</td>\n",
              "      <td>2</td>\n",
              "      <td>169</td>\n",
              "      <td>82.000000</td>\n",
              "      <td>150</td>\n",
              "      <td>100</td>\n",
              "      <td>1</td>\n",
              "      <td>1</td>\n",
              "      <td>0</td>\n",
              "      <td>0</td>\n",
              "      <td>1</td>\n",
              "      <td>1</td>\n",
              "      <td>48</td>\n",
              "    </tr>\n",
              "    <tr>\n",
              "      <th>4</th>\n",
              "      <td>4</td>\n",
              "      <td>17474</td>\n",
              "      <td>1</td>\n",
              "      <td>156</td>\n",
              "      <td>56.000000</td>\n",
              "      <td>100</td>\n",
              "      <td>60</td>\n",
              "      <td>1</td>\n",
              "      <td>1</td>\n",
              "      <td>0</td>\n",
              "      <td>0</td>\n",
              "      <td>0</td>\n",
              "      <td>0</td>\n",
              "      <td>48</td>\n",
              "    </tr>\n",
              "    <tr>\n",
              "      <th>5</th>\n",
              "      <td>8</td>\n",
              "      <td>21914</td>\n",
              "      <td>1</td>\n",
              "      <td>151</td>\n",
              "      <td>67.000000</td>\n",
              "      <td>120</td>\n",
              "      <td>80</td>\n",
              "      <td>2</td>\n",
              "      <td>2</td>\n",
              "      <td>0</td>\n",
              "      <td>0</td>\n",
              "      <td>0</td>\n",
              "      <td>0</td>\n",
              "      <td>60</td>\n",
              "    </tr>\n",
              "    <tr>\n",
              "      <th>6</th>\n",
              "      <td>9</td>\n",
              "      <td>22113</td>\n",
              "      <td>1</td>\n",
              "      <td>157</td>\n",
              "      <td>93.000000</td>\n",
              "      <td>130</td>\n",
              "      <td>80</td>\n",
              "      <td>3</td>\n",
              "      <td>1</td>\n",
              "      <td>0</td>\n",
              "      <td>0</td>\n",
              "      <td>1</td>\n",
              "      <td>0</td>\n",
              "      <td>61</td>\n",
              "    </tr>\n",
              "    <tr>\n",
              "      <th>7</th>\n",
              "      <td>12</td>\n",
              "      <td>22584</td>\n",
              "      <td>2</td>\n",
              "      <td>178</td>\n",
              "      <td>95.000000</td>\n",
              "      <td>130</td>\n",
              "      <td>90</td>\n",
              "      <td>3</td>\n",
              "      <td>3</td>\n",
              "      <td>0</td>\n",
              "      <td>0</td>\n",
              "      <td>1</td>\n",
              "      <td>1</td>\n",
              "      <td>62</td>\n",
              "    </tr>\n",
              "    <tr>\n",
              "      <th>8</th>\n",
              "      <td>13</td>\n",
              "      <td>17668</td>\n",
              "      <td>1</td>\n",
              "      <td>158</td>\n",
              "      <td>71.000000</td>\n",
              "      <td>110</td>\n",
              "      <td>70</td>\n",
              "      <td>1</td>\n",
              "      <td>1</td>\n",
              "      <td>0</td>\n",
              "      <td>0</td>\n",
              "      <td>1</td>\n",
              "      <td>0</td>\n",
              "      <td>48</td>\n",
              "    </tr>\n",
              "    <tr>\n",
              "      <th>9</th>\n",
              "      <td>14</td>\n",
              "      <td>19834</td>\n",
              "      <td>1</td>\n",
              "      <td>164</td>\n",
              "      <td>68.000000</td>\n",
              "      <td>110</td>\n",
              "      <td>60</td>\n",
              "      <td>1</td>\n",
              "      <td>1</td>\n",
              "      <td>0</td>\n",
              "      <td>0</td>\n",
              "      <td>0</td>\n",
              "      <td>0</td>\n",
              "      <td>54</td>\n",
              "    </tr>\n",
              "    <tr>\n",
              "      <th>10</th>\n",
              "      <td>15</td>\n",
              "      <td>51364</td>\n",
              "      <td>58438</td>\n",
              "      <td>84627</td>\n",
              "      <td>81.100188</td>\n",
              "      <td>154</td>\n",
              "      <td>56</td>\n",
              "      <td>3</td>\n",
              "      <td>46406</td>\n",
              "      <td>92046</td>\n",
              "      <td>45677</td>\n",
              "      <td>18015</td>\n",
              "      <td>30429</td>\n",
              "      <td>101</td>\n",
              "    </tr>\n",
              "    <tr>\n",
              "      <th>11</th>\n",
              "      <td>16</td>\n",
              "      <td>77012</td>\n",
              "      <td>2</td>\n",
              "      <td>83835</td>\n",
              "      <td>139.568432</td>\n",
              "      <td>70007</td>\n",
              "      <td>58853</td>\n",
              "      <td>55453</td>\n",
              "      <td>3</td>\n",
              "      <td>24068</td>\n",
              "      <td>64499</td>\n",
              "      <td>1</td>\n",
              "      <td>0</td>\n",
              "      <td>20532</td>\n",
              "    </tr>\n",
              "    <tr>\n",
              "      <th>12</th>\n",
              "      <td>17</td>\n",
              "      <td>36489</td>\n",
              "      <td>4916</td>\n",
              "      <td>45652</td>\n",
              "      <td>13850.344558</td>\n",
              "      <td>198</td>\n",
              "      <td>123</td>\n",
              "      <td>2</td>\n",
              "      <td>1</td>\n",
              "      <td>0</td>\n",
              "      <td>0</td>\n",
              "      <td>98060</td>\n",
              "      <td>0</td>\n",
              "      <td>28</td>\n",
              "    </tr>\n",
              "  </tbody>\n",
              "</table>\n",
              "</div>"
            ],
            "text/plain": [
              "    id    age  gender  height  ...  alcohol  physical_active  cardio_issues  years\n",
              "0    0  18393       2     168  ...        0                1              0     50\n",
              "1    1  20228       1     156  ...        0                1              1     55\n",
              "2    2  18857       1     165  ...        0                0              1     52\n",
              "3    3  17623       2     169  ...        0                1              1     48\n",
              "4    4  17474       1     156  ...        0                0              0     48\n",
              "5    8  21914       1     151  ...        0                0              0     60\n",
              "6    9  22113       1     157  ...        0                1              0     61\n",
              "7   12  22584       2     178  ...        0                1              1     62\n",
              "8   13  17668       1     158  ...        0                1              0     48\n",
              "9   14  19834       1     164  ...        0                0              0     54\n",
              "10  15  51364   58438   84627  ...    45677            18015          30429    101\n",
              "11  16  77012       2   83835  ...    64499                1              0  20532\n",
              "12  17  36489    4916   45652  ...        0            98060              0     28\n",
              "\n",
              "[13 rows x 14 columns]"
            ]
          },
          "metadata": {
            "tags": []
          },
          "execution_count": 210
        }
      ]
    },
    {
      "cell_type": "markdown",
      "metadata": {
        "id": "gEWRUxNa17Ka"
      },
      "source": [
        "**Second - Clean Data**"
      ]
    },
    {
      "cell_type": "markdown",
      "metadata": {
        "id": "V6fX7MUOmkJr"
      },
      "source": [
        "Inlaturam tot ce se afla inafara limitelor si inregistrarile in care tensiunea diastolica este mai mare decat cea sistolica."
      ]
    },
    {
      "cell_type": "code",
      "metadata": {
        "id": "C8NOt-3x_oZc"
      },
      "source": [
        "def clearErrorsFromMyData(data):\r\n",
        "  for key, value in limits.items():\r\n",
        "    data.drop(data[(data[key] > value[1]) | (data[key] < value[0])].index,inplace=True)\r\n",
        "  data.drop(data[(data['sbp'] < 0) | (data['dbp'] < 0) | (data['sbp'] < data['dbp'])].index,inplace=True)\r\n",
        "  return data"
      ],
      "execution_count": null,
      "outputs": []
    },
    {
      "cell_type": "code",
      "metadata": {
        "id": "Gx_VXhKh1Zyy",
        "colab": {
          "base_uri": "https://localhost:8080/"
        },
        "outputId": "277568f5-7fa3-47f9-8117-4b2ed8199c04"
      },
      "source": [
        "data = cleandf.copy()\r\n",
        "print(\"Before\\n {0}\".format(data))\r\n",
        "data = clearErrorsFromMyData(data)\r\n",
        "print(\"After\\n {0}\".format(data))"
      ],
      "execution_count": null,
      "outputs": [
        {
          "output_type": "stream",
          "text": [
            "Before\n",
            "           id    age  gender  ...  physical_active  cardio_issues  years\n",
            "0          0  18393       2  ...                1              0     50\n",
            "1          1  20228       1  ...                1              1     55\n",
            "2          2  18857       1  ...                0              1     52\n",
            "3          3  17623       2  ...                1              1     48\n",
            "4          4  17474       1  ...                0              0     48\n",
            "...      ...    ...     ...  ...              ...            ...    ...\n",
            "69995  99993  19240       2  ...                1              0     53\n",
            "69996  99995  22601       1  ...                1              1     62\n",
            "69997  99996  19066       2  ...                0              1     52\n",
            "69998  99998  22431       1  ...                0              1     61\n",
            "69999  99999  20540       1  ...                1              0     56\n",
            "\n",
            "[70000 rows x 14 columns]\n",
            "After\n",
            "           id    age  gender  ...  physical_active  cardio_issues  years\n",
            "0          0  18393       2  ...                1              0     50\n",
            "1          1  20228       1  ...                1              1     55\n",
            "2          2  18857       1  ...                0              1     52\n",
            "3          3  17623       2  ...                1              1     48\n",
            "4          4  17474       1  ...                0              0     48\n",
            "...      ...    ...     ...  ...              ...            ...    ...\n",
            "69995  99993  19240       2  ...                1              0     53\n",
            "69996  99995  22601       1  ...                1              1     62\n",
            "69997  99996  19066       2  ...                0              1     52\n",
            "69998  99998  22431       1  ...                0              1     61\n",
            "69999  99999  20540       1  ...                1              0     56\n",
            "\n",
            "[68529 rows x 14 columns]\n"
          ],
          "name": "stdout"
        }
      ]
    },
    {
      "cell_type": "code",
      "metadata": {
        "colab": {
          "base_uri": "https://localhost:8080/"
        },
        "id": "iMU_cmrQcQLK",
        "outputId": "c71b0927-00db-4774-bbd3-8962bc700cfc"
      },
      "source": [
        "checkIfIsOutOfLimits(data)"
      ],
      "execution_count": null,
      "outputs": [
        {
          "output_type": "stream",
          "text": [
            "Instances where age is greater or lesser than the chosen limits: Greater: 0, Lesser 0\n",
            "Instances where gender is greater or lesser than the chosen limits: Greater: 0, Lesser 0\n",
            "Instances where height is greater or lesser than the chosen limits: Greater: 0, Lesser 0\n",
            "Instances where weight is greater or lesser than the chosen limits: Greater: 0, Lesser 0\n",
            "Instances where sbp is greater or lesser than the chosen limits: Greater: 0, Lesser 0\n",
            "Instances where dbp is greater or lesser than the chosen limits: Greater: 0, Lesser 0\n",
            "Instances where cholesterol is greater or lesser than the chosen limits: Greater: 0, Lesser 0\n",
            "Instances where glucose is greater or lesser than the chosen limits: Greater: 0, Lesser 0\n",
            "Instances where smoking is greater or lesser than the chosen limits: Greater: 0, Lesser 0\n",
            "Instances where alcohol is greater or lesser than the chosen limits: Greater: 0, Lesser 0\n",
            "Instances where physical_active is greater or lesser than the chosen limits: Greater: 0, Lesser 0\n",
            "Instances where cardio_issues is greater or lesser than the chosen limits: Greater: 0, Lesser 0\n",
            "Instances where years is greater or lesser than the chosen limits: Greater: 0, Lesser 0\n"
          ],
          "name": "stdout"
        }
      ]
    },
    {
      "cell_type": "markdown",
      "metadata": {
        "id": "OwzYhDwZo-uM"
      },
      "source": [
        "Avand in vedere ca o singura valoare gresita intr-o inregistrare poate compromite target-ul, inlaturam intreaga linie, ceea ce inseamna ca sansa de a genera data corecte este de aproape 0%. Aceasta nu inseamna ca algorimtul nu poate fi adaptat. "
      ]
    },
    {
      "cell_type": "code",
      "metadata": {
        "colab": {
          "base_uri": "https://localhost:8080/"
        },
        "id": "TE2EfSqrlbph",
        "outputId": "3ff4c3e7-b09f-4c57-bb94-2d3d663b249a"
      },
      "source": [
        "blood_pressure = data.loc[:,['dbp','sbp']]\r\n",
        "blood_pressureMelt = blood_pressure.melt()\r\n",
        "\r\n",
        "checkDSP(data, blood_pressureMelt)"
      ],
      "execution_count": null,
      "outputs": [
        {
          "output_type": "stream",
          "text": [
            "Diastilic pressure is higher than systolic one in 0 cases\n"
          ],
          "name": "stdout"
        },
        {
          "output_type": "display_data",
          "data": {
            "image/png": "[encoded data removed]",
            "text/plain": [
              "<Figure size 792x576 with 1 Axes>"
            ]
          },
          "metadata": {
            "tags": [],
            "needs_background": "light"
          }
        }
      ]
    },
    {
      "cell_type": "code",
      "metadata": {
        "colab": {
          "base_uri": "https://localhost:8080/"
        },
        "id": "N28oGHE0l5zm",
        "outputId": "1c1af663-d3b9-49df-abbe-43e50561b3a2"
      },
      "source": [
        "data.describe()"
      ],
      "execution_count": null,
      "outputs": [
        {
          "output_type": "execute_result",
          "data": {
            "text/html": [
              "<div>\n",
              "<style scoped>\n",
              "    .dataframe tbody tr th:only-of-type {\n",
              "        vertical-align: middle;\n",
              "    }\n",
              "\n",
              "    .dataframe tbody tr th {\n",
              "        vertical-align: top;\n",
              "    }\n",
              "\n",
              "    .dataframe thead th {\n",
              "        text-align: right;\n",
              "    }\n",
              "</style>\n",
              "<table border=\"1\" class=\"dataframe\">\n",
              "  <thead>\n",
              "    <tr style=\"text-align: right;\">\n",
              "      <th></th>\n",
              "      <th>id</th>\n",
              "      <th>age</th>\n",
              "      <th>gender</th>\n",
              "      <th>height</th>\n",
              "      <th>weight</th>\n",
              "      <th>sbp</th>\n",
              "      <th>dbp</th>\n",
              "      <th>cholesterol</th>\n",
              "      <th>glucose</th>\n",
              "      <th>smoking</th>\n",
              "      <th>alcohol</th>\n",
              "      <th>physical_active</th>\n",
              "      <th>cardio_issues</th>\n",
              "      <th>years</th>\n",
              "    </tr>\n",
              "  </thead>\n",
              "  <tbody>\n",
              "    <tr>\n",
              "      <th>count</th>\n",
              "      <td>68529.000000</td>\n",
              "      <td>68529.000000</td>\n",
              "      <td>68529.000000</td>\n",
              "      <td>68529.000000</td>\n",
              "      <td>68529.000000</td>\n",
              "      <td>68529.000000</td>\n",
              "      <td>68529.000000</td>\n",
              "      <td>68529.000000</td>\n",
              "      <td>68529.000000</td>\n",
              "      <td>68529.000000</td>\n",
              "      <td>68529.000000</td>\n",
              "      <td>68529.000000</td>\n",
              "      <td>68529.000000</td>\n",
              "      <td>68529.000000</td>\n",
              "    </tr>\n",
              "    <tr>\n",
              "      <th>mean</th>\n",
              "      <td>49974.953538</td>\n",
              "      <td>19464.262969</td>\n",
              "      <td>1.348568</td>\n",
              "      <td>164.417283</td>\n",
              "      <td>74.116069</td>\n",
              "      <td>126.606794</td>\n",
              "      <td>81.289834</td>\n",
              "      <td>1.364459</td>\n",
              "      <td>1.225642</td>\n",
              "      <td>0.087963</td>\n",
              "      <td>0.053335</td>\n",
              "      <td>0.803324</td>\n",
              "      <td>0.494491</td>\n",
              "      <td>53.326344</td>\n",
              "    </tr>\n",
              "    <tr>\n",
              "      <th>std</th>\n",
              "      <td>28848.043430</td>\n",
              "      <td>2468.238892</td>\n",
              "      <td>0.476520</td>\n",
              "      <td>7.914021</td>\n",
              "      <td>14.279412</td>\n",
              "      <td>16.486574</td>\n",
              "      <td>9.344670</td>\n",
              "      <td>0.678796</td>\n",
              "      <td>0.571549</td>\n",
              "      <td>0.283243</td>\n",
              "      <td>0.224702</td>\n",
              "      <td>0.397488</td>\n",
              "      <td>0.499973</td>\n",
              "      <td>6.768013</td>\n",
              "    </tr>\n",
              "    <tr>\n",
              "      <th>min</th>\n",
              "      <td>0.000000</td>\n",
              "      <td>10798.000000</td>\n",
              "      <td>1.000000</td>\n",
              "      <td>120.000000</td>\n",
              "      <td>35.000000</td>\n",
              "      <td>80.000000</td>\n",
              "      <td>50.000000</td>\n",
              "      <td>1.000000</td>\n",
              "      <td>1.000000</td>\n",
              "      <td>0.000000</td>\n",
              "      <td>0.000000</td>\n",
              "      <td>0.000000</td>\n",
              "      <td>0.000000</td>\n",
              "      <td>30.000000</td>\n",
              "    </tr>\n",
              "    <tr>\n",
              "      <th>25%</th>\n",
              "      <td>25003.000000</td>\n",
              "      <td>17657.000000</td>\n",
              "      <td>1.000000</td>\n",
              "      <td>159.000000</td>\n",
              "      <td>65.000000</td>\n",
              "      <td>120.000000</td>\n",
              "      <td>80.000000</td>\n",
              "      <td>1.000000</td>\n",
              "      <td>1.000000</td>\n",
              "      <td>0.000000</td>\n",
              "      <td>0.000000</td>\n",
              "      <td>1.000000</td>\n",
              "      <td>0.000000</td>\n",
              "      <td>48.000000</td>\n",
              "    </tr>\n",
              "    <tr>\n",
              "      <th>50%</th>\n",
              "      <td>50012.000000</td>\n",
              "      <td>19701.000000</td>\n",
              "      <td>1.000000</td>\n",
              "      <td>165.000000</td>\n",
              "      <td>72.000000</td>\n",
              "      <td>120.000000</td>\n",
              "      <td>80.000000</td>\n",
              "      <td>1.000000</td>\n",
              "      <td>1.000000</td>\n",
              "      <td>0.000000</td>\n",
              "      <td>0.000000</td>\n",
              "      <td>1.000000</td>\n",
              "      <td>0.000000</td>\n",
              "      <td>54.000000</td>\n",
              "    </tr>\n",
              "    <tr>\n",
              "      <th>75%</th>\n",
              "      <td>74877.000000</td>\n",
              "      <td>21324.000000</td>\n",
              "      <td>2.000000</td>\n",
              "      <td>170.000000</td>\n",
              "      <td>82.000000</td>\n",
              "      <td>140.000000</td>\n",
              "      <td>90.000000</td>\n",
              "      <td>1.000000</td>\n",
              "      <td>1.000000</td>\n",
              "      <td>0.000000</td>\n",
              "      <td>0.000000</td>\n",
              "      <td>1.000000</td>\n",
              "      <td>1.000000</td>\n",
              "      <td>58.000000</td>\n",
              "    </tr>\n",
              "    <tr>\n",
              "      <th>max</th>\n",
              "      <td>99999.000000</td>\n",
              "      <td>23713.000000</td>\n",
              "      <td>2.000000</td>\n",
              "      <td>250.000000</td>\n",
              "      <td>200.000000</td>\n",
              "      <td>200.000000</td>\n",
              "      <td>150.000000</td>\n",
              "      <td>3.000000</td>\n",
              "      <td>3.000000</td>\n",
              "      <td>1.000000</td>\n",
              "      <td>1.000000</td>\n",
              "      <td>1.000000</td>\n",
              "      <td>1.000000</td>\n",
              "      <td>65.000000</td>\n",
              "    </tr>\n",
              "  </tbody>\n",
              "</table>\n",
              "</div>"
            ],
            "text/plain": [
              "                 id           age  ...  cardio_issues         years\n",
              "count  68529.000000  68529.000000  ...   68529.000000  68529.000000\n",
              "mean   49974.953538  19464.262969  ...       0.494491     53.326344\n",
              "std    28848.043430   2468.238892  ...       0.499973      6.768013\n",
              "min        0.000000  10798.000000  ...       0.000000     30.000000\n",
              "25%    25003.000000  17657.000000  ...       0.000000     48.000000\n",
              "50%    50012.000000  19701.000000  ...       0.000000     54.000000\n",
              "75%    74877.000000  21324.000000  ...       1.000000     58.000000\n",
              "max    99999.000000  23713.000000  ...       1.000000     65.000000\n",
              "\n",
              "[8 rows x 14 columns]"
            ]
          },
          "metadata": {
            "tags": []
          },
          "execution_count": 215
        }
      ]
    },
    {
      "cell_type": "markdown",
      "metadata": {
        "id": "OKQXpqFiA9Lm"
      },
      "source": [
        "# RA"
      ]
    },
    {
      "cell_type": "markdown",
      "metadata": {
        "id": "tU9scnXU1jQx"
      },
      "source": [
        "Numarul total de persoane, separate dupa gen\r\n",
        "\r\n",
        "---"
      ]
    },
    {
      "cell_type": "code",
      "metadata": {
        "colab": {
          "base_uri": "https://localhost:8080/"
        },
        "id": "zZhR-lWN04j1",
        "outputId": "8a9ca6e0-ac85-4629-9091-6ab315dcf8dd"
      },
      "source": [
        "data['gender'].value_counts()"
      ],
      "execution_count": null,
      "outputs": [
        {
          "output_type": "execute_result",
          "data": {
            "text/plain": [
              "1    44642\n",
              "2    23887\n",
              "Name: gender, dtype: int64"
            ]
          },
          "metadata": {
            "tags": []
          },
          "execution_count": 216
        }
      ]
    },
    {
      "cell_type": "markdown",
      "metadata": {
        "id": "l_PbC55utS3m"
      },
      "source": [
        "  Pentru a afla daca valoarea 1 din coloana 'gender' reprezinta genul feminin sau masculin vom calcula inaltimea medie a celor doua genuri. De asemenea, vom tine cont de presupunerea ca, in medie, inaltimea barbatilor este mai mare decat cea a femeilor."
      ]
    },
    {
      "cell_type": "code",
      "metadata": {
        "id": "nMBSHPOrmKi9",
        "colab": {
          "base_uri": "https://localhost:8080/"
        },
        "outputId": "1bdda206-e35b-49f5-bed7-62ebd702f26d"
      },
      "source": [
        "data.groupby('gender')['height'].mean()"
      ],
      "execution_count": null,
      "outputs": [
        {
          "output_type": "execute_result",
          "data": {
            "text/plain": [
              "gender\n",
              "1    161.431656\n",
              "2    169.997070\n",
              "Name: height, dtype: float64"
            ]
          },
          "metadata": {
            "tags": []
          },
          "execution_count": 217
        }
      ]
    },
    {
      "cell_type": "markdown",
      "metadata": {
        "id": "h4b81fAdwKQl"
      },
      "source": [
        "Am extras submultimea formata din coloanele 'gender' si 'height', unde 'gender' are rol de index si 'height' este valoarea acesteia. Pentru a obtine valoarea medie a inaltimii, am aplicat functia mean() asupra submultimii obtinute.                       \r\n",
        "           \r\n",
        "Din rezultatul obtinut si tinand cont de presupunerea mentionata anterior, putem presupune ca valoarea 1 din coloana 'gender' reprezinta genul feminin, deoarece valoarea media a acesteia este mai mica decat cea a valorii 2."
      ]
    },
    {
      "cell_type": "markdown",
      "metadata": {
        "id": "HQtvqQbR7lid"
      },
      "source": [
        "Diferite statistici in functie de gen\r\n",
        "\r\n",
        "---"
      ]
    },
    {
      "cell_type": "code",
      "metadata": {
        "colab": {
          "base_uri": "https://localhost:8080/",
          "height": 136
        },
        "id": "Z9ON2KRjHJNV",
        "outputId": "f9d226e9-ab54-47d7-a2a1-158ab40246a5"
      },
      "source": [
        "gender_stats = data.groupby('gender')\r\n",
        "gender_stats[['alcohol','smoking','glucose','cholesterol']].mean()"
      ],
      "execution_count": null,
      "outputs": [
        {
          "output_type": "execute_result",
          "data": {
            "text/html": [
              "<div>\n",
              "<style scoped>\n",
              "    .dataframe tbody tr th:only-of-type {\n",
              "        vertical-align: middle;\n",
              "    }\n",
              "\n",
              "    .dataframe tbody tr th {\n",
              "        vertical-align: top;\n",
              "    }\n",
              "\n",
              "    .dataframe thead th {\n",
              "        text-align: right;\n",
              "    }\n",
              "</style>\n",
              "<table border=\"1\" class=\"dataframe\">\n",
              "  <thead>\n",
              "    <tr style=\"text-align: right;\">\n",
              "      <th></th>\n",
              "      <th>alcohol</th>\n",
              "      <th>smoking</th>\n",
              "      <th>glucose</th>\n",
              "      <th>cholesterol</th>\n",
              "    </tr>\n",
              "    <tr>\n",
              "      <th>gender</th>\n",
              "      <th></th>\n",
              "      <th></th>\n",
              "      <th></th>\n",
              "      <th></th>\n",
              "    </tr>\n",
              "  </thead>\n",
              "  <tbody>\n",
              "    <tr>\n",
              "      <th>1</th>\n",
              "      <td>0.025178</td>\n",
              "      <td>0.017741</td>\n",
              "      <td>1.234510</td>\n",
              "      <td>1.382756</td>\n",
              "    </tr>\n",
              "    <tr>\n",
              "      <th>2</th>\n",
              "      <td>0.105957</td>\n",
              "      <td>0.219199</td>\n",
              "      <td>1.209068</td>\n",
              "      <td>1.330263</td>\n",
              "    </tr>\n",
              "  </tbody>\n",
              "</table>\n",
              "</div>"
            ],
            "text/plain": [
              "         alcohol   smoking   glucose  cholesterol\n",
              "gender                                           \n",
              "1       0.025178  0.017741  1.234510     1.382756\n",
              "2       0.105957  0.219199  1.209068     1.330263"
            ]
          },
          "metadata": {
            "tags": []
          },
          "execution_count": 218
        }
      ]
    },
    {
      "cell_type": "code",
      "metadata": {
        "id": "8XwWVSuiIB0n",
        "colab": {
          "base_uri": "https://localhost:8080/",
          "height": 417
        },
        "outputId": "6be73938-b4fd-4fe2-aa1d-58802a3de7ba"
      },
      "source": [
        "gender_stats[['alcohol','smoking','glucose','cholesterol']].mean().plot(kind=\"bar\", title=\"Gender Statistics\", figsize=(8,6))"
      ],
      "execution_count": null,
      "outputs": [
        {
          "output_type": "execute_result",
          "data": {
            "text/plain": [
              "<matplotlib.axes._subplots.AxesSubplot at 0x7f609573b990>"
            ]
          },
          "metadata": {
            "tags": []
          },
          "execution_count": 219
        },
        {
          "output_type": "display_data",
          "data": {
            "image/png": "[encoded data removed]",
            "text/plain": [
              "<Figure size 576x432 with 1 Axes>"
            ]
          },
          "metadata": {
            "tags": [],
            "needs_background": "light"
          }
        }
      ]
    },
    {
      "cell_type": "markdown",
      "metadata": {
        "id": "EZDierRx9kHH"
      },
      "source": [
        "Din media obtinuta, se observa urmatoarele:\r\n",
        "* tendintele consumului de alcool si a fumatului pentru genul 1 (feminin) sunt considerabile mai reduse fata de genul 2 (masculin)\r\n",
        "* valorile glucozei si colesterolului ale genului feminin suntmai ridicate decat valorile genului masculin"
      ]
    },
    {
      "cell_type": "markdown",
      "metadata": {
        "id": "Mja3qLG2RXqs"
      },
      "source": [
        "\r\n",
        "Persoane cu boli cardiace, pe grupe de varsta\r\n",
        "\r\n",
        "---\r\n",
        "\r\n"
      ]
    },
    {
      "cell_type": "code",
      "metadata": {
        "id": "HvmVsJLjcJQC",
        "colab": {
          "base_uri": "https://localhost:8080/"
        },
        "outputId": "1a811930-af89-4d7b-a851-b4dffee94f0d"
      },
      "source": [
        "data.groupby('gender')['years'].min()"
      ],
      "execution_count": null,
      "outputs": [
        {
          "output_type": "execute_result",
          "data": {
            "text/plain": [
              "gender\n",
              "1    30\n",
              "2    30\n",
              "Name: years, dtype: int64"
            ]
          },
          "metadata": {
            "tags": []
          },
          "execution_count": 220
        }
      ]
    },
    {
      "cell_type": "code",
      "metadata": {
        "id": "cmeLJX87cfYh",
        "colab": {
          "base_uri": "https://localhost:8080/"
        },
        "outputId": "dec3a1c4-67b8-450c-9daf-a094967b7779"
      },
      "source": [
        "data.groupby('gender')['years'].max()"
      ],
      "execution_count": null,
      "outputs": [
        {
          "output_type": "execute_result",
          "data": {
            "text/plain": [
              "gender\n",
              "1    65\n",
              "2    65\n",
              "Name: years, dtype: int64"
            ]
          },
          "metadata": {
            "tags": []
          },
          "execution_count": 221
        }
      ]
    },
    {
      "cell_type": "markdown",
      "metadata": {
        "id": "aaiW8OHp0W3_"
      },
      "source": [
        "Deoarece am grupat coloana 'years' dupa gen, am aflat valoarea minima si maxima de varsta. Folosind aceasta informatie, am stabilit ca varsta va fi cuprinsa intre 30 si 65 de ani."
      ]
    },
    {
      "cell_type": "code",
      "metadata": {
        "id": "3wewW2zwRnkF"
      },
      "source": [
        "def age_func(x):\r\n",
        "  if (x < 40.0) & (x >= 30.0):\r\n",
        "    return '30s'\r\n",
        "  elif (x < 50.0) & (x >= 40.0):\r\n",
        "    return '40s'\r\n",
        "  elif (x < 60.0) & (x >= 50.0):\r\n",
        "    return '50s'\r\n",
        "  elif (x < 70.0) & (x >= 60.0):\r\n",
        "    return '60s'\r\n"
      ],
      "execution_count": null,
      "outputs": []
    },
    {
      "cell_type": "markdown",
      "metadata": {
        "id": "9oSx4YvA8w1o"
      },
      "source": [
        "Am definit functia age_func(), care va ajuta la stabilirea categoriei de varsta. Categoriile de varsta sunt: \r\n",
        "* 30s (varsta cuprinsa intre 30 -> 39 de ani)\r\n",
        "* 40s (varsta cuprinsa intre 40 -> 49 de ani)\r\n",
        "* 50s (varsta cuprinsa intre 50 -> 59 de ani)\r\n",
        "* 60s (varsta cuprinsa intre 60 -> 69 de ani)"
      ]
    },
    {
      "cell_type": "code",
      "metadata": {
        "id": "poi1ughK4SRt",
        "colab": {
          "base_uri": "https://localhost:8080/",
          "height": 402
        },
        "outputId": "aa6f2e2c-bc37-467c-e2e3-2fc2b075a5c2"
      },
      "source": [
        "ages = [] \r\n",
        "\r\n",
        "for i, j in data['age'].iteritems():\r\n",
        "    ages.append(age_func(data['years'][i]))\r\n",
        "#print(ages)\r\n",
        "data['age_cat']=ages\r\n",
        "data"
      ],
      "execution_count": null,
      "outputs": [
        {
          "output_type": "execute_result",
          "data": {
            "text/html": [
              "<div>\n",
              "<style scoped>\n",
              "    .dataframe tbody tr th:only-of-type {\n",
              "        vertical-align: middle;\n",
              "    }\n",
              "\n",
              "    .dataframe tbody tr th {\n",
              "        vertical-align: top;\n",
              "    }\n",
              "\n",
              "    .dataframe thead th {\n",
              "        text-align: right;\n",
              "    }\n",
              "</style>\n",
              "<table border=\"1\" class=\"dataframe\">\n",
              "  <thead>\n",
              "    <tr style=\"text-align: right;\">\n",
              "      <th></th>\n",
              "      <th>id</th>\n",
              "      <th>age</th>\n",
              "      <th>gender</th>\n",
              "      <th>height</th>\n",
              "      <th>weight</th>\n",
              "      <th>sbp</th>\n",
              "      <th>dbp</th>\n",
              "      <th>cholesterol</th>\n",
              "      <th>glucose</th>\n",
              "      <th>smoking</th>\n",
              "      <th>alcohol</th>\n",
              "      <th>physical_active</th>\n",
              "      <th>cardio_issues</th>\n",
              "      <th>years</th>\n",
              "      <th>age_cat</th>\n",
              "    </tr>\n",
              "  </thead>\n",
              "  <tbody>\n",
              "    <tr>\n",
              "      <th>0</th>\n",
              "      <td>0</td>\n",
              "      <td>18393</td>\n",
              "      <td>2</td>\n",
              "      <td>168</td>\n",
              "      <td>62.0</td>\n",
              "      <td>110</td>\n",
              "      <td>80</td>\n",
              "      <td>1</td>\n",
              "      <td>1</td>\n",
              "      <td>0</td>\n",
              "      <td>0</td>\n",
              "      <td>1</td>\n",
              "      <td>0</td>\n",
              "      <td>50</td>\n",
              "      <td>50s</td>\n",
              "    </tr>\n",
              "    <tr>\n",
              "      <th>1</th>\n",
              "      <td>1</td>\n",
              "      <td>20228</td>\n",
              "      <td>1</td>\n",
              "      <td>156</td>\n",
              "      <td>85.0</td>\n",
              "      <td>140</td>\n",
              "      <td>90</td>\n",
              "      <td>3</td>\n",
              "      <td>1</td>\n",
              "      <td>0</td>\n",
              "      <td>0</td>\n",
              "      <td>1</td>\n",
              "      <td>1</td>\n",
              "      <td>55</td>\n",
              "      <td>50s</td>\n",
              "    </tr>\n",
              "    <tr>\n",
              "      <th>2</th>\n",
              "      <td>2</td>\n",
              "      <td>18857</td>\n",
              "      <td>1</td>\n",
              "      <td>165</td>\n",
              "      <td>64.0</td>\n",
              "      <td>130</td>\n",
              "      <td>70</td>\n",
              "      <td>3</td>\n",
              "      <td>1</td>\n",
              "      <td>0</td>\n",
              "      <td>0</td>\n",
              "      <td>0</td>\n",
              "      <td>1</td>\n",
              "      <td>52</td>\n",
              "      <td>50s</td>\n",
              "    </tr>\n",
              "    <tr>\n",
              "      <th>3</th>\n",
              "      <td>3</td>\n",
              "      <td>17623</td>\n",
              "      <td>2</td>\n",
              "      <td>169</td>\n",
              "      <td>82.0</td>\n",
              "      <td>150</td>\n",
              "      <td>100</td>\n",
              "      <td>1</td>\n",
              "      <td>1</td>\n",
              "      <td>0</td>\n",
              "      <td>0</td>\n",
              "      <td>1</td>\n",
              "      <td>1</td>\n",
              "      <td>48</td>\n",
              "      <td>40s</td>\n",
              "    </tr>\n",
              "    <tr>\n",
              "      <th>4</th>\n",
              "      <td>4</td>\n",
              "      <td>17474</td>\n",
              "      <td>1</td>\n",
              "      <td>156</td>\n",
              "      <td>56.0</td>\n",
              "      <td>100</td>\n",
              "      <td>60</td>\n",
              "      <td>1</td>\n",
              "      <td>1</td>\n",
              "      <td>0</td>\n",
              "      <td>0</td>\n",
              "      <td>0</td>\n",
              "      <td>0</td>\n",
              "      <td>48</td>\n",
              "      <td>40s</td>\n",
              "    </tr>\n",
              "    <tr>\n",
              "      <th>...</th>\n",
              "      <td>...</td>\n",
              "      <td>...</td>\n",
              "      <td>...</td>\n",
              "      <td>...</td>\n",
              "      <td>...</td>\n",
              "      <td>...</td>\n",
              "      <td>...</td>\n",
              "      <td>...</td>\n",
              "      <td>...</td>\n",
              "      <td>...</td>\n",
              "      <td>...</td>\n",
              "      <td>...</td>\n",
              "      <td>...</td>\n",
              "      <td>...</td>\n",
              "      <td>...</td>\n",
              "    </tr>\n",
              "    <tr>\n",
              "      <th>69995</th>\n",
              "      <td>99993</td>\n",
              "      <td>19240</td>\n",
              "      <td>2</td>\n",
              "      <td>168</td>\n",
              "      <td>76.0</td>\n",
              "      <td>120</td>\n",
              "      <td>80</td>\n",
              "      <td>1</td>\n",
              "      <td>1</td>\n",
              "      <td>1</td>\n",
              "      <td>0</td>\n",
              "      <td>1</td>\n",
              "      <td>0</td>\n",
              "      <td>53</td>\n",
              "      <td>50s</td>\n",
              "    </tr>\n",
              "    <tr>\n",
              "      <th>69996</th>\n",
              "      <td>99995</td>\n",
              "      <td>22601</td>\n",
              "      <td>1</td>\n",
              "      <td>158</td>\n",
              "      <td>126.0</td>\n",
              "      <td>140</td>\n",
              "      <td>90</td>\n",
              "      <td>2</td>\n",
              "      <td>2</td>\n",
              "      <td>0</td>\n",
              "      <td>0</td>\n",
              "      <td>1</td>\n",
              "      <td>1</td>\n",
              "      <td>62</td>\n",
              "      <td>60s</td>\n",
              "    </tr>\n",
              "    <tr>\n",
              "      <th>69997</th>\n",
              "      <td>99996</td>\n",
              "      <td>19066</td>\n",
              "      <td>2</td>\n",
              "      <td>183</td>\n",
              "      <td>105.0</td>\n",
              "      <td>180</td>\n",
              "      <td>90</td>\n",
              "      <td>3</td>\n",
              "      <td>1</td>\n",
              "      <td>0</td>\n",
              "      <td>1</td>\n",
              "      <td>0</td>\n",
              "      <td>1</td>\n",
              "      <td>52</td>\n",
              "      <td>50s</td>\n",
              "    </tr>\n",
              "    <tr>\n",
              "      <th>69998</th>\n",
              "      <td>99998</td>\n",
              "      <td>22431</td>\n",
              "      <td>1</td>\n",
              "      <td>163</td>\n",
              "      <td>72.0</td>\n",
              "      <td>135</td>\n",
              "      <td>80</td>\n",
              "      <td>1</td>\n",
              "      <td>2</td>\n",
              "      <td>0</td>\n",
              "      <td>0</td>\n",
              "      <td>0</td>\n",
              "      <td>1</td>\n",
              "      <td>61</td>\n",
              "      <td>60s</td>\n",
              "    </tr>\n",
              "    <tr>\n",
              "      <th>69999</th>\n",
              "      <td>99999</td>\n",
              "      <td>20540</td>\n",
              "      <td>1</td>\n",
              "      <td>170</td>\n",
              "      <td>72.0</td>\n",
              "      <td>120</td>\n",
              "      <td>80</td>\n",
              "      <td>2</td>\n",
              "      <td>1</td>\n",
              "      <td>0</td>\n",
              "      <td>0</td>\n",
              "      <td>1</td>\n",
              "      <td>0</td>\n",
              "      <td>56</td>\n",
              "      <td>50s</td>\n",
              "    </tr>\n",
              "  </tbody>\n",
              "</table>\n",
              "<p>68529 rows × 15 columns</p>\n",
              "</div>"
            ],
            "text/plain": [
              "          id    age  gender  ...  cardio_issues  years  age_cat\n",
              "0          0  18393       2  ...              0     50      50s\n",
              "1          1  20228       1  ...              1     55      50s\n",
              "2          2  18857       1  ...              1     52      50s\n",
              "3          3  17623       2  ...              1     48      40s\n",
              "4          4  17474       1  ...              0     48      40s\n",
              "...      ...    ...     ...  ...            ...    ...      ...\n",
              "69995  99993  19240       2  ...              0     53      50s\n",
              "69996  99995  22601       1  ...              1     62      60s\n",
              "69997  99996  19066       2  ...              1     52      50s\n",
              "69998  99998  22431       1  ...              1     61      60s\n",
              "69999  99999  20540       1  ...              0     56      50s\n",
              "\n",
              "[68529 rows x 15 columns]"
            ]
          },
          "metadata": {
            "tags": []
          },
          "execution_count": 223
        }
      ]
    },
    {
      "cell_type": "markdown",
      "metadata": {
        "id": "l-G5IFQ2F8hh"
      },
      "source": [
        "In lista ages am salvat categoriile de varsta pentru fiecare intrare din coloana 'years', dupa care am atribuit valorile din lista noii coloane 'age_cat'."
      ]
    },
    {
      "cell_type": "code",
      "metadata": {
        "id": "ciE3J-ZzbqJP",
        "colab": {
          "base_uri": "https://localhost:8080/",
          "height": 195
        },
        "outputId": "8e4e3cbd-b7ec-47ee-8746-6bec67e644e7"
      },
      "source": [
        "tb1 = data.pivot_table(values='id',index='age_cat',columns='cardio_issues', aggfunc=len, fill_value=0)\r\n",
        "tb1"
      ],
      "execution_count": null,
      "outputs": [
        {
          "output_type": "execute_result",
          "data": {
            "text/html": [
              "<div>\n",
              "<style scoped>\n",
              "    .dataframe tbody tr th:only-of-type {\n",
              "        vertical-align: middle;\n",
              "    }\n",
              "\n",
              "    .dataframe tbody tr th {\n",
              "        vertical-align: top;\n",
              "    }\n",
              "\n",
              "    .dataframe thead th {\n",
              "        text-align: right;\n",
              "    }\n",
              "</style>\n",
              "<table border=\"1\" class=\"dataframe\">\n",
              "  <thead>\n",
              "    <tr style=\"text-align: right;\">\n",
              "      <th>cardio_issues</th>\n",
              "      <th>0</th>\n",
              "      <th>1</th>\n",
              "    </tr>\n",
              "    <tr>\n",
              "      <th>age_cat</th>\n",
              "      <th></th>\n",
              "      <th></th>\n",
              "    </tr>\n",
              "  </thead>\n",
              "  <tbody>\n",
              "    <tr>\n",
              "      <th>30s</th>\n",
              "      <td>318</td>\n",
              "      <td>86</td>\n",
              "    </tr>\n",
              "    <tr>\n",
              "      <th>40s</th>\n",
              "      <td>11533</td>\n",
              "      <td>6464</td>\n",
              "    </tr>\n",
              "    <tr>\n",
              "      <th>50s</th>\n",
              "      <td>17455</td>\n",
              "      <td>17128</td>\n",
              "    </tr>\n",
              "    <tr>\n",
              "      <th>60s</th>\n",
              "      <td>5336</td>\n",
              "      <td>10209</td>\n",
              "    </tr>\n",
              "  </tbody>\n",
              "</table>\n",
              "</div>"
            ],
            "text/plain": [
              "cardio_issues      0      1\n",
              "age_cat                    \n",
              "30s              318     86\n",
              "40s            11533   6464\n",
              "50s            17455  17128\n",
              "60s             5336  10209"
            ]
          },
          "metadata": {
            "tags": []
          },
          "execution_count": 224
        }
      ]
    },
    {
      "cell_type": "markdown",
      "metadata": {
        "id": "odO6a35mNTgi"
      },
      "source": [
        "Prin folosirea functiei pivot_table, am creat tabelul pivot ce evidentiaza numarul de persoane cardiace pe grupe de varsta. "
      ]
    },
    {
      "cell_type": "code",
      "metadata": {
        "id": "UAnw3t0UePq8",
        "colab": {
          "base_uri": "https://localhost:8080/",
          "height": 421
        },
        "outputId": "d34d8735-9cb5-4e73-9ee9-293fbb10cd1d"
      },
      "source": [
        "tb1.plot(xlabel=\"Age Categories\", ylabel=\"Number of Cases\", figsize=(8,6), title=\"Cardiovascular Disease Cases\")"
      ],
      "execution_count": null,
      "outputs": [
        {
          "output_type": "execute_result",
          "data": {
            "text/plain": [
              "<matplotlib.axes._subplots.AxesSubplot at 0x7f609575c990>"
            ]
          },
          "metadata": {
            "tags": []
          },
          "execution_count": 225
        },
        {
          "output_type": "display_data",
          "data": {
            "image/png": "[encoded data removed]",
            "text/plain": [
              "<Figure size 576x432 with 1 Axes>"
            ]
          },
          "metadata": {
            "tags": [],
            "needs_background": "light"
          }
        }
      ]
    },
    {
      "cell_type": "markdown",
      "metadata": {
        "id": "BkwNmSmwwbEB"
      },
      "source": [
        "Din graficul prezentat, se observa ca persoanele cu categoria de varsta '50s' sunt predispuse in a avea boli cardiace (1).\r\n"
      ]
    },
    {
      "cell_type": "markdown",
      "metadata": {
        "id": "ddeFOrbLBgp3"
      },
      "source": [
        "Persoane cu tensiunea normala, pe categorii de varsta\r\n",
        "\r\n",
        "---"
      ]
    },
    {
      "cell_type": "code",
      "metadata": {
        "id": "bnG-klRl4Yxi",
        "colab": {
          "base_uri": "https://localhost:8080/",
          "height": 136
        },
        "outputId": "9f8c1b34-58ea-40c0-a120-32f2ca8b58d9"
      },
      "source": [
        "tb2 = data[((data.sbp >= 120) & (data.sbp <= 121) & (data.dbp >= 79) & (data.dbp <= 80) & (data['age_cat'] == '20s')) |\r\n",
        "   ((data.sbp >= 122) & (data.sbp <= 123) & (data.dbp >= 81) & (data.dbp <= 82) & (data['age_cat'] == '30s')) |\r\n",
        "   ((data.sbp >= 124) & (data.sbp <= 127) & (data.dbp >= 83) & (data.dbp <= 84) & (data['age_cat'] == '40s')) |\r\n",
        "   ((data.sbp >= 128) & (data.sbp <= 131) & (data.dbp >= 85) & (data.dbp <= 86) & (data['age_cat'] == '50s')) |\r\n",
        "   ((data.sbp >= 132) & (data.sbp <= 134) & (data.dbp >= 87) & (data.dbp <= 88) & (data['age_cat'] == '60s'))\r\n",
        "   ].pivot_table(values=['sbp',\t'dbp',\t'alcohol','smoking','glucose','cholesterol','physical_active','cardio_issues'],index='age_cat', aggfunc='mean') \r\n",
        "tb2\r\n"
      ],
      "execution_count": null,
      "outputs": [
        {
          "output_type": "execute_result",
          "data": {
            "text/html": [
              "<div>\n",
              "<style scoped>\n",
              "    .dataframe tbody tr th:only-of-type {\n",
              "        vertical-align: middle;\n",
              "    }\n",
              "\n",
              "    .dataframe tbody tr th {\n",
              "        vertical-align: top;\n",
              "    }\n",
              "\n",
              "    .dataframe thead th {\n",
              "        text-align: right;\n",
              "    }\n",
              "</style>\n",
              "<table border=\"1\" class=\"dataframe\">\n",
              "  <thead>\n",
              "    <tr style=\"text-align: right;\">\n",
              "      <th></th>\n",
              "      <th>alcohol</th>\n",
              "      <th>cardio_issues</th>\n",
              "      <th>cholesterol</th>\n",
              "      <th>dbp</th>\n",
              "      <th>glucose</th>\n",
              "      <th>physical_active</th>\n",
              "      <th>sbp</th>\n",
              "      <th>smoking</th>\n",
              "    </tr>\n",
              "    <tr>\n",
              "      <th>age_cat</th>\n",
              "      <th></th>\n",
              "      <th></th>\n",
              "      <th></th>\n",
              "      <th></th>\n",
              "      <th></th>\n",
              "      <th></th>\n",
              "      <th></th>\n",
              "      <th></th>\n",
              "    </tr>\n",
              "  </thead>\n",
              "  <tbody>\n",
              "    <tr>\n",
              "      <th>40s</th>\n",
              "      <td>0.000000</td>\n",
              "      <td>0.000000</td>\n",
              "      <td>1.000000</td>\n",
              "      <td>83.5000</td>\n",
              "      <td>1.000</td>\n",
              "      <td>0.750</td>\n",
              "      <td>126.0000</td>\n",
              "      <td>0.000000</td>\n",
              "    </tr>\n",
              "    <tr>\n",
              "      <th>50s</th>\n",
              "      <td>0.104167</td>\n",
              "      <td>0.604167</td>\n",
              "      <td>1.520833</td>\n",
              "      <td>85.0625</td>\n",
              "      <td>1.375</td>\n",
              "      <td>0.875</td>\n",
              "      <td>129.9375</td>\n",
              "      <td>0.041667</td>\n",
              "    </tr>\n",
              "  </tbody>\n",
              "</table>\n",
              "</div>"
            ],
            "text/plain": [
              "          alcohol  cardio_issues  ...       sbp   smoking\n",
              "age_cat                           ...                    \n",
              "40s      0.000000       0.000000  ...  126.0000  0.000000\n",
              "50s      0.104167       0.604167  ...  129.9375  0.041667\n",
              "\n",
              "[2 rows x 8 columns]"
            ]
          },
          "metadata": {
            "tags": []
          },
          "execution_count": 226
        }
      ]
    },
    {
      "cell_type": "code",
      "metadata": {
        "colab": {
          "base_uri": "https://localhost:8080/",
          "height": 407
        },
        "id": "Fh8QXOlpx778",
        "outputId": "dd159aa9-a3f1-4547-c0f0-bf819bc75cba"
      },
      "source": [
        "tb2[['sbp','dbp']].plot(kind=\"barh\", title=\"Age Categories with Normal Blood Pressure\", figsize=(8,6))"
      ],
      "execution_count": null,
      "outputs": [
        {
          "output_type": "execute_result",
          "data": {
            "text/plain": [
              "<matplotlib.axes._subplots.AxesSubplot at 0x7f609559d950>"
            ]
          },
          "metadata": {
            "tags": []
          },
          "execution_count": 227
        },
        {
          "output_type": "display_data",
          "data": {
            "image/png": "[encoded data removed]",
            "text/plain": [
              "<Figure size 576x432 with 1 Axes>"
            ]
          },
          "metadata": {
            "tags": [],
            "needs_background": "light"
          }
        }
      ]
    },
    {
      "cell_type": "markdown",
      "metadata": {
        "id": "Kzq-JR7XzDJf"
      },
      "source": [
        "Deoarece categoriile de varsta cu tensiunea normala sunt '40s' si '50s'. Astfel putem afirma ca incepand cu varsta de 40 de ani oamenii incep sa acorde mai multa atentie asupra preventiei bolilor cardiovasculare."
      ]
    },
    {
      "cell_type": "markdown",
      "metadata": {
        "id": "k0qofMgkCrKl"
      },
      "source": [
        "# OI"
      ]
    },
    {
      "cell_type": "code",
      "metadata": {
        "id": "6U3KU14_C4t0"
      },
      "source": [
        "\r\n"
      ],
      "execution_count": null,
      "outputs": []
    },
    {
      "cell_type": "code",
      "metadata": {
        "colab": {
          "base_uri": "https://localhost:8080/",
          "height": 497
        },
        "id": "8jii4xL-p-Og",
        "outputId": "61ac9210-c9b6-4aff-da25-80fbb03b83b3"
      },
      "source": [
        "from matplotlib import rcParams\r\n",
        "rcParams['figure.figsize'] = 11, 8\r\n",
        "sns.countplot(x='gender', hue='cholesterol', data = data, palette=\"Set1\");"
      ],
      "execution_count": null,
      "outputs": [
        {
          "output_type": "display_data",
          "data": {
            "image/png": "[encoded data removed]",
            "text/plain": [
              "<Figure size 792x576 with 1 Axes>"
            ]
          },
          "metadata": {
            "tags": [],
            "needs_background": "light"
          }
        }
      ]
    },
    {
      "cell_type": "code",
      "metadata": {
        "id": "e2GwSsHNmckV"
      },
      "source": [
        "def DrawSns(dataSet):\r\n",
        "  sns.kdeplot(dataSet['years'],dataSet['cholesterol'],shade =True)\r\n",
        "  return"
      ],
      "execution_count": null,
      "outputs": []
    },
    {
      "cell_type": "code",
      "metadata": {
        "id": "cPCRNpfHEmut",
        "colab": {
          "base_uri": "https://localhost:8080/",
          "height": 618
        },
        "outputId": "f9e3bed0-e7ac-4c02-e975-983adebf1970"
      },
      "source": [
        "import tracemalloc\r\n",
        "np.random.seed(0)\r\n",
        "values = np.random.randint(1, 100, size=100000)\r\n",
        "output=[None] * len(values)\r\n",
        "y = np.zeros(2*len(values))\r\n",
        "tracemalloc.start()\r\n",
        "\r\n",
        "DrawSns(data)\r\n",
        "\r\n",
        "first_size, first_peak = tracemalloc.get_traced_memory()\r\n",
        "tracemalloc.clear_traces()\r\n",
        "\r\n",
        "DrawSns(df)\r\n",
        "\r\n",
        "second_size, second_peak = tracemalloc.get_traced_memory()\r\n",
        "tracemalloc.clear_traces()\r\n",
        "\r\n",
        "print(f\"size Filtered: {first_size}, peak: {first_peak}\")\r\n",
        "print(f\"size Unfiltered: {second_size}, peak: {second_peak}\")\r\n",
        "\r\n",
        "\r\n",
        "tracemalloc.stop()\r\n",
        "    "
      ],
      "execution_count": null,
      "outputs": [
        {
          "output_type": "stream",
          "text": [
            "/usr/local/lib/python3.7/dist-packages/seaborn/_decorators.py:43: FutureWarning: Pass the following variable as a keyword arg: y. From version 0.12, the only valid positional argument will be `data`, and passing other arguments without an explicit keyword will result in an error or misinterpretation.\n",
            "  FutureWarning\n",
            "/usr/local/lib/python3.7/dist-packages/seaborn/_decorators.py:43: FutureWarning: Pass the following variable as a keyword arg: y. From version 0.12, the only valid positional argument will be `data`, and passing other arguments without an explicit keyword will result in an error or misinterpretation.\n",
            "  FutureWarning\n"
          ],
          "name": "stderr"
        },
        {
          "output_type": "stream",
          "text": [
            "size Filtered: 3018089, peak: 15286707\n",
            "size Unfiltered: 2491711, peak: 15219659\n"
          ],
          "name": "stdout"
        },
        {
          "output_type": "display_data",
          "data": {
            "image/png": "[encoded data removed]",
            "text/plain": [
              "<Figure size 792x576 with 1 Axes>"
            ]
          },
          "metadata": {
            "tags": [],
            "needs_background": "light"
          }
        }
      ]
    },
    {
      "cell_type": "code",
      "metadata": {
        "id": "3A7kpCuSE1g1",
        "colab": {
          "base_uri": "https://localhost:8080/",
          "height": 497
        },
        "outputId": "fce3d728-9aae-472b-bac6-315443037433"
      },
      "source": [
        "sns.countplot(x='years', hue='cardio_issues', data = df, palette=\"Set2\");"
      ],
      "execution_count": null,
      "outputs": [
        {
          "output_type": "display_data",
          "data": {
            "image/png": "[encoded data removed]",
            "text/plain": [
              "<Figure size 792x576 with 1 Axes>"
            ]
          },
          "metadata": {
            "tags": [],
            "needs_background": "light"
          }
        }
      ]
    },
    {
      "cell_type": "code",
      "metadata": {
        "id": "ah0EVDSTFHaz",
        "colab": {
          "base_uri": "https://localhost:8080/",
          "height": 604
        },
        "outputId": "e8bbf90b-4173-44e3-94bf-c791e7f86aa5"
      },
      "source": [
        "\r\n",
        "model =lr(copy_X=True, fit_intercept=True, normalize=False)\r\n",
        "X = data['years'][:, None]\r\n",
        "y = data['age']\r\n",
        "\r\n",
        "temp =model.fit(X,y)\r\n",
        "print(temp.score(X,y))\r\n",
        "print(model.coef_)\r\n",
        "print(model.intercept_)\r\n",
        "z= model.predict(X)\r\n",
        "\r\n",
        "plt.scatter(X,y)\r\n",
        "plt.plot(X,z,color='red')"
      ],
      "execution_count": null,
      "outputs": [
        {
          "output_type": "stream",
          "text": [
            "0.9981815529798129\n",
            "[364.36006497]\n",
            "34.27295307754321\n"
          ],
          "name": "stdout"
        },
        {
          "output_type": "stream",
          "text": [
            "/usr/local/lib/python3.7/dist-packages/ipykernel_launcher.py:3: FutureWarning: Support for multi-dimensional indexing (e.g. `obj[:, None]`) is deprecated and will be removed in a future version.  Convert to a numpy array before indexing instead.\n",
            "  This is separate from the ipykernel package so we can avoid doing imports until\n"
          ],
          "name": "stderr"
        },
        {
          "output_type": "execute_result",
          "data": {
            "text/plain": [
              "[<matplotlib.lines.Line2D at 0x7f60952b9bd0>]"
            ]
          },
          "metadata": {
            "tags": []
          },
          "execution_count": 232
        },
        {
          "output_type": "display_data",
          "data": {
            "image/png": "[encoded data removed]",
            "text/plain": [
              "<Figure size 792x576 with 1 Axes>"
            ]
          },
          "metadata": {
            "tags": [],
            "needs_background": "light"
          }
        }
      ]
    },
    {
      "cell_type": "code",
      "metadata": {
        "id": "jbEr4KeQFciM",
        "colab": {
          "base_uri": "https://localhost:8080/",
          "height": 604
        },
        "outputId": "5a6a4942-fd67-4e75-c89f-cafe6ec33d63"
      },
      "source": [
        "corr = data.corr()\r\n",
        "cmap = sns.diverging_palette(220,221, as_cmap=True)\r\n",
        "f, ax = plt.subplots(figsize=(11, 9))\r\n",
        "sns.heatmap(corr, cmap=cmap, vmax=.3, center=0,annot = True,\r\n",
        "            square=False, linewidths=.75, cbar_kws={\"shrink\": .75});"
      ],
      "execution_count": null,
      "outputs": [
        {
          "output_type": "display_data",
          "data": {
            "image/png": "[encoded data removed]",
            "text/plain": [
              "<Figure size 792x648 with 2 Axes>"
            ]
          },
          "metadata": {
            "tags": [],
            "needs_background": "light"
          }
        }
      ]
    },
    {
      "cell_type": "markdown",
      "metadata": {
        "id": "RcGX293LFzTE"
      },
      "source": [
        "Se pot observa mai multe corelatii dupa cum urmeaza : Cea mai mare fiind dintre ani si varsta ( cu o valoare de 1 este o regresie liniara perfecta fiind vorba despre acelai lucru scris sub o alta forma, dar aceasta nu poate fi luata in considerare, fiind un lucru evident.\r\n",
        "\r\n",
        "Urmatoarea corelatie ca importanta este Presinua sistolica cu presiunea diastolica ( Indice de corelatie = 0.7 -> corelatie puternica ) Acest lucru rezulta din faptul ca sunt masuratori ale inimilor pacientilor, iar acestea ar trebui sa ai o legatura destul de puternica de cele mai multe ori\r\n",
        "\r\n",
        "De mentionat mai sunt si corelatiile glucoza cu colesterol, de unde rezulta o legatura slaba, dar prezenta intre cele doua valori\r\n",
        "\r\n",
        "Alte si mai slabe dar de urmarit sunt cele care depasesc valoarea de 0.2, dar nu merita atentie suplimentara."
      ]
    },
    {
      "cell_type": "code",
      "metadata": {
        "id": "uWYRIQkQF2Pz",
        "colab": {
          "base_uri": "https://localhost:8080/",
          "height": 755
        },
        "outputId": "5fbc588c-e1cb-42d7-efd1-239b77de779d"
      },
      "source": [
        "model =lr(copy_X=True, fit_intercept=True, normalize=False)\r\n",
        "model2 =lr(copy_X=True, fit_intercept=True, normalize=False)\r\n",
        "X = data['sbp'][:, None]\r\n",
        "y = data['dbp']\r\n",
        "\r\n",
        "X2 = df['sbp'][:, None]\r\n",
        "y2 = df['dbp']\r\n",
        "print(\"---------------------------------------------------------------\");\r\n",
        "print(\"Filtered Data:\")\r\n",
        "temp =model.fit(X,y)\r\n",
        "print(temp.score(X,y))\r\n",
        "print(model.coef_)\r\n",
        "print(model.intercept_)\r\n",
        "\r\n",
        "print(\"---------------------------------------------------------------\");\r\n",
        "print(\"Unfiltered Data:\")\r\n",
        "temp2 =model2.fit(X2,y2)\r\n",
        "print(temp2.score(X2,y2))\r\n",
        "print(model2.coef_)\r\n",
        "print(model2.intercept_)\r\n",
        "\r\n",
        "\r\n",
        "z= model.predict(X)\r\n",
        "\r\n",
        "\r\n",
        "plt.scatter(X,y)\r\n",
        "plt.plot(X,z,color='red')\r\n"
      ],
      "execution_count": null,
      "outputs": [
        {
          "output_type": "stream",
          "text": [
            "---------------------------------------------------------------\n",
            "Filtered Data:\n",
            "0.5378710920241931\n",
            "[0.41569296]\n",
            "28.66028009877361\n",
            "---------------------------------------------------------------\n",
            "Unfiltered Data:\n",
            "0.0002587437414518501\n",
            "[0.01968476]\n",
            "94.09467728135569\n"
          ],
          "name": "stdout"
        },
        {
          "output_type": "stream",
          "text": [
            "/usr/local/lib/python3.7/dist-packages/ipykernel_launcher.py:3: FutureWarning: Support for multi-dimensional indexing (e.g. `obj[:, None]`) is deprecated and will be removed in a future version.  Convert to a numpy array before indexing instead.\n",
            "  This is separate from the ipykernel package so we can avoid doing imports until\n",
            "/usr/local/lib/python3.7/dist-packages/ipykernel_launcher.py:6: FutureWarning: Support for multi-dimensional indexing (e.g. `obj[:, None]`) is deprecated and will be removed in a future version.  Convert to a numpy array before indexing instead.\n",
            "  \n"
          ],
          "name": "stderr"
        },
        {
          "output_type": "execute_result",
          "data": {
            "text/plain": [
              "[<matplotlib.lines.Line2D at 0x7f6095473610>]"
            ]
          },
          "metadata": {
            "tags": []
          },
          "execution_count": 234
        },
        {
          "output_type": "display_data",
          "data": {
            "image/png": "[encoded data removed]",
            "text/plain": [
              "<Figure size 792x576 with 1 Axes>"
            ]
          },
          "metadata": {
            "tags": [],
            "needs_background": "light"
          }
        }
      ]
    },
    {
      "cell_type": "markdown",
      "metadata": {
        "id": "12rE6BtxIsdE"
      },
      "source": [
        "Se poate observa fara nici o alta explicatie rezultatul filtrarii datelor care au fost filtrate alaturi de cele nefiltrate, factor de corelatie de 2600 ori mai mare."
      ]
    },
    {
      "cell_type": "code",
      "metadata": {
        "colab": {
          "base_uri": "https://localhost:8080/"
        },
        "id": "-SJXWzpFuW-G",
        "outputId": "f6ede166-609f-4e01-922c-57086e81f361"
      },
      "source": [
        "# first neural network with keras tutorial\r\n",
        "from numpy import loadtxt\r\n",
        "from keras.models import Sequential\r\n",
        "from keras.layers import Dense\r\n",
        "\r\n",
        "X= data[['age','gender','height','weight','sbp','dbp','cholesterol','glucose','smoking','alcohol','physical_active']]\r\n",
        "y = data['cardio_issues']\r\n",
        "model = Sequential()\r\n",
        "model.add(Dense(12, input_dim=11, activation='relu'))\r\n",
        "model.add(Dense(8, activation='relu'))\r\n",
        "model.add(Dense(1, activation='sigmoid'))\r\n",
        "\r\n",
        "model.compile(loss='binary_crossentropy', optimizer='adam', metrics=['accuracy'])\r\n",
        "\r\n",
        "model.fit(X, y, epochs=150, batch_size=10)\r\n",
        "\r\n",
        "_, accuracy = model.evaluate(X, y)\r\n",
        "print('Accuracy: %.2f' % (accuracy*100))"
      ],
      "execution_count": null,
      "outputs": [
        {
          "output_type": "stream",
          "text": [
            "Epoch 1/150\n",
            "6853/6853 [==============================] - 8s 1ms/step - loss: 41.6856 - accuracy: 0.5090\n",
            "Epoch 2/150\n",
            "6853/6853 [==============================] - 8s 1ms/step - loss: 1.9686 - accuracy: 0.5841\n",
            "Epoch 3/150\n",
            "6853/6853 [==============================] - 8s 1ms/step - loss: 1.7003 - accuracy: 0.6041\n",
            "Epoch 4/150\n",
            "6853/6853 [==============================] - 8s 1ms/step - loss: 1.6547 - accuracy: 0.6126\n",
            "Epoch 5/150\n",
            "6853/6853 [==============================] - 8s 1ms/step - loss: 1.5735 - accuracy: 0.6107\n",
            "Epoch 6/150\n",
            "6853/6853 [==============================] - 8s 1ms/step - loss: 1.4237 - accuracy: 0.6184\n",
            "Epoch 7/150\n",
            "6853/6853 [==============================] - 8s 1ms/step - loss: 1.2997 - accuracy: 0.6156\n",
            "Epoch 8/150\n",
            "6853/6853 [==============================] - 8s 1ms/step - loss: 1.2106 - accuracy: 0.6197\n",
            "Epoch 9/150\n",
            "6853/6853 [==============================] - 8s 1ms/step - loss: 1.1438 - accuracy: 0.6208\n",
            "Epoch 10/150\n",
            "6853/6853 [==============================] - 8s 1ms/step - loss: 0.9916 - accuracy: 0.6251\n",
            "Epoch 11/150\n",
            "6853/6853 [==============================] - 8s 1ms/step - loss: 0.8663 - accuracy: 0.6248\n",
            "Epoch 12/150\n",
            "6853/6853 [==============================] - 8s 1ms/step - loss: 0.7116 - accuracy: 0.6287\n",
            "Epoch 13/150\n",
            "6853/6853 [==============================] - 8s 1ms/step - loss: 0.7032 - accuracy: 0.5347\n",
            "Epoch 14/150\n",
            "6853/6853 [==============================] - 8s 1ms/step - loss: 0.6931 - accuracy: 0.5029\n",
            "Epoch 15/150\n",
            "6853/6853 [==============================] - 8s 1ms/step - loss: 0.6931 - accuracy: 0.5079\n",
            "Epoch 16/150\n",
            "6853/6853 [==============================] - 8s 1ms/step - loss: 0.6932 - accuracy: 0.4997\n",
            "Epoch 17/150\n",
            "6853/6853 [==============================] - 8s 1ms/step - loss: 0.6931 - accuracy: 0.5009\n",
            "Epoch 18/150\n",
            "6853/6853 [==============================] - 8s 1ms/step - loss: 0.6931 - accuracy: 0.5044\n",
            "Epoch 19/150\n",
            "6853/6853 [==============================] - 8s 1ms/step - loss: 0.6932 - accuracy: 0.5008\n",
            "Epoch 20/150\n",
            "6853/6853 [==============================] - 8s 1ms/step - loss: 0.6932 - accuracy: 0.5019\n",
            "Epoch 21/150\n",
            "6853/6853 [==============================] - 8s 1ms/step - loss: 0.6932 - accuracy: 0.5019\n",
            "Epoch 22/150\n",
            "6853/6853 [==============================] - 8s 1ms/step - loss: 0.6932 - accuracy: 0.5025\n",
            "Epoch 23/150\n",
            "6853/6853 [==============================] - 8s 1ms/step - loss: 0.6930 - accuracy: 0.5083\n",
            "Epoch 24/150\n",
            "6853/6853 [==============================] - 8s 1ms/step - loss: 0.6931 - accuracy: 0.5054\n",
            "Epoch 25/150\n",
            "6853/6853 [==============================] - 8s 1ms/step - loss: 0.6931 - accuracy: 0.5039\n",
            "Epoch 26/150\n",
            "6853/6853 [==============================] - 8s 1ms/step - loss: 0.6931 - accuracy: 0.5089\n",
            "Epoch 27/150\n",
            "6853/6853 [==============================] - 8s 1ms/step - loss: 0.6931 - accuracy: 0.5061\n",
            "Epoch 28/150\n",
            "6853/6853 [==============================] - 8s 1ms/step - loss: 0.6932 - accuracy: 0.5020\n",
            "Epoch 29/150\n",
            "6853/6853 [==============================] - 8s 1ms/step - loss: 0.6932 - accuracy: 0.5047\n",
            "Epoch 30/150\n",
            "6853/6853 [==============================] - 8s 1ms/step - loss: 0.6931 - accuracy: 0.5050\n",
            "Epoch 31/150\n",
            "6853/6853 [==============================] - 8s 1ms/step - loss: 0.6932 - accuracy: 0.5023\n",
            "Epoch 32/150\n",
            "6853/6853 [==============================] - 8s 1ms/step - loss: 0.6931 - accuracy: 0.5069\n",
            "Epoch 33/150\n",
            "6853/6853 [==============================] - 8s 1ms/step - loss: 0.6932 - accuracy: 0.4988\n",
            "Epoch 34/150\n",
            "6853/6853 [==============================] - 8s 1ms/step - loss: 0.6932 - accuracy: 0.5034\n",
            "Epoch 35/150\n",
            "6853/6853 [==============================] - 8s 1ms/step - loss: 0.6931 - accuracy: 0.5042\n",
            "Epoch 36/150\n",
            "6853/6853 [==============================] - 8s 1ms/step - loss: 0.6932 - accuracy: 0.5052\n",
            "Epoch 37/150\n",
            "6853/6853 [==============================] - 8s 1ms/step - loss: 0.6932 - accuracy: 0.4992\n",
            "Epoch 38/150\n",
            "6853/6853 [==============================] - 8s 1ms/step - loss: 0.6931 - accuracy: 0.5055\n",
            "Epoch 39/150\n",
            "6853/6853 [==============================] - 8s 1ms/step - loss: 0.6930 - accuracy: 0.5069\n",
            "Epoch 40/150\n",
            "6853/6853 [==============================] - 8s 1ms/step - loss: 0.6932 - accuracy: 0.5010\n",
            "Epoch 41/150\n",
            "6853/6853 [==============================] - 8s 1ms/step - loss: 0.6932 - accuracy: 0.5009\n",
            "Epoch 42/150\n",
            "6853/6853 [==============================] - 8s 1ms/step - loss: 0.6931 - accuracy: 0.5064\n",
            "Epoch 43/150\n",
            "6853/6853 [==============================] - 8s 1ms/step - loss: 0.6932 - accuracy: 0.4994\n",
            "Epoch 44/150\n",
            "6853/6853 [==============================] - 8s 1ms/step - loss: 0.6932 - accuracy: 0.5031\n",
            "Epoch 45/150\n",
            "6853/6853 [==============================] - 8s 1ms/step - loss: 0.6932 - accuracy: 0.5004\n",
            "Epoch 46/150\n",
            "6853/6853 [==============================] - 8s 1ms/step - loss: 0.6931 - accuracy: 0.5050\n",
            "Epoch 47/150\n",
            "6853/6853 [==============================] - 8s 1ms/step - loss: 0.6932 - accuracy: 0.4993\n",
            "Epoch 48/150\n",
            "6853/6853 [==============================] - 8s 1ms/step - loss: 0.6932 - accuracy: 0.5022\n",
            "Epoch 49/150\n",
            "6853/6853 [==============================] - 8s 1ms/step - loss: 0.6931 - accuracy: 0.5081\n",
            "Epoch 50/150\n",
            "6853/6853 [==============================] - 8s 1ms/step - loss: 0.6931 - accuracy: 0.5022\n",
            "Epoch 51/150\n",
            "6853/6853 [==============================] - 8s 1ms/step - loss: 0.6931 - accuracy: 0.5061\n",
            "Epoch 52/150\n",
            "6853/6853 [==============================] - 8s 1ms/step - loss: 0.6932 - accuracy: 0.5024\n",
            "Epoch 53/150\n",
            "6853/6853 [==============================] - 8s 1ms/step - loss: 0.6932 - accuracy: 0.5005\n",
            "Epoch 54/150\n",
            "6853/6853 [==============================] - 8s 1ms/step - loss: 0.6931 - accuracy: 0.5074\n",
            "Epoch 55/150\n",
            "6853/6853 [==============================] - 8s 1ms/step - loss: 0.6932 - accuracy: 0.5024\n",
            "Epoch 56/150\n",
            "6853/6853 [==============================] - 8s 1ms/step - loss: 0.6931 - accuracy: 0.5068\n",
            "Epoch 57/150\n",
            "6853/6853 [==============================] - 8s 1ms/step - loss: 0.6931 - accuracy: 0.5060\n",
            "Epoch 58/150\n",
            "6853/6853 [==============================] - 8s 1ms/step - loss: 0.6932 - accuracy: 0.5026\n",
            "Epoch 59/150\n",
            "6853/6853 [==============================] - 8s 1ms/step - loss: 0.6931 - accuracy: 0.5049\n",
            "Epoch 60/150\n",
            "6853/6853 [==============================] - 8s 1ms/step - loss: 0.6931 - accuracy: 0.5055\n",
            "Epoch 61/150\n",
            "6853/6853 [==============================] - 8s 1ms/step - loss: 0.6930 - accuracy: 0.5084\n",
            "Epoch 62/150\n",
            "6853/6853 [==============================] - 8s 1ms/step - loss: 0.6932 - accuracy: 0.5039\n",
            "Epoch 63/150\n",
            "6853/6853 [==============================] - 8s 1ms/step - loss: 0.6932 - accuracy: 0.5026\n",
            "Epoch 64/150\n",
            "6853/6853 [==============================] - 8s 1ms/step - loss: 0.6931 - accuracy: 0.5059\n",
            "Epoch 65/150\n",
            "6853/6853 [==============================] - 8s 1ms/step - loss: 0.6931 - accuracy: 0.5048\n",
            "Epoch 66/150\n",
            "6853/6853 [==============================] - 8s 1ms/step - loss: 0.6931 - accuracy: 0.5052\n",
            "Epoch 67/150\n",
            "6853/6853 [==============================] - 8s 1ms/step - loss: 0.6932 - accuracy: 0.5033\n",
            "Epoch 68/150\n",
            "6853/6853 [==============================] - 8s 1ms/step - loss: 0.6931 - accuracy: 0.5076\n",
            "Epoch 69/150\n",
            "6853/6853 [==============================] - 8s 1ms/step - loss: 0.6931 - accuracy: 0.5057\n",
            "Epoch 70/150\n",
            "6853/6853 [==============================] - 8s 1ms/step - loss: 0.6931 - accuracy: 0.5050\n",
            "Epoch 71/150\n",
            "6853/6853 [==============================] - 8s 1ms/step - loss: 0.6932 - accuracy: 0.5019\n",
            "Epoch 72/150\n",
            "6853/6853 [==============================] - 8s 1ms/step - loss: 0.6931 - accuracy: 0.5063\n",
            "Epoch 73/150\n",
            "6853/6853 [==============================] - 8s 1ms/step - loss: 0.6931 - accuracy: 0.5076\n",
            "Epoch 74/150\n",
            "6853/6853 [==============================] - 8s 1ms/step - loss: 0.6931 - accuracy: 0.5047\n",
            "Epoch 75/150\n",
            "6853/6853 [==============================] - 8s 1ms/step - loss: 0.6931 - accuracy: 0.5022\n",
            "Epoch 76/150\n",
            "6853/6853 [==============================] - 8s 1ms/step - loss: 0.6930 - accuracy: 0.5076\n",
            "Epoch 77/150\n",
            "6853/6853 [==============================] - 8s 1ms/step - loss: 0.6932 - accuracy: 0.5016\n",
            "Epoch 78/150\n",
            "6853/6853 [==============================] - 8s 1ms/step - loss: 0.6931 - accuracy: 0.5043\n",
            "Epoch 79/150\n",
            "6853/6853 [==============================] - 8s 1ms/step - loss: 0.6930 - accuracy: 0.5084\n",
            "Epoch 80/150\n",
            "6853/6853 [==============================] - 8s 1ms/step - loss: 0.6932 - accuracy: 0.5042\n",
            "Epoch 81/150\n",
            "6853/6853 [==============================] - 8s 1ms/step - loss: 0.6931 - accuracy: 0.5047\n",
            "Epoch 82/150\n",
            "6853/6853 [==============================] - 8s 1ms/step - loss: 0.6931 - accuracy: 0.5067\n",
            "Epoch 83/150\n",
            "6853/6853 [==============================] - 8s 1ms/step - loss: 0.6931 - accuracy: 0.5029\n",
            "Epoch 84/150\n",
            "6853/6853 [==============================] - 8s 1ms/step - loss: 0.6931 - accuracy: 0.5062\n",
            "Epoch 85/150\n",
            "6853/6853 [==============================] - 8s 1ms/step - loss: 0.6931 - accuracy: 0.5071\n",
            "Epoch 86/150\n",
            "6853/6853 [==============================] - 8s 1ms/step - loss: 0.6931 - accuracy: 0.5056\n",
            "Epoch 87/150\n",
            "6853/6853 [==============================] - 8s 1ms/step - loss: 0.6931 - accuracy: 0.5010\n",
            "Epoch 88/150\n",
            "6853/6853 [==============================] - 8s 1ms/step - loss: 0.6932 - accuracy: 0.5017\n",
            "Epoch 89/150\n",
            "6853/6853 [==============================] - 8s 1ms/step - loss: 0.6932 - accuracy: 0.5051\n",
            "Epoch 90/150\n",
            "6853/6853 [==============================] - 8s 1ms/step - loss: 0.6931 - accuracy: 0.5069\n",
            "Epoch 91/150\n",
            "6853/6853 [==============================] - 8s 1ms/step - loss: 0.6930 - accuracy: 0.5093\n",
            "Epoch 92/150\n",
            "6853/6853 [==============================] - 8s 1ms/step - loss: 0.6932 - accuracy: 0.5009\n",
            "Epoch 93/150\n",
            "6853/6853 [==============================] - 8s 1ms/step - loss: 0.6930 - accuracy: 0.5074\n",
            "Epoch 94/150\n",
            "6853/6853 [==============================] - 8s 1ms/step - loss: 0.6931 - accuracy: 0.5048\n",
            "Epoch 95/150\n",
            "6853/6853 [==============================] - 8s 1ms/step - loss: 0.6931 - accuracy: 0.5070\n",
            "Epoch 96/150\n",
            "6853/6853 [==============================] - 8s 1ms/step - loss: 0.6932 - accuracy: 0.5018\n",
            "Epoch 97/150\n",
            "6853/6853 [==============================] - 8s 1ms/step - loss: 0.6931 - accuracy: 0.5047\n",
            "Epoch 98/150\n",
            "6853/6853 [==============================] - 8s 1ms/step - loss: 0.6931 - accuracy: 0.5082\n",
            "Epoch 99/150\n",
            "6853/6853 [==============================] - 8s 1ms/step - loss: 0.6932 - accuracy: 0.4985\n",
            "Epoch 100/150\n",
            "6853/6853 [==============================] - 8s 1ms/step - loss: 0.6931 - accuracy: 0.5044\n",
            "Epoch 101/150\n",
            "6853/6853 [==============================] - 8s 1ms/step - loss: 0.6931 - accuracy: 0.5047\n",
            "Epoch 102/150\n",
            "6853/6853 [==============================] - 9s 1ms/step - loss: 0.6932 - accuracy: 0.5011\n",
            "Epoch 103/150\n",
            "6853/6853 [==============================] - 8s 1ms/step - loss: 0.6931 - accuracy: 0.5043\n",
            "Epoch 104/150\n",
            "6853/6853 [==============================] - 8s 1ms/step - loss: 0.6931 - accuracy: 0.5009\n",
            "Epoch 105/150\n",
            "6853/6853 [==============================] - 8s 1ms/step - loss: 0.6931 - accuracy: 0.5069\n",
            "Epoch 106/150\n",
            "6853/6853 [==============================] - 8s 1ms/step - loss: 0.6931 - accuracy: 0.5071\n",
            "Epoch 107/150\n",
            "6853/6853 [==============================] - 8s 1ms/step - loss: 0.6931 - accuracy: 0.5066\n",
            "Epoch 108/150\n",
            "6853/6853 [==============================] - 8s 1ms/step - loss: 0.6931 - accuracy: 0.5061\n",
            "Epoch 109/150\n",
            "6853/6853 [==============================] - 8s 1ms/step - loss: 0.6932 - accuracy: 0.5031\n",
            "Epoch 110/150\n",
            "6853/6853 [==============================] - 8s 1ms/step - loss: 0.6931 - accuracy: 0.5078\n",
            "Epoch 111/150\n",
            "6853/6853 [==============================] - 8s 1ms/step - loss: 0.6932 - accuracy: 0.5009\n",
            "Epoch 112/150\n",
            "6853/6853 [==============================] - 8s 1ms/step - loss: 0.6930 - accuracy: 0.5073\n",
            "Epoch 113/150\n",
            "6853/6853 [==============================] - 8s 1ms/step - loss: 0.6932 - accuracy: 0.5012\n",
            "Epoch 114/150\n",
            "6853/6853 [==============================] - 8s 1ms/step - loss: 0.6931 - accuracy: 0.5069\n",
            "Epoch 115/150\n",
            "6853/6853 [==============================] - 8s 1ms/step - loss: 0.6932 - accuracy: 0.5018\n",
            "Epoch 116/150\n",
            "6853/6853 [==============================] - 8s 1ms/step - loss: 0.6931 - accuracy: 0.5033\n",
            "Epoch 117/150\n",
            "6853/6853 [==============================] - 8s 1ms/step - loss: 0.6932 - accuracy: 0.5032\n",
            "Epoch 118/150\n",
            "6853/6853 [==============================] - 8s 1ms/step - loss: 0.6932 - accuracy: 0.5031\n",
            "Epoch 119/150\n",
            "6853/6853 [==============================] - 8s 1ms/step - loss: 0.6932 - accuracy: 0.5043\n",
            "Epoch 120/150\n",
            "6853/6853 [==============================] - 8s 1ms/step - loss: 0.6932 - accuracy: 0.5045\n",
            "Epoch 121/150\n",
            "6853/6853 [==============================] - 8s 1ms/step - loss: 0.6931 - accuracy: 0.5053\n",
            "Epoch 122/150\n",
            "6853/6853 [==============================] - 8s 1ms/step - loss: 0.6931 - accuracy: 0.5049\n",
            "Epoch 123/150\n",
            "6853/6853 [==============================] - 8s 1ms/step - loss: 0.6931 - accuracy: 0.5051\n",
            "Epoch 124/150\n",
            "6853/6853 [==============================] - 8s 1ms/step - loss: 0.6932 - accuracy: 0.5026\n",
            "Epoch 125/150\n",
            "6853/6853 [==============================] - 8s 1ms/step - loss: 0.6932 - accuracy: 0.5029\n",
            "Epoch 126/150\n",
            "6853/6853 [==============================] - 8s 1ms/step - loss: 0.6930 - accuracy: 0.5081\n",
            "Epoch 127/150\n",
            "6853/6853 [==============================] - 8s 1ms/step - loss: 0.6931 - accuracy: 0.5038\n",
            "Epoch 128/150\n",
            "6853/6853 [==============================] - 8s 1ms/step - loss: 0.6932 - accuracy: 0.5023\n",
            "Epoch 129/150\n",
            "6853/6853 [==============================] - 8s 1ms/step - loss: 0.6932 - accuracy: 0.5017\n",
            "Epoch 130/150\n",
            "6853/6853 [==============================] - 8s 1ms/step - loss: 0.6931 - accuracy: 0.5053\n",
            "Epoch 131/150\n",
            "6853/6853 [==============================] - 8s 1ms/step - loss: 0.6931 - accuracy: 0.5065\n",
            "Epoch 132/150\n",
            "6853/6853 [==============================] - 8s 1ms/step - loss: 0.6931 - accuracy: 0.5054\n",
            "Epoch 133/150\n",
            "6853/6853 [==============================] - 8s 1ms/step - loss: 0.6932 - accuracy: 0.5016\n",
            "Epoch 134/150\n",
            "6853/6853 [==============================] - 8s 1ms/step - loss: 0.6931 - accuracy: 0.5015\n",
            "Epoch 135/150\n",
            "6853/6853 [==============================] - 8s 1ms/step - loss: 0.6931 - accuracy: 0.5037\n",
            "Epoch 136/150\n",
            "6853/6853 [==============================] - 8s 1ms/step - loss: 0.6931 - accuracy: 0.5074\n",
            "Epoch 137/150\n",
            "6853/6853 [==============================] - 8s 1ms/step - loss: 0.6931 - accuracy: 0.5065\n",
            "Epoch 138/150\n",
            "6853/6853 [==============================] - 8s 1ms/step - loss: 0.6931 - accuracy: 0.5063\n",
            "Epoch 139/150\n",
            "6853/6853 [==============================] - 8s 1ms/step - loss: 0.6931 - accuracy: 0.5036\n",
            "Epoch 140/150\n",
            "6853/6853 [==============================] - 9s 1ms/step - loss: 0.6931 - accuracy: 0.5043\n",
            "Epoch 141/150\n",
            "6853/6853 [==============================] - 8s 1ms/step - loss: 0.6932 - accuracy: 0.4990\n",
            "Epoch 142/150\n",
            "6853/6853 [==============================] - 8s 1ms/step - loss: 0.6931 - accuracy: 0.5041\n",
            "Epoch 143/150\n",
            "6853/6853 [==============================] - 8s 1ms/step - loss: 0.6931 - accuracy: 0.5041\n",
            "Epoch 144/150\n",
            "6853/6853 [==============================] - 8s 1ms/step - loss: 0.6931 - accuracy: 0.5067\n",
            "Epoch 145/150\n",
            "6853/6853 [==============================] - 8s 1ms/step - loss: 0.6931 - accuracy: 0.5044\n",
            "Epoch 146/150\n",
            "6853/6853 [==============================] - 8s 1ms/step - loss: 0.6932 - accuracy: 0.5039\n",
            "Epoch 147/150\n",
            "6853/6853 [==============================] - 8s 1ms/step - loss: 0.6932 - accuracy: 0.5036\n",
            "Epoch 148/150\n",
            "6853/6853 [==============================] - 8s 1ms/step - loss: 0.6932 - accuracy: 0.5004\n",
            "Epoch 149/150\n",
            "6853/6853 [==============================] - 8s 1ms/step - loss: 0.6932 - accuracy: 0.5043\n",
            "Epoch 150/150\n",
            "6853/6853 [==============================] - 8s 1ms/step - loss: 0.6931 - accuracy: 0.5059\n",
            "2142/2142 [==============================] - 2s 909us/step - loss: 0.6931 - accuracy: 0.5055\n",
            "Accuracy: 50.55\n"
          ],
          "name": "stdout"
        }
      ]
    },
    {
      "cell_type": "code",
      "metadata": {
        "id": "hPXLUzxju7vF"
      },
      "source": [
        ""
      ],
      "execution_count": null,
      "outputs": []
    }
  ]
}